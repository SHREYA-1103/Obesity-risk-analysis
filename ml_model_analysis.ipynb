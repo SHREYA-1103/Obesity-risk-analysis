{
 "cells": [
  {
   "metadata": {},
   "cell_type": "markdown",
   "source": [
    "# TODO: Add a cool Title here\n",
    "\n",
    "## 1. Briefing\n",
    "\n",
    "|            |          |                     |\n",
    "|------------|----------|---------------------|\n",
    "| Subject    |          | Machine Learning    |\n",
    "| Supervisor |          | Prof. Aswin Kannan  |\n",
    "|            |          |                     |\n",
    "| Team Name  |          | MT2025724_MT2025732 |\n",
    "| Member 1   | Name:    | Shreg               |\n",
    "|            | Roll No: | MT2025724           |\n",
    "| Member 2   | Name:    | Anisha              |\n",
    "|            | Roll No: | MT2025732           |\n",
    "|            |          |                     |\n",
    "\n",
    "TODO: Add some numericals like the number of models compared, number of data processing techniques applied...\n",
    "\n",
    "### Keywords\n",
    "\n",
    "## 2. Summary\n",
    "\n",
    "* 4–8 bullet points summarizing highest-level conclusions (best model(s), tradeoffs, recommended next steps).\n",
    "* Short comparative table of winners by criteria (accuracy, latency, model size, fairness, etc.)\n",
    "\n",
    "## 3. Introduction\n",
    "\n",
    "* Problem statement and motivation\n",
    "* Objectives of the comparative study (what questions you will answer)\n",
    "* Scope (datasets, model families, compute constraints)\n",
    "* Contributions (what unique analyses you provide — e.g., timing, memory profiling, calibration, fairness tests)\n"
   ],
   "id": "14cb7eafd9b1e1f8"
  },
  {
   "metadata": {
    "ExecuteTime": {
     "end_time": "2025-10-15T13:57:55.085068Z",
     "start_time": "2025-10-15T13:57:55.006237Z"
    }
   },
   "cell_type": "code",
   "source": [
    "# Notification system for slow steps - I multitask, so a ping really helps when long steps are completed to bring back my attention.\n",
    "# Remember, _attention is all you need_! xD\n",
    "import chime\n",
    "\n",
    "# The universe loves chaos, but reproducibility doesn’t.\n",
    "# Imported mainly to set seed for other libraries which depend on it.\n",
    "import random\n",
    "\n",
    "# Because time waits for no one, but at least we can measure how fast it runs away.\n",
    "import time\n",
    "\n",
    "# Metadata serialization\n",
    "# Question for you, what's the difference between JS and JSON?\n",
    "import json\n",
    "\n",
    "# Big fan of java's streams. A programmer who cant make an easy task difficult, is not a programmer!\n",
    "import functools, itertools\n",
    "\n",
    "# The Swiss army knife of data\n",
    "import pandas as pd\n",
    "\n",
    "# Where math meets meth\n",
    "import numpy as np\n",
    "\n",
    "import scipy as sp\n",
    "\n",
    "# Bag of all ML models\n",
    "import sklearn as skl\n",
    "import xgboost as xgb\n",
    "\n",
    "# An artist bringing data to life\n",
    "import matplotlib.pyplot as plt\n",
    "\n",
    "# The artist's wardrobe\n",
    "import matplotlib as mpl\n",
    "\n",
    "# Pyplot's quirkier cousin\n",
    "import seaborn as sns\n",
    "\n",
    "# Never going to use it, but make me feel prepared\n",
    "from pprint import pprint\n",
    "\n",
    "# If I can’t see it moving, it’s not working.\n",
    "from tqdm import tqdm"
   ],
   "id": "c37da7e4f8d277e7",
   "outputs": [],
   "execution_count": 82
  },
  {
   "metadata": {
    "ExecuteTime": {
     "end_time": "2025-10-15T12:44:02.203598Z",
     "start_time": "2025-10-15T12:44:02.193453Z"
    }
   },
   "cell_type": "code",
   "source": [
    "chime.theme(\"material\")\n",
    "chime.info()"
   ],
   "id": "5f28b1b02ce82349",
   "outputs": [],
   "execution_count": 2
  },
  {
   "metadata": {
    "ExecuteTime": {
     "end_time": "2025-10-15T12:44:02.737271Z",
     "start_time": "2025-10-15T12:44:02.611331Z"
    }
   },
   "cell_type": "code",
   "source": [
    "for option in ['../../data/ait-511-course-project-1-obesity-risk/train.csv', 'train.csv', 'data/train.csv']:\n",
    "    try:\n",
    "        ds_source = pd.read_csv(option)\n",
    "        print('Training data found at', option)\n",
    "        ds_test = pd.read_csv(option.replace('train.csv', 'test.csv'))\n",
    "        break\n",
    "    except:\n",
    "        print('No training data found at', option)\n",
    "\n",
    "try:\n",
    "    ds_source\n",
    "except NameError:\n",
    "    print('No training data found anywhere')\n",
    "\n",
    "chime.info()"
   ],
   "id": "cca43110cd30fe56",
   "outputs": [
    {
     "name": "stdout",
     "output_type": "stream",
     "text": [
      "Training data found at ../../data/ait-511-course-project-1-obesity-risk/train.csv\n"
     ]
    }
   ],
   "execution_count": 3
  },
  {
   "metadata": {
    "ExecuteTime": {
     "end_time": "2025-10-15T12:44:03.964183Z",
     "start_time": "2025-10-15T12:44:03.953931Z"
    }
   },
   "cell_type": "code",
   "source": "ds_source.shape",
   "id": "da6f62e6719367c3",
   "outputs": [
    {
     "data": {
      "text/plain": [
       "(15533, 18)"
      ]
     },
     "execution_count": 4,
     "metadata": {},
     "output_type": "execute_result"
    }
   ],
   "execution_count": 4
  },
  {
   "metadata": {
    "ExecuteTime": {
     "end_time": "2025-10-15T12:44:04.539403Z",
     "start_time": "2025-10-15T12:44:04.521112Z"
    }
   },
   "cell_type": "code",
   "source": "ds_source.info()",
   "id": "9f3d5f7043387194",
   "outputs": [
    {
     "name": "stdout",
     "output_type": "stream",
     "text": [
      "<class 'pandas.core.frame.DataFrame'>\n",
      "RangeIndex: 15533 entries, 0 to 15532\n",
      "Data columns (total 18 columns):\n",
      " #   Column                          Non-Null Count  Dtype  \n",
      "---  ------                          --------------  -----  \n",
      " 0   id                              15533 non-null  int64  \n",
      " 1   Gender                          15533 non-null  object \n",
      " 2   Age                             15533 non-null  float64\n",
      " 3   Height                          15533 non-null  float64\n",
      " 4   Weight                          15533 non-null  float64\n",
      " 5   family_history_with_overweight  15533 non-null  object \n",
      " 6   FAVC                            15533 non-null  object \n",
      " 7   FCVC                            15533 non-null  float64\n",
      " 8   NCP                             15533 non-null  float64\n",
      " 9   CAEC                            15533 non-null  object \n",
      " 10  SMOKE                           15533 non-null  object \n",
      " 11  CH2O                            15533 non-null  float64\n",
      " 12  SCC                             15533 non-null  object \n",
      " 13  FAF                             15533 non-null  float64\n",
      " 14  TUE                             15533 non-null  float64\n",
      " 15  CALC                            15533 non-null  object \n",
      " 16  MTRANS                          15533 non-null  object \n",
      " 17  WeightCategory                  15533 non-null  object \n",
      "dtypes: float64(8), int64(1), object(9)\n",
      "memory usage: 2.1+ MB\n"
     ]
    }
   ],
   "execution_count": 5
  },
  {
   "metadata": {
    "ExecuteTime": {
     "end_time": "2025-10-15T12:44:05.003094Z",
     "start_time": "2025-10-15T12:44:04.981453Z"
    }
   },
   "cell_type": "code",
   "source": "ds_source.head(5)",
   "id": "b66b9f29faed8b32",
   "outputs": [
    {
     "data": {
      "text/plain": [
       "   id  Gender        Age    Height      Weight family_history_with_overweight  \\\n",
       "0   0    Male  24.443011  1.699998   81.669950                            yes   \n",
       "1   1  Female  18.000000  1.560000   57.000000                            yes   \n",
       "2   2  Female  18.000000  1.711460   50.165754                            yes   \n",
       "3   3  Female  20.952737  1.710730  131.274851                            yes   \n",
       "4   4    Male  31.641081  1.914186   93.798055                            yes   \n",
       "\n",
       "  FAVC      FCVC       NCP        CAEC SMOKE      CH2O SCC       FAF  \\\n",
       "0  yes  2.000000  2.983297   Sometimes    no  2.763573  no  0.000000   \n",
       "1  yes  2.000000  3.000000  Frequently    no  2.000000  no  1.000000   \n",
       "2  yes  1.880534  1.411685   Sometimes    no  1.910378  no  0.866045   \n",
       "3  yes  3.000000  3.000000   Sometimes    no  1.674061  no  1.467863   \n",
       "4  yes  2.679664  1.971472   Sometimes    no  1.979848  no  1.967973   \n",
       "\n",
       "        TUE       CALC                 MTRANS       WeightCategory  \n",
       "0  0.976473  Sometimes  Public_Transportation  Overweight_Level_II  \n",
       "1  1.000000         no             Automobile        Normal_Weight  \n",
       "2  1.673584         no  Public_Transportation  Insufficient_Weight  \n",
       "3  0.780199  Sometimes  Public_Transportation     Obesity_Type_III  \n",
       "4  0.931721  Sometimes  Public_Transportation  Overweight_Level_II  "
      ],
      "text/html": [
       "<div>\n",
       "<style scoped>\n",
       "    .dataframe tbody tr th:only-of-type {\n",
       "        vertical-align: middle;\n",
       "    }\n",
       "\n",
       "    .dataframe tbody tr th {\n",
       "        vertical-align: top;\n",
       "    }\n",
       "\n",
       "    .dataframe thead th {\n",
       "        text-align: right;\n",
       "    }\n",
       "</style>\n",
       "<table border=\"1\" class=\"dataframe\">\n",
       "  <thead>\n",
       "    <tr style=\"text-align: right;\">\n",
       "      <th></th>\n",
       "      <th>id</th>\n",
       "      <th>Gender</th>\n",
       "      <th>Age</th>\n",
       "      <th>Height</th>\n",
       "      <th>Weight</th>\n",
       "      <th>family_history_with_overweight</th>\n",
       "      <th>FAVC</th>\n",
       "      <th>FCVC</th>\n",
       "      <th>NCP</th>\n",
       "      <th>CAEC</th>\n",
       "      <th>SMOKE</th>\n",
       "      <th>CH2O</th>\n",
       "      <th>SCC</th>\n",
       "      <th>FAF</th>\n",
       "      <th>TUE</th>\n",
       "      <th>CALC</th>\n",
       "      <th>MTRANS</th>\n",
       "      <th>WeightCategory</th>\n",
       "    </tr>\n",
       "  </thead>\n",
       "  <tbody>\n",
       "    <tr>\n",
       "      <th>0</th>\n",
       "      <td>0</td>\n",
       "      <td>Male</td>\n",
       "      <td>24.443011</td>\n",
       "      <td>1.699998</td>\n",
       "      <td>81.669950</td>\n",
       "      <td>yes</td>\n",
       "      <td>yes</td>\n",
       "      <td>2.000000</td>\n",
       "      <td>2.983297</td>\n",
       "      <td>Sometimes</td>\n",
       "      <td>no</td>\n",
       "      <td>2.763573</td>\n",
       "      <td>no</td>\n",
       "      <td>0.000000</td>\n",
       "      <td>0.976473</td>\n",
       "      <td>Sometimes</td>\n",
       "      <td>Public_Transportation</td>\n",
       "      <td>Overweight_Level_II</td>\n",
       "    </tr>\n",
       "    <tr>\n",
       "      <th>1</th>\n",
       "      <td>1</td>\n",
       "      <td>Female</td>\n",
       "      <td>18.000000</td>\n",
       "      <td>1.560000</td>\n",
       "      <td>57.000000</td>\n",
       "      <td>yes</td>\n",
       "      <td>yes</td>\n",
       "      <td>2.000000</td>\n",
       "      <td>3.000000</td>\n",
       "      <td>Frequently</td>\n",
       "      <td>no</td>\n",
       "      <td>2.000000</td>\n",
       "      <td>no</td>\n",
       "      <td>1.000000</td>\n",
       "      <td>1.000000</td>\n",
       "      <td>no</td>\n",
       "      <td>Automobile</td>\n",
       "      <td>Normal_Weight</td>\n",
       "    </tr>\n",
       "    <tr>\n",
       "      <th>2</th>\n",
       "      <td>2</td>\n",
       "      <td>Female</td>\n",
       "      <td>18.000000</td>\n",
       "      <td>1.711460</td>\n",
       "      <td>50.165754</td>\n",
       "      <td>yes</td>\n",
       "      <td>yes</td>\n",
       "      <td>1.880534</td>\n",
       "      <td>1.411685</td>\n",
       "      <td>Sometimes</td>\n",
       "      <td>no</td>\n",
       "      <td>1.910378</td>\n",
       "      <td>no</td>\n",
       "      <td>0.866045</td>\n",
       "      <td>1.673584</td>\n",
       "      <td>no</td>\n",
       "      <td>Public_Transportation</td>\n",
       "      <td>Insufficient_Weight</td>\n",
       "    </tr>\n",
       "    <tr>\n",
       "      <th>3</th>\n",
       "      <td>3</td>\n",
       "      <td>Female</td>\n",
       "      <td>20.952737</td>\n",
       "      <td>1.710730</td>\n",
       "      <td>131.274851</td>\n",
       "      <td>yes</td>\n",
       "      <td>yes</td>\n",
       "      <td>3.000000</td>\n",
       "      <td>3.000000</td>\n",
       "      <td>Sometimes</td>\n",
       "      <td>no</td>\n",
       "      <td>1.674061</td>\n",
       "      <td>no</td>\n",
       "      <td>1.467863</td>\n",
       "      <td>0.780199</td>\n",
       "      <td>Sometimes</td>\n",
       "      <td>Public_Transportation</td>\n",
       "      <td>Obesity_Type_III</td>\n",
       "    </tr>\n",
       "    <tr>\n",
       "      <th>4</th>\n",
       "      <td>4</td>\n",
       "      <td>Male</td>\n",
       "      <td>31.641081</td>\n",
       "      <td>1.914186</td>\n",
       "      <td>93.798055</td>\n",
       "      <td>yes</td>\n",
       "      <td>yes</td>\n",
       "      <td>2.679664</td>\n",
       "      <td>1.971472</td>\n",
       "      <td>Sometimes</td>\n",
       "      <td>no</td>\n",
       "      <td>1.979848</td>\n",
       "      <td>no</td>\n",
       "      <td>1.967973</td>\n",
       "      <td>0.931721</td>\n",
       "      <td>Sometimes</td>\n",
       "      <td>Public_Transportation</td>\n",
       "      <td>Overweight_Level_II</td>\n",
       "    </tr>\n",
       "  </tbody>\n",
       "</table>\n",
       "</div>"
      ]
     },
     "execution_count": 6,
     "metadata": {},
     "output_type": "execute_result"
    }
   ],
   "execution_count": 6
  },
  {
   "metadata": {
    "ExecuteTime": {
     "end_time": "2025-10-15T12:44:05.675323Z",
     "start_time": "2025-10-15T12:44:05.598907Z"
    }
   },
   "cell_type": "code",
   "source": "ds_source.describe(include='all')",
   "id": "27256fdfa3727099",
   "outputs": [
    {
     "data": {
      "text/plain": [
       "                  id Gender           Age        Height        Weight  \\\n",
       "count   15533.000000  15533  15533.000000  15533.000000  15533.000000   \n",
       "unique           NaN      2           NaN           NaN           NaN   \n",
       "top              NaN   Male           NaN           NaN           NaN   \n",
       "freq             NaN   7783           NaN           NaN           NaN   \n",
       "mean     7766.000000    NaN     23.816308      1.699918     87.785225   \n",
       "std      4484.135201    NaN      5.663167      0.087670     26.369144   \n",
       "min         0.000000    NaN     14.000000      1.450000     39.000000   \n",
       "25%      3883.000000    NaN     20.000000      1.630927     66.000000   \n",
       "50%      7766.000000    NaN     22.771612      1.700000     84.000000   \n",
       "75%     11649.000000    NaN     26.000000      1.762921    111.600553   \n",
       "max     15532.000000    NaN     61.000000      1.975663    165.057269   \n",
       "\n",
       "       family_history_with_overweight   FAVC          FCVC           NCP  \\\n",
       "count                           15533  15533  15533.000000  15533.000000   \n",
       "unique                              2      2           NaN           NaN   \n",
       "top                               yes    yes           NaN           NaN   \n",
       "freq                            12696  14184           NaN           NaN   \n",
       "mean                              NaN    NaN      2.442917      2.760425   \n",
       "std                               NaN    NaN      0.530895      0.706463   \n",
       "min                               NaN    NaN      1.000000      1.000000   \n",
       "25%                               NaN    NaN      2.000000      3.000000   \n",
       "50%                               NaN    NaN      2.342220      3.000000   \n",
       "75%                               NaN    NaN      3.000000      3.000000   \n",
       "max                               NaN    NaN      3.000000      4.000000   \n",
       "\n",
       "             CAEC  SMOKE          CH2O    SCC           FAF           TUE  \\\n",
       "count       15533  15533  15533.000000  15533  15533.000000  15533.000000   \n",
       "unique          4      2           NaN      2           NaN           NaN   \n",
       "top     Sometimes     no           NaN     no           NaN           NaN   \n",
       "freq        13126  15356           NaN  15019           NaN           NaN   \n",
       "mean          NaN    NaN      2.027626    NaN      0.976968      0.613813   \n",
       "std           NaN    NaN      0.607733    NaN      0.836841      0.602223   \n",
       "min           NaN    NaN      1.000000    NaN      0.000000      0.000000   \n",
       "25%           NaN    NaN      1.796257    NaN      0.007050      0.000000   \n",
       "50%           NaN    NaN      2.000000    NaN      1.000000      0.566353   \n",
       "75%           NaN    NaN      2.531456    NaN      1.582675      1.000000   \n",
       "max           NaN    NaN      3.000000    NaN      3.000000      2.000000   \n",
       "\n",
       "             CALC                 MTRANS    WeightCategory  \n",
       "count       15533                  15533             15533  \n",
       "unique          3                      5                 7  \n",
       "top     Sometimes  Public_Transportation  Obesity_Type_III  \n",
       "freq        11285                  12470              2983  \n",
       "mean          NaN                    NaN               NaN  \n",
       "std           NaN                    NaN               NaN  \n",
       "min           NaN                    NaN               NaN  \n",
       "25%           NaN                    NaN               NaN  \n",
       "50%           NaN                    NaN               NaN  \n",
       "75%           NaN                    NaN               NaN  \n",
       "max           NaN                    NaN               NaN  "
      ],
      "text/html": [
       "<div>\n",
       "<style scoped>\n",
       "    .dataframe tbody tr th:only-of-type {\n",
       "        vertical-align: middle;\n",
       "    }\n",
       "\n",
       "    .dataframe tbody tr th {\n",
       "        vertical-align: top;\n",
       "    }\n",
       "\n",
       "    .dataframe thead th {\n",
       "        text-align: right;\n",
       "    }\n",
       "</style>\n",
       "<table border=\"1\" class=\"dataframe\">\n",
       "  <thead>\n",
       "    <tr style=\"text-align: right;\">\n",
       "      <th></th>\n",
       "      <th>id</th>\n",
       "      <th>Gender</th>\n",
       "      <th>Age</th>\n",
       "      <th>Height</th>\n",
       "      <th>Weight</th>\n",
       "      <th>family_history_with_overweight</th>\n",
       "      <th>FAVC</th>\n",
       "      <th>FCVC</th>\n",
       "      <th>NCP</th>\n",
       "      <th>CAEC</th>\n",
       "      <th>SMOKE</th>\n",
       "      <th>CH2O</th>\n",
       "      <th>SCC</th>\n",
       "      <th>FAF</th>\n",
       "      <th>TUE</th>\n",
       "      <th>CALC</th>\n",
       "      <th>MTRANS</th>\n",
       "      <th>WeightCategory</th>\n",
       "    </tr>\n",
       "  </thead>\n",
       "  <tbody>\n",
       "    <tr>\n",
       "      <th>count</th>\n",
       "      <td>15533.000000</td>\n",
       "      <td>15533</td>\n",
       "      <td>15533.000000</td>\n",
       "      <td>15533.000000</td>\n",
       "      <td>15533.000000</td>\n",
       "      <td>15533</td>\n",
       "      <td>15533</td>\n",
       "      <td>15533.000000</td>\n",
       "      <td>15533.000000</td>\n",
       "      <td>15533</td>\n",
       "      <td>15533</td>\n",
       "      <td>15533.000000</td>\n",
       "      <td>15533</td>\n",
       "      <td>15533.000000</td>\n",
       "      <td>15533.000000</td>\n",
       "      <td>15533</td>\n",
       "      <td>15533</td>\n",
       "      <td>15533</td>\n",
       "    </tr>\n",
       "    <tr>\n",
       "      <th>unique</th>\n",
       "      <td>NaN</td>\n",
       "      <td>2</td>\n",
       "      <td>NaN</td>\n",
       "      <td>NaN</td>\n",
       "      <td>NaN</td>\n",
       "      <td>2</td>\n",
       "      <td>2</td>\n",
       "      <td>NaN</td>\n",
       "      <td>NaN</td>\n",
       "      <td>4</td>\n",
       "      <td>2</td>\n",
       "      <td>NaN</td>\n",
       "      <td>2</td>\n",
       "      <td>NaN</td>\n",
       "      <td>NaN</td>\n",
       "      <td>3</td>\n",
       "      <td>5</td>\n",
       "      <td>7</td>\n",
       "    </tr>\n",
       "    <tr>\n",
       "      <th>top</th>\n",
       "      <td>NaN</td>\n",
       "      <td>Male</td>\n",
       "      <td>NaN</td>\n",
       "      <td>NaN</td>\n",
       "      <td>NaN</td>\n",
       "      <td>yes</td>\n",
       "      <td>yes</td>\n",
       "      <td>NaN</td>\n",
       "      <td>NaN</td>\n",
       "      <td>Sometimes</td>\n",
       "      <td>no</td>\n",
       "      <td>NaN</td>\n",
       "      <td>no</td>\n",
       "      <td>NaN</td>\n",
       "      <td>NaN</td>\n",
       "      <td>Sometimes</td>\n",
       "      <td>Public_Transportation</td>\n",
       "      <td>Obesity_Type_III</td>\n",
       "    </tr>\n",
       "    <tr>\n",
       "      <th>freq</th>\n",
       "      <td>NaN</td>\n",
       "      <td>7783</td>\n",
       "      <td>NaN</td>\n",
       "      <td>NaN</td>\n",
       "      <td>NaN</td>\n",
       "      <td>12696</td>\n",
       "      <td>14184</td>\n",
       "      <td>NaN</td>\n",
       "      <td>NaN</td>\n",
       "      <td>13126</td>\n",
       "      <td>15356</td>\n",
       "      <td>NaN</td>\n",
       "      <td>15019</td>\n",
       "      <td>NaN</td>\n",
       "      <td>NaN</td>\n",
       "      <td>11285</td>\n",
       "      <td>12470</td>\n",
       "      <td>2983</td>\n",
       "    </tr>\n",
       "    <tr>\n",
       "      <th>mean</th>\n",
       "      <td>7766.000000</td>\n",
       "      <td>NaN</td>\n",
       "      <td>23.816308</td>\n",
       "      <td>1.699918</td>\n",
       "      <td>87.785225</td>\n",
       "      <td>NaN</td>\n",
       "      <td>NaN</td>\n",
       "      <td>2.442917</td>\n",
       "      <td>2.760425</td>\n",
       "      <td>NaN</td>\n",
       "      <td>NaN</td>\n",
       "      <td>2.027626</td>\n",
       "      <td>NaN</td>\n",
       "      <td>0.976968</td>\n",
       "      <td>0.613813</td>\n",
       "      <td>NaN</td>\n",
       "      <td>NaN</td>\n",
       "      <td>NaN</td>\n",
       "    </tr>\n",
       "    <tr>\n",
       "      <th>std</th>\n",
       "      <td>4484.135201</td>\n",
       "      <td>NaN</td>\n",
       "      <td>5.663167</td>\n",
       "      <td>0.087670</td>\n",
       "      <td>26.369144</td>\n",
       "      <td>NaN</td>\n",
       "      <td>NaN</td>\n",
       "      <td>0.530895</td>\n",
       "      <td>0.706463</td>\n",
       "      <td>NaN</td>\n",
       "      <td>NaN</td>\n",
       "      <td>0.607733</td>\n",
       "      <td>NaN</td>\n",
       "      <td>0.836841</td>\n",
       "      <td>0.602223</td>\n",
       "      <td>NaN</td>\n",
       "      <td>NaN</td>\n",
       "      <td>NaN</td>\n",
       "    </tr>\n",
       "    <tr>\n",
       "      <th>min</th>\n",
       "      <td>0.000000</td>\n",
       "      <td>NaN</td>\n",
       "      <td>14.000000</td>\n",
       "      <td>1.450000</td>\n",
       "      <td>39.000000</td>\n",
       "      <td>NaN</td>\n",
       "      <td>NaN</td>\n",
       "      <td>1.000000</td>\n",
       "      <td>1.000000</td>\n",
       "      <td>NaN</td>\n",
       "      <td>NaN</td>\n",
       "      <td>1.000000</td>\n",
       "      <td>NaN</td>\n",
       "      <td>0.000000</td>\n",
       "      <td>0.000000</td>\n",
       "      <td>NaN</td>\n",
       "      <td>NaN</td>\n",
       "      <td>NaN</td>\n",
       "    </tr>\n",
       "    <tr>\n",
       "      <th>25%</th>\n",
       "      <td>3883.000000</td>\n",
       "      <td>NaN</td>\n",
       "      <td>20.000000</td>\n",
       "      <td>1.630927</td>\n",
       "      <td>66.000000</td>\n",
       "      <td>NaN</td>\n",
       "      <td>NaN</td>\n",
       "      <td>2.000000</td>\n",
       "      <td>3.000000</td>\n",
       "      <td>NaN</td>\n",
       "      <td>NaN</td>\n",
       "      <td>1.796257</td>\n",
       "      <td>NaN</td>\n",
       "      <td>0.007050</td>\n",
       "      <td>0.000000</td>\n",
       "      <td>NaN</td>\n",
       "      <td>NaN</td>\n",
       "      <td>NaN</td>\n",
       "    </tr>\n",
       "    <tr>\n",
       "      <th>50%</th>\n",
       "      <td>7766.000000</td>\n",
       "      <td>NaN</td>\n",
       "      <td>22.771612</td>\n",
       "      <td>1.700000</td>\n",
       "      <td>84.000000</td>\n",
       "      <td>NaN</td>\n",
       "      <td>NaN</td>\n",
       "      <td>2.342220</td>\n",
       "      <td>3.000000</td>\n",
       "      <td>NaN</td>\n",
       "      <td>NaN</td>\n",
       "      <td>2.000000</td>\n",
       "      <td>NaN</td>\n",
       "      <td>1.000000</td>\n",
       "      <td>0.566353</td>\n",
       "      <td>NaN</td>\n",
       "      <td>NaN</td>\n",
       "      <td>NaN</td>\n",
       "    </tr>\n",
       "    <tr>\n",
       "      <th>75%</th>\n",
       "      <td>11649.000000</td>\n",
       "      <td>NaN</td>\n",
       "      <td>26.000000</td>\n",
       "      <td>1.762921</td>\n",
       "      <td>111.600553</td>\n",
       "      <td>NaN</td>\n",
       "      <td>NaN</td>\n",
       "      <td>3.000000</td>\n",
       "      <td>3.000000</td>\n",
       "      <td>NaN</td>\n",
       "      <td>NaN</td>\n",
       "      <td>2.531456</td>\n",
       "      <td>NaN</td>\n",
       "      <td>1.582675</td>\n",
       "      <td>1.000000</td>\n",
       "      <td>NaN</td>\n",
       "      <td>NaN</td>\n",
       "      <td>NaN</td>\n",
       "    </tr>\n",
       "    <tr>\n",
       "      <th>max</th>\n",
       "      <td>15532.000000</td>\n",
       "      <td>NaN</td>\n",
       "      <td>61.000000</td>\n",
       "      <td>1.975663</td>\n",
       "      <td>165.057269</td>\n",
       "      <td>NaN</td>\n",
       "      <td>NaN</td>\n",
       "      <td>3.000000</td>\n",
       "      <td>4.000000</td>\n",
       "      <td>NaN</td>\n",
       "      <td>NaN</td>\n",
       "      <td>3.000000</td>\n",
       "      <td>NaN</td>\n",
       "      <td>3.000000</td>\n",
       "      <td>2.000000</td>\n",
       "      <td>NaN</td>\n",
       "      <td>NaN</td>\n",
       "      <td>NaN</td>\n",
       "    </tr>\n",
       "  </tbody>\n",
       "</table>\n",
       "</div>"
      ]
     },
     "execution_count": 7,
     "metadata": {},
     "output_type": "execute_result"
    }
   ],
   "execution_count": 7
  },
  {
   "metadata": {
    "ExecuteTime": {
     "end_time": "2025-10-15T12:44:07.293949Z",
     "start_time": "2025-10-15T12:44:07.280927Z"
    }
   },
   "cell_type": "code",
   "source": [
    "dropable_features = ['id', 'WeightCategory']\n",
    "binary_features = ['Gender', 'family_history_with_overweight', 'FAVC', 'SMOKE', 'SCC']\n",
    "multi_cat_features = ['CAEC', 'CALC', 'MTRANS']\n",
    "numerical_features = ['Age', 'Height', 'Weight', 'FCVC', 'NCP', 'CH2O', 'FAF', 'TUE']\n",
    "\n",
    "labels = ds_source['WeightCategory'].unique()\n",
    "labels_encoder = {label: index for index, label in enumerate(labels)}\n",
    "labels_decoder = {index: label for index, label in enumerate(labels)}"
   ],
   "id": "5efe5d5187d1db21",
   "outputs": [],
   "execution_count": 8
  },
  {
   "metadata": {},
   "cell_type": "markdown",
   "source": "## Missing Value",
   "id": "78de0d82231535c6"
  },
  {
   "metadata": {
    "ExecuteTime": {
     "end_time": "2025-10-15T12:44:08.347799Z",
     "start_time": "2025-10-15T12:44:08.331957Z"
    }
   },
   "cell_type": "code",
   "source": "ds_source.isnull().sum()",
   "id": "a8da7b0c7ab96450",
   "outputs": [
    {
     "data": {
      "text/plain": [
       "id                                0\n",
       "Gender                            0\n",
       "Age                               0\n",
       "Height                            0\n",
       "Weight                            0\n",
       "family_history_with_overweight    0\n",
       "FAVC                              0\n",
       "FCVC                              0\n",
       "NCP                               0\n",
       "CAEC                              0\n",
       "SMOKE                             0\n",
       "CH2O                              0\n",
       "SCC                               0\n",
       "FAF                               0\n",
       "TUE                               0\n",
       "CALC                              0\n",
       "MTRANS                            0\n",
       "WeightCategory                    0\n",
       "dtype: int64"
      ]
     },
     "execution_count": 9,
     "metadata": {},
     "output_type": "execute_result"
    }
   ],
   "execution_count": 9
  },
  {
   "metadata": {
    "ExecuteTime": {
     "end_time": "2025-10-15T12:44:10.455714Z",
     "start_time": "2025-10-15T12:44:09.294549Z"
    }
   },
   "cell_type": "code",
   "source": [
    "ds_source[numerical_features].hist(bins=20, figsize=(12, 6), layout=(2, -1))\n",
    "plt.tight_layout()\n",
    "plt.show()"
   ],
   "id": "13ad87421fa9b39",
   "outputs": [
    {
     "data": {
      "text/plain": [
       "<Figure size 1200x600 with 8 Axes>"
      ],
      "image/png": "[encoded data removed]"
     },
     "metadata": {},
     "output_type": "display_data"
    }
   ],
   "execution_count": 10
  },
  {
   "metadata": {
    "ExecuteTime": {
     "end_time": "2025-10-15T12:44:10.505621Z",
     "start_time": "2025-10-15T12:44:10.501882Z"
    }
   },
   "cell_type": "code",
   "source": "",
   "id": "b66c68161dde7b5f",
   "outputs": [],
   "execution_count": null
  },
  {
   "metadata": {},
   "cell_type": "markdown",
   "source": "123",
   "id": "1afdab05ad7f1394"
  },
  {
   "metadata": {
    "ExecuteTime": {
     "end_time": "2025-10-15T12:44:11.335622Z",
     "start_time": "2025-10-15T12:44:11.332572Z"
    }
   },
   "cell_type": "code",
   "source": "",
   "id": "c105705d0ba92b81",
   "outputs": [],
   "execution_count": null
  },
  {
   "metadata": {
    "ExecuteTime": {
     "end_time": "2025-10-15T12:44:12.593580Z",
     "start_time": "2025-10-15T12:44:12.388339Z"
    }
   },
   "cell_type": "code",
   "source": "plt.hist(sp.stats.boxcox(ds_source['CH2O'])[0], bins=20)",
   "id": "f0f29694acb5ee8a",
   "outputs": [
    {
     "data": {
      "text/plain": [
       "(array([2412.,  172.,  261.,  167.,  273.,  244.,  250.,  263.,  275.,\n",
       "        5524.,  463.,  400.,  248.,  290.,  368.,  540.,  791.,  484.,\n",
       "         713., 1395.]),\n",
       " array([0.        , 0.1109226 , 0.2218452 , 0.3327678 , 0.44369039,\n",
       "        0.55461299, 0.66553559, 0.77645819, 0.88738079, 0.99830339,\n",
       "        1.10922598, 1.22014858, 1.33107118, 1.44199378, 1.55291638,\n",
       "        1.66383898, 1.77476157, 1.88568417, 1.99660677, 2.10752937,\n",
       "        2.21845197]),\n",
       " <BarContainer object of 20 artists>)"
      ]
     },
     "execution_count": 11,
     "metadata": {},
     "output_type": "execute_result"
    },
    {
     "data": {
      "text/plain": [
       "<Figure size 640x480 with 1 Axes>"
      ],
      "image/png": "[encoded data removed]"
     },
     "metadata": {},
     "output_type": "display_data"
    }
   ],
   "execution_count": 11
  },
  {
   "metadata": {
    "ExecuteTime": {
     "end_time": "2025-10-15T12:44:13.901599Z",
     "start_time": "2025-10-15T12:44:13.650134Z"
    }
   },
   "cell_type": "code",
   "source": "sns.boxplot(x='WeightCategory', y='CH2O', data=ds_source)",
   "id": "fd87356fa8162548",
   "outputs": [
    {
     "data": {
      "text/plain": [
       "<Axes: xlabel='WeightCategory', ylabel='CH2O'>"
      ]
     },
     "execution_count": 12,
     "metadata": {},
     "output_type": "execute_result"
    },
    {
     "data": {
      "text/plain": [
       "<Figure size 640x480 with 1 Axes>"
      ],
      "image/png": "[encoded data removed]"
     },
     "metadata": {},
     "output_type": "display_data"
    }
   ],
   "execution_count": 12
  },
  {
   "metadata": {
    "ExecuteTime": {
     "end_time": "2025-10-15T12:44:14.219939Z",
     "start_time": "2025-10-15T12:44:14.214918Z"
    }
   },
   "cell_type": "code",
   "source": "",
   "id": "bf8501d208c15004",
   "outputs": [],
   "execution_count": null
  },
  {
   "metadata": {
    "ExecuteTime": {
     "end_time": "2025-10-15T12:44:15.937167Z",
     "start_time": "2025-10-15T12:44:15.764744Z"
    }
   },
   "cell_type": "code",
   "source": "sns.histplot(np.log(np.log(ds_source['Age'])), bins=20)",
   "id": "b4607326dac90a37",
   "outputs": [
    {
     "data": {
      "text/plain": [
       "<Axes: xlabel='Age', ylabel='Count'>"
      ]
     },
     "execution_count": 13,
     "metadata": {},
     "output_type": "execute_result"
    },
    {
     "data": {
      "text/plain": [
       "<Figure size 640x480 with 1 Axes>"
      ],
      "image/png": "[encoded data removed]"
     },
     "metadata": {},
     "output_type": "display_data"
    }
   ],
   "execution_count": 13
  },
  {
   "metadata": {
    "ExecuteTime": {
     "end_time": "2025-10-15T12:44:17.421490Z",
     "start_time": "2025-10-15T12:44:17.415626Z"
    }
   },
   "cell_type": "code",
   "source": "# plt.plot(sp.stats.boxcox(ds_train['Age']))",
   "id": "7f7cb512391b9855",
   "outputs": [],
   "execution_count": 14
  },
  {
   "metadata": {
    "ExecuteTime": {
     "end_time": "2025-10-15T12:44:19.344068Z",
     "start_time": "2025-10-15T12:44:19.097865Z"
    }
   },
   "cell_type": "code",
   "source": [
    "_age_data = sp.stats.boxcox(ds_source['Age'])\n",
    "plt.hist(_age_data[0], bins=30);\n",
    "plt.title('Box-Cox Transformed Data')\n",
    "print(\"Optimal Lambda\", _age_data[1])"
   ],
   "id": "b3b952b8c30b8343",
   "outputs": [
    {
     "name": "stdout",
     "output_type": "stream",
     "text": [
      "Optimal Lambda -1.4673329648264366\n"
     ]
    },
    {
     "data": {
      "text/plain": [
       "<Figure size 640x480 with 1 Axes>"
      ],
      "image/png": "[encoded data removed]"
     },
     "metadata": {},
     "output_type": "display_data"
    }
   ],
   "execution_count": 15
  },
  {
   "metadata": {},
   "cell_type": "markdown",
   "source": [
    "---\n",
    "We will be creating two dataframes, one with the distribution and outlier handling.\n",
    "This is required for algorithms involvong regression\n"
   ],
   "id": "afa50227f3d6b29a"
  },
  {
   "metadata": {
    "ExecuteTime": {
     "end_time": "2025-10-15T12:44:20.506224Z",
     "start_time": "2025-10-15T12:44:20.436791Z"
    }
   },
   "cell_type": "code",
   "source": [
    "ds_source_lr = ds_source.copy()\n",
    "ds_source_lr['Age'] = sp.stats.boxcox(ds_source['Age'])[0]"
   ],
   "id": "e6805e867c1aabaa",
   "outputs": [],
   "execution_count": 16
  },
  {
   "metadata": {
    "ExecuteTime": {
     "end_time": "2025-10-15T12:44:21.522616Z",
     "start_time": "2025-10-15T12:44:21.515260Z"
    }
   },
   "cell_type": "code",
   "source": [
    "for column in ['FCVC', 'NCP']:\n",
    "    ds_source_lr[column] = ds_source_lr[column].round()"
   ],
   "id": "c73004d7c081a4ad",
   "outputs": [],
   "execution_count": 17
  },
  {
   "metadata": {
    "ExecuteTime": {
     "end_time": "2025-10-15T12:44:42.189640Z",
     "start_time": "2025-10-15T12:44:42.172409Z"
    }
   },
   "cell_type": "code",
   "source": [
    "ds_labels = ds_source['WeightCategory']\n",
    "ds_test_ids = ds_test['id']\n",
    "ds_source.drop(columns=dropable_features, inplace=True)\n",
    "ds_source_lr.drop(columns=dropable_features, inplace=True)\n",
    "ds_test.drop(columns=['id'], inplace=True)"
   ],
   "id": "7051757d3807932f",
   "outputs": [],
   "execution_count": 18
  },
  {
   "metadata": {
    "ExecuteTime": {
     "end_time": "2025-10-15T12:41:44.997712Z",
     "start_time": "2025-10-15T12:41:44.988750Z"
    }
   },
   "cell_type": "code",
   "source": "",
   "id": "b376022034e62bec",
   "outputs": [
    {
     "data": {
      "text/plain": [
       "(15533, 16)"
      ]
     },
     "execution_count": 46,
     "metadata": {},
     "output_type": "execute_result"
    }
   ],
   "execution_count": 46
  },
  {
   "metadata": {},
   "cell_type": "markdown",
   "source": "    ## Outlier",
   "id": "9500cb7865b8c035"
  },
  {
   "metadata": {
    "ExecuteTime": {
     "end_time": "2025-10-15T12:44:46.790778Z",
     "start_time": "2025-10-15T12:44:45.435029Z"
    }
   },
   "cell_type": "code",
   "source": [
    "plt.figure(figsize=(10, 5))\n",
    "for i in range(len(numerical_features)):\n",
    "    plt.subplot(1, len(numerical_features), i + 1)\n",
    "    sns.boxplot(y=numerical_features[i], data=ds_source_lr, color='purple')\n",
    "    plt.tight_layout()"
   ],
   "id": "3041879537b5636d",
   "outputs": [
    {
     "data": {
      "text/plain": [
       "<Figure size 1000x500 with 8 Axes>"
      ],
      "image/png": "[encoded data removed]"
     },
     "metadata": {},
     "output_type": "display_data"
    }
   ],
   "execution_count": 19
  },
  {
   "metadata": {
    "ExecuteTime": {
     "end_time": "2025-10-15T12:44:46.826221Z",
     "start_time": "2025-10-15T12:44:46.800389Z"
    }
   },
   "cell_type": "code",
   "source": [
    "# Count the number of outliers\n",
    "def count_outliers(col):\n",
    "    Q1 = col.quantile(0.25)\n",
    "    Q3 = col.quantile(0.75)\n",
    "    IQR = Q3 - Q1\n",
    "    return ((col < (Q1 - 1.5 * IQR)) | (col > (Q3 + 1.5 * IQR))).sum()\n",
    "\n",
    "\n",
    "outliers_count = ds_source[numerical_features].apply(count_outliers)\n",
    "outliers_count"
   ],
   "id": "45a59874d91e4411",
   "outputs": [
    {
     "data": {
      "text/plain": [
       "Age        792\n",
       "Height       4\n",
       "Weight       0\n",
       "FCVC         0\n",
       "NCP       4548\n",
       "CH2O         0\n",
       "FAF          0\n",
       "TUE          0\n",
       "dtype: int64"
      ]
     },
     "execution_count": 20,
     "metadata": {},
     "output_type": "execute_result"
    }
   ],
   "execution_count": 20
  },
  {
   "metadata": {
    "ExecuteTime": {
     "end_time": "2025-10-15T12:44:47.029061Z",
     "start_time": "2025-10-15T12:44:47.015885Z"
    }
   },
   "cell_type": "code",
   "source": [
    "# Check if outliers impact mean\n",
    "for i in numerical_features:\n",
    "    print(f\"Mean of {i} is {ds_source[i].mean().round(2)}\")\n",
    "    print(f\"Median of {i} is {ds_source[i].median().round(2)}\")\n",
    "print(\" \")"
   ],
   "id": "d96f6e1bcd7b3227",
   "outputs": [
    {
     "name": "stdout",
     "output_type": "stream",
     "text": [
      "Mean of Age is 23.82\n",
      "Median of Age is 22.77\n",
      "Mean of Height is 1.7\n",
      "Median of Height is 1.7\n",
      "Mean of Weight is 87.79\n",
      "Median of Weight is 84.0\n",
      "Mean of FCVC is 2.44\n",
      "Median of FCVC is 2.34\n",
      "Mean of NCP is 2.76\n",
      "Median of NCP is 3.0\n",
      "Mean of CH2O is 2.03\n",
      "Median of CH2O is 2.0\n",
      "Mean of FAF is 0.98\n",
      "Median of FAF is 1.0\n",
      "Mean of TUE is 0.61\n",
      "Median of TUE is 0.57\n",
      " \n"
     ]
    }
   ],
   "execution_count": 21
  },
  {
   "metadata": {},
   "cell_type": "markdown",
   "source": "Processing steps for categoricals",
   "id": "5d10cc99d4507d9"
  },
  {
   "metadata": {
    "ExecuteTime": {
     "end_time": "2025-10-15T12:44:47.294014Z",
     "start_time": "2025-10-15T12:44:47.278068Z"
    }
   },
   "cell_type": "code",
   "source": "ds_source[multi_cat_features]",
   "id": "3912a32f582220b",
   "outputs": [
    {
     "data": {
      "text/plain": [
       "             CAEC        CALC                 MTRANS\n",
       "0       Sometimes   Sometimes  Public_Transportation\n",
       "1      Frequently          no             Automobile\n",
       "2       Sometimes          no  Public_Transportation\n",
       "3       Sometimes   Sometimes  Public_Transportation\n",
       "4       Sometimes   Sometimes  Public_Transportation\n",
       "...           ...         ...                    ...\n",
       "15528  Frequently   Sometimes  Public_Transportation\n",
       "15529   Sometimes   Sometimes  Public_Transportation\n",
       "15530   Sometimes   Sometimes  Public_Transportation\n",
       "15531   Sometimes   Sometimes  Public_Transportation\n",
       "15532   Sometimes  Frequently             Automobile\n",
       "\n",
       "[15533 rows x 3 columns]"
      ],
      "text/html": [
       "<div>\n",
       "<style scoped>\n",
       "    .dataframe tbody tr th:only-of-type {\n",
       "        vertical-align: middle;\n",
       "    }\n",
       "\n",
       "    .dataframe tbody tr th {\n",
       "        vertical-align: top;\n",
       "    }\n",
       "\n",
       "    .dataframe thead th {\n",
       "        text-align: right;\n",
       "    }\n",
       "</style>\n",
       "<table border=\"1\" class=\"dataframe\">\n",
       "  <thead>\n",
       "    <tr style=\"text-align: right;\">\n",
       "      <th></th>\n",
       "      <th>CAEC</th>\n",
       "      <th>CALC</th>\n",
       "      <th>MTRANS</th>\n",
       "    </tr>\n",
       "  </thead>\n",
       "  <tbody>\n",
       "    <tr>\n",
       "      <th>0</th>\n",
       "      <td>Sometimes</td>\n",
       "      <td>Sometimes</td>\n",
       "      <td>Public_Transportation</td>\n",
       "    </tr>\n",
       "    <tr>\n",
       "      <th>1</th>\n",
       "      <td>Frequently</td>\n",
       "      <td>no</td>\n",
       "      <td>Automobile</td>\n",
       "    </tr>\n",
       "    <tr>\n",
       "      <th>2</th>\n",
       "      <td>Sometimes</td>\n",
       "      <td>no</td>\n",
       "      <td>Public_Transportation</td>\n",
       "    </tr>\n",
       "    <tr>\n",
       "      <th>3</th>\n",
       "      <td>Sometimes</td>\n",
       "      <td>Sometimes</td>\n",
       "      <td>Public_Transportation</td>\n",
       "    </tr>\n",
       "    <tr>\n",
       "      <th>4</th>\n",
       "      <td>Sometimes</td>\n",
       "      <td>Sometimes</td>\n",
       "      <td>Public_Transportation</td>\n",
       "    </tr>\n",
       "    <tr>\n",
       "      <th>...</th>\n",
       "      <td>...</td>\n",
       "      <td>...</td>\n",
       "      <td>...</td>\n",
       "    </tr>\n",
       "    <tr>\n",
       "      <th>15528</th>\n",
       "      <td>Frequently</td>\n",
       "      <td>Sometimes</td>\n",
       "      <td>Public_Transportation</td>\n",
       "    </tr>\n",
       "    <tr>\n",
       "      <th>15529</th>\n",
       "      <td>Sometimes</td>\n",
       "      <td>Sometimes</td>\n",
       "      <td>Public_Transportation</td>\n",
       "    </tr>\n",
       "    <tr>\n",
       "      <th>15530</th>\n",
       "      <td>Sometimes</td>\n",
       "      <td>Sometimes</td>\n",
       "      <td>Public_Transportation</td>\n",
       "    </tr>\n",
       "    <tr>\n",
       "      <th>15531</th>\n",
       "      <td>Sometimes</td>\n",
       "      <td>Sometimes</td>\n",
       "      <td>Public_Transportation</td>\n",
       "    </tr>\n",
       "    <tr>\n",
       "      <th>15532</th>\n",
       "      <td>Sometimes</td>\n",
       "      <td>Frequently</td>\n",
       "      <td>Automobile</td>\n",
       "    </tr>\n",
       "  </tbody>\n",
       "</table>\n",
       "<p>15533 rows × 3 columns</p>\n",
       "</div>"
      ]
     },
     "execution_count": 22,
     "metadata": {},
     "output_type": "execute_result"
    }
   ],
   "execution_count": 22
  },
  {
   "metadata": {
    "ExecuteTime": {
     "end_time": "2025-10-15T12:44:49.131173Z",
     "start_time": "2025-10-15T12:44:47.970077Z"
    }
   },
   "cell_type": "code",
   "source": [
    "fig, axs = plt.subplots(2, 4, figsize=(20, 10))\n",
    "for ax, column in zip(list(axs[0]) + list(axs[1]), binary_features + multi_cat_features):\n",
    "    sns.countplot(ds_source[column], ax=ax)"
   ],
   "id": "11d1c66b4ece0a2e",
   "outputs": [
    {
     "data": {
      "text/plain": [
       "<Figure size 2000x1000 with 8 Axes>"
      ],
      "image/png": "[encoded data removed]"
     },
     "metadata": {},
     "output_type": "display_data"
    }
   ],
   "execution_count": 23
  },
  {
   "metadata": {
    "ExecuteTime": {
     "end_time": "2025-10-15T12:44:49.236851Z",
     "start_time": "2025-10-15T12:44:49.222853Z"
    }
   },
   "cell_type": "code",
   "source": [
    "ds_source['MTRANS'] = ds_source['MTRANS'].map(lambda x: x if x in ('Public_Transportation', 'Automobile') else 'Others')\n",
    "ds_test['MTRANS'] = ds_test['MTRANS'].map(lambda x: x if x in ('Public_Transportation', 'Automobile') else 'Others')"
   ],
   "id": "f8ad5643e701390f",
   "outputs": [],
   "execution_count": 24
  },
  {
   "metadata": {
    "ExecuteTime": {
     "end_time": "2025-10-15T12:44:49.267071Z",
     "start_time": "2025-10-15T12:44:49.261473Z"
    }
   },
   "cell_type": "code",
   "source": "",
   "id": "27705f9fdb7fa3f4",
   "outputs": [],
   "execution_count": null
  },
  {
   "metadata": {
    "ExecuteTime": {
     "end_time": "2025-10-15T12:44:49.288273Z",
     "start_time": "2025-10-15T12:44:49.284346Z"
    }
   },
   "cell_type": "code",
   "source": "",
   "id": "a946d053e1474051",
   "outputs": [],
   "execution_count": null
  },
  {
   "metadata": {
    "ExecuteTime": {
     "end_time": "2025-10-15T12:44:49.297111Z",
     "start_time": "2025-10-15T12:44:49.292348Z"
    }
   },
   "cell_type": "code",
   "source": "pop_drop_columns = ('dropper', 'drop', dropable_features)",
   "id": "b912257abffee93b",
   "outputs": [],
   "execution_count": 25
  },
  {
   "metadata": {
    "ExecuteTime": {
     "end_time": "2025-10-15T12:44:49.335230Z",
     "start_time": "2025-10-15T12:44:49.302650Z"
    }
   },
   "cell_type": "code",
   "source": "pop_stan_scaler = ('stan_scaler', skl.preprocessing.StandardScaler(), numerical_features)",
   "id": "b578f1bf16235f15",
   "outputs": [],
   "execution_count": 26
  },
  {
   "metadata": {
    "ExecuteTime": {
     "end_time": "2025-10-15T12:44:49.356837Z",
     "start_time": "2025-10-15T12:44:49.349790Z"
    }
   },
   "cell_type": "code",
   "source": "pop_binarizer = ('binarizer', skl.preprocessing.OneHotEncoder(drop='if_binary'), binary_features)",
   "id": "1d455e4a3f3733f0",
   "outputs": [],
   "execution_count": 27
  },
  {
   "metadata": {
    "ExecuteTime": {
     "end_time": "2025-10-15T12:44:49.404687Z",
     "start_time": "2025-10-15T12:44:49.400142Z"
    }
   },
   "cell_type": "code",
   "source": "pop_one_hotter = ('one_hotter', skl.preprocessing.OneHotEncoder(), ['MTRANS'])",
   "id": "7eeaf2d5a9349db9",
   "outputs": [],
   "execution_count": 28
  },
  {
   "metadata": {
    "ExecuteTime": {
     "end_time": "2025-10-15T12:44:49.418151Z",
     "start_time": "2025-10-15T12:44:49.413919Z"
    }
   },
   "cell_type": "code",
   "source": "pop_label_enc = ('label_enc', skl.preprocessing.OrdinalEncoder(), ['CAEC', 'CALC'])",
   "id": "d0c0357ef5724c9d",
   "outputs": [],
   "execution_count": 29
  },
  {
   "metadata": {
    "ExecuteTime": {
     "end_time": "2025-10-15T12:44:49.434181Z",
     "start_time": "2025-10-15T12:44:49.427164Z"
    }
   },
   "cell_type": "code",
   "source": [
    "def _pop_derived_features(_ds_in: pd.DataFrame) -> pd.DataFrame:\n",
    "    _ans = pd.DataFrame()\n",
    "    _ans[\"BMI\"] = _ds_in[\"Weight\"] / (_ds_in[\"Height\"] ** 2)\n",
    "    _ans[\"Water_Intake_per_Meal\"] = _ds_in[\"CH2O\"] / (_ds_in[\"NCP\"] + 1e-6)\n",
    "    _ans[\"Activity_to_Tech_Ratio\"] = _ds_in[\"FAF\"] / (_ds_in[\"TUE\"] + 0.1)\n",
    "    _ans[\"Healthy_Lifestyle_Score\"] = (_ds_in[\"FCVC\"] * 0.3 + _ds_in[\"FAF\"] * 0.3\n",
    "                                       + _ds_in[\"CH2O\"] * 0.4 - _ds_in[\"FAVC\"].map({\"yes\": 1, \"no\": 0}))\n",
    "    _ans[\"Has_FamilyRisk_and_FAVC\"] = np.where(\n",
    "        (_ds_in[\"family_history_with_overweight\"] == \"yes\") & (_ds_in[\"FAVC\"] == \"yes\"), 1, 0)\n",
    "    _ans[\"Calorie_Monitoring_Interaction\"] = (_ds_in[\"SCC\"].map({\"yes\": 1, \"no\": 0})\n",
    "                                              * _ds_in[\"FAVC\"].map({\"yes\": 1, \"no\": 0}))\n",
    "    return _ans\n",
    "\n",
    "\n",
    "pop_derived_features = ('derived', skl.preprocessing.FunctionTransformer(_pop_derived_features), slice(None))"
   ],
   "id": "689867b77d6a571b",
   "outputs": [],
   "execution_count": 30
  },
  {
   "metadata": {
    "ExecuteTime": {
     "end_time": "2025-10-15T12:44:49.586422Z",
     "start_time": "2025-10-15T12:44:49.443485Z"
    }
   },
   "cell_type": "code",
   "source": "pop_everything = skl.compose.ColumnTransformer([pop_stan_scaler, pop_derived_features, pop_binarizer, pop_one_hotter])",
   "id": "5d3d73d61e584d24",
   "outputs": [],
   "execution_count": 31
  },
  {
   "metadata": {
    "ExecuteTime": {
     "end_time": "2025-10-15T13:12:51.251467Z",
     "start_time": "2025-10-15T13:12:50.596033Z"
    }
   },
   "cell_type": "code",
   "source": [
    "pop_binarizer2 = ('binarizer', skl.preprocessing.OneHotEncoder(drop='if_binary', sparse_output=False), binary_features)\n",
    "pop_one_hotter2 = ('one_hotter', skl.preprocessing.OneHotEncoder(sparse_output=False), ['MTRANS'])\n",
    "pop_everything3 = skl.compose.ColumnTransformer(\n",
    "    [pop_stan_scaler, pop_derived_features, pop_binarizer2, pop_one_hotter2, pop_label_enc])\n",
    "pop_everything3.set_output(transform='pandas')\n",
    "\n",
    "ds_source_transf = pop_everything3.fit_transform(ds_source)\n",
    "corr = ds_source_transf.corr(numeric_only=True)\n",
    "plt.figure(figsize=(10, 8))\n",
    "sns.heatmap(corr, cmap='coolwarm', center=0, annot=False, vmin=-1, vmax=1)\n",
    "plt.title(\"Feature Correlation Heatmap\")\n",
    "plt.show()"
   ],
   "id": "ac2eb20fe0138657",
   "outputs": [
    {
     "data": {
      "text/plain": [
       "<Figure size 1000x800 with 2 Axes>"
      ],
      "image/png": "[encoded data removed]"
     },
     "metadata": {},
     "output_type": "display_data"
    }
   ],
   "execution_count": 70
  },
  {
   "metadata": {
    "ExecuteTime": {
     "end_time": "2025-10-15T13:12:52.378742Z",
     "start_time": "2025-10-15T13:12:52.371557Z"
    }
   },
   "cell_type": "code",
   "source": "ds_source_transf.columns.size",
   "id": "d13a52d38cf436c4",
   "outputs": [
    {
     "data": {
      "text/plain": [
       "24"
      ]
     },
     "execution_count": 71,
     "metadata": {},
     "output_type": "execute_result"
    }
   ],
   "execution_count": 71
  },
  {
   "metadata": {
    "ExecuteTime": {
     "end_time": "2025-10-15T12:44:50.556945Z",
     "start_time": "2025-10-15T12:44:50.551713Z"
    }
   },
   "cell_type": "code",
   "source": "",
   "id": "33dfbce31ca4def8",
   "outputs": [],
   "execution_count": null
  },
  {
   "metadata": {},
   "cell_type": "markdown",
   "source": "TVT S",
   "id": "c3ace32d628aa538"
  },
  {
   "metadata": {
    "ExecuteTime": {
     "end_time": "2025-10-15T12:44:50.568952Z",
     "start_time": "2025-10-15T12:44:50.565620Z"
    }
   },
   "cell_type": "code",
   "source": "",
   "id": "2cbde24b8669ed09",
   "outputs": [],
   "execution_count": null
  },
  {
   "metadata": {
    "ExecuteTime": {
     "end_time": "2025-10-15T12:44:50.581840Z",
     "start_time": "2025-10-15T12:44:50.576850Z"
    }
   },
   "cell_type": "code",
   "source": "",
   "id": "4f590f5885b3be2f",
   "outputs": [],
   "execution_count": null
  },
  {
   "metadata": {},
   "cell_type": "markdown",
   "source": "Mdel",
   "id": "1ce90343f3402767"
  },
  {
   "metadata": {
    "ExecuteTime": {
     "end_time": "2025-10-15T12:44:52.410069Z",
     "start_time": "2025-10-15T12:44:52.307412Z"
    }
   },
   "cell_type": "code",
   "source": [
    "\n",
    "pop_everything = skl.compose.ColumnTransformer(\n",
    "    [pop_stan_scaler, pop_derived_features, pop_binarizer, pop_one_hotter, pop_label_enc])\n",
    "data_x = pop_everything.fit_transform(ds_source)\n",
    "data_test = pop_everything.transform(ds_test)\n",
    "data_y = ds_labels.map(labels_encoder).to_numpy()\n"
   ],
   "id": "5f8e13d8ca5ae069",
   "outputs": [],
   "execution_count": 33
  },
  {
   "metadata": {
    "ExecuteTime": {
     "end_time": "2025-10-15T12:44:52.821788Z",
     "start_time": "2025-10-15T12:44:52.810843Z"
    }
   },
   "cell_type": "code",
   "source": "x_train, x_test, y_train, y_test = skl.model_selection.train_test_split(data_x, data_y, test_size=0.2, random_state=42)",
   "id": "567442755544646d",
   "outputs": [],
   "execution_count": 34
  },
  {
   "metadata": {
    "ExecuteTime": {
     "end_time": "2025-10-15T12:44:53.701555Z",
     "start_time": "2025-10-15T12:44:53.692136Z"
    }
   },
   "cell_type": "code",
   "source": "ds_source.shape",
   "id": "336cbadc44f410ef",
   "outputs": [
    {
     "data": {
      "text/plain": [
       "(15533, 16)"
      ]
     },
     "execution_count": 35,
     "metadata": {},
     "output_type": "execute_result"
    }
   ],
   "execution_count": 35
  },
  {
   "metadata": {
    "ExecuteTime": {
     "end_time": "2025-10-15T12:44:54.187121Z",
     "start_time": "2025-10-15T12:44:54.178679Z"
    }
   },
   "cell_type": "code",
   "source": "data_x.shape",
   "id": "e07a9f396f1976bd",
   "outputs": [
    {
     "data": {
      "text/plain": [
       "(15533, 24)"
      ]
     },
     "execution_count": 36,
     "metadata": {},
     "output_type": "execute_result"
    }
   ],
   "execution_count": 36
  },
  {
   "metadata": {
    "ExecuteTime": {
     "end_time": "2025-10-15T12:44:54.688684Z",
     "start_time": "2025-10-15T12:44:54.681447Z"
    }
   },
   "cell_type": "code",
   "source": "data_test.shape",
   "id": "84874c3fceee812e",
   "outputs": [
    {
     "data": {
      "text/plain": [
       "(5225, 24)"
      ]
     },
     "execution_count": 37,
     "metadata": {},
     "output_type": "execute_result"
    }
   ],
   "execution_count": 37
  },
  {
   "metadata": {
    "ExecuteTime": {
     "end_time": "2025-10-15T12:44:55.080036Z",
     "start_time": "2025-10-15T12:44:55.071906Z"
    }
   },
   "cell_type": "code",
   "source": "ds_test.shape",
   "id": "c916fae0631e892b",
   "outputs": [
    {
     "data": {
      "text/plain": [
       "(5225, 16)"
      ]
     },
     "execution_count": 38,
     "metadata": {},
     "output_type": "execute_result"
    }
   ],
   "execution_count": 38
  },
  {
   "metadata": {
    "ExecuteTime": {
     "end_time": "2025-10-15T12:45:52.148988Z",
     "start_time": "2025-10-15T12:45:52.143897Z"
    }
   },
   "cell_type": "code",
   "source": [
    "def save_submission(key, model):\n",
    "    ds_res = pd.DataFrame()\n",
    "    ds_res['id'] = ds_test_ids\n",
    "    ds_res['WeightCategory'] = model.predict(data_test)\n",
    "    ds_res['WeightCategory'] = ds_res['WeightCategory'].map(labels_decoder)\n",
    "    ds_res.to_csv(f'submission_{key}.csv', index=False)"
   ],
   "id": "eea144172beb6024",
   "outputs": [],
   "execution_count": 43
  },
  {
   "metadata": {
    "ExecuteTime": {
     "end_time": "2025-10-15T12:44:57.210260Z",
     "start_time": "2025-10-15T12:44:57.201866Z"
    }
   },
   "cell_type": "code",
   "source": "data_test.shape",
   "id": "9b6232f826a2e744",
   "outputs": [
    {
     "data": {
      "text/plain": [
       "(5225, 24)"
      ]
     },
     "execution_count": 40,
     "metadata": {},
     "output_type": "execute_result"
    }
   ],
   "execution_count": 40
  },
  {
   "metadata": {
    "ExecuteTime": {
     "end_time": "2025-10-15T12:45:27.849177Z",
     "start_time": "2025-10-15T12:45:01.846375Z"
    }
   },
   "cell_type": "code",
   "source": [
    "model = skl.linear_model.LogisticRegression(max_iter=10000)\n",
    "model.fit(x_train, y_train)\n",
    "print('Train', model.score(x_train, y_train))\n",
    "print('Test ', model.score(x_test, y_test))\n",
    "chime.info()"
   ],
   "id": "c97273c89b5d64b8",
   "outputs": [
    {
     "name": "stdout",
     "output_type": "stream",
     "text": [
      "Train 0.8641558023499115\n",
      "Test  0.8619246861924686\n"
     ]
    }
   ],
   "execution_count": 41
  },
  {
   "metadata": {
    "ExecuteTime": {
     "end_time": "2025-10-15T12:45:54.740973Z",
     "start_time": "2025-10-15T12:45:54.675762Z"
    }
   },
   "cell_type": "code",
   "outputs": [],
   "execution_count": 44,
   "source": "save_submission('lr', model)",
   "id": "ad166bca2de147ec"
  },
  {
   "metadata": {
    "ExecuteTime": {
     "end_time": "2025-10-15T12:25:29.082151700Z",
     "start_time": "2025-10-15T11:06:24.435618Z"
    }
   },
   "cell_type": "code",
   "source": "",
   "id": "9b8d4d01d59f7f1a",
   "outputs": [],
   "execution_count": 206
  },
  {
   "metadata": {},
   "cell_type": "code",
   "outputs": [],
   "execution_count": null,
   "source": "",
   "id": "8e874ad7ee21fa66"
  },
  {
   "metadata": {},
   "cell_type": "code",
   "outputs": [],
   "execution_count": null,
   "source": "",
   "id": "dffe7bae54e5d108"
  },
  {
   "metadata": {
    "ExecuteTime": {
     "end_time": "2025-10-15T12:27:58.972500Z",
     "start_time": "2025-10-15T12:27:58.964750Z"
    }
   },
   "cell_type": "code",
   "source": [
    "# history = {}\n",
    "# for penalty, c, solver in itertools.product(\n",
    "#         [None, 'l1', 'l2', 'elasticnet'],\n",
    "#         [1.0],\n",
    "#         ['lbfgs', 'liblinear', 'newton-cg', 'newton-cholesky', 'sag', 'saga']\n",
    "# ):\n",
    "#     key = f'penalty={penalty},c={c},solver={solver}'\n",
    "#     print(\"Training\", key)\n",
    "#     try:\n",
    "#         model = skl.linear_model.LogisticRegression(\n",
    "#             penalty=penalty, C=c, solver=solver,\n",
    "#             max_iter=1000, n_jobs=-1)\n",
    "#         model.fit(data_x, data_y)\n",
    "#         history[key] = {'model': model, 'score': model.score(data_x, data_y)}\n",
    "#     except Exception as e:\n",
    "#         print(\"Not possible\", e)"
   ],
   "id": "cc4d5cf33be481c1",
   "outputs": [],
   "execution_count": 33
  },
  {
   "metadata": {
    "ExecuteTime": {
     "end_time": "2025-10-15T12:27:59.681903Z",
     "start_time": "2025-10-15T12:27:59.676761Z"
    }
   },
   "cell_type": "code",
   "source": "",
   "id": "9151407a4d237152",
   "outputs": [],
   "execution_count": null
  },
  {
   "metadata": {
    "ExecuteTime": {
     "end_time": "2025-10-15T12:27:59.970861Z",
     "start_time": "2025-10-15T12:27:59.963582Z"
    }
   },
   "cell_type": "code",
   "source": "",
   "id": "2a9fbc44fabaf972",
   "outputs": [],
   "execution_count": null
  },
  {
   "metadata": {
    "ExecuteTime": {
     "end_time": "2025-10-15T12:28:00.181540Z",
     "start_time": "2025-10-15T12:28:00.174310Z"
    }
   },
   "cell_type": "code",
   "source": "",
   "id": "4fe0d33a9ea9e60f",
   "outputs": [],
   "execution_count": null
  },
  {
   "metadata": {
    "ExecuteTime": {
     "end_time": "2025-10-15T12:28:00.349997Z",
     "start_time": "2025-10-15T12:28:00.344464Z"
    }
   },
   "cell_type": "code",
   "source": "",
   "id": "2d248f47171cb030",
   "outputs": [],
   "execution_count": null
  },
  {
   "metadata": {
    "ExecuteTime": {
     "end_time": "2025-10-15T12:28:00.560207Z",
     "start_time": "2025-10-15T12:28:00.552992Z"
    }
   },
   "cell_type": "code",
   "source": "",
   "id": "86773459de3e4314",
   "outputs": [],
   "execution_count": null
  },
  {
   "metadata": {
    "ExecuteTime": {
     "end_time": "2025-10-15T12:28:02.923862Z",
     "start_time": "2025-10-15T12:28:02.919403Z"
    }
   },
   "cell_type": "code",
   "source": "",
   "id": "9f38963b4257620b",
   "outputs": [],
   "execution_count": null
  },
  {
   "metadata": {
    "ExecuteTime": {
     "end_time": "2025-10-15T12:28:15.218753Z",
     "start_time": "2025-10-15T12:28:15.211426Z"
    }
   },
   "cell_type": "code",
   "source": [
    "# history = {}\n",
    "# for penalty, c, solver in itertools.product(\n",
    "#         [None, 'l1', 'l2', 'elasticnet'],\n",
    "#         [1.0],\n",
    "#         ['lbfgs', 'liblinear', 'newton-cg', 'newton-cholesky', 'sag', 'saga']\n",
    "# ):\n",
    "#     key = f'penalty={penalty},c={c},solver={solver}'\n",
    "#     print(\"Training\", key)\n",
    "#     try:\n",
    "#         model = skl.linear_model.LogisticRegression(\n",
    "#             penalty=penalty, C=c, solver=solver,\n",
    "#             max_iter=1000, n_jobs=-1)\n",
    "#         model.fit(data_x, data_y)\n",
    "#         history[key] = {'model': model, 'score': model.score(data_x, data_y)}\n",
    "#     except Exception as e:\n",
    "#         print(\"Not possible\", e)"
   ],
   "id": "64098aac7f7cf83b",
   "outputs": [],
   "execution_count": 34
  },
  {
   "metadata": {
    "ExecuteTime": {
     "end_time": "2025-10-15T12:28:18.006197Z",
     "start_time": "2025-10-15T12:28:17.086931Z"
    }
   },
   "cell_type": "code",
   "source": [
    "model = skl.tree.DecisionTreeClassifier(max_depth=15)\n",
    "model.fit(x_train, y_train)\n",
    "model.score(x_train, y_train)\n",
    "model.score(x_test, y_test)"
   ],
   "id": "d68295fb0752e1ac",
   "outputs": [
    {
     "data": {
      "text/plain": [
       "DecisionTreeClassifier(max_depth=15)"
      ],
      "text/html": [
       "<style>#sk-container-id-1 {\n",
       "  /* Definition of color scheme common for light and dark mode */\n",
       "  --sklearn-color-text: #000;\n",
       "  --sklearn-color-text-muted: #666;\n",
       "  --sklearn-color-line: gray;\n",
       "  /* Definition of color scheme for unfitted estimators */\n",
       "  --sklearn-color-unfitted-level-0: #fff5e6;\n",
       "  --sklearn-color-unfitted-level-1: #f6e4d2;\n",
       "  --sklearn-color-unfitted-level-2: #ffe0b3;\n",
       "  --sklearn-color-unfitted-level-3: chocolate;\n",
       "  /* Definition of color scheme for fitted estimators */\n",
       "  --sklearn-color-fitted-level-0: #f0f8ff;\n",
       "  --sklearn-color-fitted-level-1: #d4ebff;\n",
       "  --sklearn-color-fitted-level-2: #b3dbfd;\n",
       "  --sklearn-color-fitted-level-3: cornflowerblue;\n",
       "\n",
       "  /* Specific color for light theme */\n",
       "  --sklearn-color-text-on-default-background: var(--sg-text-color, var(--theme-code-foreground, var(--jp-content-font-color1, black)));\n",
       "  --sklearn-color-background: var(--sg-background-color, var(--theme-background, var(--jp-layout-color0, white)));\n",
       "  --sklearn-color-border-box: var(--sg-text-color, var(--theme-code-foreground, var(--jp-content-font-color1, black)));\n",
       "  --sklearn-color-icon: #696969;\n",
       "\n",
       "  @media (prefers-color-scheme: dark) {\n",
       "    /* Redefinition of color scheme for dark theme */\n",
       "    --sklearn-color-text-on-default-background: var(--sg-text-color, var(--theme-code-foreground, var(--jp-content-font-color1, white)));\n",
       "    --sklearn-color-background: var(--sg-background-color, var(--theme-background, var(--jp-layout-color0, #111)));\n",
       "    --sklearn-color-border-box: var(--sg-text-color, var(--theme-code-foreground, var(--jp-content-font-color1, white)));\n",
       "    --sklearn-color-icon: #878787;\n",
       "  }\n",
       "}\n",
       "\n",
       "#sk-container-id-1 {\n",
       "  color: var(--sklearn-color-text);\n",
       "}\n",
       "\n",
       "#sk-container-id-1 pre {\n",
       "  padding: 0;\n",
       "}\n",
       "\n",
       "#sk-container-id-1 input.sk-hidden--visually {\n",
       "  border: 0;\n",
       "  clip: rect(1px 1px 1px 1px);\n",
       "  clip: rect(1px, 1px, 1px, 1px);\n",
       "  height: 1px;\n",
       "  margin: -1px;\n",
       "  overflow: hidden;\n",
       "  padding: 0;\n",
       "  position: absolute;\n",
       "  width: 1px;\n",
       "}\n",
       "\n",
       "#sk-container-id-1 div.sk-dashed-wrapped {\n",
       "  border: 1px dashed var(--sklearn-color-line);\n",
       "  margin: 0 0.4em 0.5em 0.4em;\n",
       "  box-sizing: border-box;\n",
       "  padding-bottom: 0.4em;\n",
       "  background-color: var(--sklearn-color-background);\n",
       "}\n",
       "\n",
       "#sk-container-id-1 div.sk-container {\n",
       "  /* jupyter's `normalize.less` sets `[hidden] { display: none; }`\n",
       "     but bootstrap.min.css set `[hidden] { display: none !important; }`\n",
       "     so we also need the `!important` here to be able to override the\n",
       "     default hidden behavior on the sphinx rendered scikit-learn.org.\n",
       "     See: https://github.com/scikit-learn/scikit-learn/issues/21755 */\n",
       "  display: inline-block !important;\n",
       "  position: relative;\n",
       "}\n",
       "\n",
       "#sk-container-id-1 div.sk-text-repr-fallback {\n",
       "  display: none;\n",
       "}\n",
       "\n",
       "div.sk-parallel-item,\n",
       "div.sk-serial,\n",
       "div.sk-item {\n",
       "  /* draw centered vertical line to link estimators */\n",
       "  background-image: linear-gradient(var(--sklearn-color-text-on-default-background), var(--sklearn-color-text-on-default-background));\n",
       "  background-size: 2px 100%;\n",
       "  background-repeat: no-repeat;\n",
       "  background-position: center center;\n",
       "}\n",
       "\n",
       "/* Parallel-specific style estimator block */\n",
       "\n",
       "#sk-container-id-1 div.sk-parallel-item::after {\n",
       "  content: \"\";\n",
       "  width: 100%;\n",
       "  border-bottom: 2px solid var(--sklearn-color-text-on-default-background);\n",
       "  flex-grow: 1;\n",
       "}\n",
       "\n",
       "#sk-container-id-1 div.sk-parallel {\n",
       "  display: flex;\n",
       "  align-items: stretch;\n",
       "  justify-content: center;\n",
       "  background-color: var(--sklearn-color-background);\n",
       "  position: relative;\n",
       "}\n",
       "\n",
       "#sk-container-id-1 div.sk-parallel-item {\n",
       "  display: flex;\n",
       "  flex-direction: column;\n",
       "}\n",
       "\n",
       "#sk-container-id-1 div.sk-parallel-item:first-child::after {\n",
       "  align-self: flex-end;\n",
       "  width: 50%;\n",
       "}\n",
       "\n",
       "#sk-container-id-1 div.sk-parallel-item:last-child::after {\n",
       "  align-self: flex-start;\n",
       "  width: 50%;\n",
       "}\n",
       "\n",
       "#sk-container-id-1 div.sk-parallel-item:only-child::after {\n",
       "  width: 0;\n",
       "}\n",
       "\n",
       "/* Serial-specific style estimator block */\n",
       "\n",
       "#sk-container-id-1 div.sk-serial {\n",
       "  display: flex;\n",
       "  flex-direction: column;\n",
       "  align-items: center;\n",
       "  background-color: var(--sklearn-color-background);\n",
       "  padding-right: 1em;\n",
       "  padding-left: 1em;\n",
       "}\n",
       "\n",
       "\n",
       "/* Toggleable style: style used for estimator/Pipeline/ColumnTransformer box that is\n",
       "clickable and can be expanded/collapsed.\n",
       "- Pipeline and ColumnTransformer use this feature and define the default style\n",
       "- Estimators will overwrite some part of the style using the `sk-estimator` class\n",
       "*/\n",
       "\n",
       "/* Pipeline and ColumnTransformer style (default) */\n",
       "\n",
       "#sk-container-id-1 div.sk-toggleable {\n",
       "  /* Default theme specific background. It is overwritten whether we have a\n",
       "  specific estimator or a Pipeline/ColumnTransformer */\n",
       "  background-color: var(--sklearn-color-background);\n",
       "}\n",
       "\n",
       "/* Toggleable label */\n",
       "#sk-container-id-1 label.sk-toggleable__label {\n",
       "  cursor: pointer;\n",
       "  display: flex;\n",
       "  width: 100%;\n",
       "  margin-bottom: 0;\n",
       "  padding: 0.5em;\n",
       "  box-sizing: border-box;\n",
       "  text-align: center;\n",
       "  align-items: start;\n",
       "  justify-content: space-between;\n",
       "  gap: 0.5em;\n",
       "}\n",
       "\n",
       "#sk-container-id-1 label.sk-toggleable__label .caption {\n",
       "  font-size: 0.6rem;\n",
       "  font-weight: lighter;\n",
       "  color: var(--sklearn-color-text-muted);\n",
       "}\n",
       "\n",
       "#sk-container-id-1 label.sk-toggleable__label-arrow:before {\n",
       "  /* Arrow on the left of the label */\n",
       "  content: \"▸\";\n",
       "  float: left;\n",
       "  margin-right: 0.25em;\n",
       "  color: var(--sklearn-color-icon);\n",
       "}\n",
       "\n",
       "#sk-container-id-1 label.sk-toggleable__label-arrow:hover:before {\n",
       "  color: var(--sklearn-color-text);\n",
       "}\n",
       "\n",
       "/* Toggleable content - dropdown */\n",
       "\n",
       "#sk-container-id-1 div.sk-toggleable__content {\n",
       "  display: none;\n",
       "  text-align: left;\n",
       "  /* unfitted */\n",
       "  background-color: var(--sklearn-color-unfitted-level-0);\n",
       "}\n",
       "\n",
       "#sk-container-id-1 div.sk-toggleable__content.fitted {\n",
       "  /* fitted */\n",
       "  background-color: var(--sklearn-color-fitted-level-0);\n",
       "}\n",
       "\n",
       "#sk-container-id-1 div.sk-toggleable__content pre {\n",
       "  margin: 0.2em;\n",
       "  border-radius: 0.25em;\n",
       "  color: var(--sklearn-color-text);\n",
       "  /* unfitted */\n",
       "  background-color: var(--sklearn-color-unfitted-level-0);\n",
       "}\n",
       "\n",
       "#sk-container-id-1 div.sk-toggleable__content.fitted pre {\n",
       "  /* unfitted */\n",
       "  background-color: var(--sklearn-color-fitted-level-0);\n",
       "}\n",
       "\n",
       "#sk-container-id-1 input.sk-toggleable__control:checked~div.sk-toggleable__content {\n",
       "  /* Expand drop-down */\n",
       "  display: block;\n",
       "  width: 100%;\n",
       "  overflow: visible;\n",
       "}\n",
       "\n",
       "#sk-container-id-1 input.sk-toggleable__control:checked~label.sk-toggleable__label-arrow:before {\n",
       "  content: \"▾\";\n",
       "}\n",
       "\n",
       "/* Pipeline/ColumnTransformer-specific style */\n",
       "\n",
       "#sk-container-id-1 div.sk-label input.sk-toggleable__control:checked~label.sk-toggleable__label {\n",
       "  color: var(--sklearn-color-text);\n",
       "  background-color: var(--sklearn-color-unfitted-level-2);\n",
       "}\n",
       "\n",
       "#sk-container-id-1 div.sk-label.fitted input.sk-toggleable__control:checked~label.sk-toggleable__label {\n",
       "  background-color: var(--sklearn-color-fitted-level-2);\n",
       "}\n",
       "\n",
       "/* Estimator-specific style */\n",
       "\n",
       "/* Colorize estimator box */\n",
       "#sk-container-id-1 div.sk-estimator input.sk-toggleable__control:checked~label.sk-toggleable__label {\n",
       "  /* unfitted */\n",
       "  background-color: var(--sklearn-color-unfitted-level-2);\n",
       "}\n",
       "\n",
       "#sk-container-id-1 div.sk-estimator.fitted input.sk-toggleable__control:checked~label.sk-toggleable__label {\n",
       "  /* fitted */\n",
       "  background-color: var(--sklearn-color-fitted-level-2);\n",
       "}\n",
       "\n",
       "#sk-container-id-1 div.sk-label label.sk-toggleable__label,\n",
       "#sk-container-id-1 div.sk-label label {\n",
       "  /* The background is the default theme color */\n",
       "  color: var(--sklearn-color-text-on-default-background);\n",
       "}\n",
       "\n",
       "/* On hover, darken the color of the background */\n",
       "#sk-container-id-1 div.sk-label:hover label.sk-toggleable__label {\n",
       "  color: var(--sklearn-color-text);\n",
       "  background-color: var(--sklearn-color-unfitted-level-2);\n",
       "}\n",
       "\n",
       "/* Label box, darken color on hover, fitted */\n",
       "#sk-container-id-1 div.sk-label.fitted:hover label.sk-toggleable__label.fitted {\n",
       "  color: var(--sklearn-color-text);\n",
       "  background-color: var(--sklearn-color-fitted-level-2);\n",
       "}\n",
       "\n",
       "/* Estimator label */\n",
       "\n",
       "#sk-container-id-1 div.sk-label label {\n",
       "  font-family: monospace;\n",
       "  font-weight: bold;\n",
       "  display: inline-block;\n",
       "  line-height: 1.2em;\n",
       "}\n",
       "\n",
       "#sk-container-id-1 div.sk-label-container {\n",
       "  text-align: center;\n",
       "}\n",
       "\n",
       "/* Estimator-specific */\n",
       "#sk-container-id-1 div.sk-estimator {\n",
       "  font-family: monospace;\n",
       "  border: 1px dotted var(--sklearn-color-border-box);\n",
       "  border-radius: 0.25em;\n",
       "  box-sizing: border-box;\n",
       "  margin-bottom: 0.5em;\n",
       "  /* unfitted */\n",
       "  background-color: var(--sklearn-color-unfitted-level-0);\n",
       "}\n",
       "\n",
       "#sk-container-id-1 div.sk-estimator.fitted {\n",
       "  /* fitted */\n",
       "  background-color: var(--sklearn-color-fitted-level-0);\n",
       "}\n",
       "\n",
       "/* on hover */\n",
       "#sk-container-id-1 div.sk-estimator:hover {\n",
       "  /* unfitted */\n",
       "  background-color: var(--sklearn-color-unfitted-level-2);\n",
       "}\n",
       "\n",
       "#sk-container-id-1 div.sk-estimator.fitted:hover {\n",
       "  /* fitted */\n",
       "  background-color: var(--sklearn-color-fitted-level-2);\n",
       "}\n",
       "\n",
       "/* Specification for estimator info (e.g. \"i\" and \"?\") */\n",
       "\n",
       "/* Common style for \"i\" and \"?\" */\n",
       "\n",
       ".sk-estimator-doc-link,\n",
       "a:link.sk-estimator-doc-link,\n",
       "a:visited.sk-estimator-doc-link {\n",
       "  float: right;\n",
       "  font-size: smaller;\n",
       "  line-height: 1em;\n",
       "  font-family: monospace;\n",
       "  background-color: var(--sklearn-color-background);\n",
       "  border-radius: 1em;\n",
       "  height: 1em;\n",
       "  width: 1em;\n",
       "  text-decoration: none !important;\n",
       "  margin-left: 0.5em;\n",
       "  text-align: center;\n",
       "  /* unfitted */\n",
       "  border: var(--sklearn-color-unfitted-level-1) 1pt solid;\n",
       "  color: var(--sklearn-color-unfitted-level-1);\n",
       "}\n",
       "\n",
       ".sk-estimator-doc-link.fitted,\n",
       "a:link.sk-estimator-doc-link.fitted,\n",
       "a:visited.sk-estimator-doc-link.fitted {\n",
       "  /* fitted */\n",
       "  border: var(--sklearn-color-fitted-level-1) 1pt solid;\n",
       "  color: var(--sklearn-color-fitted-level-1);\n",
       "}\n",
       "\n",
       "/* On hover */\n",
       "div.sk-estimator:hover .sk-estimator-doc-link:hover,\n",
       ".sk-estimator-doc-link:hover,\n",
       "div.sk-label-container:hover .sk-estimator-doc-link:hover,\n",
       ".sk-estimator-doc-link:hover {\n",
       "  /* unfitted */\n",
       "  background-color: var(--sklearn-color-unfitted-level-3);\n",
       "  color: var(--sklearn-color-background);\n",
       "  text-decoration: none;\n",
       "}\n",
       "\n",
       "div.sk-estimator.fitted:hover .sk-estimator-doc-link.fitted:hover,\n",
       ".sk-estimator-doc-link.fitted:hover,\n",
       "div.sk-label-container:hover .sk-estimator-doc-link.fitted:hover,\n",
       ".sk-estimator-doc-link.fitted:hover {\n",
       "  /* fitted */\n",
       "  background-color: var(--sklearn-color-fitted-level-3);\n",
       "  color: var(--sklearn-color-background);\n",
       "  text-decoration: none;\n",
       "}\n",
       "\n",
       "/* Span, style for the box shown on hovering the info icon */\n",
       ".sk-estimator-doc-link span {\n",
       "  display: none;\n",
       "  z-index: 9999;\n",
       "  position: relative;\n",
       "  font-weight: normal;\n",
       "  right: .2ex;\n",
       "  padding: .5ex;\n",
       "  margin: .5ex;\n",
       "  width: min-content;\n",
       "  min-width: 20ex;\n",
       "  max-width: 50ex;\n",
       "  color: var(--sklearn-color-text);\n",
       "  box-shadow: 2pt 2pt 4pt #999;\n",
       "  /* unfitted */\n",
       "  background: var(--sklearn-color-unfitted-level-0);\n",
       "  border: .5pt solid var(--sklearn-color-unfitted-level-3);\n",
       "}\n",
       "\n",
       ".sk-estimator-doc-link.fitted span {\n",
       "  /* fitted */\n",
       "  background: var(--sklearn-color-fitted-level-0);\n",
       "  border: var(--sklearn-color-fitted-level-3);\n",
       "}\n",
       "\n",
       ".sk-estimator-doc-link:hover span {\n",
       "  display: block;\n",
       "}\n",
       "\n",
       "/* \"?\"-specific style due to the `<a>` HTML tag */\n",
       "\n",
       "#sk-container-id-1 a.estimator_doc_link {\n",
       "  float: right;\n",
       "  font-size: 1rem;\n",
       "  line-height: 1em;\n",
       "  font-family: monospace;\n",
       "  background-color: var(--sklearn-color-background);\n",
       "  border-radius: 1rem;\n",
       "  height: 1rem;\n",
       "  width: 1rem;\n",
       "  text-decoration: none;\n",
       "  /* unfitted */\n",
       "  color: var(--sklearn-color-unfitted-level-1);\n",
       "  border: var(--sklearn-color-unfitted-level-1) 1pt solid;\n",
       "}\n",
       "\n",
       "#sk-container-id-1 a.estimator_doc_link.fitted {\n",
       "  /* fitted */\n",
       "  border: var(--sklearn-color-fitted-level-1) 1pt solid;\n",
       "  color: var(--sklearn-color-fitted-level-1);\n",
       "}\n",
       "\n",
       "/* On hover */\n",
       "#sk-container-id-1 a.estimator_doc_link:hover {\n",
       "  /* unfitted */\n",
       "  background-color: var(--sklearn-color-unfitted-level-3);\n",
       "  color: var(--sklearn-color-background);\n",
       "  text-decoration: none;\n",
       "}\n",
       "\n",
       "#sk-container-id-1 a.estimator_doc_link.fitted:hover {\n",
       "  /* fitted */\n",
       "  background-color: var(--sklearn-color-fitted-level-3);\n",
       "}\n",
       "\n",
       ".estimator-table summary {\n",
       "    padding: .5rem;\n",
       "    font-family: monospace;\n",
       "    cursor: pointer;\n",
       "}\n",
       "\n",
       ".estimator-table details[open] {\n",
       "    padding-left: 0.1rem;\n",
       "    padding-right: 0.1rem;\n",
       "    padding-bottom: 0.3rem;\n",
       "}\n",
       "\n",
       ".estimator-table .parameters-table {\n",
       "    margin-left: auto !important;\n",
       "    margin-right: auto !important;\n",
       "}\n",
       "\n",
       ".estimator-table .parameters-table tr:nth-child(odd) {\n",
       "    background-color: #fff;\n",
       "}\n",
       "\n",
       ".estimator-table .parameters-table tr:nth-child(even) {\n",
       "    background-color: #f6f6f6;\n",
       "}\n",
       "\n",
       ".estimator-table .parameters-table tr:hover {\n",
       "    background-color: #e0e0e0;\n",
       "}\n",
       "\n",
       ".estimator-table table td {\n",
       "    border: 1px solid rgba(106, 105, 104, 0.232);\n",
       "}\n",
       "\n",
       ".user-set td {\n",
       "    color:rgb(255, 94, 0);\n",
       "    text-align: left;\n",
       "}\n",
       "\n",
       ".user-set td.value pre {\n",
       "    color:rgb(255, 94, 0) !important;\n",
       "    background-color: transparent !important;\n",
       "}\n",
       "\n",
       ".default td {\n",
       "    color: black;\n",
       "    text-align: left;\n",
       "}\n",
       "\n",
       ".user-set td i,\n",
       ".default td i {\n",
       "    color: black;\n",
       "}\n",
       "\n",
       ".copy-paste-icon {\n",
       "    background-image: url(data:image/svg+xml;base64,PHN2ZyB4bWxucz0iaHR0cDovL3d3dy53My5vcmcvMjAwMC9zdmciIHZpZXdCb3g9IjAgMCA0NDggNTEyIj48IS0tIUZvbnQgQXdlc29tZSBGcmVlIDYuNy4yIGJ5IEBmb250YXdlc29tZSAtIGh0dHBzOi8vZm9udGF3ZXNvbWUuY29tIExpY2Vuc2UgLSBodHRwczovL2ZvbnRhd2Vzb21lLmNvbS9saWNlbnNlL2ZyZWUgQ29weXJpZ2h0IDIwMjUgRm9udGljb25zLCBJbmMuLS0+PHBhdGggZD0iTTIwOCAwTDMzMi4xIDBjMTIuNyAwIDI0LjkgNS4xIDMzLjkgMTQuMWw2Ny45IDY3LjljOSA5IDE0LjEgMjEuMiAxNC4xIDMzLjlMNDQ4IDMzNmMwIDI2LjUtMjEuNSA0OC00OCA0OGwtMTkyIDBjLTI2LjUgMC00OC0yMS41LTQ4LTQ4bDAtMjg4YzAtMjYuNSAyMS41LTQ4IDQ4LTQ4ek00OCAxMjhsODAgMCAwIDY0LTY0IDAgMCAyNTYgMTkyIDAgMC0zMiA2NCAwIDAgNDhjMCAyNi41LTIxLjUgNDgtNDggNDhMNDggNTEyYy0yNi41IDAtNDgtMjEuNS00OC00OEwwIDE3NmMwLTI2LjUgMjEuNS00OCA0OC00OHoiLz48L3N2Zz4=);\n",
       "    background-repeat: no-repeat;\n",
       "    background-size: 14px 14px;\n",
       "    background-position: 0;\n",
       "    display: inline-block;\n",
       "    width: 14px;\n",
       "    height: 14px;\n",
       "    cursor: pointer;\n",
       "}\n",
       "</style><body><div id=\"sk-container-id-1\" class=\"sk-top-container\"><div class=\"sk-text-repr-fallback\"><pre>DecisionTreeClassifier(max_depth=15)</pre><b>In a Jupyter environment, please rerun this cell to show the HTML representation or trust the notebook. <br />On GitHub, the HTML representation is unable to render, please try loading this page with nbviewer.org.</b></div><div class=\"sk-container\" hidden><div class=\"sk-item\"><div class=\"sk-estimator fitted sk-toggleable\"><input class=\"sk-toggleable__control sk-hidden--visually\" id=\"sk-estimator-id-1\" type=\"checkbox\" checked><label for=\"sk-estimator-id-1\" class=\"sk-toggleable__label fitted sk-toggleable__label-arrow\"><div><div>DecisionTreeClassifier</div></div><div><a class=\"sk-estimator-doc-link fitted\" rel=\"noreferrer\" target=\"_blank\" href=\"https://scikit-learn.org/1.7/modules/generated/sklearn.tree.DecisionTreeClassifier.html\">?<span>Documentation for DecisionTreeClassifier</span></a><span class=\"sk-estimator-doc-link fitted\">i<span>Fitted</span></span></div></label><div class=\"sk-toggleable__content fitted\" data-param-prefix=\"\">\n",
       "        <div class=\"estimator-table\">\n",
       "            <details>\n",
       "                <summary>Parameters</summary>\n",
       "                <table class=\"parameters-table\">\n",
       "                  <tbody>\n",
       "                    \n",
       "        <tr class=\"default\">\n",
       "            <td><i class=\"copy-paste-icon\"\n",
       "                 onclick=\"copyToClipboard('criterion',\n",
       "                          this.parentElement.nextElementSibling)\"\n",
       "            ></i></td>\n",
       "            <td class=\"param\">criterion&nbsp;</td>\n",
       "            <td class=\"value\">&#x27;gini&#x27;</td>\n",
       "        </tr>\n",
       "    \n",
       "\n",
       "        <tr class=\"default\">\n",
       "            <td><i class=\"copy-paste-icon\"\n",
       "                 onclick=\"copyToClipboard('splitter',\n",
       "                          this.parentElement.nextElementSibling)\"\n",
       "            ></i></td>\n",
       "            <td class=\"param\">splitter&nbsp;</td>\n",
       "            <td class=\"value\">&#x27;best&#x27;</td>\n",
       "        </tr>\n",
       "    \n",
       "\n",
       "        <tr class=\"user-set\">\n",
       "            <td><i class=\"copy-paste-icon\"\n",
       "                 onclick=\"copyToClipboard('max_depth',\n",
       "                          this.parentElement.nextElementSibling)\"\n",
       "            ></i></td>\n",
       "            <td class=\"param\">max_depth&nbsp;</td>\n",
       "            <td class=\"value\">15</td>\n",
       "        </tr>\n",
       "    \n",
       "\n",
       "        <tr class=\"default\">\n",
       "            <td><i class=\"copy-paste-icon\"\n",
       "                 onclick=\"copyToClipboard('min_samples_split',\n",
       "                          this.parentElement.nextElementSibling)\"\n",
       "            ></i></td>\n",
       "            <td class=\"param\">min_samples_split&nbsp;</td>\n",
       "            <td class=\"value\">2</td>\n",
       "        </tr>\n",
       "    \n",
       "\n",
       "        <tr class=\"default\">\n",
       "            <td><i class=\"copy-paste-icon\"\n",
       "                 onclick=\"copyToClipboard('min_samples_leaf',\n",
       "                          this.parentElement.nextElementSibling)\"\n",
       "            ></i></td>\n",
       "            <td class=\"param\">min_samples_leaf&nbsp;</td>\n",
       "            <td class=\"value\">1</td>\n",
       "        </tr>\n",
       "    \n",
       "\n",
       "        <tr class=\"default\">\n",
       "            <td><i class=\"copy-paste-icon\"\n",
       "                 onclick=\"copyToClipboard('min_weight_fraction_leaf',\n",
       "                          this.parentElement.nextElementSibling)\"\n",
       "            ></i></td>\n",
       "            <td class=\"param\">min_weight_fraction_leaf&nbsp;</td>\n",
       "            <td class=\"value\">0.0</td>\n",
       "        </tr>\n",
       "    \n",
       "\n",
       "        <tr class=\"default\">\n",
       "            <td><i class=\"copy-paste-icon\"\n",
       "                 onclick=\"copyToClipboard('max_features',\n",
       "                          this.parentElement.nextElementSibling)\"\n",
       "            ></i></td>\n",
       "            <td class=\"param\">max_features&nbsp;</td>\n",
       "            <td class=\"value\">None</td>\n",
       "        </tr>\n",
       "    \n",
       "\n",
       "        <tr class=\"default\">\n",
       "            <td><i class=\"copy-paste-icon\"\n",
       "                 onclick=\"copyToClipboard('random_state',\n",
       "                          this.parentElement.nextElementSibling)\"\n",
       "            ></i></td>\n",
       "            <td class=\"param\">random_state&nbsp;</td>\n",
       "            <td class=\"value\">None</td>\n",
       "        </tr>\n",
       "    \n",
       "\n",
       "        <tr class=\"default\">\n",
       "            <td><i class=\"copy-paste-icon\"\n",
       "                 onclick=\"copyToClipboard('max_leaf_nodes',\n",
       "                          this.parentElement.nextElementSibling)\"\n",
       "            ></i></td>\n",
       "            <td class=\"param\">max_leaf_nodes&nbsp;</td>\n",
       "            <td class=\"value\">None</td>\n",
       "        </tr>\n",
       "    \n",
       "\n",
       "        <tr class=\"default\">\n",
       "            <td><i class=\"copy-paste-icon\"\n",
       "                 onclick=\"copyToClipboard('min_impurity_decrease',\n",
       "                          this.parentElement.nextElementSibling)\"\n",
       "            ></i></td>\n",
       "            <td class=\"param\">min_impurity_decrease&nbsp;</td>\n",
       "            <td class=\"value\">0.0</td>\n",
       "        </tr>\n",
       "    \n",
       "\n",
       "        <tr class=\"default\">\n",
       "            <td><i class=\"copy-paste-icon\"\n",
       "                 onclick=\"copyToClipboard('class_weight',\n",
       "                          this.parentElement.nextElementSibling)\"\n",
       "            ></i></td>\n",
       "            <td class=\"param\">class_weight&nbsp;</td>\n",
       "            <td class=\"value\">None</td>\n",
       "        </tr>\n",
       "    \n",
       "\n",
       "        <tr class=\"default\">\n",
       "            <td><i class=\"copy-paste-icon\"\n",
       "                 onclick=\"copyToClipboard('ccp_alpha',\n",
       "                          this.parentElement.nextElementSibling)\"\n",
       "            ></i></td>\n",
       "            <td class=\"param\">ccp_alpha&nbsp;</td>\n",
       "            <td class=\"value\">0.0</td>\n",
       "        </tr>\n",
       "    \n",
       "\n",
       "        <tr class=\"default\">\n",
       "            <td><i class=\"copy-paste-icon\"\n",
       "                 onclick=\"copyToClipboard('monotonic_cst',\n",
       "                          this.parentElement.nextElementSibling)\"\n",
       "            ></i></td>\n",
       "            <td class=\"param\">monotonic_cst&nbsp;</td>\n",
       "            <td class=\"value\">None</td>\n",
       "        </tr>\n",
       "    \n",
       "                  </tbody>\n",
       "                </table>\n",
       "            </details>\n",
       "        </div>\n",
       "    </div></div></div></div></div><script>function copyToClipboard(text, element) {\n",
       "    // Get the parameter prefix from the closest toggleable content\n",
       "    const toggleableContent = element.closest('.sk-toggleable__content');\n",
       "    const paramPrefix = toggleableContent ? toggleableContent.dataset.paramPrefix : '';\n",
       "    const fullParamName = paramPrefix ? `${paramPrefix}${text}` : text;\n",
       "\n",
       "    const originalStyle = element.style;\n",
       "    const computedStyle = window.getComputedStyle(element);\n",
       "    const originalWidth = computedStyle.width;\n",
       "    const originalHTML = element.innerHTML.replace('Copied!', '');\n",
       "\n",
       "    navigator.clipboard.writeText(fullParamName)\n",
       "        .then(() => {\n",
       "            element.style.width = originalWidth;\n",
       "            element.style.color = 'green';\n",
       "            element.innerHTML = \"Copied!\";\n",
       "\n",
       "            setTimeout(() => {\n",
       "                element.innerHTML = originalHTML;\n",
       "                element.style = originalStyle;\n",
       "            }, 2000);\n",
       "        })\n",
       "        .catch(err => {\n",
       "            console.error('Failed to copy:', err);\n",
       "            element.style.color = 'red';\n",
       "            element.innerHTML = \"Failed!\";\n",
       "            setTimeout(() => {\n",
       "                element.innerHTML = originalHTML;\n",
       "                element.style = originalStyle;\n",
       "            }, 2000);\n",
       "        });\n",
       "    return false;\n",
       "}\n",
       "\n",
       "document.querySelectorAll('.fa-regular.fa-copy').forEach(function(element) {\n",
       "    const toggleableContent = element.closest('.sk-toggleable__content');\n",
       "    const paramPrefix = toggleableContent ? toggleableContent.dataset.paramPrefix : '';\n",
       "    const paramName = element.parentElement.nextElementSibling.textContent.trim();\n",
       "    const fullParamName = paramPrefix ? `${paramPrefix}${paramName}` : paramName;\n",
       "\n",
       "    element.setAttribute('title', fullParamName);\n",
       "});\n",
       "</script></body>"
      ]
     },
     "execution_count": 35,
     "metadata": {},
     "output_type": "execute_result"
    }
   ],
   "execution_count": 35
  },
  {
   "metadata": {
    "ExecuteTime": {
     "end_time": "2025-10-15T12:30:17.356283Z",
     "start_time": "2025-10-15T12:30:17.205774Z"
    }
   },
   "cell_type": "code",
   "source": [
    "seed = np.random.randint(0, 100000)\n",
    "x_train, x_test, y_train, y_test = skl.model_selection.train_test_split(data_x, data_y, test_size=0.2,\n",
    "                                                                        random_state=seed)\n",
    "print('seed', seed)\n",
    "model = skl.tree.DecisionTreeClassifier(max_depth=10)\n",
    "model.fit(x_train, y_train)\n",
    "print('Train', model.score(x_train, y_train))\n",
    "print('Test ', model.score(x_test, y_test))\n",
    "save_submission('DT', model)"
   ],
   "id": "7670fc373408a5a5",
   "outputs": [
    {
     "name": "stdout",
     "output_type": "stream",
     "text": [
      "seed 16462\n",
      "Train 0.9122002253339772\n",
      "Test  0.8738332796910203\n"
     ]
    }
   ],
   "execution_count": 56
  },
  {
   "metadata": {
    "ExecuteTime": {
     "end_time": "2025-10-15T12:29:58.486580Z",
     "start_time": "2025-10-15T12:29:58.480152Z"
    }
   },
   "cell_type": "code",
   "source": "",
   "id": "fdc3884a5259a68",
   "outputs": [],
   "execution_count": null
  },
  {
   "metadata": {
    "ExecuteTime": {
     "end_time": "2025-10-15T12:25:29.107155Z",
     "start_time": "2025-10-15T11:13:04.865366Z"
    }
   },
   "cell_type": "code",
   "source": "",
   "id": "42c42f72fcff5591",
   "outputs": [],
   "execution_count": null
  },
  {
   "metadata": {
    "ExecuteTime": {
     "end_time": "2025-10-15T12:25:29.110155500Z",
     "start_time": "2025-10-15T11:13:05.210585Z"
    }
   },
   "cell_type": "code",
   "source": "",
   "id": "ea532036a59a8d2d",
   "outputs": [],
   "execution_count": null
  },
  {
   "metadata": {
    "ExecuteTime": {
     "end_time": "2025-10-15T12:25:29.111152800Z",
     "start_time": "2025-10-15T11:14:08.838430Z"
    }
   },
   "cell_type": "code",
   "source": [
    "model = skl.ensemble.AdaBoostClassifier()\n",
    "model.fit(x_train, y_train)\n",
    "print(model.score(x_train, y_train))\n",
    "print(model.score(x_test, y_test))"
   ],
   "id": "eb659fedd93a69e4",
   "outputs": [
    {
     "name": "stdout",
     "output_type": "stream",
     "text": [
      "0.7741831643328505\n",
      "0.7698744769874477\n"
     ]
    }
   ],
   "execution_count": 222
  },
  {
   "metadata": {
    "ExecuteTime": {
     "end_time": "2025-10-15T12:25:29.116157200Z",
     "start_time": "2025-10-15T11:15:31.237737Z"
    }
   },
   "cell_type": "code",
   "source": [
    "model = skl.ensemble.AdaBoostClassifier(n_estimators=100, learning_rate=0.7)\n",
    "model.fit(x_train, y_train)\n",
    "print(model.score(x_train, y_train))\n",
    "print(model.score(x_test, y_test))"
   ],
   "id": "bdfbfb0bdefb7ed",
   "outputs": [
    {
     "name": "stdout",
     "output_type": "stream",
     "text": [
      "0.7995332367616288\n",
      "0.8023817186997103\n"
     ]
    }
   ],
   "execution_count": 232
  },
  {
   "metadata": {
    "ExecuteTime": {
     "end_time": "2025-10-15T12:25:29.117156400Z",
     "start_time": "2025-10-15T11:15:54.108502Z"
    }
   },
   "cell_type": "code",
   "source": [
    "model = skl.ensemble.RandomForestClassifier(n_estimators=100)\n",
    "model.fit(x_train, y_train)\n",
    "print(model.score(x_train, y_train))\n",
    "print(model.score(x_test, y_test))"
   ],
   "id": "9393fab6d1fa54b0",
   "outputs": [
    {
     "name": "stdout",
     "output_type": "stream",
     "text": [
      "1.0\n",
      "0.8934663662697135\n"
     ]
    }
   ],
   "execution_count": 233
  },
  {
   "metadata": {
    "ExecuteTime": {
     "end_time": "2025-10-15T12:47:04.918528Z",
     "start_time": "2025-10-15T12:47:02.293190Z"
    }
   },
   "cell_type": "code",
   "source": [
    "model = skl.ensemble.RandomForestClassifier(n_estimators=100, max_depth=10)\n",
    "model.fit(x_train, y_train)\n",
    "print('Train', model.score(x_train, y_train))\n",
    "print('Test ', model.score(x_test, y_test))\n",
    "save_submission('RF_100estim_10depth', model)"
   ],
   "id": "5ce26d4da257d909",
   "outputs": [
    {
     "name": "stdout",
     "output_type": "stream",
     "text": [
      "Train 0.9336069531627234\n",
      "Test  0.8950756356614097\n"
     ]
    }
   ],
   "execution_count": 45
  },
  {
   "metadata": {
    "ExecuteTime": {
     "end_time": "2025-10-15T13:05:16.739564Z",
     "start_time": "2025-10-15T13:02:25.230776Z"
    }
   },
   "cell_type": "code",
   "source": [
    "model = skl.ensemble.RandomForestClassifier(n_jobs=-1, random_state=16462)\n",
    "gs_model = skl.model_selection.GridSearchCV(model, {\n",
    "    'n_estimators': range(50, 150, 10),\n",
    "    'max_depth': range(5, 15),\n",
    "})\n",
    "gs_model.fit(x_train, y_train)\n",
    "print('Params', gs_model.best_params_)\n",
    "print('Train ', gs_model.score(x_train, y_train))\n",
    "print('Test  ', gs_model.score(x_test, y_test))\n",
    "save_submission('GS_RF', gs_model)\n",
    "chime.success()"
   ],
   "id": "bec9aebb8099a5da",
   "outputs": [],
   "execution_count": 56
  },
  {
   "metadata": {
    "ExecuteTime": {
     "end_time": "2025-10-15T13:49:02.261680Z",
     "start_time": "2025-10-15T13:44:17.327861Z"
    }
   },
   "cell_type": "code",
   "source": [
    "model = skl.ensemble.RandomForestClassifier(n_jobs=-1, random_state=16462)\n",
    "gs_model = skl.model_selection.GridSearchCV(model, {\n",
    "    'n_estimators': range(60, 100, 1),\n",
    "    'max_depth': range(10, 15),\n",
    "})\n",
    "gs_model.fit(x_train, y_train)\n",
    "print('Params', gs_model.best_params_)\n",
    "print('Train ', gs_model.score(x_train, y_train))\n",
    "print('Test  ', gs_model.score(x_test, y_test))\n",
    "save_submission('GS_RF', gs_model)\n",
    "chime.success()"
   ],
   "id": "eb818816b95db32f",
   "outputs": [
    {
     "name": "stdout",
     "output_type": "stream",
     "text": [
      "Params {'max_depth': 12, 'n_estimators': 80}\n",
      "Train  0.956623209399646\n",
      "Test   0.8966849050531059\n"
     ]
    }
   ],
   "execution_count": 77
  },
  {
   "metadata": {
    "ExecuteTime": {
     "end_time": "2025-10-15T13:43:22.721276Z",
     "start_time": "2025-10-15T13:20:55.661384Z"
    }
   },
   "cell_type": "code",
   "source": [
    "# model = skl.ensemble.RandomForestClassifier(class_weight=\"balanced\", n_jobs=-1, random_state=16462)\n",
    "# rfecv = skl.feature_selection.RFECV(estimator=model, step=1, cv=skl.model_selection.StratifiedKFold(10))\n",
    "# pipeline = skl.pipeline.Pipeline([('feature_selection', rfecv), ('classification', model)])\n",
    "# gs_model = skl.model_selection.GridSearchCV(pipeline, {\n",
    "#     'classification__n_estimators': range(60, 100, 2),\n",
    "#     'classification__max_depth': range(10, 15),\n",
    "# }, n_jobs=-1, verbose=2)\n",
    "# gs_model.fit(x_train, y_train)\n",
    "# print('Params', gs_model.best_params_)\n",
    "# print('Train ', gs_model.score(x_train, y_train))\n",
    "# print('Test  ', gs_model.score(x_test, y_test))\n",
    "# save_submission('GS_FE_RF', gs_model)\n",
    "# chime.success()"
   ],
   "id": "f0c2857f47e4c6e1",
   "outputs": [
    {
     "ename": "KeyboardInterrupt",
     "evalue": "",
     "output_type": "error",
     "traceback": [
      "\u001B[31m---------------------------------------------------------------------------\u001B[39m",
      "\u001B[31mKeyboardInterrupt\u001B[39m                         Traceback (most recent call last)",
      "\u001B[36mCell\u001B[39m\u001B[36m \u001B[39m\u001B[32mIn[75]\u001B[39m\u001B[32m, line 8\u001B[39m\n\u001B[32m      3\u001B[39m pipeline = skl.pipeline.Pipeline([(\u001B[33m'\u001B[39m\u001B[33mfeature_selection\u001B[39m\u001B[33m'\u001B[39m, rfecv), (\u001B[33m'\u001B[39m\u001B[33mclassification\u001B[39m\u001B[33m'\u001B[39m, model)])\n\u001B[32m      4\u001B[39m gs_model = skl.model_selection.GridSearchCV(pipeline, {\n\u001B[32m      5\u001B[39m     \u001B[33m'\u001B[39m\u001B[33mclassification__n_estimators\u001B[39m\u001B[33m'\u001B[39m: \u001B[38;5;28mrange\u001B[39m(\u001B[32m60\u001B[39m, \u001B[32m100\u001B[39m, \u001B[32m2\u001B[39m),\n\u001B[32m      6\u001B[39m     \u001B[33m'\u001B[39m\u001B[33mclassification__max_depth\u001B[39m\u001B[33m'\u001B[39m: \u001B[38;5;28mrange\u001B[39m(\u001B[32m10\u001B[39m, \u001B[32m15\u001B[39m),\n\u001B[32m      7\u001B[39m })\n\u001B[32m----> \u001B[39m\u001B[32m8\u001B[39m gs_model.fit(x_train, y_train)\n\u001B[32m      9\u001B[39m \u001B[38;5;28mprint\u001B[39m(\u001B[33m'\u001B[39m\u001B[33mParams\u001B[39m\u001B[33m'\u001B[39m, gs_model.best_params_)\n\u001B[32m     10\u001B[39m \u001B[38;5;28mprint\u001B[39m(\u001B[33m'\u001B[39m\u001B[33mTrain \u001B[39m\u001B[33m'\u001B[39m, gs_model.score(x_train, y_train))\n",
      "\u001B[36mFile \u001B[39m\u001B[32m~\\.conda\\envs\\pyt\\Lib\\site-packages\\sklearn\\base.py:1365\u001B[39m, in \u001B[36m_fit_context.<locals>.decorator.<locals>.wrapper\u001B[39m\u001B[34m(estimator, *args, **kwargs)\u001B[39m\n\u001B[32m   1358\u001B[39m     estimator._validate_params()\n\u001B[32m   1360\u001B[39m \u001B[38;5;28;01mwith\u001B[39;00m config_context(\n\u001B[32m   1361\u001B[39m     skip_parameter_validation=(\n\u001B[32m   1362\u001B[39m         prefer_skip_nested_validation \u001B[38;5;129;01mor\u001B[39;00m global_skip_validation\n\u001B[32m   1363\u001B[39m     )\n\u001B[32m   1364\u001B[39m ):\n\u001B[32m-> \u001B[39m\u001B[32m1365\u001B[39m     \u001B[38;5;28;01mreturn\u001B[39;00m fit_method(estimator, *args, **kwargs)\n",
      "\u001B[36mFile \u001B[39m\u001B[32m~\\.conda\\envs\\pyt\\Lib\\site-packages\\sklearn\\model_selection\\_search.py:1051\u001B[39m, in \u001B[36mBaseSearchCV.fit\u001B[39m\u001B[34m(self, X, y, **params)\u001B[39m\n\u001B[32m   1045\u001B[39m     results = \u001B[38;5;28mself\u001B[39m._format_results(\n\u001B[32m   1046\u001B[39m         all_candidate_params, n_splits, all_out, all_more_results\n\u001B[32m   1047\u001B[39m     )\n\u001B[32m   1049\u001B[39m     \u001B[38;5;28;01mreturn\u001B[39;00m results\n\u001B[32m-> \u001B[39m\u001B[32m1051\u001B[39m \u001B[38;5;28mself\u001B[39m._run_search(evaluate_candidates)\n\u001B[32m   1053\u001B[39m \u001B[38;5;66;03m# multimetric is determined here because in the case of a callable\u001B[39;00m\n\u001B[32m   1054\u001B[39m \u001B[38;5;66;03m# self.scoring the return type is only known after calling\u001B[39;00m\n\u001B[32m   1055\u001B[39m first_test_score = all_out[\u001B[32m0\u001B[39m][\u001B[33m\"\u001B[39m\u001B[33mtest_scores\u001B[39m\u001B[33m\"\u001B[39m]\n",
      "\u001B[36mFile \u001B[39m\u001B[32m~\\.conda\\envs\\pyt\\Lib\\site-packages\\sklearn\\model_selection\\_search.py:1605\u001B[39m, in \u001B[36mGridSearchCV._run_search\u001B[39m\u001B[34m(self, evaluate_candidates)\u001B[39m\n\u001B[32m   1603\u001B[39m \u001B[38;5;28;01mdef\u001B[39;00m\u001B[38;5;250m \u001B[39m\u001B[34m_run_search\u001B[39m(\u001B[38;5;28mself\u001B[39m, evaluate_candidates):\n\u001B[32m   1604\u001B[39m \u001B[38;5;250m    \u001B[39m\u001B[33;03m\"\"\"Search all candidates in param_grid\"\"\"\u001B[39;00m\n\u001B[32m-> \u001B[39m\u001B[32m1605\u001B[39m     evaluate_candidates(ParameterGrid(\u001B[38;5;28mself\u001B[39m.param_grid))\n",
      "\u001B[36mFile \u001B[39m\u001B[32m~\\.conda\\envs\\pyt\\Lib\\site-packages\\sklearn\\model_selection\\_search.py:997\u001B[39m, in \u001B[36mBaseSearchCV.fit.<locals>.evaluate_candidates\u001B[39m\u001B[34m(candidate_params, cv, more_results)\u001B[39m\n\u001B[32m    989\u001B[39m \u001B[38;5;28;01mif\u001B[39;00m \u001B[38;5;28mself\u001B[39m.verbose > \u001B[32m0\u001B[39m:\n\u001B[32m    990\u001B[39m     \u001B[38;5;28mprint\u001B[39m(\n\u001B[32m    991\u001B[39m         \u001B[33m\"\u001B[39m\u001B[33mFitting \u001B[39m\u001B[38;5;132;01m{0}\u001B[39;00m\u001B[33m folds for each of \u001B[39m\u001B[38;5;132;01m{1}\u001B[39;00m\u001B[33m candidates,\u001B[39m\u001B[33m\"\u001B[39m\n\u001B[32m    992\u001B[39m         \u001B[33m\"\u001B[39m\u001B[33m totalling \u001B[39m\u001B[38;5;132;01m{2}\u001B[39;00m\u001B[33m fits\u001B[39m\u001B[33m\"\u001B[39m.format(\n\u001B[32m    993\u001B[39m             n_splits, n_candidates, n_candidates * n_splits\n\u001B[32m    994\u001B[39m         )\n\u001B[32m    995\u001B[39m     )\n\u001B[32m--> \u001B[39m\u001B[32m997\u001B[39m out = parallel(\n\u001B[32m    998\u001B[39m     delayed(_fit_and_score)(\n\u001B[32m    999\u001B[39m         clone(base_estimator),\n\u001B[32m   1000\u001B[39m         X,\n\u001B[32m   1001\u001B[39m         y,\n\u001B[32m   1002\u001B[39m         train=train,\n\u001B[32m   1003\u001B[39m         test=test,\n\u001B[32m   1004\u001B[39m         parameters=parameters,\n\u001B[32m   1005\u001B[39m         split_progress=(split_idx, n_splits),\n\u001B[32m   1006\u001B[39m         candidate_progress=(cand_idx, n_candidates),\n\u001B[32m   1007\u001B[39m         **fit_and_score_kwargs,\n\u001B[32m   1008\u001B[39m     )\n\u001B[32m   1009\u001B[39m     \u001B[38;5;28;01mfor\u001B[39;00m (cand_idx, parameters), (split_idx, (train, test)) \u001B[38;5;129;01min\u001B[39;00m product(\n\u001B[32m   1010\u001B[39m         \u001B[38;5;28menumerate\u001B[39m(candidate_params),\n\u001B[32m   1011\u001B[39m         \u001B[38;5;28menumerate\u001B[39m(cv.split(X, y, **routed_params.splitter.split)),\n\u001B[32m   1012\u001B[39m     )\n\u001B[32m   1013\u001B[39m )\n\u001B[32m   1015\u001B[39m \u001B[38;5;28;01mif\u001B[39;00m \u001B[38;5;28mlen\u001B[39m(out) < \u001B[32m1\u001B[39m:\n\u001B[32m   1016\u001B[39m     \u001B[38;5;28;01mraise\u001B[39;00m \u001B[38;5;167;01mValueError\u001B[39;00m(\n\u001B[32m   1017\u001B[39m         \u001B[33m\"\u001B[39m\u001B[33mNo fits were performed. \u001B[39m\u001B[33m\"\u001B[39m\n\u001B[32m   1018\u001B[39m         \u001B[33m\"\u001B[39m\u001B[33mWas the CV iterator empty? \u001B[39m\u001B[33m\"\u001B[39m\n\u001B[32m   1019\u001B[39m         \u001B[33m\"\u001B[39m\u001B[33mWere there no candidates?\u001B[39m\u001B[33m\"\u001B[39m\n\u001B[32m   1020\u001B[39m     )\n",
      "\u001B[36mFile \u001B[39m\u001B[32m~\\.conda\\envs\\pyt\\Lib\\site-packages\\sklearn\\utils\\parallel.py:82\u001B[39m, in \u001B[36mParallel.__call__\u001B[39m\u001B[34m(self, iterable)\u001B[39m\n\u001B[32m     73\u001B[39m warning_filters = warnings.filters\n\u001B[32m     74\u001B[39m iterable_with_config_and_warning_filters = (\n\u001B[32m     75\u001B[39m     (\n\u001B[32m     76\u001B[39m         _with_config_and_warning_filters(delayed_func, config, warning_filters),\n\u001B[32m   (...)\u001B[39m\u001B[32m     80\u001B[39m     \u001B[38;5;28;01mfor\u001B[39;00m delayed_func, args, kwargs \u001B[38;5;129;01min\u001B[39;00m iterable\n\u001B[32m     81\u001B[39m )\n\u001B[32m---> \u001B[39m\u001B[32m82\u001B[39m \u001B[38;5;28;01mreturn\u001B[39;00m \u001B[38;5;28msuper\u001B[39m().\u001B[34m__call__\u001B[39m(iterable_with_config_and_warning_filters)\n",
      "\u001B[36mFile \u001B[39m\u001B[32m~\\.conda\\envs\\pyt\\Lib\\site-packages\\joblib\\parallel.py:1986\u001B[39m, in \u001B[36mParallel.__call__\u001B[39m\u001B[34m(self, iterable)\u001B[39m\n\u001B[32m   1984\u001B[39m     output = \u001B[38;5;28mself\u001B[39m._get_sequential_output(iterable)\n\u001B[32m   1985\u001B[39m     \u001B[38;5;28mnext\u001B[39m(output)\n\u001B[32m-> \u001B[39m\u001B[32m1986\u001B[39m     \u001B[38;5;28;01mreturn\u001B[39;00m output \u001B[38;5;28;01mif\u001B[39;00m \u001B[38;5;28mself\u001B[39m.return_generator \u001B[38;5;28;01melse\u001B[39;00m \u001B[38;5;28mlist\u001B[39m(output)\n\u001B[32m   1988\u001B[39m \u001B[38;5;66;03m# Let's create an ID that uniquely identifies the current call. If the\u001B[39;00m\n\u001B[32m   1989\u001B[39m \u001B[38;5;66;03m# call is interrupted early and that the same instance is immediately\u001B[39;00m\n\u001B[32m   1990\u001B[39m \u001B[38;5;66;03m# reused, this id will be used to prevent workers that were\u001B[39;00m\n\u001B[32m   1991\u001B[39m \u001B[38;5;66;03m# concurrently finalizing a task from the previous call to run the\u001B[39;00m\n\u001B[32m   1992\u001B[39m \u001B[38;5;66;03m# callback.\u001B[39;00m\n\u001B[32m   1993\u001B[39m \u001B[38;5;28;01mwith\u001B[39;00m \u001B[38;5;28mself\u001B[39m._lock:\n",
      "\u001B[36mFile \u001B[39m\u001B[32m~\\.conda\\envs\\pyt\\Lib\\site-packages\\joblib\\parallel.py:1914\u001B[39m, in \u001B[36mParallel._get_sequential_output\u001B[39m\u001B[34m(self, iterable)\u001B[39m\n\u001B[32m   1912\u001B[39m \u001B[38;5;28mself\u001B[39m.n_dispatched_batches += \u001B[32m1\u001B[39m\n\u001B[32m   1913\u001B[39m \u001B[38;5;28mself\u001B[39m.n_dispatched_tasks += \u001B[32m1\u001B[39m\n\u001B[32m-> \u001B[39m\u001B[32m1914\u001B[39m res = func(*args, **kwargs)\n\u001B[32m   1915\u001B[39m \u001B[38;5;28mself\u001B[39m.n_completed_tasks += \u001B[32m1\u001B[39m\n\u001B[32m   1916\u001B[39m \u001B[38;5;28mself\u001B[39m.print_progress()\n",
      "\u001B[36mFile \u001B[39m\u001B[32m~\\.conda\\envs\\pyt\\Lib\\site-packages\\sklearn\\utils\\parallel.py:147\u001B[39m, in \u001B[36m_FuncWrapper.__call__\u001B[39m\u001B[34m(self, *args, **kwargs)\u001B[39m\n\u001B[32m    145\u001B[39m \u001B[38;5;28;01mwith\u001B[39;00m config_context(**config), warnings.catch_warnings():\n\u001B[32m    146\u001B[39m     warnings.filters = warning_filters\n\u001B[32m--> \u001B[39m\u001B[32m147\u001B[39m     \u001B[38;5;28;01mreturn\u001B[39;00m \u001B[38;5;28mself\u001B[39m.function(*args, **kwargs)\n",
      "\u001B[36mFile \u001B[39m\u001B[32m~\\.conda\\envs\\pyt\\Lib\\site-packages\\sklearn\\model_selection\\_validation.py:859\u001B[39m, in \u001B[36m_fit_and_score\u001B[39m\u001B[34m(estimator, X, y, scorer, train, test, verbose, parameters, fit_params, score_params, return_train_score, return_parameters, return_n_test_samples, return_times, return_estimator, split_progress, candidate_progress, error_score)\u001B[39m\n\u001B[32m    857\u001B[39m         estimator.fit(X_train, **fit_params)\n\u001B[32m    858\u001B[39m     \u001B[38;5;28;01melse\u001B[39;00m:\n\u001B[32m--> \u001B[39m\u001B[32m859\u001B[39m         estimator.fit(X_train, y_train, **fit_params)\n\u001B[32m    861\u001B[39m \u001B[38;5;28;01mexcept\u001B[39;00m \u001B[38;5;167;01mException\u001B[39;00m:\n\u001B[32m    862\u001B[39m     \u001B[38;5;66;03m# Note fit time as time until error\u001B[39;00m\n\u001B[32m    863\u001B[39m     fit_time = time.time() - start_time\n",
      "\u001B[36mFile \u001B[39m\u001B[32m~\\.conda\\envs\\pyt\\Lib\\site-packages\\sklearn\\base.py:1365\u001B[39m, in \u001B[36m_fit_context.<locals>.decorator.<locals>.wrapper\u001B[39m\u001B[34m(estimator, *args, **kwargs)\u001B[39m\n\u001B[32m   1358\u001B[39m     estimator._validate_params()\n\u001B[32m   1360\u001B[39m \u001B[38;5;28;01mwith\u001B[39;00m config_context(\n\u001B[32m   1361\u001B[39m     skip_parameter_validation=(\n\u001B[32m   1362\u001B[39m         prefer_skip_nested_validation \u001B[38;5;129;01mor\u001B[39;00m global_skip_validation\n\u001B[32m   1363\u001B[39m     )\n\u001B[32m   1364\u001B[39m ):\n\u001B[32m-> \u001B[39m\u001B[32m1365\u001B[39m     \u001B[38;5;28;01mreturn\u001B[39;00m fit_method(estimator, *args, **kwargs)\n",
      "\u001B[36mFile \u001B[39m\u001B[32m~\\.conda\\envs\\pyt\\Lib\\site-packages\\sklearn\\pipeline.py:655\u001B[39m, in \u001B[36mPipeline.fit\u001B[39m\u001B[34m(self, X, y, **params)\u001B[39m\n\u001B[32m    648\u001B[39m     \u001B[38;5;28;01mraise\u001B[39;00m \u001B[38;5;167;01mValueError\u001B[39;00m(\n\u001B[32m    649\u001B[39m         \u001B[33m\"\u001B[39m\u001B[33mThe `transform_input` parameter can only be set if metadata \u001B[39m\u001B[33m\"\u001B[39m\n\u001B[32m    650\u001B[39m         \u001B[33m\"\u001B[39m\u001B[33mrouting is enabled. You can enable metadata routing using \u001B[39m\u001B[33m\"\u001B[39m\n\u001B[32m    651\u001B[39m         \u001B[33m\"\u001B[39m\u001B[33m`sklearn.set_config(enable_metadata_routing=True)`.\u001B[39m\u001B[33m\"\u001B[39m\n\u001B[32m    652\u001B[39m     )\n\u001B[32m    654\u001B[39m routed_params = \u001B[38;5;28mself\u001B[39m._check_method_params(method=\u001B[33m\"\u001B[39m\u001B[33mfit\u001B[39m\u001B[33m\"\u001B[39m, props=params)\n\u001B[32m--> \u001B[39m\u001B[32m655\u001B[39m Xt = \u001B[38;5;28mself\u001B[39m._fit(X, y, routed_params, raw_params=params)\n\u001B[32m    656\u001B[39m \u001B[38;5;28;01mwith\u001B[39;00m _print_elapsed_time(\u001B[33m\"\u001B[39m\u001B[33mPipeline\u001B[39m\u001B[33m\"\u001B[39m, \u001B[38;5;28mself\u001B[39m._log_message(\u001B[38;5;28mlen\u001B[39m(\u001B[38;5;28mself\u001B[39m.steps) - \u001B[32m1\u001B[39m)):\n\u001B[32m    657\u001B[39m     \u001B[38;5;28;01mif\u001B[39;00m \u001B[38;5;28mself\u001B[39m._final_estimator != \u001B[33m\"\u001B[39m\u001B[33mpassthrough\u001B[39m\u001B[33m\"\u001B[39m:\n",
      "\u001B[36mFile \u001B[39m\u001B[32m~\\.conda\\envs\\pyt\\Lib\\site-packages\\sklearn\\pipeline.py:589\u001B[39m, in \u001B[36mPipeline._fit\u001B[39m\u001B[34m(self, X, y, routed_params, raw_params)\u001B[39m\n\u001B[32m    582\u001B[39m \u001B[38;5;66;03m# Fit or load from cache the current transformer\u001B[39;00m\n\u001B[32m    583\u001B[39m step_params = \u001B[38;5;28mself\u001B[39m._get_metadata_for_step(\n\u001B[32m    584\u001B[39m     step_idx=step_idx,\n\u001B[32m    585\u001B[39m     step_params=routed_params[name],\n\u001B[32m    586\u001B[39m     all_params=raw_params,\n\u001B[32m    587\u001B[39m )\n\u001B[32m--> \u001B[39m\u001B[32m589\u001B[39m X, fitted_transformer = fit_transform_one_cached(\n\u001B[32m    590\u001B[39m     cloned_transformer,\n\u001B[32m    591\u001B[39m     X,\n\u001B[32m    592\u001B[39m     y,\n\u001B[32m    593\u001B[39m     weight=\u001B[38;5;28;01mNone\u001B[39;00m,\n\u001B[32m    594\u001B[39m     message_clsname=\u001B[33m\"\u001B[39m\u001B[33mPipeline\u001B[39m\u001B[33m\"\u001B[39m,\n\u001B[32m    595\u001B[39m     message=\u001B[38;5;28mself\u001B[39m._log_message(step_idx),\n\u001B[32m    596\u001B[39m     params=step_params,\n\u001B[32m    597\u001B[39m )\n\u001B[32m    598\u001B[39m \u001B[38;5;66;03m# Replace the transformer of the step with the fitted\u001B[39;00m\n\u001B[32m    599\u001B[39m \u001B[38;5;66;03m# transformer. This is necessary when loading the transformer\u001B[39;00m\n\u001B[32m    600\u001B[39m \u001B[38;5;66;03m# from the cache.\u001B[39;00m\n\u001B[32m    601\u001B[39m \u001B[38;5;28mself\u001B[39m.steps[step_idx] = (name, fitted_transformer)\n",
      "\u001B[36mFile \u001B[39m\u001B[32m~\\.conda\\envs\\pyt\\Lib\\site-packages\\joblib\\memory.py:326\u001B[39m, in \u001B[36mNotMemorizedFunc.__call__\u001B[39m\u001B[34m(self, *args, **kwargs)\u001B[39m\n\u001B[32m    325\u001B[39m \u001B[38;5;28;01mdef\u001B[39;00m\u001B[38;5;250m \u001B[39m\u001B[34m__call__\u001B[39m(\u001B[38;5;28mself\u001B[39m, *args, **kwargs):\n\u001B[32m--> \u001B[39m\u001B[32m326\u001B[39m     \u001B[38;5;28;01mreturn\u001B[39;00m \u001B[38;5;28mself\u001B[39m.func(*args, **kwargs)\n",
      "\u001B[36mFile \u001B[39m\u001B[32m~\\.conda\\envs\\pyt\\Lib\\site-packages\\sklearn\\pipeline.py:1540\u001B[39m, in \u001B[36m_fit_transform_one\u001B[39m\u001B[34m(transformer, X, y, weight, message_clsname, message, params)\u001B[39m\n\u001B[32m   1538\u001B[39m \u001B[38;5;28;01mwith\u001B[39;00m _print_elapsed_time(message_clsname, message):\n\u001B[32m   1539\u001B[39m     \u001B[38;5;28;01mif\u001B[39;00m \u001B[38;5;28mhasattr\u001B[39m(transformer, \u001B[33m\"\u001B[39m\u001B[33mfit_transform\u001B[39m\u001B[33m\"\u001B[39m):\n\u001B[32m-> \u001B[39m\u001B[32m1540\u001B[39m         res = transformer.fit_transform(X, y, **params.get(\u001B[33m\"\u001B[39m\u001B[33mfit_transform\u001B[39m\u001B[33m\"\u001B[39m, {}))\n\u001B[32m   1541\u001B[39m     \u001B[38;5;28;01melse\u001B[39;00m:\n\u001B[32m   1542\u001B[39m         res = transformer.fit(X, y, **params.get(\u001B[33m\"\u001B[39m\u001B[33mfit\u001B[39m\u001B[33m\"\u001B[39m, {})).transform(\n\u001B[32m   1543\u001B[39m             X, **params.get(\u001B[33m\"\u001B[39m\u001B[33mtransform\u001B[39m\u001B[33m\"\u001B[39m, {})\n\u001B[32m   1544\u001B[39m         )\n",
      "\u001B[36mFile \u001B[39m\u001B[32m~\\.conda\\envs\\pyt\\Lib\\site-packages\\sklearn\\utils\\_set_output.py:316\u001B[39m, in \u001B[36m_wrap_method_output.<locals>.wrapped\u001B[39m\u001B[34m(self, X, *args, **kwargs)\u001B[39m\n\u001B[32m    314\u001B[39m \u001B[38;5;129m@wraps\u001B[39m(f)\n\u001B[32m    315\u001B[39m \u001B[38;5;28;01mdef\u001B[39;00m\u001B[38;5;250m \u001B[39m\u001B[34mwrapped\u001B[39m(\u001B[38;5;28mself\u001B[39m, X, *args, **kwargs):\n\u001B[32m--> \u001B[39m\u001B[32m316\u001B[39m     data_to_wrap = f(\u001B[38;5;28mself\u001B[39m, X, *args, **kwargs)\n\u001B[32m    317\u001B[39m     \u001B[38;5;28;01mif\u001B[39;00m \u001B[38;5;28misinstance\u001B[39m(data_to_wrap, \u001B[38;5;28mtuple\u001B[39m):\n\u001B[32m    318\u001B[39m         \u001B[38;5;66;03m# only wrap the first output for cross decomposition\u001B[39;00m\n\u001B[32m    319\u001B[39m         return_tuple = (\n\u001B[32m    320\u001B[39m             _wrap_data_with_container(method, data_to_wrap[\u001B[32m0\u001B[39m], X, \u001B[38;5;28mself\u001B[39m),\n\u001B[32m    321\u001B[39m             *data_to_wrap[\u001B[32m1\u001B[39m:],\n\u001B[32m    322\u001B[39m         )\n",
      "\u001B[36mFile \u001B[39m\u001B[32m~\\.conda\\envs\\pyt\\Lib\\site-packages\\sklearn\\base.py:897\u001B[39m, in \u001B[36mTransformerMixin.fit_transform\u001B[39m\u001B[34m(self, X, y, **fit_params)\u001B[39m\n\u001B[32m    894\u001B[39m     \u001B[38;5;28;01mreturn\u001B[39;00m \u001B[38;5;28mself\u001B[39m.fit(X, **fit_params).transform(X)\n\u001B[32m    895\u001B[39m \u001B[38;5;28;01melse\u001B[39;00m:\n\u001B[32m    896\u001B[39m     \u001B[38;5;66;03m# fit method of arity 2 (supervised transformation)\u001B[39;00m\n\u001B[32m--> \u001B[39m\u001B[32m897\u001B[39m     \u001B[38;5;28;01mreturn\u001B[39;00m \u001B[38;5;28mself\u001B[39m.fit(X, y, **fit_params).transform(X)\n",
      "\u001B[36mFile \u001B[39m\u001B[32m~\\.conda\\envs\\pyt\\Lib\\site-packages\\sklearn\\utils\\validation.py:63\u001B[39m, in \u001B[36m_deprecate_positional_args.<locals>._inner_deprecate_positional_args.<locals>.inner_f\u001B[39m\u001B[34m(*args, **kwargs)\u001B[39m\n\u001B[32m     61\u001B[39m extra_args = \u001B[38;5;28mlen\u001B[39m(args) - \u001B[38;5;28mlen\u001B[39m(all_args)\n\u001B[32m     62\u001B[39m \u001B[38;5;28;01mif\u001B[39;00m extra_args <= \u001B[32m0\u001B[39m:\n\u001B[32m---> \u001B[39m\u001B[32m63\u001B[39m     \u001B[38;5;28;01mreturn\u001B[39;00m f(*args, **kwargs)\n\u001B[32m     65\u001B[39m \u001B[38;5;66;03m# extra_args > 0\u001B[39;00m\n\u001B[32m     66\u001B[39m args_msg = [\n\u001B[32m     67\u001B[39m     \u001B[33m\"\u001B[39m\u001B[38;5;132;01m{}\u001B[39;00m\u001B[33m=\u001B[39m\u001B[38;5;132;01m{}\u001B[39;00m\u001B[33m\"\u001B[39m.format(name, arg)\n\u001B[32m     68\u001B[39m     \u001B[38;5;28;01mfor\u001B[39;00m name, arg \u001B[38;5;129;01min\u001B[39;00m \u001B[38;5;28mzip\u001B[39m(kwonly_args[:extra_args], args[-extra_args:])\n\u001B[32m     69\u001B[39m ]\n",
      "\u001B[36mFile \u001B[39m\u001B[32m~\\.conda\\envs\\pyt\\Lib\\site-packages\\sklearn\\base.py:1365\u001B[39m, in \u001B[36m_fit_context.<locals>.decorator.<locals>.wrapper\u001B[39m\u001B[34m(estimator, *args, **kwargs)\u001B[39m\n\u001B[32m   1358\u001B[39m     estimator._validate_params()\n\u001B[32m   1360\u001B[39m \u001B[38;5;28;01mwith\u001B[39;00m config_context(\n\u001B[32m   1361\u001B[39m     skip_parameter_validation=(\n\u001B[32m   1362\u001B[39m         prefer_skip_nested_validation \u001B[38;5;129;01mor\u001B[39;00m global_skip_validation\n\u001B[32m   1363\u001B[39m     )\n\u001B[32m   1364\u001B[39m ):\n\u001B[32m-> \u001B[39m\u001B[32m1365\u001B[39m     \u001B[38;5;28;01mreturn\u001B[39;00m fit_method(estimator, *args, **kwargs)\n",
      "\u001B[36mFile \u001B[39m\u001B[32m~\\.conda\\envs\\pyt\\Lib\\site-packages\\sklearn\\feature_selection\\_rfe.py:902\u001B[39m, in \u001B[36mRFECV.fit\u001B[39m\u001B[34m(self, X, y, groups, **params)\u001B[39m\n\u001B[32m    899\u001B[39m     parallel = Parallel(n_jobs=\u001B[38;5;28mself\u001B[39m.n_jobs)\n\u001B[32m    900\u001B[39m     func = delayed(_rfe_single_fit)\n\u001B[32m--> \u001B[39m\u001B[32m902\u001B[39m step_results = parallel(\n\u001B[32m    903\u001B[39m     func(clone(rfe), \u001B[38;5;28mself\u001B[39m.estimator, X, y, train, test, scorer, routed_params)\n\u001B[32m    904\u001B[39m     \u001B[38;5;28;01mfor\u001B[39;00m train, test \u001B[38;5;129;01min\u001B[39;00m cv.split(X, y, **routed_params.splitter.split)\n\u001B[32m    905\u001B[39m )\n\u001B[32m    906\u001B[39m scores, supports, rankings, step_n_features = \u001B[38;5;28mzip\u001B[39m(*step_results)\n\u001B[32m    908\u001B[39m step_n_features_rev = np.array(step_n_features[\u001B[32m0\u001B[39m])[::-\u001B[32m1\u001B[39m]\n",
      "\u001B[36mFile \u001B[39m\u001B[32m~\\.conda\\envs\\pyt\\Lib\\site-packages\\sklearn\\feature_selection\\_rfe.py:903\u001B[39m, in \u001B[36m<genexpr>\u001B[39m\u001B[34m(.0)\u001B[39m\n\u001B[32m    899\u001B[39m     parallel = Parallel(n_jobs=\u001B[38;5;28mself\u001B[39m.n_jobs)\n\u001B[32m    900\u001B[39m     func = delayed(_rfe_single_fit)\n\u001B[32m    902\u001B[39m step_results = parallel(\n\u001B[32m--> \u001B[39m\u001B[32m903\u001B[39m     func(clone(rfe), \u001B[38;5;28mself\u001B[39m.estimator, X, y, train, test, scorer, routed_params)\n\u001B[32m    904\u001B[39m     \u001B[38;5;28;01mfor\u001B[39;00m train, test \u001B[38;5;129;01min\u001B[39;00m cv.split(X, y, **routed_params.splitter.split)\n\u001B[32m    905\u001B[39m )\n\u001B[32m    906\u001B[39m scores, supports, rankings, step_n_features = \u001B[38;5;28mzip\u001B[39m(*step_results)\n\u001B[32m    908\u001B[39m step_n_features_rev = np.array(step_n_features[\u001B[32m0\u001B[39m])[::-\u001B[32m1\u001B[39m]\n",
      "\u001B[36mFile \u001B[39m\u001B[32m~\\.conda\\envs\\pyt\\Lib\\site-packages\\sklearn\\feature_selection\\_rfe.py:52\u001B[39m, in \u001B[36m_rfe_single_fit\u001B[39m\u001B[34m(rfe, estimator, X, y, train, test, scorer, routed_params)\u001B[39m\n\u001B[32m     45\u001B[39m fit_params = _check_method_params(\n\u001B[32m     46\u001B[39m     X, params=routed_params.estimator.fit, indices=train\n\u001B[32m     47\u001B[39m )\n\u001B[32m     48\u001B[39m score_params = _check_method_params(\n\u001B[32m     49\u001B[39m     X=X, params=routed_params.scorer.score, indices=test\n\u001B[32m     50\u001B[39m )\n\u001B[32m---> \u001B[39m\u001B[32m52\u001B[39m rfe._fit(\n\u001B[32m     53\u001B[39m     X_train,\n\u001B[32m     54\u001B[39m     y_train,\n\u001B[32m     55\u001B[39m     \u001B[38;5;28;01mlambda\u001B[39;00m estimator, features: _score(\n\u001B[32m     56\u001B[39m         estimator,\n\u001B[32m     57\u001B[39m         X_test[:, features],\n\u001B[32m     58\u001B[39m         y_test,\n\u001B[32m     59\u001B[39m         scorer,\n\u001B[32m     60\u001B[39m         score_params=score_params,\n\u001B[32m     61\u001B[39m     ),\n\u001B[32m     62\u001B[39m     **fit_params,\n\u001B[32m     63\u001B[39m )\n\u001B[32m     65\u001B[39m \u001B[38;5;28;01mreturn\u001B[39;00m rfe.step_scores_, rfe.step_support_, rfe.step_ranking_, rfe.step_n_features_\n",
      "\u001B[36mFile \u001B[39m\u001B[32m~\\.conda\\envs\\pyt\\Lib\\site-packages\\sklearn\\feature_selection\\_rfe.py:334\u001B[39m, in \u001B[36mRFE._fit\u001B[39m\u001B[34m(self, X, y, step_score, **fit_params)\u001B[39m\n\u001B[32m    331\u001B[39m \u001B[38;5;28;01mif\u001B[39;00m \u001B[38;5;28mself\u001B[39m.verbose > \u001B[32m0\u001B[39m:\n\u001B[32m    332\u001B[39m     \u001B[38;5;28mprint\u001B[39m(\u001B[33m\"\u001B[39m\u001B[33mFitting estimator with \u001B[39m\u001B[38;5;132;01m%d\u001B[39;00m\u001B[33m features.\u001B[39m\u001B[33m\"\u001B[39m % np.sum(support_))\n\u001B[32m--> \u001B[39m\u001B[32m334\u001B[39m estimator.fit(X[:, features], y, **fit_params)\n\u001B[32m    336\u001B[39m \u001B[38;5;66;03m# Compute step values on the previous selection iteration because\u001B[39;00m\n\u001B[32m    337\u001B[39m \u001B[38;5;66;03m# 'estimator' must use features that have not been eliminated yet\u001B[39;00m\n\u001B[32m    338\u001B[39m \u001B[38;5;28;01mif\u001B[39;00m step_score:\n",
      "\u001B[36mFile \u001B[39m\u001B[32m~\\.conda\\envs\\pyt\\Lib\\site-packages\\sklearn\\base.py:1365\u001B[39m, in \u001B[36m_fit_context.<locals>.decorator.<locals>.wrapper\u001B[39m\u001B[34m(estimator, *args, **kwargs)\u001B[39m\n\u001B[32m   1358\u001B[39m     estimator._validate_params()\n\u001B[32m   1360\u001B[39m \u001B[38;5;28;01mwith\u001B[39;00m config_context(\n\u001B[32m   1361\u001B[39m     skip_parameter_validation=(\n\u001B[32m   1362\u001B[39m         prefer_skip_nested_validation \u001B[38;5;129;01mor\u001B[39;00m global_skip_validation\n\u001B[32m   1363\u001B[39m     )\n\u001B[32m   1364\u001B[39m ):\n\u001B[32m-> \u001B[39m\u001B[32m1365\u001B[39m     \u001B[38;5;28;01mreturn\u001B[39;00m fit_method(estimator, *args, **kwargs)\n",
      "\u001B[36mFile \u001B[39m\u001B[32m~\\.conda\\envs\\pyt\\Lib\\site-packages\\sklearn\\ensemble\\_forest.py:486\u001B[39m, in \u001B[36mBaseForest.fit\u001B[39m\u001B[34m(self, X, y, sample_weight)\u001B[39m\n\u001B[32m    475\u001B[39m trees = [\n\u001B[32m    476\u001B[39m     \u001B[38;5;28mself\u001B[39m._make_estimator(append=\u001B[38;5;28;01mFalse\u001B[39;00m, random_state=random_state)\n\u001B[32m    477\u001B[39m     \u001B[38;5;28;01mfor\u001B[39;00m i \u001B[38;5;129;01min\u001B[39;00m \u001B[38;5;28mrange\u001B[39m(n_more_estimators)\n\u001B[32m    478\u001B[39m ]\n\u001B[32m    480\u001B[39m \u001B[38;5;66;03m# Parallel loop: we prefer the threading backend as the Cython code\u001B[39;00m\n\u001B[32m    481\u001B[39m \u001B[38;5;66;03m# for fitting the trees is internally releasing the Python GIL\u001B[39;00m\n\u001B[32m    482\u001B[39m \u001B[38;5;66;03m# making threading more efficient than multiprocessing in\u001B[39;00m\n\u001B[32m    483\u001B[39m \u001B[38;5;66;03m# that case. However, for joblib 0.12+ we respect any\u001B[39;00m\n\u001B[32m    484\u001B[39m \u001B[38;5;66;03m# parallel_backend contexts set at a higher level,\u001B[39;00m\n\u001B[32m    485\u001B[39m \u001B[38;5;66;03m# since correctness does not rely on using threads.\u001B[39;00m\n\u001B[32m--> \u001B[39m\u001B[32m486\u001B[39m trees = Parallel(\n\u001B[32m    487\u001B[39m     n_jobs=\u001B[38;5;28mself\u001B[39m.n_jobs,\n\u001B[32m    488\u001B[39m     verbose=\u001B[38;5;28mself\u001B[39m.verbose,\n\u001B[32m    489\u001B[39m     prefer=\u001B[33m\"\u001B[39m\u001B[33mthreads\u001B[39m\u001B[33m\"\u001B[39m,\n\u001B[32m    490\u001B[39m )(\n\u001B[32m    491\u001B[39m     delayed(_parallel_build_trees)(\n\u001B[32m    492\u001B[39m         t,\n\u001B[32m    493\u001B[39m         \u001B[38;5;28mself\u001B[39m.bootstrap,\n\u001B[32m    494\u001B[39m         X,\n\u001B[32m    495\u001B[39m         y,\n\u001B[32m    496\u001B[39m         sample_weight,\n\u001B[32m    497\u001B[39m         i,\n\u001B[32m    498\u001B[39m         \u001B[38;5;28mlen\u001B[39m(trees),\n\u001B[32m    499\u001B[39m         verbose=\u001B[38;5;28mself\u001B[39m.verbose,\n\u001B[32m    500\u001B[39m         class_weight=\u001B[38;5;28mself\u001B[39m.class_weight,\n\u001B[32m    501\u001B[39m         n_samples_bootstrap=n_samples_bootstrap,\n\u001B[32m    502\u001B[39m         missing_values_in_feature_mask=missing_values_in_feature_mask,\n\u001B[32m    503\u001B[39m     )\n\u001B[32m    504\u001B[39m     \u001B[38;5;28;01mfor\u001B[39;00m i, t \u001B[38;5;129;01min\u001B[39;00m \u001B[38;5;28menumerate\u001B[39m(trees)\n\u001B[32m    505\u001B[39m )\n\u001B[32m    507\u001B[39m \u001B[38;5;66;03m# Collect newly grown trees\u001B[39;00m\n\u001B[32m    508\u001B[39m \u001B[38;5;28mself\u001B[39m.estimators_.extend(trees)\n",
      "\u001B[36mFile \u001B[39m\u001B[32m~\\.conda\\envs\\pyt\\Lib\\site-packages\\sklearn\\utils\\parallel.py:82\u001B[39m, in \u001B[36mParallel.__call__\u001B[39m\u001B[34m(self, iterable)\u001B[39m\n\u001B[32m     73\u001B[39m warning_filters = warnings.filters\n\u001B[32m     74\u001B[39m iterable_with_config_and_warning_filters = (\n\u001B[32m     75\u001B[39m     (\n\u001B[32m     76\u001B[39m         _with_config_and_warning_filters(delayed_func, config, warning_filters),\n\u001B[32m   (...)\u001B[39m\u001B[32m     80\u001B[39m     \u001B[38;5;28;01mfor\u001B[39;00m delayed_func, args, kwargs \u001B[38;5;129;01min\u001B[39;00m iterable\n\u001B[32m     81\u001B[39m )\n\u001B[32m---> \u001B[39m\u001B[32m82\u001B[39m \u001B[38;5;28;01mreturn\u001B[39;00m \u001B[38;5;28msuper\u001B[39m().\u001B[34m__call__\u001B[39m(iterable_with_config_and_warning_filters)\n",
      "\u001B[36mFile \u001B[39m\u001B[32m~\\.conda\\envs\\pyt\\Lib\\site-packages\\joblib\\parallel.py:2072\u001B[39m, in \u001B[36mParallel.__call__\u001B[39m\u001B[34m(self, iterable)\u001B[39m\n\u001B[32m   2066\u001B[39m \u001B[38;5;66;03m# The first item from the output is blank, but it makes the interpreter\u001B[39;00m\n\u001B[32m   2067\u001B[39m \u001B[38;5;66;03m# progress until it enters the Try/Except block of the generator and\u001B[39;00m\n\u001B[32m   2068\u001B[39m \u001B[38;5;66;03m# reaches the first `yield` statement. This starts the asynchronous\u001B[39;00m\n\u001B[32m   2069\u001B[39m \u001B[38;5;66;03m# dispatch of the tasks to the workers.\u001B[39;00m\n\u001B[32m   2070\u001B[39m \u001B[38;5;28mnext\u001B[39m(output)\n\u001B[32m-> \u001B[39m\u001B[32m2072\u001B[39m \u001B[38;5;28;01mreturn\u001B[39;00m output \u001B[38;5;28;01mif\u001B[39;00m \u001B[38;5;28mself\u001B[39m.return_generator \u001B[38;5;28;01melse\u001B[39;00m \u001B[38;5;28mlist\u001B[39m(output)\n",
      "\u001B[36mFile \u001B[39m\u001B[32m~\\.conda\\envs\\pyt\\Lib\\site-packages\\joblib\\parallel.py:1682\u001B[39m, in \u001B[36mParallel._get_outputs\u001B[39m\u001B[34m(self, iterator, pre_dispatch)\u001B[39m\n\u001B[32m   1679\u001B[39m     \u001B[38;5;28;01myield\u001B[39;00m\n\u001B[32m   1681\u001B[39m     \u001B[38;5;28;01mwith\u001B[39;00m \u001B[38;5;28mself\u001B[39m._backend.retrieval_context():\n\u001B[32m-> \u001B[39m\u001B[32m1682\u001B[39m         \u001B[38;5;28;01myield from\u001B[39;00m \u001B[38;5;28mself\u001B[39m._retrieve()\n\u001B[32m   1684\u001B[39m \u001B[38;5;28;01mexcept\u001B[39;00m \u001B[38;5;167;01mGeneratorExit\u001B[39;00m:\n\u001B[32m   1685\u001B[39m     \u001B[38;5;66;03m# The generator has been garbage collected before being fully\u001B[39;00m\n\u001B[32m   1686\u001B[39m     \u001B[38;5;66;03m# consumed. This aborts the remaining tasks if possible and warn\u001B[39;00m\n\u001B[32m   1687\u001B[39m     \u001B[38;5;66;03m# the user if necessary.\u001B[39;00m\n\u001B[32m   1688\u001B[39m     \u001B[38;5;28mself\u001B[39m._exception = \u001B[38;5;28;01mTrue\u001B[39;00m\n",
      "\u001B[36mFile \u001B[39m\u001B[32m~\\.conda\\envs\\pyt\\Lib\\site-packages\\joblib\\parallel.py:1800\u001B[39m, in \u001B[36mParallel._retrieve\u001B[39m\u001B[34m(self)\u001B[39m\n\u001B[32m   1789\u001B[39m \u001B[38;5;28;01mif\u001B[39;00m \u001B[38;5;28mself\u001B[39m.return_ordered:\n\u001B[32m   1790\u001B[39m     \u001B[38;5;66;03m# Case ordered: wait for completion (or error) of the next job\u001B[39;00m\n\u001B[32m   1791\u001B[39m     \u001B[38;5;66;03m# that have been dispatched and not retrieved yet. If no job\u001B[39;00m\n\u001B[32m   (...)\u001B[39m\u001B[32m   1795\u001B[39m     \u001B[38;5;66;03m# control only have to be done on the amount of time the next\u001B[39;00m\n\u001B[32m   1796\u001B[39m     \u001B[38;5;66;03m# dispatched job is pending.\u001B[39;00m\n\u001B[32m   1797\u001B[39m     \u001B[38;5;28;01mif\u001B[39;00m (nb_jobs == \u001B[32m0\u001B[39m) \u001B[38;5;129;01mor\u001B[39;00m (\n\u001B[32m   1798\u001B[39m         \u001B[38;5;28mself\u001B[39m._jobs[\u001B[32m0\u001B[39m].get_status(timeout=\u001B[38;5;28mself\u001B[39m.timeout) == TASK_PENDING\n\u001B[32m   1799\u001B[39m     ):\n\u001B[32m-> \u001B[39m\u001B[32m1800\u001B[39m         time.sleep(\u001B[32m0.01\u001B[39m)\n\u001B[32m   1801\u001B[39m         \u001B[38;5;28;01mcontinue\u001B[39;00m\n\u001B[32m   1803\u001B[39m \u001B[38;5;28;01melif\u001B[39;00m nb_jobs == \u001B[32m0\u001B[39m:\n\u001B[32m   1804\u001B[39m     \u001B[38;5;66;03m# Case unordered: jobs are added to the list of jobs to\u001B[39;00m\n\u001B[32m   1805\u001B[39m     \u001B[38;5;66;03m# retrieve `self._jobs` only once completed or in error, which\u001B[39;00m\n\u001B[32m   (...)\u001B[39m\u001B[32m   1811\u001B[39m     \u001B[38;5;66;03m# timeouts before any other dispatched job has completed and\u001B[39;00m\n\u001B[32m   1812\u001B[39m     \u001B[38;5;66;03m# been added to `self._jobs` to be retrieved.\u001B[39;00m\n",
      "\u001B[31mKeyboardInterrupt\u001B[39m: "
     ]
    }
   ],
   "execution_count": 75
  },
  {
   "metadata": {},
   "cell_type": "code",
   "outputs": [],
   "execution_count": null,
   "source": "",
   "id": "6f12410d11a5047"
  },
  {
   "metadata": {
    "ExecuteTime": {
     "end_time": "2025-10-15T13:13:07.376601Z",
     "start_time": "2025-10-15T13:13:07.051405Z"
    }
   },
   "cell_type": "code",
   "source": [
    "pd.Series(gs_model.best_estimator_.feature_importances_, index=ds_source_transf.columns).sort_values(\n",
    "    ascending=False).plot(kind='bar', figsize=(8, 4))\n",
    "plt.title(\"Feature Importances from Best Random Forest Model\")\n",
    "plt.show()"
   ],
   "id": "f28ca13b4736a5b6",
   "outputs": [
    {
     "data": {
      "text/plain": [
       "<Figure size 800x400 with 1 Axes>"
      ],
      "image/png": "[encoded data removed]"
     },
     "metadata": {},
     "output_type": "display_data"
    }
   ],
   "execution_count": 72
  },
  {
   "metadata": {},
   "cell_type": "code",
   "outputs": [],
   "execution_count": null,
   "source": "gs_model.best_params_",
   "id": "926e5d52af423f7"
  },
  {
   "metadata": {},
   "cell_type": "code",
   "outputs": [],
   "execution_count": null,
   "source": "",
   "id": "e82398df9577fa6e"
  },
  {
   "metadata": {},
   "cell_type": "code",
   "outputs": [],
   "execution_count": null,
   "source": "",
   "id": "b04ddedd11742ced"
  },
  {
   "metadata": {},
   "cell_type": "code",
   "outputs": [],
   "execution_count": null,
   "source": "",
   "id": "7ada61d0c18be54f"
  },
  {
   "metadata": {},
   "cell_type": "code",
   "outputs": [],
   "execution_count": null,
   "source": "",
   "id": "d288cc64432840b0"
  },
  {
   "metadata": {
    "ExecuteTime": {
     "end_time": "2025-10-15T13:56:44.717169Z",
     "start_time": "2025-10-15T13:52:29.980997Z"
    }
   },
   "cell_type": "code",
   "source": [
    "seed = np.random.randint(0, 10000)\n",
    "print('seed', seed)\n",
    "dt_model = skl.tree.DecisionTreeClassifier(random_state=seed)\n",
    "ada_model = skl.ensemble.AdaBoostClassifier(estimator=dt_model, random_state=seed)\n",
    "gs_model = skl.model_selection.GridSearchCV(estimator=ada_model, param_grid={\n",
    "    'n_estimators': range(245, 255),\n",
    "    'estimator__max_depth': [9, 10, 11]\n",
    "}, scoring='accuracy', cv=5, n_jobs=14, verbose=2)\n",
    "gs_model.fit(x_train, y_train)\n",
    "print('Params', gs_model.best_params_)\n",
    "print('Train ', gs_model.score(x_train, y_train))\n",
    "print('Test  ', gs_model.score(x_test, y_test))\n",
    "save_submission('GS_ADA', gs_model)\n",
    "chime.success()"
   ],
   "id": "b64cf48c96bd06f0",
   "outputs": [
    {
     "name": "stdout",
     "output_type": "stream",
     "text": [
      "seed 7204\n",
      "Fitting 5 folds for each of 30 candidates, totalling 150 fits\n",
      "Params {'estimator__max_depth': 10, 'learning_rate': 1, 'n_estimators': 250}\n",
      "Train  1.0\n",
      "Test   0.8921789507563566\n"
     ]
    }
   ],
   "execution_count": 80
  },
  {
   "metadata": {},
   "cell_type": "code",
   "outputs": [],
   "execution_count": null,
   "source": "",
   "id": "2ab8b60d6ba6d1f7"
  },
  {
   "metadata": {},
   "cell_type": "code",
   "outputs": [],
   "execution_count": null,
   "source": "",
   "id": "5c937699ad81a849"
  },
  {
   "metadata": {},
   "cell_type": "code",
   "outputs": [],
   "execution_count": null,
   "source": "",
   "id": "4ca0e4abea85ba6e"
  },
  {
   "metadata": {},
   "cell_type": "code",
   "outputs": [],
   "execution_count": null,
   "source": "",
   "id": "f1b107c6c979d785"
  },
  {
   "metadata": {},
   "cell_type": "code",
   "outputs": [],
   "execution_count": null,
   "source": "",
   "id": "8f6ad1eda500ec63"
  },
  {
   "metadata": {},
   "cell_type": "code",
   "outputs": [],
   "execution_count": null,
   "source": "",
   "id": "ae72ebecd5268ebb"
  },
  {
   "metadata": {
    "ExecuteTime": {
     "end_time": "2025-10-15T14:00:14.333277Z",
     "start_time": "2025-10-15T14:00:14.325199Z"
    }
   },
   "cell_type": "code",
   "source": "len(ds_labels.unique())",
   "id": "e3d1750dbba59068",
   "outputs": [
    {
     "data": {
      "text/plain": [
       "7"
      ]
     },
     "execution_count": 88,
     "metadata": {},
     "output_type": "execute_result"
    }
   ],
   "execution_count": 88
  },
  {
   "metadata": {
    "ExecuteTime": {
     "end_time": "2025-10-15T14:18:20.346581Z",
     "start_time": "2025-10-15T14:18:11.732132Z"
    }
   },
   "cell_type": "code",
   "source": [
    "xgb_model = xgb.XGBClassifier(\n",
    "    objective='multi:softmax',  # or 'multi:softprob'\n",
    "    num_class=len(ds_labels.unique()),\n",
    "    eval_metric='mlogloss',\n",
    "    # use_label_encoder=False,\n",
    "    random_state=seed\n",
    ")\n",
    "param_grid = {\n",
    "    'n_estimators': [204],\n",
    "    'max_depth': [4],\n",
    "    'learning_rate': [0.1],\n",
    "    'subsample': [0.64, 0.65, .66],\n",
    "    'colsample_bytree': [.75, .76]\n",
    "}\n",
    "gs_model = skl.model_selection.GridSearchCV(estimator=xgb_model, param_grid=param_grid, scoring='accuracy',\n",
    "                                            cv=3, n_jobs=14, verbose=3)\n",
    "gs_model.fit(x_train, y_train)\n",
    "print('Params', gs_model.best_params_)\n",
    "print('Train ', gs_model.score(x_train, y_train))\n",
    "print('Test  ', gs_model.score(x_test, y_test))\n",
    "save_submission('GS_XGB', gs_model)\n",
    "chime.success()"
   ],
   "id": "b38418462e4b38d4",
   "outputs": [
    {
     "name": "stdout",
     "output_type": "stream",
     "text": [
      "Fitting 3 folds for each of 6 candidates, totalling 18 fits\n",
      "Params {'colsample_bytree': 0.75, 'learning_rate': 0.1, 'max_depth': 4, 'n_estimators': 204, 'subsample': 0.65}\n",
      "Train  0.9490584258812168\n",
      "Test   0.8979723205664628\n"
     ]
    }
   ],
   "execution_count": 94
  },
  {
   "metadata": {
    "ExecuteTime": {
     "end_time": "2025-10-15T14:19:19.027715Z",
     "start_time": "2025-10-15T14:19:15.296638Z"
    }
   },
   "cell_type": "code",
   "source": [
    "xgb_model = xgb.XGBClassifier(\n",
    "    objective='multi:softmax',  # or 'multi:softprob'\n",
    "    num_class=len(ds_labels.unique()),\n",
    "    eval_metric='mlogloss',\n",
    "    # use_label_encoder=False,\n",
    "    random_state=seed\n",
    ")\n",
    "param_grid = {\n",
    "    'n_estimators': [200],\n",
    "    'max_depth': [3],\n",
    "    'learning_rate': [0.1],\n",
    "    'subsample': [.8],\n",
    "    'colsample_bytree': [.8]\n",
    "}\n",
    "gs_model = skl.model_selection.GridSearchCV(estimator=xgb_model, param_grid=param_grid, scoring='accuracy',\n",
    "                                            cv=3, n_jobs=14, verbose=3)\n",
    "gs_model.fit(x_train, y_train)\n",
    "print('Params', gs_model.best_params_)\n",
    "print('Train ', gs_model.score(x_train, y_train))\n",
    "print('Test  ', gs_model.score(x_test, y_test))\n",
    "save_submission('GS_XGB', gs_model)\n",
    "chime.success()"
   ],
   "id": "91780447fe4292fa",
   "outputs": [
    {
     "name": "stdout",
     "output_type": "stream",
     "text": [
      "Fitting 3 folds for each of 1 candidates, totalling 3 fits\n",
      "Params {'colsample_bytree': 0.8, 'learning_rate': 0.1, 'max_depth': 3, 'n_estimators': 200, 'subsample': 0.8}\n",
      "Train  0.9278931273136971\n",
      "Test   0.895397489539749\n"
     ]
    }
   ],
   "execution_count": 96
  },
  {
   "metadata": {},
   "cell_type": "code",
   "outputs": [],
   "execution_count": null,
   "source": "",
   "id": "df2a970cdba1899d"
  },
  {
   "metadata": {},
   "cell_type": "code",
   "outputs": [],
   "execution_count": null,
   "source": "",
   "id": "3602e3efb143e646"
  },
  {
   "metadata": {},
   "cell_type": "code",
   "outputs": [],
   "execution_count": null,
   "source": "",
   "id": "d42434dffb7aa3b7"
  },
  {
   "metadata": {},
   "cell_type": "code",
   "outputs": [],
   "execution_count": null,
   "source": "",
   "id": "2b54e920e21db6b8"
  },
  {
   "metadata": {},
   "cell_type": "code",
   "outputs": [],
   "execution_count": null,
   "source": "",
   "id": "c7e7046ad694763c"
  },
  {
   "metadata": {},
   "cell_type": "code",
   "outputs": [],
   "execution_count": null,
   "source": "",
   "id": "6b8902c82d4499b"
  },
  {
   "metadata": {},
   "cell_type": "code",
   "outputs": [],
   "execution_count": null,
   "source": "",
   "id": "37cf757842ce4da8"
  },
  {
   "metadata": {},
   "cell_type": "code",
   "outputs": [],
   "execution_count": null,
   "source": "",
   "id": "d906227f5727b91"
  },
  {
   "metadata": {},
   "cell_type": "code",
   "outputs": [],
   "execution_count": null,
   "source": "",
   "id": "2fd6710d9d40768e"
  },
  {
   "metadata": {},
   "cell_type": "code",
   "outputs": [],
   "execution_count": null,
   "source": "",
   "id": "dd4aad0d67c2facf"
  },
  {
   "metadata": {},
   "cell_type": "code",
   "outputs": [],
   "execution_count": null,
   "source": "",
   "id": "1d6964a9324b1f42"
  },
  {
   "metadata": {},
   "cell_type": "code",
   "outputs": [],
   "execution_count": null,
   "source": "",
   "id": "325458c1eecf9d8d"
  },
  {
   "metadata": {
    "ExecuteTime": {
     "end_time": "2025-10-15T14:44:39.159517Z",
     "start_time": "2025-10-15T14:44:23.276694Z"
    }
   },
   "cell_type": "code",
   "source": [
    "seed = np.random.randint(0, 10000)\n",
    "print('seed', seed)\n",
    "x_train, x_test, y_train, y_test = skl.model_selection.train_test_split(data_x, data_y, test_size=0.2,\n",
    "                                                                        random_state=seed)\n",
    "dists = []\n",
    "for i in range(data_test.shape[0]):\n",
    "    # dists.append(((data_test[i] - x_train) ** 2).sum(axis=1).argmin())\n",
    "    indices = ((data_test[i] - x_train) ** 2).sum(axis=1).argsort()[:2]\n",
    "    dists.append(indices[0])\n",
    "    dists.append(indices[1])\n",
    "print((((data_test - x_train[dists[::2]]) ** 2).sum(axis=1) ** 0.5).mean())"
   ],
   "id": "6c4c58ef5096268",
   "outputs": [
    {
     "name": "stdout",
     "output_type": "stream",
     "text": [
      "seed 797\n",
      "1.1538748510714392\n"
     ]
    }
   ],
   "execution_count": 134
  },
  {
   "metadata": {
    "ExecuteTime": {
     "end_time": "2025-10-15T14:45:49.394350Z",
     "start_time": "2025-10-15T14:45:24.464906Z"
    }
   },
   "cell_type": "code",
   "source": [
    "seed = 1745\n",
    "print('seed', seed)\n",
    "dt_model = skl.tree.DecisionTreeClassifier(random_state=seed, max_depth=10)\n",
    "ada_model = skl.ensemble.AdaBoostClassifier(estimator=dt_model, random_state=seed, n_estimators=250)\n",
    "ada_model.fit(x_train[dists], y_train[dists])\n",
    "print('Params', gs_model.best_params_)\n",
    "print('Train ', gs_model.score(x_train, y_train))\n",
    "print('Test  ', gs_model.score(x_test, y_test))\n",
    "save_submission('CH_ADA', gs_model)\n",
    "chime.success()"
   ],
   "id": "a3d94c26feb29588",
   "outputs": [
    {
     "name": "stdout",
     "output_type": "stream",
     "text": [
      "seed 1745\n",
      "Params {'colsample_bytree': 0.8, 'learning_rate': 0.1, 'max_depth': 3, 'n_estimators': 200, 'subsample': 0.8}\n",
      "Train  0.9197650088524062\n",
      "Test   0.9279047312520116\n"
     ]
    }
   ],
   "execution_count": 137
  },
  {
   "metadata": {
    "ExecuteTime": {
     "end_time": "2025-10-15T14:45:21.023693Z",
     "start_time": "2025-10-15T14:45:19.484043Z"
    }
   },
   "cell_type": "code",
   "source": [
    "xgb_model = xgb.XGBClassifier(\n",
    "    objective='multi:softmax',  # or 'multi:softprob'\n",
    "    num_class=len(ds_labels.unique()),\n",
    "    eval_metric='mlogloss',\n",
    "    # use_label_encoder=False,\n",
    "    random_state=seed,\n",
    "    n_estimators=200,\n",
    "    max_depth=3,\n",
    "    learning_rate=0.1,\n",
    "    subsample=0.8,\n",
    "    colsample_bytree=0.8,\n",
    ")\n",
    "xgb_model.fit(x_train[dists], y_train[dists])\n",
    "print('Train ', xgb_model.score(x_train, y_train))\n",
    "print('Test  ', xgb_model.score(x_test, y_test))\n",
    "save_submission('CH_XGB', xgb_model)\n",
    "chime.success()"
   ],
   "id": "291d36ae2010e416",
   "outputs": [
    {
     "name": "stdout",
     "output_type": "stream",
     "text": [
      "Train  0.9125221310156124\n",
      "Test   0.9079497907949791\n"
     ]
    }
   ],
   "execution_count": 136
  },
  {
   "metadata": {},
   "cell_type": "code",
   "outputs": [],
   "execution_count": null,
   "source": "",
   "id": "35983120f1f96821"
  }
 ],
 "metadata": {
  "kernelspec": {
   "display_name": "Python 3",
   "language": "python",
   "name": "python3"
  },
  "language_info": {
   "codemirror_mode": {
    "name": "ipython",
    "version": 2
   },
   "file_extension": ".py",
   "mimetype": "text/x-python",
   "name": "python",
   "nbconvert_exporter": "python",
   "pygments_lexer": "ipython2",
   "version": "2.7.6"
  }
 },
 "nbformat": 4,
 "nbformat_minor": 5
}
