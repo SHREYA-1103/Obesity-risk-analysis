{
 "cells": [
  {
   "cell_type": "markdown",
   "id": "14cb7eafd9b1e1f8",
   "metadata": {},
   "source": [
    "# **ML Models comparative analysis on Obesity - CVD risk data**\n",
    "\n",
    "## 1. Briefing\n",
    "\n",
    "|            |          |                     |\n",
    "|------------|----------|---------------------|\n",
    "| Subject    |          | Machine Learning    |\n",
    "| Supervisor |          | Prof. Aswin Kannan  |\n",
    "|            |          |                     |\n",
    "| Team Name  |          | MT2025724_MT2025732 |\n",
    "| Member 1   | Name:    | Shreya Gupta              |\n",
    "|            | Roll No: | MT2025724           |\n",
    "| Member 2   | Name:    | Anirudh Sharma              |\n",
    "|            | Roll No: | MT2025732           |\n",
    "|            |          |                     |\n",
    "\n",
    "TODO: Add some numericals like the number of models compared, number of data processing techniques applied...\n",
    "\n",
    "### Keywords\n",
    "\n",
    "## 2. Summary\n",
    "\n",
    "* 4–8 bullet points summarizing highest-level conclusions (best model(s), tradeoffs, recommended next steps).\n",
    "* Short comparative table of winners by criteria (accuracy, latency, model size, fairness, etc.)\n",
    "\n",
    "## 3. Introduction\n",
    "\n",
    "* Problem statement and motivation\n",
    "* Objectives of the comparative study (what questions you will answer)\n",
    "* Scope (datasets, model families, compute constraints)\n",
    "* Contributions (what unique analyses you provide — e.g., timing, memory profiling, calibration, fairness tests)\n"
   ]
  },
  {
   "cell_type": "markdown",
   "id": "c593c2d7",
   "metadata": {},
   "source": [
    "## System Imports"
   ]
  },
  {
   "metadata": {
    "ExecuteTime": {
     "end_time": "2025-10-20T06:27:12.239072Z",
     "start_time": "2025-10-20T06:27:12.233345Z"
    }
   },
   "cell_type": "code",
   "source": [
    "import chime\n",
    "import random\n",
    "import time\n",
    "import json\n",
    "import functools, itertools\n",
    "import warnings\n",
    "\n",
    "import pandas as pd\n",
    "import numpy as np\n",
    "import scipy as sp\n",
    "import sklearn as skl\n",
    "import xgboost as xgb\n",
    "import shap\n",
    "import matplotlib.pyplot as plt\n",
    "import matplotlib as mpl\n",
    "import seaborn as sns\n",
    "from pprint import pprint\n",
    "from tqdm import tqdm\n",
    "\n",
    "import IPython.display as d"
   ],
   "id": "974843cf72e1373",
   "outputs": [],
   "execution_count": 151
  },
  {
   "metadata": {},
   "cell_type": "markdown",
   "source": "### Notification System Setup",
   "id": "271468c40e07103"
  },
  {
   "metadata": {
    "ExecuteTime": {
     "end_time": "2025-10-20T06:27:12.256717Z",
     "start_time": "2025-10-20T06:27:12.251708Z"
    }
   },
   "cell_type": "code",
   "source": [
    "# Set notification sound\n",
    "chime.theme(\"material\")\n",
    "chime.info()"
   ],
   "id": "3e8e2b9462267725",
   "outputs": [],
   "execution_count": 152
  },
  {
   "metadata": {},
   "cell_type": "markdown",
   "source": "### PyPlot Setup",
   "id": "1d104f2b6083458e"
  },
  {
   "metadata": {
    "ExecuteTime": {
     "end_time": "2025-10-20T06:27:12.277849Z",
     "start_time": "2025-10-20T06:27:12.266806Z"
    }
   },
   "cell_type": "code",
   "source": [
    "# Font Setup\n",
    "font_suptitle = {'fontsize': 18, 'fontweight': \"bold\"}\n",
    "font_title = {'fontsize': 14, 'fontweight': \"bold\"}\n",
    "font_label = {'fontsize': 12}\n",
    "font_ticks = {'fontsize': 10}\n",
    "\n",
    "mpl.rcParams['font.family'] = 'monospace'\n",
    "mpl.rcParams['axes.labelsize'] = font_label['fontsize']\n",
    "mpl.rcParams['xtick.labelsize'] = mpl.rcParams['ytick.labelsize'] = font_ticks['fontsize']\n",
    "mpl.rcParams['figure.titlesize'] = font_suptitle['fontsize']\n",
    "\n",
    "max_fig_width = 11\n",
    "sml_fig = (4, 3)\n",
    "wid_fig = (8, 3)\n",
    "\n",
    "\n",
    "# Optional<Function<Arg|Map, Unit>>\n",
    "def compose(function, data_1, data_2: dict):\n",
    "    if data_1 is not None:\n",
    "        if isinstance(data_1, str):\n",
    "            function(data_1, **data_2)\n",
    "        elif isinstance(data_1, dict):\n",
    "            data_2 = data_2.copy()\n",
    "            data_2.update(data_1)\n",
    "            function(**data_2)\n",
    "\n",
    "\n",
    "# Font Embed Helpers\n",
    "def annotate_plot(\n",
    "        ax: plt.Axes,\n",
    "        title: str = None,\n",
    "        x_label: str = None, y_label: str = None,\n",
    "        x_ticks=None, y_ticks=None,\n",
    ") -> None:\n",
    "    compose(ax.set_title, title, font_title)\n",
    "    compose(ax.set_xlabel, x_label, font_label)\n",
    "    compose(ax.set_ylabel, y_label, font_label)\n",
    "    compose(ax.set_xticks, x_ticks, font_ticks)\n",
    "    compose(ax.set_yticks, y_ticks, font_ticks)\n",
    "\n",
    "\n",
    "def conclude_plot(suptitle: str = None, constrained=False):\n",
    "    if constrained:\n",
    "        fig.set_constrained_layout(True)\n",
    "    else:\n",
    "        plt.tight_layout()\n",
    "    plt.savefig(f'report/figures/plot_{suptitle}.png', dpi=300)\n",
    "    compose(plt.suptitle, suptitle, font_suptitle)\n",
    "    if constrained:\n",
    "        fig.set_constrained_layout(True)\n",
    "    else:\n",
    "        plt.tight_layout()\n",
    "    plt.show()\n",
    "\n",
    "\n",
    "chime.info()"
   ],
   "id": "f10d560ba218bc6c",
   "outputs": [],
   "execution_count": 153
  },
  {
   "metadata": {},
   "cell_type": "markdown",
   "source": "### Randomizer Setup",
   "id": "8a17fd074d4a6bd3"
  },
  {
   "metadata": {
    "ExecuteTime": {
     "end_time": "2025-10-20T06:27:12.292750Z",
     "start_time": "2025-10-20T06:27:12.286592Z"
    }
   },
   "cell_type": "code",
   "source": [
    "default_seed = 1114  # 1114 stands for Minecraftian14, which is me, ofc\n",
    "\n",
    "\n",
    "def reset_seed(seed=default_seed):\n",
    "    random.seed(seed)\n",
    "    np.random.seed(seed)\n",
    "\n",
    "\n",
    "chime.info()"
   ],
   "id": "646820f8f075d26a",
   "outputs": [],
   "execution_count": 154
  },
  {
   "metadata": {},
   "cell_type": "markdown",
   "source": "### Presentor Setup",
   "id": "50ce54cfc3d21f5f"
  },
  {
   "metadata": {
    "ExecuteTime": {
     "end_time": "2025-10-20T06:27:12.308296Z",
     "start_time": "2025-10-20T06:27:12.302815Z"
    }
   },
   "cell_type": "code",
   "source": [
    "displayMD = lambda x: display(d.Markdown(x))\n",
    "kv = lambda field, value: \"**%s:** `%s`\" % (field.strip(), str(value).strip())\n",
    "header = lambda n, field: \"%s %s\" % (\"#\" * n, field)\n",
    "quote = lambda field: \"\\n\\n> %s\" % field.replace(\"\\n\", \"\\n> \")\n",
    "list_out = lambda title, list: header(4, \"%s\\n\\n* %s\" % (title, \"\\n* \".join(list)))\n",
    "\n",
    "# displayMD(header(3, kv(\"Hmm\", \"10\")))\n",
    "# displayMD(header(4, kv(\"Hmm\", \"10\")))\n",
    "# displayMD(quote(kv(\"Hmm\", \"10\")))\n",
    "# displayMD(list_out(\"Fruits\", [\"apple\", \"banana\", \"orange\"]))"
   ],
   "id": "8af3c3071da6f907",
   "outputs": [],
   "execution_count": 155
  },
  {
   "metadata": {},
   "cell_type": "markdown",
   "source": "### Other Helpers",
   "id": "d79924fdb099da6b"
  },
  {
   "metadata": {
    "ExecuteTime": {
     "end_time": "2025-10-20T06:27:12.321960Z",
     "start_time": "2025-10-20T06:27:12.316700Z"
    }
   },
   "cell_type": "code",
   "source": [
    "def flatten(obj):\n",
    "    if hasattr(obj, '__iter__') and not isinstance(obj, str):\n",
    "        if hasattr(obj[0], '__iter__') and not isinstance(obj[0], str):\n",
    "            return list(itertools.chain.from_iterable(obj))\n",
    "        return obj\n",
    "    return [obj]"
   ],
   "id": "f7a681d4ff2f3f93",
   "outputs": [],
   "execution_count": 156
  },
  {
   "metadata": {},
   "cell_type": "markdown",
   "source": "### Transformation Helpers",
   "id": "fa3e1b2473babf34"
  },
  {
   "metadata": {
    "ExecuteTime": {
     "end_time": "2025-10-20T06:27:12.348859Z",
     "start_time": "2025-10-20T06:27:12.331945Z"
    }
   },
   "cell_type": "code",
   "source": [
    "def pop_drop_column(data, columns=None):\n",
    "    if isinstance(data, pd.DataFrame): data.drop(columns=columns, inplace=True)\n",
    "    return columns, None\n",
    "\n",
    "\n",
    "def pop_log_transform(data, base=np.e):\n",
    "    return base, np.log(data) / np.log(base)\n",
    "\n",
    "\n",
    "def pop_root_transform(data, exp=0.5):\n",
    "    return exp, np.power(data, exp)\n",
    "\n",
    "\n",
    "def pop_box_cox_transform(data):\n",
    "    data, lam = sp.stats.boxcox(data)\n",
    "    return lam, data\n",
    "\n",
    "\n",
    "def pop_one_hot_encode(data, name=None):\n",
    "    if isinstance(data, pd.Series) and name is None: name = data.name\n",
    "    return np.unique(data), pd.get_dummies(data, name)\n",
    "\n",
    "\n",
    "def pop_soft_ohe(data, split_points):\n",
    "    produce = []\n",
    "    produce.append((data < split_points[1]))\n",
    "    for s, e in zip(split_points[0:-2], split_points[2:]):\n",
    "        produce.append(data * (data > s) * (data < e))\n",
    "    produce.append(data * (data > split_points[-2]))\n",
    "    return split_points, produce\n",
    "\n",
    "\n",
    "def pop_binarize(data):\n",
    "    assert len(np.unique_counts(data)) == 2\n",
    "    pri_val, data = data[0], data == data[0]\n",
    "    if isinstance(data, pd.Series): data.name = \"is_%s_%s\" % (data.name, pri_val)\n",
    "    return pri_val, data\n",
    "\n",
    "\n",
    "def pop_standardize(data):\n",
    "    mean, std = np.mean(data, axis=0), np.std(data, axis=0)\n",
    "    return (mean, std), (data - mean) / std\n",
    "\n",
    "\n",
    "def pop_minmax(data):\n",
    "    min, max = np.min(data, axis=0), np.max(data, axis=0)\n",
    "    return (min, max), (data - min) / (max - min)\n",
    "\n",
    "\n",
    "def pop_ordinal_encode(data):\n",
    "    uniques, encoded = np.unique(data, return_inverse=True)\n",
    "    if isinstance(data, pd.Series): encoded = pd.Series(encoded, index=data.index, name=data.name)\n",
    "    return uniques, encoded\n",
    "\n",
    "\n",
    "def compose_pop(*pop_operations):\n",
    "    pop_operations = flatten(pop_operations)\n",
    "\n",
    "    def pop_composed(data):\n",
    "        arguments = []\n",
    "        for pop_operation in pop_operations:\n",
    "            args, data = pop_operation(data)\n",
    "            if data is None: continue\n",
    "            arguments.append([pop_operation.__name__, args])\n",
    "        return arguments, data\n",
    "\n",
    "    return pop_composed\n",
    "\n",
    "\n",
    "def pop_round(data, decimals=0):\n",
    "    return decimals, np.round(data, decimals=decimals)\n",
    "\n",
    "\n",
    "def pop_derived_features(data: pd.DataFrame) -> pd.DataFrame:\n",
    "    data = data.copy()\n",
    "    data[\"BMI\"] = data[\"Weight\"] / (data[\"Height\"] ** 2)\n",
    "    data[\"Water_Intake_per_Meal\"] = data[\"CH2O\"] / (data[\"NCP\"] + 1e-6)\n",
    "    data[\"Activity_to_Tech_Ratio\"] = data[\"FAF\"] / (data[\"TUE\"] + 0.1)\n",
    "    data[\"Healthy_Lifestyle_Score\"] = (data[\"FCVC\"] * 0.3 + data[\"FAF\"] * 0.3\n",
    "                                       + data[\"CH2O\"] * 0.4 - data[\"FAVC\"].map({\"yes\": 1, \"no\": 0}))\n",
    "    data[\"Has_FamilyRisk_and_FAVC\"] = np.where(\n",
    "        (data[\"FHWO\"] == \"yes\") & (data[\"FAVC\"] == \"yes\"), 1, 0)\n",
    "    data[\"Calorie_Monitoring_Interaction\"] = (data[\"SCC\"].map({\"yes\": 1, \"no\": 0})\n",
    "                                              * data[\"FAVC\"].map({\"yes\": 1, \"no\": 0}))\n",
    "    return None, data\n",
    "\n",
    "\n",
    "def prepare_pop(pop_operation, *args):\n",
    "    def pop_prepared(data):\n",
    "        return pop_operation(data, *args)\n",
    "\n",
    "    return pop_prepared\n",
    "\n",
    "\n",
    "def to_ser_op(ds: pd.DataFrame, col, pop_operation, keep_col=False, out_ds=None):\n",
    "    data = ds[col]\n",
    "    if not keep_col: ds.drop(columns=flatten(col), inplace=True)\n",
    "    arg, data = compose_pop(pop_operation)(data)\n",
    "    if out_ds is not None: ds = out_ds\n",
    "    if data is None: return arg, ds\n",
    "    if isinstance(data, list):\n",
    "        for idx, sample in enumerate(data):\n",
    "            ds[\"%s_%d\" % (col, idx)] = sample\n",
    "    elif isinstance(data, pd.DataFrame):\n",
    "        for column in data.columns:\n",
    "            ds[column] = data[column]\n",
    "    else:\n",
    "        ds[col] = data\n",
    "    return arg, ds\n",
    "\n",
    "\n",
    "def select_pipeline_variation(pipeline, index):\n",
    "    pipeline = pipeline.copy()\n",
    "    pipeline[1] = [pipeline[1][index]]\n",
    "    return pipeline\n",
    "\n",
    "\n",
    "def apply_pipeline(ds: pd.DataFrame, pipeline, to_numpy=True):\n",
    "    compulsory, permutable = pipeline[0], pipeline[1]\n",
    "    ds = ds.copy()\n",
    "    arguments = []\n",
    "    for pop_operation, columns in compulsory:\n",
    "        for column in columns:\n",
    "            if (not isinstance(column, str)) or (column in ds.columns):\n",
    "                arg, _ = to_ser_op(ds, column, pop_operation, keep_col=False)\n",
    "                arguments.append(arg)\n",
    "    if len(permutable) == 0:\n",
    "        yield arguments, ds.to_numpy() if to_numpy else ds\n",
    "    for permutation in permutable:\n",
    "        ds_ans = ds.copy()\n",
    "        perm_arguments = arguments.copy()\n",
    "        for pop_operation, columns in permutation:\n",
    "            for column in columns:\n",
    "                if (not isinstance(column, str)) or (column in ds_ans.columns):\n",
    "                    arg, _ = to_ser_op(ds_ans, column, pop_operation, keep_col=False)\n",
    "                    perm_arguments.append(arg)\n",
    "        yield perm_arguments, ds_ans.to_numpy() if to_numpy else ds"
   ],
   "id": "15a154306178452a",
   "outputs": [],
   "execution_count": 157
  },
  {
   "metadata": {},
   "cell_type": "markdown",
   "source": "### Model Helpers",
   "id": "ccdd111550365288"
  },
  {
   "metadata": {
    "ExecuteTime": {
     "end_time": "2025-10-20T06:27:12.363283Z",
     "start_time": "2025-10-20T06:27:12.358475Z"
    }
   },
   "cell_type": "code",
   "source": [
    "# // TODO Create a model save load function here\n",
    "\n",
    "\n",
    "def evaluate_model(model, train_x, train_y, test_x, test_y):\n",
    "    model.fit(train_x, train_y)\n",
    "    displayMD(header(4, kv('Train Accuracy', model.score(train_x, train_y))))\n",
    "    displayMD(header(4, kv('Test Accuracy', model.score(test_x, test_y))))\n",
    "    return model\n",
    "\n",
    "\n",
    "def save_submission(key, model, data_test_ids, data_test):\n",
    "    ds_res = pd.DataFrame()\n",
    "    ds_res['id'] = data_test_ids\n",
    "    ds_res['WeightCategory'] = model.predict(data_test)\n",
    "    ds_res.to_csv(f'submission_{key}.csv', index=False)"
   ],
   "id": "f05c3cb4ab4b7111",
   "outputs": [],
   "execution_count": 158
  },
  {
   "metadata": {},
   "cell_type": "markdown",
   "source": "## Data Loading",
   "id": "e483e1ba5d729fc5"
  },
  {
   "metadata": {
    "ExecuteTime": {
     "end_time": "2025-10-20T06:27:12.469377Z",
     "start_time": "2025-10-20T06:27:12.372212Z"
    }
   },
   "cell_type": "code",
   "source": [
    "# Load data from train and test CSVs - train data is to be used for model training an dtesting, test is to be used for generatign the final predictions\n",
    "ds_source = pd.read_csv(\"train.csv\")\n",
    "ds_test = pd.read_csv(\"test.csv\")\n",
    "\n",
    "ds_source.rename(columns={'family_history_with_overweight': 'FHWO'}, inplace=True)\n",
    "ds_test.rename(columns={'family_history_with_overweight': 'FHWO'}, inplace=True)\n",
    "\n",
    "chime.info()"
   ],
   "id": "8a9be4a0c236762f",
   "outputs": [],
   "execution_count": 159
  },
  {
   "metadata": {
    "ExecuteTime": {
     "end_time": "2025-10-20T06:27:12.510135Z",
     "start_time": "2025-10-20T06:27:12.481900Z"
    }
   },
   "cell_type": "code",
   "source": [
    "n_samples_all, n_columns = ds_source.shape\n",
    "n_features_raw = n_columns - 2  # id and targets\n",
    "\n",
    "target_labels = ds_source['WeightCategory'].unique()\n",
    "n_targets = len(target_labels)\n",
    "\n",
    "displayMD(header(4, kv('Number of total samples', n_samples_all)))\n",
    "displayMD(header(4, kv('Number of total columns', n_columns)))\n",
    "displayMD('---')\n",
    "displayMD(header(4, kv('Number of features', n_features_raw)))\n",
    "displayMD(header(4, kv('Number of classes', n_targets)))"
   ],
   "id": "613d6a54f2aeff16",
   "outputs": [
    {
     "data": {
      "text/plain": [
       "<IPython.core.display.Markdown object>"
      ],
      "text/markdown": "#### **Number of total samples:** `15533`"
     },
     "metadata": {},
     "output_type": "display_data"
    },
    {
     "data": {
      "text/plain": [
       "<IPython.core.display.Markdown object>"
      ],
      "text/markdown": "#### **Number of total columns:** `18`"
     },
     "metadata": {},
     "output_type": "display_data"
    },
    {
     "data": {
      "text/plain": [
       "<IPython.core.display.Markdown object>"
      ],
      "text/markdown": "---"
     },
     "metadata": {},
     "output_type": "display_data"
    },
    {
     "data": {
      "text/plain": [
       "<IPython.core.display.Markdown object>"
      ],
      "text/markdown": "#### **Number of features:** `16`"
     },
     "metadata": {},
     "output_type": "display_data"
    },
    {
     "data": {
      "text/plain": [
       "<IPython.core.display.Markdown object>"
      ],
      "text/markdown": "#### **Number of classes:** `7`"
     },
     "metadata": {},
     "output_type": "display_data"
    }
   ],
   "execution_count": 160
  },
  {
   "metadata": {
    "ExecuteTime": {
     "end_time": "2025-10-20T06:27:12.624062Z",
     "start_time": "2025-10-20T06:27:12.614913Z"
    }
   },
   "cell_type": "code",
   "source": [
    "column_full_names = {\n",
    "    'id': 'Entity Identifier', 'Gender': 'Gender', 'Age': 'Age', 'Height': 'Height', 'Weight': 'Weight',\n",
    "    'FHWO': 'Family History With Overweight', 'FAVC': 'High Caloric Food Consumption Freq.',\n",
    "    'FCVC': 'Vegetables Consumption Freq.', 'NCP': 'Main Meals Count', 'CAEC': 'Consumption of Food Between Meals',\n",
    "    'SMOKE': 'Smoke', 'CH2O': 'Consumption of Water Daily', 'CALC': 'Consumption of alcohol',\n",
    "    'SCC': 'Calories Consumption Monitoring', 'FAF': 'Physical Activity Freq.', 'TUE': 'Time using Technology Devices',\n",
    "    'MTRANS': 'Modes of Transportation Used', 'WeightCategory': 'Weight Category', }"
   ],
   "id": "1352762a7d50448a",
   "outputs": [],
   "execution_count": 161
  },
  {
   "metadata": {
    "ExecuteTime": {
     "end_time": "2025-10-20T06:27:12.648975Z",
     "start_time": "2025-10-20T06:27:12.636937Z"
    }
   },
   "cell_type": "code",
   "source": [
    "info = pd.io.formats.info.DataFrameInfo(\n",
    "    data=ds_source,\n",
    "    memory_usage=None,\n",
    ")\n",
    "ds_info = pd.DataFrame(zip(info.ids, info.ids.map(column_full_names), info.non_null_counts, info.dtypes),\n",
    "                       columns=['Column Name', 'Description', 'Non-Null Count', 'Data Type'])"
   ],
   "id": "fb1fe1851fa60b76",
   "outputs": [],
   "execution_count": 162
  },
  {
   "metadata": {
    "ExecuteTime": {
     "end_time": "2025-10-20T06:27:12.676973Z",
     "start_time": "2025-10-20T06:27:12.663151Z"
    }
   },
   "cell_type": "code",
   "outputs": [
    {
     "data": {
      "text/plain": [
       "<IPython.core.display.Markdown object>"
      ],
      "text/markdown": "### **Memory Usage:** `2.1+ MB`"
     },
     "metadata": {},
     "output_type": "display_data"
    },
    {
     "data": {
      "text/plain": [
       "       Column Name                          Description  Non-Null Count  \\\n",
       "0               id                    Entity Identifier           15533   \n",
       "1           Gender                               Gender           15533   \n",
       "2              Age                                  Age           15533   \n",
       "3           Height                               Height           15533   \n",
       "4           Weight                               Weight           15533   \n",
       "5             FHWO       Family History With Overweight           15533   \n",
       "6             FAVC  High Caloric Food Consumption Freq.           15533   \n",
       "7             FCVC         Vegetables Consumption Freq.           15533   \n",
       "8              NCP                     Main Meals Count           15533   \n",
       "9             CAEC    Consumption of Food Between Meals           15533   \n",
       "10           SMOKE                                Smoke           15533   \n",
       "11            CH2O           Consumption of Water Daily           15533   \n",
       "12             SCC      Calories Consumption Monitoring           15533   \n",
       "13             FAF              Physical Activity Freq.           15533   \n",
       "14             TUE        Time using Technology Devices           15533   \n",
       "15            CALC               Consumption of alcohol           15533   \n",
       "16          MTRANS         Modes of Transportation Used           15533   \n",
       "17  WeightCategory                      Weight Category           15533   \n",
       "\n",
       "   Data Type  \n",
       "0      int64  \n",
       "1     object  \n",
       "2    float64  \n",
       "3    float64  \n",
       "4    float64  \n",
       "5     object  \n",
       "6     object  \n",
       "7    float64  \n",
       "8    float64  \n",
       "9     object  \n",
       "10    object  \n",
       "11   float64  \n",
       "12    object  \n",
       "13   float64  \n",
       "14   float64  \n",
       "15    object  \n",
       "16    object  \n",
       "17    object  "
      ],
      "text/html": [
       "<div>\n",
       "<style scoped>\n",
       "    .dataframe tbody tr th:only-of-type {\n",
       "        vertical-align: middle;\n",
       "    }\n",
       "\n",
       "    .dataframe tbody tr th {\n",
       "        vertical-align: top;\n",
       "    }\n",
       "\n",
       "    .dataframe thead th {\n",
       "        text-align: right;\n",
       "    }\n",
       "</style>\n",
       "<table border=\"1\" class=\"dataframe\">\n",
       "  <thead>\n",
       "    <tr style=\"text-align: right;\">\n",
       "      <th></th>\n",
       "      <th>Column Name</th>\n",
       "      <th>Description</th>\n",
       "      <th>Non-Null Count</th>\n",
       "      <th>Data Type</th>\n",
       "    </tr>\n",
       "  </thead>\n",
       "  <tbody>\n",
       "    <tr>\n",
       "      <th>0</th>\n",
       "      <td>id</td>\n",
       "      <td>Entity Identifier</td>\n",
       "      <td>15533</td>\n",
       "      <td>int64</td>\n",
       "    </tr>\n",
       "    <tr>\n",
       "      <th>1</th>\n",
       "      <td>Gender</td>\n",
       "      <td>Gender</td>\n",
       "      <td>15533</td>\n",
       "      <td>object</td>\n",
       "    </tr>\n",
       "    <tr>\n",
       "      <th>2</th>\n",
       "      <td>Age</td>\n",
       "      <td>Age</td>\n",
       "      <td>15533</td>\n",
       "      <td>float64</td>\n",
       "    </tr>\n",
       "    <tr>\n",
       "      <th>3</th>\n",
       "      <td>Height</td>\n",
       "      <td>Height</td>\n",
       "      <td>15533</td>\n",
       "      <td>float64</td>\n",
       "    </tr>\n",
       "    <tr>\n",
       "      <th>4</th>\n",
       "      <td>Weight</td>\n",
       "      <td>Weight</td>\n",
       "      <td>15533</td>\n",
       "      <td>float64</td>\n",
       "    </tr>\n",
       "    <tr>\n",
       "      <th>5</th>\n",
       "      <td>FHWO</td>\n",
       "      <td>Family History With Overweight</td>\n",
       "      <td>15533</td>\n",
       "      <td>object</td>\n",
       "    </tr>\n",
       "    <tr>\n",
       "      <th>6</th>\n",
       "      <td>FAVC</td>\n",
       "      <td>High Caloric Food Consumption Freq.</td>\n",
       "      <td>15533</td>\n",
       "      <td>object</td>\n",
       "    </tr>\n",
       "    <tr>\n",
       "      <th>7</th>\n",
       "      <td>FCVC</td>\n",
       "      <td>Vegetables Consumption Freq.</td>\n",
       "      <td>15533</td>\n",
       "      <td>float64</td>\n",
       "    </tr>\n",
       "    <tr>\n",
       "      <th>8</th>\n",
       "      <td>NCP</td>\n",
       "      <td>Main Meals Count</td>\n",
       "      <td>15533</td>\n",
       "      <td>float64</td>\n",
       "    </tr>\n",
       "    <tr>\n",
       "      <th>9</th>\n",
       "      <td>CAEC</td>\n",
       "      <td>Consumption of Food Between Meals</td>\n",
       "      <td>15533</td>\n",
       "      <td>object</td>\n",
       "    </tr>\n",
       "    <tr>\n",
       "      <th>10</th>\n",
       "      <td>SMOKE</td>\n",
       "      <td>Smoke</td>\n",
       "      <td>15533</td>\n",
       "      <td>object</td>\n",
       "    </tr>\n",
       "    <tr>\n",
       "      <th>11</th>\n",
       "      <td>CH2O</td>\n",
       "      <td>Consumption of Water Daily</td>\n",
       "      <td>15533</td>\n",
       "      <td>float64</td>\n",
       "    </tr>\n",
       "    <tr>\n",
       "      <th>12</th>\n",
       "      <td>SCC</td>\n",
       "      <td>Calories Consumption Monitoring</td>\n",
       "      <td>15533</td>\n",
       "      <td>object</td>\n",
       "    </tr>\n",
       "    <tr>\n",
       "      <th>13</th>\n",
       "      <td>FAF</td>\n",
       "      <td>Physical Activity Freq.</td>\n",
       "      <td>15533</td>\n",
       "      <td>float64</td>\n",
       "    </tr>\n",
       "    <tr>\n",
       "      <th>14</th>\n",
       "      <td>TUE</td>\n",
       "      <td>Time using Technology Devices</td>\n",
       "      <td>15533</td>\n",
       "      <td>float64</td>\n",
       "    </tr>\n",
       "    <tr>\n",
       "      <th>15</th>\n",
       "      <td>CALC</td>\n",
       "      <td>Consumption of alcohol</td>\n",
       "      <td>15533</td>\n",
       "      <td>object</td>\n",
       "    </tr>\n",
       "    <tr>\n",
       "      <th>16</th>\n",
       "      <td>MTRANS</td>\n",
       "      <td>Modes of Transportation Used</td>\n",
       "      <td>15533</td>\n",
       "      <td>object</td>\n",
       "    </tr>\n",
       "    <tr>\n",
       "      <th>17</th>\n",
       "      <td>WeightCategory</td>\n",
       "      <td>Weight Category</td>\n",
       "      <td>15533</td>\n",
       "      <td>object</td>\n",
       "    </tr>\n",
       "  </tbody>\n",
       "</table>\n",
       "</div>"
      ]
     },
     "metadata": {},
     "output_type": "display_data"
    }
   ],
   "execution_count": 163,
   "source": [
    "displayMD(header(3, kv('Memory Usage', info.memory_usage_string)))\n",
    "display(ds_info)"
   ],
   "id": "5d4e22ef1a74a0ca"
  },
  {
   "metadata": {
    "ExecuteTime": {
     "end_time": "2025-10-20T06:27:12.789625Z",
     "start_time": "2025-10-20T06:27:12.778174Z"
    }
   },
   "cell_type": "code",
   "source": [
    "gb_info_by_dtype = ds_info.groupby('Data Type')['Column Name'].apply(list)\n",
    "display(pd.DataFrame({\n",
    "    t: items + [''] * (gb_info_by_dtype.map(len).max() - len(items))\n",
    "    for t, items in gb_info_by_dtype.items()\n",
    "}))"
   ],
   "id": "fd186d64d7f7b392",
   "outputs": [
    {
     "data": {
      "text/plain": [
       "  int64 float64          object\n",
       "0    id     Age          Gender\n",
       "1        Height            FHWO\n",
       "2        Weight            FAVC\n",
       "3          FCVC            CAEC\n",
       "4           NCP           SMOKE\n",
       "5          CH2O             SCC\n",
       "6           FAF            CALC\n",
       "7           TUE          MTRANS\n",
       "8                WeightCategory"
      ],
      "text/html": [
       "<div>\n",
       "<style scoped>\n",
       "    .dataframe tbody tr th:only-of-type {\n",
       "        vertical-align: middle;\n",
       "    }\n",
       "\n",
       "    .dataframe tbody tr th {\n",
       "        vertical-align: top;\n",
       "    }\n",
       "\n",
       "    .dataframe thead th {\n",
       "        text-align: right;\n",
       "    }\n",
       "</style>\n",
       "<table border=\"1\" class=\"dataframe\">\n",
       "  <thead>\n",
       "    <tr style=\"text-align: right;\">\n",
       "      <th></th>\n",
       "      <th>int64</th>\n",
       "      <th>float64</th>\n",
       "      <th>object</th>\n",
       "    </tr>\n",
       "  </thead>\n",
       "  <tbody>\n",
       "    <tr>\n",
       "      <th>0</th>\n",
       "      <td>id</td>\n",
       "      <td>Age</td>\n",
       "      <td>Gender</td>\n",
       "    </tr>\n",
       "    <tr>\n",
       "      <th>1</th>\n",
       "      <td></td>\n",
       "      <td>Height</td>\n",
       "      <td>FHWO</td>\n",
       "    </tr>\n",
       "    <tr>\n",
       "      <th>2</th>\n",
       "      <td></td>\n",
       "      <td>Weight</td>\n",
       "      <td>FAVC</td>\n",
       "    </tr>\n",
       "    <tr>\n",
       "      <th>3</th>\n",
       "      <td></td>\n",
       "      <td>FCVC</td>\n",
       "      <td>CAEC</td>\n",
       "    </tr>\n",
       "    <tr>\n",
       "      <th>4</th>\n",
       "      <td></td>\n",
       "      <td>NCP</td>\n",
       "      <td>SMOKE</td>\n",
       "    </tr>\n",
       "    <tr>\n",
       "      <th>5</th>\n",
       "      <td></td>\n",
       "      <td>CH2O</td>\n",
       "      <td>SCC</td>\n",
       "    </tr>\n",
       "    <tr>\n",
       "      <th>6</th>\n",
       "      <td></td>\n",
       "      <td>FAF</td>\n",
       "      <td>CALC</td>\n",
       "    </tr>\n",
       "    <tr>\n",
       "      <th>7</th>\n",
       "      <td></td>\n",
       "      <td>TUE</td>\n",
       "      <td>MTRANS</td>\n",
       "    </tr>\n",
       "    <tr>\n",
       "      <th>8</th>\n",
       "      <td></td>\n",
       "      <td></td>\n",
       "      <td>WeightCategory</td>\n",
       "    </tr>\n",
       "  </tbody>\n",
       "</table>\n",
       "</div>"
      ]
     },
     "metadata": {},
     "output_type": "display_data"
    }
   ],
   "execution_count": 164
  },
  {
   "metadata": {
    "ExecuteTime": {
     "end_time": "2025-10-20T06:27:13.493448Z",
     "start_time": "2025-10-20T06:27:13.477640Z"
    }
   },
   "cell_type": "code",
   "source": "display(ds_source.head(5))",
   "id": "a359057830f0d4e9",
   "outputs": [
    {
     "data": {
      "text/plain": [
       "   id  Gender        Age    Height      Weight FHWO FAVC      FCVC       NCP  \\\n",
       "0   0    Male  24.443011  1.699998   81.669950  yes  yes  2.000000  2.983297   \n",
       "1   1  Female  18.000000  1.560000   57.000000  yes  yes  2.000000  3.000000   \n",
       "2   2  Female  18.000000  1.711460   50.165754  yes  yes  1.880534  1.411685   \n",
       "3   3  Female  20.952737  1.710730  131.274851  yes  yes  3.000000  3.000000   \n",
       "4   4    Male  31.641081  1.914186   93.798055  yes  yes  2.679664  1.971472   \n",
       "\n",
       "         CAEC SMOKE      CH2O SCC       FAF       TUE       CALC  \\\n",
       "0   Sometimes    no  2.763573  no  0.000000  0.976473  Sometimes   \n",
       "1  Frequently    no  2.000000  no  1.000000  1.000000         no   \n",
       "2   Sometimes    no  1.910378  no  0.866045  1.673584         no   \n",
       "3   Sometimes    no  1.674061  no  1.467863  0.780199  Sometimes   \n",
       "4   Sometimes    no  1.979848  no  1.967973  0.931721  Sometimes   \n",
       "\n",
       "                  MTRANS       WeightCategory  \n",
       "0  Public_Transportation  Overweight_Level_II  \n",
       "1             Automobile        Normal_Weight  \n",
       "2  Public_Transportation  Insufficient_Weight  \n",
       "3  Public_Transportation     Obesity_Type_III  \n",
       "4  Public_Transportation  Overweight_Level_II  "
      ],
      "text/html": [
       "<div>\n",
       "<style scoped>\n",
       "    .dataframe tbody tr th:only-of-type {\n",
       "        vertical-align: middle;\n",
       "    }\n",
       "\n",
       "    .dataframe tbody tr th {\n",
       "        vertical-align: top;\n",
       "    }\n",
       "\n",
       "    .dataframe thead th {\n",
       "        text-align: right;\n",
       "    }\n",
       "</style>\n",
       "<table border=\"1\" class=\"dataframe\">\n",
       "  <thead>\n",
       "    <tr style=\"text-align: right;\">\n",
       "      <th></th>\n",
       "      <th>id</th>\n",
       "      <th>Gender</th>\n",
       "      <th>Age</th>\n",
       "      <th>Height</th>\n",
       "      <th>Weight</th>\n",
       "      <th>FHWO</th>\n",
       "      <th>FAVC</th>\n",
       "      <th>FCVC</th>\n",
       "      <th>NCP</th>\n",
       "      <th>CAEC</th>\n",
       "      <th>SMOKE</th>\n",
       "      <th>CH2O</th>\n",
       "      <th>SCC</th>\n",
       "      <th>FAF</th>\n",
       "      <th>TUE</th>\n",
       "      <th>CALC</th>\n",
       "      <th>MTRANS</th>\n",
       "      <th>WeightCategory</th>\n",
       "    </tr>\n",
       "  </thead>\n",
       "  <tbody>\n",
       "    <tr>\n",
       "      <th>0</th>\n",
       "      <td>0</td>\n",
       "      <td>Male</td>\n",
       "      <td>24.443011</td>\n",
       "      <td>1.699998</td>\n",
       "      <td>81.669950</td>\n",
       "      <td>yes</td>\n",
       "      <td>yes</td>\n",
       "      <td>2.000000</td>\n",
       "      <td>2.983297</td>\n",
       "      <td>Sometimes</td>\n",
       "      <td>no</td>\n",
       "      <td>2.763573</td>\n",
       "      <td>no</td>\n",
       "      <td>0.000000</td>\n",
       "      <td>0.976473</td>\n",
       "      <td>Sometimes</td>\n",
       "      <td>Public_Transportation</td>\n",
       "      <td>Overweight_Level_II</td>\n",
       "    </tr>\n",
       "    <tr>\n",
       "      <th>1</th>\n",
       "      <td>1</td>\n",
       "      <td>Female</td>\n",
       "      <td>18.000000</td>\n",
       "      <td>1.560000</td>\n",
       "      <td>57.000000</td>\n",
       "      <td>yes</td>\n",
       "      <td>yes</td>\n",
       "      <td>2.000000</td>\n",
       "      <td>3.000000</td>\n",
       "      <td>Frequently</td>\n",
       "      <td>no</td>\n",
       "      <td>2.000000</td>\n",
       "      <td>no</td>\n",
       "      <td>1.000000</td>\n",
       "      <td>1.000000</td>\n",
       "      <td>no</td>\n",
       "      <td>Automobile</td>\n",
       "      <td>Normal_Weight</td>\n",
       "    </tr>\n",
       "    <tr>\n",
       "      <th>2</th>\n",
       "      <td>2</td>\n",
       "      <td>Female</td>\n",
       "      <td>18.000000</td>\n",
       "      <td>1.711460</td>\n",
       "      <td>50.165754</td>\n",
       "      <td>yes</td>\n",
       "      <td>yes</td>\n",
       "      <td>1.880534</td>\n",
       "      <td>1.411685</td>\n",
       "      <td>Sometimes</td>\n",
       "      <td>no</td>\n",
       "      <td>1.910378</td>\n",
       "      <td>no</td>\n",
       "      <td>0.866045</td>\n",
       "      <td>1.673584</td>\n",
       "      <td>no</td>\n",
       "      <td>Public_Transportation</td>\n",
       "      <td>Insufficient_Weight</td>\n",
       "    </tr>\n",
       "    <tr>\n",
       "      <th>3</th>\n",
       "      <td>3</td>\n",
       "      <td>Female</td>\n",
       "      <td>20.952737</td>\n",
       "      <td>1.710730</td>\n",
       "      <td>131.274851</td>\n",
       "      <td>yes</td>\n",
       "      <td>yes</td>\n",
       "      <td>3.000000</td>\n",
       "      <td>3.000000</td>\n",
       "      <td>Sometimes</td>\n",
       "      <td>no</td>\n",
       "      <td>1.674061</td>\n",
       "      <td>no</td>\n",
       "      <td>1.467863</td>\n",
       "      <td>0.780199</td>\n",
       "      <td>Sometimes</td>\n",
       "      <td>Public_Transportation</td>\n",
       "      <td>Obesity_Type_III</td>\n",
       "    </tr>\n",
       "    <tr>\n",
       "      <th>4</th>\n",
       "      <td>4</td>\n",
       "      <td>Male</td>\n",
       "      <td>31.641081</td>\n",
       "      <td>1.914186</td>\n",
       "      <td>93.798055</td>\n",
       "      <td>yes</td>\n",
       "      <td>yes</td>\n",
       "      <td>2.679664</td>\n",
       "      <td>1.971472</td>\n",
       "      <td>Sometimes</td>\n",
       "      <td>no</td>\n",
       "      <td>1.979848</td>\n",
       "      <td>no</td>\n",
       "      <td>1.967973</td>\n",
       "      <td>0.931721</td>\n",
       "      <td>Sometimes</td>\n",
       "      <td>Public_Transportation</td>\n",
       "      <td>Overweight_Level_II</td>\n",
       "    </tr>\n",
       "  </tbody>\n",
       "</table>\n",
       "</div>"
      ]
     },
     "metadata": {},
     "output_type": "display_data"
    }
   ],
   "execution_count": 165
  },
  {
   "metadata": {
    "ExecuteTime": {
     "end_time": "2025-10-20T06:27:14.258568Z",
     "start_time": "2025-10-20T06:27:14.216811Z"
    }
   },
   "cell_type": "code",
   "source": "display(ds_source.describe(include='all'))",
   "id": "e125276b3aa9ff4f",
   "outputs": [
    {
     "data": {
      "text/plain": [
       "                  id Gender           Age        Height        Weight   FHWO  \\\n",
       "count   15533.000000  15533  15533.000000  15533.000000  15533.000000  15533   \n",
       "unique           NaN      2           NaN           NaN           NaN      2   \n",
       "top              NaN   Male           NaN           NaN           NaN    yes   \n",
       "freq             NaN   7783           NaN           NaN           NaN  12696   \n",
       "mean     7766.000000    NaN     23.816308      1.699918     87.785225    NaN   \n",
       "std      4484.135201    NaN      5.663167      0.087670     26.369144    NaN   \n",
       "min         0.000000    NaN     14.000000      1.450000     39.000000    NaN   \n",
       "25%      3883.000000    NaN     20.000000      1.630927     66.000000    NaN   \n",
       "50%      7766.000000    NaN     22.771612      1.700000     84.000000    NaN   \n",
       "75%     11649.000000    NaN     26.000000      1.762921    111.600553    NaN   \n",
       "max     15532.000000    NaN     61.000000      1.975663    165.057269    NaN   \n",
       "\n",
       "         FAVC          FCVC           NCP       CAEC  SMOKE          CH2O  \\\n",
       "count   15533  15533.000000  15533.000000      15533  15533  15533.000000   \n",
       "unique      2           NaN           NaN          4      2           NaN   \n",
       "top       yes           NaN           NaN  Sometimes     no           NaN   \n",
       "freq    14184           NaN           NaN      13126  15356           NaN   \n",
       "mean      NaN      2.442917      2.760425        NaN    NaN      2.027626   \n",
       "std       NaN      0.530895      0.706463        NaN    NaN      0.607733   \n",
       "min       NaN      1.000000      1.000000        NaN    NaN      1.000000   \n",
       "25%       NaN      2.000000      3.000000        NaN    NaN      1.796257   \n",
       "50%       NaN      2.342220      3.000000        NaN    NaN      2.000000   \n",
       "75%       NaN      3.000000      3.000000        NaN    NaN      2.531456   \n",
       "max       NaN      3.000000      4.000000        NaN    NaN      3.000000   \n",
       "\n",
       "          SCC           FAF           TUE       CALC                 MTRANS  \\\n",
       "count   15533  15533.000000  15533.000000      15533                  15533   \n",
       "unique      2           NaN           NaN          3                      5   \n",
       "top        no           NaN           NaN  Sometimes  Public_Transportation   \n",
       "freq    15019           NaN           NaN      11285                  12470   \n",
       "mean      NaN      0.976968      0.613813        NaN                    NaN   \n",
       "std       NaN      0.836841      0.602223        NaN                    NaN   \n",
       "min       NaN      0.000000      0.000000        NaN                    NaN   \n",
       "25%       NaN      0.007050      0.000000        NaN                    NaN   \n",
       "50%       NaN      1.000000      0.566353        NaN                    NaN   \n",
       "75%       NaN      1.582675      1.000000        NaN                    NaN   \n",
       "max       NaN      3.000000      2.000000        NaN                    NaN   \n",
       "\n",
       "          WeightCategory  \n",
       "count              15533  \n",
       "unique                 7  \n",
       "top     Obesity_Type_III  \n",
       "freq                2983  \n",
       "mean                 NaN  \n",
       "std                  NaN  \n",
       "min                  NaN  \n",
       "25%                  NaN  \n",
       "50%                  NaN  \n",
       "75%                  NaN  \n",
       "max                  NaN  "
      ],
      "text/html": [
       "<div>\n",
       "<style scoped>\n",
       "    .dataframe tbody tr th:only-of-type {\n",
       "        vertical-align: middle;\n",
       "    }\n",
       "\n",
       "    .dataframe tbody tr th {\n",
       "        vertical-align: top;\n",
       "    }\n",
       "\n",
       "    .dataframe thead th {\n",
       "        text-align: right;\n",
       "    }\n",
       "</style>\n",
       "<table border=\"1\" class=\"dataframe\">\n",
       "  <thead>\n",
       "    <tr style=\"text-align: right;\">\n",
       "      <th></th>\n",
       "      <th>id</th>\n",
       "      <th>Gender</th>\n",
       "      <th>Age</th>\n",
       "      <th>Height</th>\n",
       "      <th>Weight</th>\n",
       "      <th>FHWO</th>\n",
       "      <th>FAVC</th>\n",
       "      <th>FCVC</th>\n",
       "      <th>NCP</th>\n",
       "      <th>CAEC</th>\n",
       "      <th>SMOKE</th>\n",
       "      <th>CH2O</th>\n",
       "      <th>SCC</th>\n",
       "      <th>FAF</th>\n",
       "      <th>TUE</th>\n",
       "      <th>CALC</th>\n",
       "      <th>MTRANS</th>\n",
       "      <th>WeightCategory</th>\n",
       "    </tr>\n",
       "  </thead>\n",
       "  <tbody>\n",
       "    <tr>\n",
       "      <th>count</th>\n",
       "      <td>15533.000000</td>\n",
       "      <td>15533</td>\n",
       "      <td>15533.000000</td>\n",
       "      <td>15533.000000</td>\n",
       "      <td>15533.000000</td>\n",
       "      <td>15533</td>\n",
       "      <td>15533</td>\n",
       "      <td>15533.000000</td>\n",
       "      <td>15533.000000</td>\n",
       "      <td>15533</td>\n",
       "      <td>15533</td>\n",
       "      <td>15533.000000</td>\n",
       "      <td>15533</td>\n",
       "      <td>15533.000000</td>\n",
       "      <td>15533.000000</td>\n",
       "      <td>15533</td>\n",
       "      <td>15533</td>\n",
       "      <td>15533</td>\n",
       "    </tr>\n",
       "    <tr>\n",
       "      <th>unique</th>\n",
       "      <td>NaN</td>\n",
       "      <td>2</td>\n",
       "      <td>NaN</td>\n",
       "      <td>NaN</td>\n",
       "      <td>NaN</td>\n",
       "      <td>2</td>\n",
       "      <td>2</td>\n",
       "      <td>NaN</td>\n",
       "      <td>NaN</td>\n",
       "      <td>4</td>\n",
       "      <td>2</td>\n",
       "      <td>NaN</td>\n",
       "      <td>2</td>\n",
       "      <td>NaN</td>\n",
       "      <td>NaN</td>\n",
       "      <td>3</td>\n",
       "      <td>5</td>\n",
       "      <td>7</td>\n",
       "    </tr>\n",
       "    <tr>\n",
       "      <th>top</th>\n",
       "      <td>NaN</td>\n",
       "      <td>Male</td>\n",
       "      <td>NaN</td>\n",
       "      <td>NaN</td>\n",
       "      <td>NaN</td>\n",
       "      <td>yes</td>\n",
       "      <td>yes</td>\n",
       "      <td>NaN</td>\n",
       "      <td>NaN</td>\n",
       "      <td>Sometimes</td>\n",
       "      <td>no</td>\n",
       "      <td>NaN</td>\n",
       "      <td>no</td>\n",
       "      <td>NaN</td>\n",
       "      <td>NaN</td>\n",
       "      <td>Sometimes</td>\n",
       "      <td>Public_Transportation</td>\n",
       "      <td>Obesity_Type_III</td>\n",
       "    </tr>\n",
       "    <tr>\n",
       "      <th>freq</th>\n",
       "      <td>NaN</td>\n",
       "      <td>7783</td>\n",
       "      <td>NaN</td>\n",
       "      <td>NaN</td>\n",
       "      <td>NaN</td>\n",
       "      <td>12696</td>\n",
       "      <td>14184</td>\n",
       "      <td>NaN</td>\n",
       "      <td>NaN</td>\n",
       "      <td>13126</td>\n",
       "      <td>15356</td>\n",
       "      <td>NaN</td>\n",
       "      <td>15019</td>\n",
       "      <td>NaN</td>\n",
       "      <td>NaN</td>\n",
       "      <td>11285</td>\n",
       "      <td>12470</td>\n",
       "      <td>2983</td>\n",
       "    </tr>\n",
       "    <tr>\n",
       "      <th>mean</th>\n",
       "      <td>7766.000000</td>\n",
       "      <td>NaN</td>\n",
       "      <td>23.816308</td>\n",
       "      <td>1.699918</td>\n",
       "      <td>87.785225</td>\n",
       "      <td>NaN</td>\n",
       "      <td>NaN</td>\n",
       "      <td>2.442917</td>\n",
       "      <td>2.760425</td>\n",
       "      <td>NaN</td>\n",
       "      <td>NaN</td>\n",
       "      <td>2.027626</td>\n",
       "      <td>NaN</td>\n",
       "      <td>0.976968</td>\n",
       "      <td>0.613813</td>\n",
       "      <td>NaN</td>\n",
       "      <td>NaN</td>\n",
       "      <td>NaN</td>\n",
       "    </tr>\n",
       "    <tr>\n",
       "      <th>std</th>\n",
       "      <td>4484.135201</td>\n",
       "      <td>NaN</td>\n",
       "      <td>5.663167</td>\n",
       "      <td>0.087670</td>\n",
       "      <td>26.369144</td>\n",
       "      <td>NaN</td>\n",
       "      <td>NaN</td>\n",
       "      <td>0.530895</td>\n",
       "      <td>0.706463</td>\n",
       "      <td>NaN</td>\n",
       "      <td>NaN</td>\n",
       "      <td>0.607733</td>\n",
       "      <td>NaN</td>\n",
       "      <td>0.836841</td>\n",
       "      <td>0.602223</td>\n",
       "      <td>NaN</td>\n",
       "      <td>NaN</td>\n",
       "      <td>NaN</td>\n",
       "    </tr>\n",
       "    <tr>\n",
       "      <th>min</th>\n",
       "      <td>0.000000</td>\n",
       "      <td>NaN</td>\n",
       "      <td>14.000000</td>\n",
       "      <td>1.450000</td>\n",
       "      <td>39.000000</td>\n",
       "      <td>NaN</td>\n",
       "      <td>NaN</td>\n",
       "      <td>1.000000</td>\n",
       "      <td>1.000000</td>\n",
       "      <td>NaN</td>\n",
       "      <td>NaN</td>\n",
       "      <td>1.000000</td>\n",
       "      <td>NaN</td>\n",
       "      <td>0.000000</td>\n",
       "      <td>0.000000</td>\n",
       "      <td>NaN</td>\n",
       "      <td>NaN</td>\n",
       "      <td>NaN</td>\n",
       "    </tr>\n",
       "    <tr>\n",
       "      <th>25%</th>\n",
       "      <td>3883.000000</td>\n",
       "      <td>NaN</td>\n",
       "      <td>20.000000</td>\n",
       "      <td>1.630927</td>\n",
       "      <td>66.000000</td>\n",
       "      <td>NaN</td>\n",
       "      <td>NaN</td>\n",
       "      <td>2.000000</td>\n",
       "      <td>3.000000</td>\n",
       "      <td>NaN</td>\n",
       "      <td>NaN</td>\n",
       "      <td>1.796257</td>\n",
       "      <td>NaN</td>\n",
       "      <td>0.007050</td>\n",
       "      <td>0.000000</td>\n",
       "      <td>NaN</td>\n",
       "      <td>NaN</td>\n",
       "      <td>NaN</td>\n",
       "    </tr>\n",
       "    <tr>\n",
       "      <th>50%</th>\n",
       "      <td>7766.000000</td>\n",
       "      <td>NaN</td>\n",
       "      <td>22.771612</td>\n",
       "      <td>1.700000</td>\n",
       "      <td>84.000000</td>\n",
       "      <td>NaN</td>\n",
       "      <td>NaN</td>\n",
       "      <td>2.342220</td>\n",
       "      <td>3.000000</td>\n",
       "      <td>NaN</td>\n",
       "      <td>NaN</td>\n",
       "      <td>2.000000</td>\n",
       "      <td>NaN</td>\n",
       "      <td>1.000000</td>\n",
       "      <td>0.566353</td>\n",
       "      <td>NaN</td>\n",
       "      <td>NaN</td>\n",
       "      <td>NaN</td>\n",
       "    </tr>\n",
       "    <tr>\n",
       "      <th>75%</th>\n",
       "      <td>11649.000000</td>\n",
       "      <td>NaN</td>\n",
       "      <td>26.000000</td>\n",
       "      <td>1.762921</td>\n",
       "      <td>111.600553</td>\n",
       "      <td>NaN</td>\n",
       "      <td>NaN</td>\n",
       "      <td>3.000000</td>\n",
       "      <td>3.000000</td>\n",
       "      <td>NaN</td>\n",
       "      <td>NaN</td>\n",
       "      <td>2.531456</td>\n",
       "      <td>NaN</td>\n",
       "      <td>1.582675</td>\n",
       "      <td>1.000000</td>\n",
       "      <td>NaN</td>\n",
       "      <td>NaN</td>\n",
       "      <td>NaN</td>\n",
       "    </tr>\n",
       "    <tr>\n",
       "      <th>max</th>\n",
       "      <td>15532.000000</td>\n",
       "      <td>NaN</td>\n",
       "      <td>61.000000</td>\n",
       "      <td>1.975663</td>\n",
       "      <td>165.057269</td>\n",
       "      <td>NaN</td>\n",
       "      <td>NaN</td>\n",
       "      <td>3.000000</td>\n",
       "      <td>4.000000</td>\n",
       "      <td>NaN</td>\n",
       "      <td>NaN</td>\n",
       "      <td>3.000000</td>\n",
       "      <td>NaN</td>\n",
       "      <td>3.000000</td>\n",
       "      <td>2.000000</td>\n",
       "      <td>NaN</td>\n",
       "      <td>NaN</td>\n",
       "      <td>NaN</td>\n",
       "    </tr>\n",
       "  </tbody>\n",
       "</table>\n",
       "</div>"
      ]
     },
     "metadata": {},
     "output_type": "display_data"
    }
   ],
   "execution_count": 166
  },
  {
   "metadata": {
    "ExecuteTime": {
     "end_time": "2025-10-20T06:27:14.779215Z",
     "start_time": "2025-10-20T06:27:14.771681Z"
    }
   },
   "cell_type": "code",
   "source": [
    "redundant_columns = ['id']\n",
    "target_columns = ['WeightCategory']\n",
    "\n",
    "gaussian_features = ['Age', 'Height', 'Weight']\n",
    "partial_features = ['FCVC', 'NCP', 'CH2O', 'FAF', 'TUE']\n",
    "binary_features = ['Gender', 'FHWO', 'FAVC', 'SMOKE', 'SCC']\n",
    "nary_features = ['CAEC', 'CALC', 'MTRANS']\n",
    "\n",
    "numerical_features = gaussian_features + partial_features\n",
    "categorical_features = binary_features + nary_features\n",
    "all_features = numerical_features + categorical_features\n",
    "\n",
    "numerical_derived_features = [\"BMI\", \"Water_Intake_per_Meal\", \"Activity_to_Tech_Ratio\", \"Healthy_Lifestyle_Score\"]\n",
    "binary_derived_features = [\"Has_FamilyRisk_and_FAVC\", \"Calorie_Monitoring_Interaction\"]\n",
    "derived_features = numerical_derived_features + binary_derived_features\n",
    "\n",
    "label_encoder = {label: index for index, label in enumerate(target_labels)}\n",
    "label_decoder = {index: label for index, label in enumerate(target_labels)}"
   ],
   "id": "4d76e1c501e359c",
   "outputs": [],
   "execution_count": 167
  },
  {
   "metadata": {},
   "cell_type": "markdown",
   "source": "## Data Presentation",
   "id": "21af09727db2c44e"
  },
  {
   "metadata": {},
   "cell_type": "markdown",
   "source": "#### Missing Value Detection",
   "id": "4089b02a8bb0940"
  },
  {
   "metadata": {
    "ExecuteTime": {
     "end_time": "2025-10-20T06:27:15.324188Z",
     "start_time": "2025-10-20T06:27:15.309316Z"
    }
   },
   "cell_type": "code",
   "source": "display(ds_source.isnull().sum().to_frame(name='Missing_Count'))",
   "id": "f0283e1f8fc6b796",
   "outputs": [
    {
     "data": {
      "text/plain": [
       "                Missing_Count\n",
       "id                          0\n",
       "Gender                      0\n",
       "Age                         0\n",
       "Height                      0\n",
       "Weight                      0\n",
       "FHWO                        0\n",
       "FAVC                        0\n",
       "FCVC                        0\n",
       "NCP                         0\n",
       "CAEC                        0\n",
       "SMOKE                       0\n",
       "CH2O                        0\n",
       "SCC                         0\n",
       "FAF                         0\n",
       "TUE                         0\n",
       "CALC                        0\n",
       "MTRANS                      0\n",
       "WeightCategory              0"
      ],
      "text/html": [
       "<div>\n",
       "<style scoped>\n",
       "    .dataframe tbody tr th:only-of-type {\n",
       "        vertical-align: middle;\n",
       "    }\n",
       "\n",
       "    .dataframe tbody tr th {\n",
       "        vertical-align: top;\n",
       "    }\n",
       "\n",
       "    .dataframe thead th {\n",
       "        text-align: right;\n",
       "    }\n",
       "</style>\n",
       "<table border=\"1\" class=\"dataframe\">\n",
       "  <thead>\n",
       "    <tr style=\"text-align: right;\">\n",
       "      <th></th>\n",
       "      <th>Missing_Count</th>\n",
       "    </tr>\n",
       "  </thead>\n",
       "  <tbody>\n",
       "    <tr>\n",
       "      <th>id</th>\n",
       "      <td>0</td>\n",
       "    </tr>\n",
       "    <tr>\n",
       "      <th>Gender</th>\n",
       "      <td>0</td>\n",
       "    </tr>\n",
       "    <tr>\n",
       "      <th>Age</th>\n",
       "      <td>0</td>\n",
       "    </tr>\n",
       "    <tr>\n",
       "      <th>Height</th>\n",
       "      <td>0</td>\n",
       "    </tr>\n",
       "    <tr>\n",
       "      <th>Weight</th>\n",
       "      <td>0</td>\n",
       "    </tr>\n",
       "    <tr>\n",
       "      <th>FHWO</th>\n",
       "      <td>0</td>\n",
       "    </tr>\n",
       "    <tr>\n",
       "      <th>FAVC</th>\n",
       "      <td>0</td>\n",
       "    </tr>\n",
       "    <tr>\n",
       "      <th>FCVC</th>\n",
       "      <td>0</td>\n",
       "    </tr>\n",
       "    <tr>\n",
       "      <th>NCP</th>\n",
       "      <td>0</td>\n",
       "    </tr>\n",
       "    <tr>\n",
       "      <th>CAEC</th>\n",
       "      <td>0</td>\n",
       "    </tr>\n",
       "    <tr>\n",
       "      <th>SMOKE</th>\n",
       "      <td>0</td>\n",
       "    </tr>\n",
       "    <tr>\n",
       "      <th>CH2O</th>\n",
       "      <td>0</td>\n",
       "    </tr>\n",
       "    <tr>\n",
       "      <th>SCC</th>\n",
       "      <td>0</td>\n",
       "    </tr>\n",
       "    <tr>\n",
       "      <th>FAF</th>\n",
       "      <td>0</td>\n",
       "    </tr>\n",
       "    <tr>\n",
       "      <th>TUE</th>\n",
       "      <td>0</td>\n",
       "    </tr>\n",
       "    <tr>\n",
       "      <th>CALC</th>\n",
       "      <td>0</td>\n",
       "    </tr>\n",
       "    <tr>\n",
       "      <th>MTRANS</th>\n",
       "      <td>0</td>\n",
       "    </tr>\n",
       "    <tr>\n",
       "      <th>WeightCategory</th>\n",
       "      <td>0</td>\n",
       "    </tr>\n",
       "  </tbody>\n",
       "</table>\n",
       "</div>"
      ]
     },
     "metadata": {},
     "output_type": "display_data"
    }
   ],
   "execution_count": 168
  },
  {
   "metadata": {},
   "cell_type": "markdown",
   "source": [
    "**Observation**: There is not a single missing value in any of the columns\n",
    "\n",
    "**Inference**: The dataset is pretty good in this department! We do not have to perform any sorts of missing value handling procedures like removal, imputation or flagging."
   ],
   "id": "7386b76e31177042"
  },
  {
   "metadata": {},
   "cell_type": "markdown",
   "source": "#### Outlier Detection",
   "id": "d8ced38e8e301cb6"
  },
  {
   "metadata": {
    "ExecuteTime": {
     "end_time": "2025-10-20T06:27:15.422347Z",
     "start_time": "2025-10-20T06:27:15.404277Z"
    }
   },
   "cell_type": "code",
   "source": [
    "def count_outliers(ds: pd.DataFrame, column: str):\n",
    "    quan25 = ds[column].quantile(0.25)\n",
    "    quan75 = ds[column].quantile(0.75)\n",
    "    iqr = quan75 - quan25\n",
    "    lower_limit = quan25 - 1.5 * iqr\n",
    "    upper_limit = quan75 + 1.5 * iqr\n",
    "    return len(ds[(ds[column] > upper_limit) | (ds[column] < lower_limit)])\n",
    "\n",
    "\n",
    "_ds_num = ds_source[numerical_features]\n",
    "display(pd.DataFrame(zip(_ds_num.columns, [count_outliers(_ds_num, col) for col in _ds_num.columns]),\n",
    "                     columns=['', 'Outliers_Count']))"
   ],
   "id": "f60c8798663d0eb1",
   "outputs": [
    {
     "data": {
      "text/plain": [
       "           Outliers_Count\n",
       "0     Age             792\n",
       "1  Height               4\n",
       "2  Weight               0\n",
       "3    FCVC               0\n",
       "4     NCP            4548\n",
       "5    CH2O               0\n",
       "6     FAF               0\n",
       "7     TUE               0"
      ],
      "text/html": [
       "<div>\n",
       "<style scoped>\n",
       "    .dataframe tbody tr th:only-of-type {\n",
       "        vertical-align: middle;\n",
       "    }\n",
       "\n",
       "    .dataframe tbody tr th {\n",
       "        vertical-align: top;\n",
       "    }\n",
       "\n",
       "    .dataframe thead th {\n",
       "        text-align: right;\n",
       "    }\n",
       "</style>\n",
       "<table border=\"1\" class=\"dataframe\">\n",
       "  <thead>\n",
       "    <tr style=\"text-align: right;\">\n",
       "      <th></th>\n",
       "      <th></th>\n",
       "      <th>Outliers_Count</th>\n",
       "    </tr>\n",
       "  </thead>\n",
       "  <tbody>\n",
       "    <tr>\n",
       "      <th>0</th>\n",
       "      <td>Age</td>\n",
       "      <td>792</td>\n",
       "    </tr>\n",
       "    <tr>\n",
       "      <th>1</th>\n",
       "      <td>Height</td>\n",
       "      <td>4</td>\n",
       "    </tr>\n",
       "    <tr>\n",
       "      <th>2</th>\n",
       "      <td>Weight</td>\n",
       "      <td>0</td>\n",
       "    </tr>\n",
       "    <tr>\n",
       "      <th>3</th>\n",
       "      <td>FCVC</td>\n",
       "      <td>0</td>\n",
       "    </tr>\n",
       "    <tr>\n",
       "      <th>4</th>\n",
       "      <td>NCP</td>\n",
       "      <td>4548</td>\n",
       "    </tr>\n",
       "    <tr>\n",
       "      <th>5</th>\n",
       "      <td>CH2O</td>\n",
       "      <td>0</td>\n",
       "    </tr>\n",
       "    <tr>\n",
       "      <th>6</th>\n",
       "      <td>FAF</td>\n",
       "      <td>0</td>\n",
       "    </tr>\n",
       "    <tr>\n",
       "      <th>7</th>\n",
       "      <td>TUE</td>\n",
       "      <td>0</td>\n",
       "    </tr>\n",
       "  </tbody>\n",
       "</table>\n",
       "</div>"
      ]
     },
     "metadata": {},
     "output_type": "display_data"
    }
   ],
   "execution_count": 169
  },
  {
   "metadata": {},
   "cell_type": "markdown",
   "source": [
    "**Observation**: TODO\n",
    "\n",
    "**Inference**: TODO"
   ],
   "id": "8cd1483f77b07f7c"
  },
  {
   "metadata": {},
   "cell_type": "markdown",
   "source": "#### Feature Distribution",
   "id": "12660881fc3fac99"
  },
  {
   "metadata": {
    "ExecuteTime": {
     "end_time": "2025-10-20T06:27:18.505278Z",
     "start_time": "2025-10-20T06:27:15.875991Z"
    }
   },
   "cell_type": "code",
   "source": [
    "fig, axs = plt.subplots(2, 4, figsize=(max_fig_width, 5))\n",
    "for ax, col in zip(flatten(axs), numerical_features):\n",
    "    sns.histplot(ds_source[col], kde=True, bins=12, ax=ax)\n",
    "    annotate_plot(ax, col)\n",
    "conclude_plot(\"Feature Distribution (Numerical)\")"
   ],
   "id": "386436acc4c0c6c1",
   "outputs": [
    {
     "data": {
      "text/plain": [
       "<Figure size 1100x500 with 8 Axes>"
      ],
      "image/png": "[encoded data removed]"
     },
     "metadata": {},
     "output_type": "display_data"
    }
   ],
   "execution_count": 170
  },
  {
   "metadata": {},
   "cell_type": "markdown",
   "source": [
    "**Observation**:\n",
    "* Age dataset is clearly far too skewed towards the left\n",
    "* All features other than Age, Height and Weight do not follow a conventional distribution. <br/> Rather, they have a characteristic misture of discrete sampling and a gaussian likeness.\n",
    "* TODO\n",
    "\n",
    "**Inference**: TODO"
   ],
   "id": "ee1eb635efe8235a"
  },
  {
   "metadata": {
    "ExecuteTime": {
     "end_time": "2025-10-20T06:27:20.087248Z",
     "start_time": "2025-10-20T06:27:18.539947Z"
    }
   },
   "cell_type": "code",
   "source": [
    "fig, axs = plt.subplots(2, 4, figsize=(max_fig_width, 5))\n",
    "for ax, col in zip(flatten(axs), categorical_features):\n",
    "    sns.countplot(ds_source[col], ax=ax)\n",
    "    annotate_plot(ax, col), ax.set_xscale('log'), ax.set_xlim(10, 20000)\n",
    "    if col == 'MTRANS': ax.set_yticks(range(5), ['Public', 'Automobile', 'Walking', 'Motorbike', 'Bike'], **font_ticks)\n",
    "conclude_plot(\"Feature Distribution (Discrete)\", constrained=True)"
   ],
   "id": "b3787e059df0feae",
   "outputs": [
    {
     "data": {
      "text/plain": [
       "<Figure size 1100x500 with 8 Axes>"
      ],
      "image/png": "[encoded data removed]"
     },
     "metadata": {},
     "output_type": "display_data"
    }
   ],
   "execution_count": 171
  },
  {
   "metadata": {},
   "cell_type": "markdown",
   "source": [
    "**Observation**:\n",
    "* Gender is very well distributed\n",
    "* Family History With Overweight and High Caloric Food Consumption Freq has small skewedness\n",
    "* Smoke and Calories Consumption Monitoring has moderate skewedness\n",
    "* Consumption of Food Between Meals, Consumption of alcohol, and Means of Transportation Used are extremely skewedness\n",
    "\n",
    "**Inference**:\n",
    "* TODO"
   ],
   "id": "42714211895b1224"
  },
  {
   "metadata": {
    "ExecuteTime": {
     "end_time": "2025-10-20T06:27:21.086516Z",
     "start_time": "2025-10-20T06:27:20.123838Z"
    }
   },
   "cell_type": "code",
   "source": [
    "fig, axs = plt.subplots(1, 8, figsize=(max_fig_width, 5))\n",
    "for ax, column in zip(flatten(axs), numerical_features):\n",
    "    sns.boxplot(y=column, data=ds_source, ax=ax)\n",
    "conclude_plot(\"Feature Spread (Numerical)\")"
   ],
   "id": "13c667337e747767",
   "outputs": [
    {
     "data": {
      "text/plain": [
       "<Figure size 1100x500 with 8 Axes>"
      ],
      "image/png": "[encoded data removed]"
     },
     "metadata": {},
     "output_type": "display_data"
    }
   ],
   "execution_count": 172
  },
  {
   "metadata": {},
   "cell_type": "markdown",
   "source": [
    "**Observation**:\n",
    "* TODO\n",
    "\n",
    "**Inference**:\n",
    "* TODO"
   ],
   "id": "551cb370c15a0a9a"
  },
  {
   "metadata": {
    "ExecuteTime": {
     "end_time": "2025-10-20T06:27:21.405515Z",
     "start_time": "2025-10-20T06:27:21.116979Z"
    }
   },
   "cell_type": "code",
   "source": [
    "plt.figure(figsize=sml_fig)\n",
    "_ds_num = ds_source[numerical_features]\n",
    "(_ds_num.mean() - _ds_num.median()).abs().plot(kind='bar', width=0.8)\n",
    "plt.yscale('log'), plt.ylim(0.01, 10)\n",
    "plt.axhline(0.3, color='black', linestyle='--')\n",
    "conclude_plot(\"Outlier Sensitivity (Numerical)\")"
   ],
   "id": "cd5ee9f2229cf8ab",
   "outputs": [
    {
     "data": {
      "text/plain": [
       "<Figure size 400x300 with 1 Axes>"
      ],
      "image/png": "[encoded data removed]"
     },
     "metadata": {},
     "output_type": "display_data"
    }
   ],
   "execution_count": 173
  },
  {
   "metadata": {},
   "cell_type": "markdown",
   "source": [
    "**Observation**:\n",
    "* TODO\n",
    "\n",
    "**Inference**:\n",
    "* TODO"
   ],
   "id": "6f1b14d16db121f0"
  },
  {
   "metadata": {},
   "cell_type": "markdown",
   "source": "## Data Pre-Processing",
   "id": "bd7459ab3e2aba8f"
  },
  {
   "metadata": {},
   "cell_type": "markdown",
   "source": "### Experimenting on AGE Feature",
   "id": "51f22affb4d69c74"
  },
  {
   "metadata": {
    "ExecuteTime": {
     "end_time": "2025-10-20T06:27:22.640086Z",
     "start_time": "2025-10-20T06:27:21.427502Z"
    }
   },
   "cell_type": "code",
   "source": [
    "fig, axs = plt.subplots(1, 4, figsize=(max_fig_width, 3))\n",
    "_bclam, _bcage = pop_box_cox_transform(ds_source['Age'])\n",
    "for ax, title, data in zip(flatten(axs), *zip(\n",
    "        ['No Transform', ds_source['Age']],\n",
    "        ['Log Transform', pop_log_transform(ds_source['Age'])[1]],\n",
    "        ['Sqrt Transform', pop_root_transform(ds_source['Age'])[1]],\n",
    "        ['Box-Cox %.2f' % _bclam, _bcage],\n",
    ")):\n",
    "    sns.histplot(data, kde=True, bins=8, ax=ax)\n",
    "    annotate_plot(ax, title)\n",
    "conclude_plot(\"Feature Transforms over Age\")"
   ],
   "id": "cb82cf2bf383f972",
   "outputs": [
    {
     "data": {
      "text/plain": [
       "<Figure size 1100x300 with 4 Axes>"
      ],
      "image/png": "[encoded data removed]"
     },
     "metadata": {},
     "output_type": "display_data"
    }
   ],
   "execution_count": 174
  },
  {
   "metadata": {},
   "cell_type": "markdown",
   "source": "### Experimenting on NCP Feature",
   "id": "39496c0af444ec80"
  },
  {
   "metadata": {
    "ExecuteTime": {
     "end_time": "2025-10-20T06:27:23.832540Z",
     "start_time": "2025-10-20T06:27:22.670667Z"
    }
   },
   "cell_type": "code",
   "source": [
    "fig, axs = plt.subplots(1, 4, figsize=(max_fig_width, 3))\n",
    "_, _scd_ncp = pop_soft_ohe(ds_source['NCP'], [1, 3, 3.5])\n",
    "for ax, title, data in zip(flatten(axs), *zip(\n",
    "        ['No Transform', ds_source['NCP']],\n",
    "        ['First Split', _scd_ncp[0]],\n",
    "        ['Second Split', _scd_ncp[1]],\n",
    "        ['Third Split', _scd_ncp[2]],\n",
    ")):\n",
    "    sns.histplot(data, kde=True, bins=5, ax=ax)\n",
    "    annotate_plot(ax, title)\n",
    "conclude_plot(\"Soft OHE Transforms over NCP\")"
   ],
   "id": "a64a18487b9ea302",
   "outputs": [
    {
     "data": {
      "text/plain": [
       "<Figure size 1100x300 with 4 Axes>"
      ],
      "image/png": "[encoded data removed]"
     },
     "metadata": {},
     "output_type": "display_data"
    }
   ],
   "execution_count": 175
  },
  {
   "metadata": {},
   "cell_type": "markdown",
   "source": "### Outlier Handling",
   "id": "41f889ae3abd91d1"
  },
  {
   "metadata": {
    "ExecuteTime": {
     "end_time": "2025-10-20T06:27:23.872327Z",
     "start_time": "2025-10-20T06:27:23.869227Z"
    }
   },
   "cell_type": "code",
   "source": "# TODO",
   "id": "bd28a1a64d5b2539",
   "outputs": [],
   "execution_count": 176
  },
  {
   "metadata": {},
   "cell_type": "markdown",
   "source": "## Data Pipelining",
   "id": "f3686d6883605f28"
  },
  {
   "metadata": {},
   "cell_type": "markdown",
   "source": "#### For Regression Based Models",
   "id": "1317bbe20d298a0b"
  },
  {
   "metadata": {
    "ExecuteTime": {
     "end_time": "2025-10-20T06:27:23.889289Z",
     "start_time": "2025-10-20T06:27:23.883333Z"
    }
   },
   "cell_type": "code",
   "source": [
    "regression_pipeline = [\n",
    "    [  # Compulsory ones\n",
    "        (pop_drop_column, ['id', 'WeightCategory']),\n",
    "        (pop_binarize, binary_features),\n",
    "        (pop_one_hot_encode, nary_features),\n",
    "    ],\n",
    "    [  # Permutable ones\n",
    "        [  # No Chill\n",
    "        ],\n",
    "        [  # Simple Life\n",
    "            (pop_box_cox_transform, ['Age']),\n",
    "            (pop_standardize, numerical_features),\n",
    "        ],\n",
    "        [  # Encoded Q-Conts\n",
    "            (pop_box_cox_transform, ['Age']),\n",
    "            (pop_standardize, gaussian_features),\n",
    "            (pop_round, partial_features),\n",
    "            (pop_one_hot_encode, partial_features),\n",
    "        ],\n",
    "        [  # Soft Hot Encode\n",
    "            (pop_box_cox_transform, ['Age']),\n",
    "            (pop_standardize, gaussian_features),\n",
    "            (prepare_pop(pop_soft_ohe, [1, 2, 3]), ['FCVC']),\n",
    "            (prepare_pop(pop_soft_ohe, [1, 3, 4]), ['NCP']),\n",
    "            (prepare_pop(pop_soft_ohe, [1, 2, 3]), ['CH2O']),\n",
    "            (prepare_pop(pop_soft_ohe, [0, 1, 2, 3]), ['FAF']),\n",
    "            (prepare_pop(pop_soft_ohe, [0, 1, 2]), ['TUE']),\n",
    "        ],\n",
    "    ],\n",
    "]\n",
    "regression_pipeline_derived = regression_pipeline.copy()\n",
    "regression_pipeline_derived[0] = [  # Compulsory ones\n",
    "    (pop_drop_column, ['id', 'WeightCategory']),\n",
    "    (pop_derived_features, [all_features]),\n",
    "    (pop_binarize, binary_features),\n",
    "    (pop_one_hot_encode, nary_features),\n",
    "    (pop_standardize, numerical_derived_features),\n",
    "    (pop_binarize, binary_derived_features),\n",
    "]\n",
    "# next(apply_pipeline(ds_source.head(10), regression_pipeline_derived, False))[1]"
   ],
   "id": "50b3b21782f9d7a3",
   "outputs": [],
   "execution_count": 177
  },
  {
   "metadata": {
    "ExecuteTime": {
     "end_time": "2025-10-20T06:27:37.434472Z",
     "start_time": "2025-10-20T06:27:23.899741Z"
    }
   },
   "cell_type": "code",
   "source": [
    "_ds_targets = pop_ordinal_encode(ds_source['WeightCategory'])[1].to_numpy()\n",
    "_scores = []\n",
    "\n",
    "for pipeline in [regression_pipeline, regression_pipeline_derived]:\n",
    "    for args, ds_sample in apply_pipeline(ds_source, pipeline):\n",
    "        model = skl.linear_model.LogisticRegression(max_iter=1000)\n",
    "        with warnings.catch_warnings():\n",
    "            warnings.filterwarnings(\"ignore\", category=skl.exceptions.ConvergenceWarning)\n",
    "            model.fit(ds_sample, _ds_targets)\n",
    "        _scores.append(model.score(ds_sample, _ds_targets))\n",
    "\n",
    "plt.figure(figsize=wid_fig)\n",
    "plt.bar(range(4), _scores[:4], label='Features used As-Is')\n",
    "plt.bar(range(4, 8), _scores[4:], label='With Derived Features')\n",
    "plt.xticks(range(len(_scores)), ['No Op', 'Standard', 'Rounded', 'Soft Hot'] * 2)\n",
    "plt.ylim(min(0.8, np.min(_scores)), max(0.9, np.max(_scores)))\n",
    "plt.legend()\n",
    "conclude_plot(\"Effect of Different Pipelines\")"
   ],
   "id": "a1a4fb2512362602",
   "outputs": [
    {
     "data": {
      "text/plain": [
       "<Figure size 800x300 with 1 Axes>"
      ],
      "image/png": "[encoded data removed]"
     },
     "metadata": {},
     "output_type": "display_data"
    }
   ],
   "execution_count": 178
  },
  {
   "metadata": {},
   "cell_type": "markdown",
   "source": "#### For Tree Based Models",
   "id": "cb1a6e0459594808"
  },
  {
   "metadata": {
    "ExecuteTime": {
     "end_time": "2025-10-20T06:27:37.461640Z",
     "start_time": "2025-10-20T06:27:37.457651Z"
    }
   },
   "cell_type": "code",
   "source": [
    "tree_pipeline = [\n",
    "    [  # Compulsory ones\n",
    "        (pop_binarize, binary_features),\n",
    "        (pop_drop_column, ['id', 'WeightCategory']),\n",
    "    ],\n",
    "    [  # Permutable ones\n",
    "        [  # Ordinal Encoded\n",
    "            (pop_ordinal_encode, nary_features),\n",
    "        ],\n",
    "        [  # One Hot Encoded\n",
    "            (pop_one_hot_encode, nary_features),\n",
    "        ],\n",
    "    ],\n",
    "]\n",
    "tree_pipeline_derived = tree_pipeline.copy()\n",
    "tree_pipeline_derived[0] = [  # Compulsory ones\n",
    "    (pop_drop_column, ['id', 'WeightCategory']),\n",
    "    (pop_derived_features, [all_features]),\n",
    "    (pop_binarize, binary_features),\n",
    "    (pop_standardize, numerical_derived_features),\n",
    "    (pop_binarize, binary_derived_features),\n",
    "]"
   ],
   "id": "570c2d57586316e8",
   "outputs": [],
   "execution_count": 179
  },
  {
   "metadata": {
    "ExecuteTime": {
     "end_time": "2025-10-20T06:27:38.150508Z",
     "start_time": "2025-10-20T06:27:37.465901Z"
    }
   },
   "cell_type": "code",
   "source": [
    "_ds_targets = pop_ordinal_encode(ds_source['WeightCategory'])[1].to_numpy()\n",
    "_scores = []\n",
    "\n",
    "for pipeline in [tree_pipeline, tree_pipeline_derived]:\n",
    "    for args, ds_sample in apply_pipeline(ds_source, pipeline):\n",
    "        model = skl.tree.DecisionTreeClassifier(max_depth=7)\n",
    "        model.fit(ds_sample, _ds_targets)\n",
    "        _scores.append(model.score(ds_sample, _ds_targets))\n",
    "\n",
    "plt.figure(figsize=sml_fig)\n",
    "plt.bar(range(2), _scores[:2], label='Features used As-Is')\n",
    "plt.bar(range(2, 4), _scores[2:], label='With Derived Features')\n",
    "plt.xticks(range(len(_scores)), ['No Op', 'Standard'] * 2)\n",
    "plt.ylim(min(0.75, np.min(_scores)), max(1.0, np.max(_scores)))\n",
    "plt.legend()\n",
    "conclude_plot(\"Effect of Different Pipelines\")"
   ],
   "id": "5b6327509290b745",
   "outputs": [
    {
     "data": {
      "text/plain": [
       "<Figure size 400x300 with 1 Axes>"
      ],
      "image/png": "[encoded data removed]"
     },
     "metadata": {},
     "output_type": "display_data"
    }
   ],
   "execution_count": 180
  },
  {
   "metadata": {},
   "cell_type": "markdown",
   "source": "## Modelling",
   "id": "c5bc3311d05f4642"
  },
  {
   "metadata": {},
   "cell_type": "markdown",
   "source": "### Experiment Setup",
   "id": "e6fd26dc24baa324"
  },
  {
   "metadata": {},
   "cell_type": "code",
   "outputs": [],
   "execution_count": null,
   "source": "",
   "id": "5db127442219a58"
  },
  {
   "metadata": {},
   "cell_type": "markdown",
   "source": "### Logistic Regression",
   "id": "eee6475f1fc543b7"
  },
  {
   "metadata": {
    "ExecuteTime": {
     "end_time": "2025-10-19T15:38:07.945998Z",
     "start_time": "2025-10-19T15:38:07.702328Z"
    }
   },
   "cell_type": "code",
   "source": [
    "pipeline = select_pipeline_variation(regression_pipeline_derived, 3)\n",
    "arguments, ds_source_regression = next(apply_pipeline(ds_source, pipeline))\n",
    "\n",
    "data_x, data_y = ds_source_regression, ds_source['WeightCategory'].to_numpy()\n",
    "train_x, test_x, train_y, test_y = skl.model_selection.train_test_split(\n",
    "    data_x, data_y, test_size=0.33, random_state=default_seed)\n",
    "\n",
    "_, data_test = next(apply_pipeline(ds_test, pipeline))\n",
    "data_test_ids = ds_test['id'].to_numpy()"
   ],
   "id": "2ff4e88dcc85e8e6",
   "outputs": [],
   "execution_count": 56
  },
  {
   "metadata": {},
   "cell_type": "markdown",
   "source": "#### Simple LR Example",
   "id": "a365400c3eda7569"
  },
  {
   "metadata": {
    "ExecuteTime": {
     "end_time": "2025-10-19T15:38:10.488995Z",
     "start_time": "2025-10-19T15:38:09.085564Z"
    }
   },
   "cell_type": "code",
   "source": [
    "model = skl.linear_model.LogisticRegression(max_iter=1000)\n",
    "evaluate_model(model, train_x, train_y, test_x, test_y)\n",
    "save_submission(\"SimpleLRModel\", model, data_test_ids, data_test)\n",
    "chime.info()"
   ],
   "id": "caf9bbfab58d423b",
   "outputs": [
    {
     "data": {
      "text/plain": [
       "<IPython.core.display.Markdown object>"
      ],
      "text/markdown": "#### **Train Accuracy:** `0.8802728932449313`"
     },
     "metadata": {},
     "output_type": "display_data"
    },
    {
     "data": {
      "text/plain": [
       "<IPython.core.display.Markdown object>"
      ],
      "text/markdown": "#### **Test Accuracy:** `0.8718298868513461`"
     },
     "metadata": {},
     "output_type": "display_data"
    }
   ],
   "execution_count": 57
  },
  {
   "metadata": {},
   "cell_type": "markdown",
   "source": "#### Grid Searched Logistic Regression",
   "id": "473c3abebdf5d5de"
  },
  {
   "metadata": {
    "ExecuteTime": {
     "end_time": "2025-10-19T16:16:52.112280Z",
     "start_time": "2025-10-19T16:15:27.726602Z"
    }
   },
   "cell_type": "code",
   "source": [
    "start_time = time.perf_counter()\n",
    "\n",
    "history = []\n",
    "for penalty, c, solver in itertools.product(\n",
    "        [None, 'l1', 'l2', 'elasticnet'],\n",
    "        [1.0, 0.1],\n",
    "        ['lbfgs', 'liblinear', 'newton-cg', 'newton-cholesky', 'sag', 'saga']\n",
    "):\n",
    "    if penalty is None and c != 1.0: continue\n",
    "    l1_ratio = 0.5 if penalty == 'elasticnet' else None\n",
    "    key = f'penalty={penalty},c={c},solver={solver}'\n",
    "    print(\"Training\", key)\n",
    "    try:\n",
    "        with warnings.catch_warnings():\n",
    "            warnings.simplefilter(\"ignore\")\n",
    "            model = skl.linear_model.LogisticRegression(\n",
    "                penalty=penalty, C=c, solver=solver, l1_ratio=l1_ratio,\n",
    "                max_iter=1000, n_jobs=15)\n",
    "            model.fit(train_x, train_y)\n",
    "            history.append([key, {'model': model, 'train score': model.score(train_x, train_y),\n",
    "                                  'val score': model.score(test_x, test_y)}])\n",
    "    except Exception as e:\n",
    "        print(\"Not possible\", e)\n",
    "\n",
    "best_score, best_config, best_model = max([[x[1]['val score'], x[0], x[1]['model']] for x in history])\n",
    "save_submission('GSLR_' + best_config, best_model, data_test_ids, data_test)\n",
    "displayMD(header(4, kv('Best Val Accuracy', best_score)))\n",
    "displayMD(header(4, kv('Time Elapsed', \"{time.perf_counter() - start_time:.4f} seconds\")))\n",
    "chime.success()"
   ],
   "id": "203681adc28570de",
   "outputs": [
    {
     "name": "stdout",
     "output_type": "stream",
     "text": [
      "Training penalty=None,c=1.0,solver=lbfgs\n",
      "Training penalty=None,c=1.0,solver=liblinear\n",
      "Not possible penalty=None is not supported for the liblinear solver\n",
      "Training penalty=None,c=1.0,solver=newton-cg\n",
      "Training penalty=None,c=1.0,solver=newton-cholesky\n",
      "Training penalty=None,c=1.0,solver=sag\n",
      "Training penalty=None,c=1.0,solver=saga\n",
      "Training penalty=l1,c=1.0,solver=lbfgs\n",
      "Not possible Solver lbfgs supports only 'l2' or None penalties, got l1 penalty.\n",
      "Training penalty=l1,c=1.0,solver=liblinear\n",
      "Training penalty=l1,c=1.0,solver=newton-cg\n",
      "Not possible Solver newton-cg supports only 'l2' or None penalties, got l1 penalty.\n",
      "Training penalty=l1,c=1.0,solver=newton-cholesky\n",
      "Not possible Solver newton-cholesky supports only 'l2' or None penalties, got l1 penalty.\n",
      "Training penalty=l1,c=1.0,solver=sag\n",
      "Not possible Solver sag supports only 'l2' or None penalties, got l1 penalty.\n",
      "Training penalty=l1,c=1.0,solver=saga\n",
      "Training penalty=l1,c=0.1,solver=lbfgs\n",
      "Not possible Solver lbfgs supports only 'l2' or None penalties, got l1 penalty.\n",
      "Training penalty=l1,c=0.1,solver=liblinear\n",
      "Training penalty=l1,c=0.1,solver=newton-cg\n",
      "Not possible Solver newton-cg supports only 'l2' or None penalties, got l1 penalty.\n",
      "Training penalty=l1,c=0.1,solver=newton-cholesky\n",
      "Not possible Solver newton-cholesky supports only 'l2' or None penalties, got l1 penalty.\n",
      "Training penalty=l1,c=0.1,solver=sag\n",
      "Not possible Solver sag supports only 'l2' or None penalties, got l1 penalty.\n",
      "Training penalty=l1,c=0.1,solver=saga\n",
      "Training penalty=l2,c=1.0,solver=lbfgs\n",
      "Training penalty=l2,c=1.0,solver=liblinear\n",
      "Training penalty=l2,c=1.0,solver=newton-cg\n",
      "Training penalty=l2,c=1.0,solver=newton-cholesky\n",
      "Training penalty=l2,c=1.0,solver=sag\n",
      "Training penalty=l2,c=1.0,solver=saga\n",
      "Training penalty=l2,c=0.1,solver=lbfgs\n",
      "Training penalty=l2,c=0.1,solver=liblinear\n",
      "Training penalty=l2,c=0.1,solver=newton-cg\n",
      "Training penalty=l2,c=0.1,solver=newton-cholesky\n",
      "Training penalty=l2,c=0.1,solver=sag\n",
      "Training penalty=l2,c=0.1,solver=saga\n",
      "Training penalty=elasticnet,c=1.0,solver=lbfgs\n",
      "Not possible Solver lbfgs supports only 'l2' or None penalties, got elasticnet penalty.\n",
      "Training penalty=elasticnet,c=1.0,solver=liblinear\n",
      "Not possible Only 'saga' solver supports elasticnet penalty, got solver=liblinear.\n",
      "Training penalty=elasticnet,c=1.0,solver=newton-cg\n",
      "Not possible Solver newton-cg supports only 'l2' or None penalties, got elasticnet penalty.\n",
      "Training penalty=elasticnet,c=1.0,solver=newton-cholesky\n",
      "Not possible Solver newton-cholesky supports only 'l2' or None penalties, got elasticnet penalty.\n",
      "Training penalty=elasticnet,c=1.0,solver=sag\n",
      "Not possible Solver sag supports only 'l2' or None penalties, got elasticnet penalty.\n",
      "Training penalty=elasticnet,c=1.0,solver=saga\n",
      "Training penalty=elasticnet,c=0.1,solver=lbfgs\n",
      "Not possible Solver lbfgs supports only 'l2' or None penalties, got elasticnet penalty.\n",
      "Training penalty=elasticnet,c=0.1,solver=liblinear\n",
      "Not possible Only 'saga' solver supports elasticnet penalty, got solver=liblinear.\n",
      "Training penalty=elasticnet,c=0.1,solver=newton-cg\n",
      "Not possible Solver newton-cg supports only 'l2' or None penalties, got elasticnet penalty.\n",
      "Training penalty=elasticnet,c=0.1,solver=newton-cholesky\n",
      "Not possible Solver newton-cholesky supports only 'l2' or None penalties, got elasticnet penalty.\n",
      "Training penalty=elasticnet,c=0.1,solver=sag\n",
      "Not possible Solver sag supports only 'l2' or None penalties, got elasticnet penalty.\n",
      "Training penalty=elasticnet,c=0.1,solver=saga\n",
      "Elapsed time: 84.3791 seconds\n"
     ]
    }
   ],
   "execution_count": 111
  },
  {
   "metadata": {
    "ExecuteTime": {
     "end_time": "2025-10-19T16:17:20.566959Z",
     "start_time": "2025-10-19T16:17:20.487034Z"
    }
   },
   "cell_type": "code",
   "source": [
    "plt.figure(figsize=sml_fig)\n",
    "_hist = sorted([[x[1]['val score'], x] for x in history])\n",
    "for idx, (score, _) in enumerate(_hist):\n",
    "    plt.bar(idx, score)\n",
    "plt.xlabel(_hist[-1][1][0])\n",
    "plt.ylim(min(0.5, _hist[0][0] - 0.1), 1.0)\n",
    "conclude_plot(\"Best LR Config\")"
   ],
   "id": "d62b112025371b5a",
   "outputs": [
    {
     "data": {
      "text/plain": [
       "<Figure size 400x300 with 1 Axes>"
      ],
      "image/png": "[encoded data removed]"
     },
     "metadata": {},
     "output_type": "display_data"
    }
   ],
   "execution_count": 112
  },
  {
   "metadata": {},
   "cell_type": "markdown",
   "source": "### Decision Tree",
   "id": "7bdd64a51ff5a6fe"
  },
  {
   "metadata": {
    "ExecuteTime": {
     "end_time": "2025-10-19T16:33:38.187356Z",
     "start_time": "2025-10-19T16:33:38.073947Z"
    }
   },
   "cell_type": "code",
   "source": [
    "pipeline = select_pipeline_variation(tree_pipeline, 0)\n",
    "arguments, ds_source_regression = next(apply_pipeline(ds_source, pipeline))\n",
    "\n",
    "data_x, data_y = ds_source_regression, ds_source['WeightCategory'].to_numpy()\n",
    "train_x, test_x, train_y, test_y = skl.model_selection.train_test_split(\n",
    "    data_x, data_y, test_size=0.33, random_state=default_seed)\n",
    "\n",
    "_, data_test = next(apply_pipeline(ds_test, pipeline))\n",
    "data_test_ids = ds_test['id'].to_numpy()"
   ],
   "id": "f5b0504e3411ead4",
   "outputs": [],
   "execution_count": 128
  },
  {
   "metadata": {},
   "cell_type": "markdown",
   "source": "#### Simple DT Example",
   "id": "85386143b4e9f0b"
  },
  {
   "metadata": {
    "ExecuteTime": {
     "end_time": "2025-10-19T16:33:39.706145Z",
     "start_time": "2025-10-19T16:33:39.586183Z"
    }
   },
   "cell_type": "code",
   "source": [
    "model = skl.tree.DecisionTreeClassifier(max_depth=9)\n",
    "evaluate_model(model, train_x, train_y, test_x, test_y)\n",
    "save_submission(\"SimpleDTModel\", model, data_test_ids, data_test)\n",
    "chime.info()"
   ],
   "id": "f89135c9ae1fb336",
   "outputs": [
    {
     "data": {
      "text/plain": [
       "<IPython.core.display.Markdown object>"
      ],
      "text/markdown": "#### **Train Accuracy:** `0.9062169693475546`"
     },
     "metadata": {},
     "output_type": "display_data"
    },
    {
     "data": {
      "text/plain": [
       "<IPython.core.display.Markdown object>"
      ],
      "text/markdown": "#### **Test Accuracy:** `0.8655872024970738`"
     },
     "metadata": {},
     "output_type": "display_data"
    }
   ],
   "execution_count": 129
  },
  {
   "metadata": {},
   "cell_type": "markdown",
   "source": "#### Grid Searched Decision Tree",
   "id": "a6e0338e9628c31d"
  },
  {
   "metadata": {
    "ExecuteTime": {
     "end_time": "2025-10-19T16:33:44.491502Z",
     "start_time": "2025-10-19T16:33:42.249980Z"
    }
   },
   "cell_type": "code",
   "source": [
    "start_time = time.perf_counter()\n",
    "\n",
    "history = []\n",
    "for criterion, max_depth in itertools.product(\n",
    "        ['gini', 'entropy'],\n",
    "        range(5, 21),\n",
    "):\n",
    "    key = f'criterion={criterion},max_depth={max_depth}'\n",
    "    print(\"Training\", key)\n",
    "    model = skl.tree.DecisionTreeClassifier(max_depth=max_depth)\n",
    "    model.fit(train_x, train_y)\n",
    "    history.append([key, {'model': model, 'train score': model.score(train_x, train_y),\n",
    "                          'val score': model.score(test_x, test_y)}])\n",
    "\n",
    "best_score, best_config, best_model = max([[x[1]['val score'], x[0], x[1]['model']] for x in history])\n",
    "save_submission('GSDT_' + best_config, best_model, data_test_ids, data_test)\n",
    "displayMD(header(4, kv('Best Val Accuracy', best_score)))\n",
    "displayMD(header(4, kv('Time Elapsed', f\"{time.perf_counter() - start_time:.4f} seconds\")))\n",
    "chime.success()"
   ],
   "id": "957b9576c44fd4d",
   "outputs": [
    {
     "name": "stdout",
     "output_type": "stream",
     "text": [
      "Training criterion=gini,max_depth=5\n",
      "Training criterion=gini,max_depth=6\n",
      "Training criterion=gini,max_depth=7\n",
      "Training criterion=gini,max_depth=8\n",
      "Training criterion=gini,max_depth=9\n",
      "Training criterion=gini,max_depth=10\n",
      "Training criterion=gini,max_depth=11\n",
      "Training criterion=gini,max_depth=12\n",
      "Training criterion=gini,max_depth=13\n",
      "Training criterion=gini,max_depth=14\n",
      "Training criterion=gini,max_depth=15\n",
      "Training criterion=gini,max_depth=16\n",
      "Training criterion=gini,max_depth=17\n",
      "Training criterion=gini,max_depth=18\n",
      "Training criterion=gini,max_depth=19\n",
      "Training criterion=gini,max_depth=20\n",
      "Training criterion=entropy,max_depth=5\n",
      "Training criterion=entropy,max_depth=6\n",
      "Training criterion=entropy,max_depth=7\n",
      "Training criterion=entropy,max_depth=8\n",
      "Training criterion=entropy,max_depth=9\n",
      "Training criterion=entropy,max_depth=10\n",
      "Training criterion=entropy,max_depth=11\n",
      "Training criterion=entropy,max_depth=12\n",
      "Training criterion=entropy,max_depth=13\n",
      "Training criterion=entropy,max_depth=14\n",
      "Training criterion=entropy,max_depth=15\n",
      "Training criterion=entropy,max_depth=16\n",
      "Training criterion=entropy,max_depth=17\n",
      "Training criterion=entropy,max_depth=18\n",
      "Training criterion=entropy,max_depth=19\n",
      "Training criterion=entropy,max_depth=20\n"
     ]
    },
    {
     "data": {
      "text/plain": [
       "<IPython.core.display.Markdown object>"
      ],
      "text/markdown": "#### **Best Val Accuracy:** `0.87065938353492`"
     },
     "metadata": {},
     "output_type": "display_data"
    },
    {
     "data": {
      "text/plain": [
       "<IPython.core.display.Markdown object>"
      ],
      "text/markdown": "#### **Time Elapsed:** `2.2215 seconds`"
     },
     "metadata": {},
     "output_type": "display_data"
    }
   ],
   "execution_count": 130
  },
  {
   "metadata": {
    "ExecuteTime": {
     "end_time": "2025-10-19T16:33:46.718741Z",
     "start_time": "2025-10-19T16:33:46.207593Z"
    }
   },
   "cell_type": "code",
   "source": [
    "plt.figure(figsize=sml_fig)\n",
    "_hist = sorted([[x[1]['val score'], x] for x in history])\n",
    "for idx, (score, _) in enumerate(_hist):\n",
    "    plt.bar(idx, score)\n",
    "plt.ylabel(_hist[-1][0])\n",
    "plt.xlabel(_hist[-1][1][0])\n",
    "plt.ylim(min(0.5, _hist[0][0] - 0.1), 1.0)\n",
    "conclude_plot(\"Best DT Config\")"
   ],
   "id": "ede9051efc6317a7",
   "outputs": [
    {
     "data": {
      "text/plain": [
       "<Figure size 400x300 with 1 Axes>"
      ],
      "image/png": "[encoded data removed]"
     },
     "metadata": {},
     "output_type": "display_data"
    }
   ],
   "execution_count": 131
  },
  {
   "metadata": {},
   "cell_type": "markdown",
   "source": "### AdaBoost",
   "id": "efe07da6d67cff0f"
  },
  {
   "metadata": {},
   "cell_type": "markdown",
   "source": "#### Simple AB Example",
   "id": "f9b692f84c682c3a"
  },
  {
   "metadata": {
    "ExecuteTime": {
     "end_time": "2025-10-19T16:33:51.284184Z",
     "start_time": "2025-10-19T16:33:49.843434Z"
    }
   },
   "cell_type": "code",
   "source": [
    "model = skl.ensemble.AdaBoostClassifier()\n",
    "evaluate_model(model, train_x, train_y, test_x, test_y)\n",
    "save_submission(\"SimpleABModel\", model, data_test_ids, data_test)\n",
    "chime.info()"
   ],
   "id": "c9a7371a508d12",
   "outputs": [
    {
     "data": {
      "text/plain": [
       "<IPython.core.display.Markdown object>"
      ],
      "text/markdown": "#### **Train Accuracy:** `0.6522532910540982`"
     },
     "metadata": {},
     "output_type": "display_data"
    },
    {
     "data": {
      "text/plain": [
       "<IPython.core.display.Markdown object>"
      ],
      "text/markdown": "#### **Test Accuracy:** `0.6626999609832228`"
     },
     "metadata": {},
     "output_type": "display_data"
    }
   ],
   "execution_count": 132
  },
  {
   "metadata": {},
   "cell_type": "markdown",
   "source": "#### Grid Searched AdaBoost",
   "id": "ff4c8ebf4c4eb09e"
  },
  {
   "metadata": {
    "ExecuteTime": {
     "end_time": "2025-10-19T16:34:24.424167Z",
     "start_time": "2025-10-19T16:33:55.224549Z"
    }
   },
   "cell_type": "code",
   "source": [
    "start_time = time.perf_counter()\n",
    "\n",
    "history = []\n",
    "for n_estimators, learning_rate in itertools.product(\n",
    "        range(10, 101, 10),\n",
    "        [1.0, 0.1],\n",
    "):\n",
    "    key = f'n_estimators={n_estimators},learning_rate={learning_rate}'\n",
    "    print(\"Training\", key)\n",
    "    model = skl.ensemble.AdaBoostClassifier(n_estimators=n_estimators, learning_rate=learning_rate)\n",
    "    model.fit(train_x, train_y)\n",
    "    history.append([key, {'model': model, 'train score': model.score(train_x, train_y),\n",
    "                          'val score': model.score(test_x, test_y)}])\n",
    "\n",
    "best_score, best_config, best_model = max([[x[1]['val score'], x[0], x[1]['model']] for x in history])\n",
    "save_submission('GSAB_' + best_config, best_model, data_test_ids, data_test)\n",
    "displayMD(header(4, kv('Best Val Accuracy', best_score)))\n",
    "displayMD(header(4, kv('Time Elapsed', f\"{time.perf_counter() - start_time:.4f} seconds\")))\n",
    "chime.success()"
   ],
   "id": "c3cdb08bc8061083",
   "outputs": [
    {
     "name": "stdout",
     "output_type": "stream",
     "text": [
      "Training n_estimators=10,learning_rate=1.0\n",
      "Training n_estimators=10,learning_rate=0.1\n",
      "Training n_estimators=20,learning_rate=1.0\n",
      "Training n_estimators=20,learning_rate=0.1\n",
      "Training n_estimators=30,learning_rate=1.0\n",
      "Training n_estimators=30,learning_rate=0.1\n",
      "Training n_estimators=40,learning_rate=1.0\n",
      "Training n_estimators=40,learning_rate=0.1\n",
      "Training n_estimators=50,learning_rate=1.0\n",
      "Training n_estimators=50,learning_rate=0.1\n",
      "Training n_estimators=60,learning_rate=1.0\n",
      "Training n_estimators=60,learning_rate=0.1\n",
      "Training n_estimators=70,learning_rate=1.0\n",
      "Training n_estimators=70,learning_rate=0.1\n",
      "Training n_estimators=80,learning_rate=1.0\n",
      "Training n_estimators=80,learning_rate=0.1\n",
      "Training n_estimators=90,learning_rate=1.0\n",
      "Training n_estimators=90,learning_rate=0.1\n",
      "Training n_estimators=100,learning_rate=1.0\n",
      "Training n_estimators=100,learning_rate=0.1\n"
     ]
    },
    {
     "data": {
      "text/plain": [
       "<IPython.core.display.Markdown object>"
      ],
      "text/markdown": "#### **Best Val Accuracy:** `0.7247366367538042`"
     },
     "metadata": {},
     "output_type": "display_data"
    },
    {
     "data": {
      "text/plain": [
       "<IPython.core.display.Markdown object>"
      ],
      "text/markdown": "#### **Time Elapsed:** `29.1939 seconds`"
     },
     "metadata": {},
     "output_type": "display_data"
    }
   ],
   "execution_count": 133
  },
  {
   "metadata": {
    "ExecuteTime": {
     "end_time": "2025-10-19T16:35:45.704403Z",
     "start_time": "2025-10-19T16:35:45.635730Z"
    }
   },
   "cell_type": "code",
   "source": [
    "plt.figure(figsize=sml_fig)\n",
    "_hist = sorted([[x[1]['val score'], x] for x in history])\n",
    "for idx, (score, _) in enumerate(_hist):\n",
    "    plt.bar(idx, score)\n",
    "plt.ylabel(_hist[-1][0])\n",
    "plt.xlabel(_hist[-1][1][0])\n",
    "plt.ylim(min(0.5, _hist[0][0] - 0.1), 1.0)\n",
    "conclude_plot(\"Best AB Config\")"
   ],
   "id": "cd6ffd2e62f61b77",
   "outputs": [
    {
     "data": {
      "text/plain": [
       "<Figure size 400x300 with 1 Axes>"
      ],
      "image/png": "[encoded data removed]"
     },
     "metadata": {},
     "output_type": "display_data"
    }
   ],
   "execution_count": 136
  },
  {
   "metadata": {},
   "cell_type": "markdown",
   "source": "### Random Forest",
   "id": "c15e908450e76712"
  },
  {
   "metadata": {},
   "cell_type": "markdown",
   "source": "#### Simple RF Example",
   "id": "2564b3b7db45ad96"
  },
  {
   "metadata": {
    "ExecuteTime": {
     "end_time": "2025-10-19T16:36:21.447167Z",
     "start_time": "2025-10-19T16:36:20.292685Z"
    }
   },
   "cell_type": "code",
   "source": [
    "model = skl.ensemble.RandomForestClassifier()\n",
    "evaluate_model(model, train_x, train_y, test_x, test_y)\n",
    "save_submission(\"SimpleRFModel\", model, data_test_ids, data_test)\n",
    "chime.info()"
   ],
   "id": "5df3db479f15e01",
   "outputs": [
    {
     "data": {
      "text/plain": [
       "<IPython.core.display.Markdown object>"
      ],
      "text/markdown": "#### **Train Accuracy:** `1.0`"
     },
     "metadata": {},
     "output_type": "display_data"
    },
    {
     "data": {
      "text/plain": [
       "<IPython.core.display.Markdown object>"
      ],
      "text/markdown": "#### **Test Accuracy:** `0.889387436597737`"
     },
     "metadata": {},
     "output_type": "display_data"
    }
   ],
   "execution_count": 137
  },
  {
   "metadata": {},
   "cell_type": "markdown",
   "source": "#### Grid Searched Random Forest",
   "id": "5feda3974dcc978f"
  },
  {
   "metadata": {
    "ExecuteTime": {
     "end_time": "2025-10-19T16:38:44.304099Z",
     "start_time": "2025-10-19T16:36:28.028584Z"
    }
   },
   "cell_type": "code",
   "source": [
    "start_time = time.perf_counter()\n",
    "\n",
    "history = []\n",
    "for n_estimators, max_depth in itertools.product(\n",
    "        range(50, 201, 10),\n",
    "        range(15, 21),\n",
    "):\n",
    "    key = f'n_estimators={n_estimators},max_depth={max_depth}'\n",
    "    print(\"Training\", key)\n",
    "    model = skl.ensemble.RandomForestClassifier(n_estimators=n_estimators, max_depth=max_depth,\n",
    "                                                random_state=default_seed, n_jobs=-1)\n",
    "    model.fit(train_x, train_y)\n",
    "    history.append([key, {'model': model, 'train score': model.score(train_x, train_y),\n",
    "                          'val score': model.score(test_x, test_y)}])\n",
    "\n",
    "best_score, best_config, best_model = max([[x[1]['val score'], x[0], x[1]['model']] for x in history])\n",
    "save_submission('GSRF_' + best_config, best_model, data_test_ids, data_test)\n",
    "displayMD(header(4, kv('Best Val Accuracy', best_score)))\n",
    "displayMD(header(4, kv('Time Elapsed', f\"{time.perf_counter() - start_time:.4f} seconds\")))\n",
    "chime.success()"
   ],
   "id": "24ca74682d746dd6",
   "outputs": [
    {
     "name": "stdout",
     "output_type": "stream",
     "text": [
      "Training n_estimators=50,max_depth=15\n",
      "Training n_estimators=50,max_depth=16\n",
      "Training n_estimators=50,max_depth=17\n",
      "Training n_estimators=50,max_depth=18\n",
      "Training n_estimators=50,max_depth=19\n",
      "Training n_estimators=50,max_depth=20\n",
      "Training n_estimators=60,max_depth=15\n",
      "Training n_estimators=60,max_depth=16\n",
      "Training n_estimators=60,max_depth=17\n",
      "Training n_estimators=60,max_depth=18\n",
      "Training n_estimators=60,max_depth=19\n",
      "Training n_estimators=60,max_depth=20\n",
      "Training n_estimators=70,max_depth=15\n",
      "Training n_estimators=70,max_depth=16\n",
      "Training n_estimators=70,max_depth=17\n",
      "Training n_estimators=70,max_depth=18\n",
      "Training n_estimators=70,max_depth=19\n",
      "Training n_estimators=70,max_depth=20\n",
      "Training n_estimators=80,max_depth=15\n",
      "Training n_estimators=80,max_depth=16\n",
      "Training n_estimators=80,max_depth=17\n",
      "Training n_estimators=80,max_depth=18\n",
      "Training n_estimators=80,max_depth=19\n",
      "Training n_estimators=80,max_depth=20\n",
      "Training n_estimators=90,max_depth=15\n",
      "Training n_estimators=90,max_depth=16\n",
      "Training n_estimators=90,max_depth=17\n",
      "Training n_estimators=90,max_depth=18\n",
      "Training n_estimators=90,max_depth=19\n",
      "Training n_estimators=90,max_depth=20\n",
      "Training n_estimators=100,max_depth=15\n",
      "Training n_estimators=100,max_depth=16\n",
      "Training n_estimators=100,max_depth=17\n",
      "Training n_estimators=100,max_depth=18\n",
      "Training n_estimators=100,max_depth=19\n",
      "Training n_estimators=100,max_depth=20\n",
      "Training n_estimators=110,max_depth=15\n",
      "Training n_estimators=110,max_depth=16\n",
      "Training n_estimators=110,max_depth=17\n",
      "Training n_estimators=110,max_depth=18\n",
      "Training n_estimators=110,max_depth=19\n",
      "Training n_estimators=110,max_depth=20\n",
      "Training n_estimators=120,max_depth=15\n",
      "Training n_estimators=120,max_depth=16\n",
      "Training n_estimators=120,max_depth=17\n",
      "Training n_estimators=120,max_depth=18\n",
      "Training n_estimators=120,max_depth=19\n",
      "Training n_estimators=120,max_depth=20\n",
      "Training n_estimators=130,max_depth=15\n",
      "Training n_estimators=130,max_depth=16\n",
      "Training n_estimators=130,max_depth=17\n",
      "Training n_estimators=130,max_depth=18\n",
      "Training n_estimators=130,max_depth=19\n",
      "Training n_estimators=130,max_depth=20\n",
      "Training n_estimators=140,max_depth=15\n",
      "Training n_estimators=140,max_depth=16\n",
      "Training n_estimators=140,max_depth=17\n",
      "Training n_estimators=140,max_depth=18\n",
      "Training n_estimators=140,max_depth=19\n",
      "Training n_estimators=140,max_depth=20\n",
      "Training n_estimators=150,max_depth=15\n",
      "Training n_estimators=150,max_depth=16\n",
      "Training n_estimators=150,max_depth=17\n",
      "Training n_estimators=150,max_depth=18\n",
      "Training n_estimators=150,max_depth=19\n",
      "Training n_estimators=150,max_depth=20\n",
      "Training n_estimators=160,max_depth=15\n",
      "Training n_estimators=160,max_depth=16\n",
      "Training n_estimators=160,max_depth=17\n",
      "Training n_estimators=160,max_depth=18\n",
      "Training n_estimators=160,max_depth=19\n",
      "Training n_estimators=160,max_depth=20\n",
      "Training n_estimators=170,max_depth=15\n",
      "Training n_estimators=170,max_depth=16\n",
      "Training n_estimators=170,max_depth=17\n",
      "Training n_estimators=170,max_depth=18\n",
      "Training n_estimators=170,max_depth=19\n",
      "Training n_estimators=170,max_depth=20\n",
      "Training n_estimators=180,max_depth=15\n",
      "Training n_estimators=180,max_depth=16\n",
      "Training n_estimators=180,max_depth=17\n",
      "Training n_estimators=180,max_depth=18\n",
      "Training n_estimators=180,max_depth=19\n",
      "Training n_estimators=180,max_depth=20\n",
      "Training n_estimators=190,max_depth=15\n",
      "Training n_estimators=190,max_depth=16\n",
      "Training n_estimators=190,max_depth=17\n",
      "Training n_estimators=190,max_depth=18\n",
      "Training n_estimators=190,max_depth=19\n",
      "Training n_estimators=190,max_depth=20\n",
      "Training n_estimators=200,max_depth=15\n",
      "Training n_estimators=200,max_depth=16\n",
      "Training n_estimators=200,max_depth=17\n",
      "Training n_estimators=200,max_depth=18\n",
      "Training n_estimators=200,max_depth=19\n",
      "Training n_estimators=200,max_depth=20\n"
     ]
    },
    {
     "data": {
      "text/plain": [
       "<IPython.core.display.Markdown object>"
      ],
      "text/markdown": "#### **Best Val Accuracy:** `0.8969957081545065`"
     },
     "metadata": {},
     "output_type": "display_data"
    },
    {
     "data": {
      "text/plain": [
       "<IPython.core.display.Markdown object>"
      ],
      "text/markdown": "#### **Time Elapsed:** `136.2627 seconds`"
     },
     "metadata": {},
     "output_type": "display_data"
    }
   ],
   "execution_count": 138
  },
  {
   "metadata": {
    "ExecuteTime": {
     "end_time": "2025-10-19T16:38:46.388187Z",
     "start_time": "2025-10-19T16:38:46.234371Z"
    }
   },
   "cell_type": "code",
   "source": [
    "plt.figure(figsize=sml_fig)\n",
    "_hist = sorted([[x[1]['val score'], x] for x in history])\n",
    "for idx, (score, _) in enumerate(_hist):\n",
    "    plt.bar(idx, score)\n",
    "plt.ylabel(_hist[-1][0])\n",
    "plt.xlabel(_hist[-1][1][0])\n",
    "plt.ylim(min(0.5, _hist[0][0] - 0.1), 1.0)\n",
    "conclude_plot(\"Best RF Config\")"
   ],
   "id": "147fc59f7e97d03a",
   "outputs": [
    {
     "data": {
      "text/plain": [
       "<Figure size 400x300 with 1 Axes>"
      ],
      "image/png": "[encoded data removed]"
     },
     "metadata": {},
     "output_type": "display_data"
    }
   ],
   "execution_count": 139
  },
  {
   "metadata": {},
   "cell_type": "code",
   "outputs": [],
   "execution_count": null,
   "source": "",
   "id": "ff09a1c5b8f66766"
  },
  {
   "metadata": {},
   "cell_type": "code",
   "outputs": [],
   "execution_count": null,
   "source": "",
   "id": "21463e6090656cc3"
  },
  {
   "metadata": {},
   "cell_type": "code",
   "outputs": [],
   "execution_count": null,
   "source": "",
   "id": "e7b0c43b83cd840"
  },
  {
   "metadata": {},
   "cell_type": "code",
   "outputs": [],
   "execution_count": null,
   "source": "",
   "id": "9c29d7ca9bae6678"
  },
  {
   "metadata": {},
   "cell_type": "code",
   "outputs": [],
   "execution_count": null,
   "source": "",
   "id": "128a40030f33a53b"
  },
  {
   "metadata": {},
   "cell_type": "code",
   "outputs": [],
   "execution_count": null,
   "source": "",
   "id": "3a24e1c8eff79e58"
  },
  {
   "metadata": {},
   "cell_type": "code",
   "outputs": [],
   "execution_count": null,
   "source": "",
   "id": "87820e21cbf32aca"
  },
  {
   "metadata": {},
   "cell_type": "code",
   "outputs": [],
   "execution_count": null,
   "source": [
    "# TODO: Implement this pop\n",
    "ds_source['MTRANS'] = ds_source['MTRANS'].map(lambda x: x if x in ('Public_Transportation', 'Automobile') else 'Others')\n",
    "ds_test['MTRANS'] = ds_test['MTRANS'].map(lambda x: x if x in ('Public_Transportation', 'Automobile') else 'Others')"
   ],
   "id": "bdb90aed9158604e"
  },
  {
   "metadata": {},
   "cell_type": "code",
   "outputs": [],
   "execution_count": null,
   "source": "# TODO: Correlation Matrix",
   "id": "4a29f5adcb8fae49"
  },
  {
   "metadata": {},
   "cell_type": "code",
   "outputs": [],
   "execution_count": null,
   "source": "",
   "id": "4875857c106f0d3a"
  },
  {
   "metadata": {},
   "cell_type": "code",
   "outputs": [],
   "execution_count": null,
   "source": "",
   "id": "5a62d00233ef604"
  },
  {
   "metadata": {},
   "cell_type": "code",
   "outputs": [],
   "execution_count": null,
   "source": "",
   "id": "a3b621a852a52d95"
  },
  {
   "metadata": {},
   "cell_type": "code",
   "outputs": [],
   "execution_count": null,
   "source": "",
   "id": "8c6a20a335e86bc0"
  },
  {
   "metadata": {},
   "cell_type": "code",
   "outputs": [],
   "execution_count": null,
   "source": "",
   "id": "3e3a2fe560bae801"
  },
  {
   "metadata": {},
   "cell_type": "code",
   "outputs": [],
   "execution_count": null,
   "source": "",
   "id": "1d25a5382055f8bf"
  },
  {
   "metadata": {},
   "cell_type": "code",
   "outputs": [],
   "execution_count": null,
   "source": "",
   "id": "8d3ecc1c00d5510a"
  },
  {
   "metadata": {},
   "cell_type": "code",
   "outputs": [],
   "execution_count": null,
   "source": "",
   "id": "619be4ec60349795"
  },
  {
   "cell_type": "markdown",
   "id": "c3ace32d628aa538",
   "metadata": {},
   "source": [
    "TVT S"
   ]
  },
  {
   "cell_type": "code",
   "execution_count": null,
   "id": "2cbde24b8669ed09",
   "metadata": {
    "ExecuteTime": {
     "end_time": "2025-10-15T12:44:50.568952Z",
     "start_time": "2025-10-15T12:44:50.565620Z"
    }
   },
   "outputs": [],
   "source": []
  },
  {
   "cell_type": "code",
   "execution_count": null,
   "id": "4f590f5885b3be2f",
   "metadata": {
    "ExecuteTime": {
     "end_time": "2025-10-15T12:44:50.581840Z",
     "start_time": "2025-10-15T12:44:50.576850Z"
    }
   },
   "outputs": [],
   "source": []
  },
  {
   "cell_type": "markdown",
   "id": "1ce90343f3402767",
   "metadata": {},
   "source": [
    "Mdel"
   ]
  },
  {
   "metadata": {},
   "cell_type": "code",
   "outputs": [],
   "execution_count": null,
   "source": "x_train, x_test, y_train, y_test = skl.model_selection.train_test_split(data_x, data_y, test_size=0.2, random_state=42)",
   "id": "786aa4e5ce636b17"
  },
  {
   "metadata": {},
   "cell_type": "code",
   "outputs": [],
   "execution_count": null,
   "source": "ds_source.shape",
   "id": "7d7fca5401aabd22"
  },
  {
   "cell_type": "code",
   "execution_count": 36,
   "id": "e07a9f396f1976bd",
   "metadata": {
    "ExecuteTime": {
     "end_time": "2025-10-15T12:44:54.187121Z",
     "start_time": "2025-10-15T12:44:54.178679Z"
    }
   },
   "outputs": [
    {
     "data": {
      "text/plain": [
       "(15533, 24)"
      ]
     },
     "execution_count": 36,
     "metadata": {},
     "output_type": "execute_result"
    }
   ],
   "source": [
    "data_x.shape"
   ]
  },
  {
   "cell_type": "code",
   "execution_count": 37,
   "id": "84874c3fceee812e",
   "metadata": {
    "ExecuteTime": {
     "end_time": "2025-10-15T12:44:54.688684Z",
     "start_time": "2025-10-15T12:44:54.681447Z"
    }
   },
   "outputs": [
    {
     "data": {
      "text/plain": [
       "(5225, 24)"
      ]
     },
     "execution_count": 37,
     "metadata": {},
     "output_type": "execute_result"
    }
   ],
   "source": [
    "data_test.shape"
   ]
  },
  {
   "cell_type": "code",
   "execution_count": 38,
   "id": "c916fae0631e892b",
   "metadata": {
    "ExecuteTime": {
     "end_time": "2025-10-15T12:44:55.080036Z",
     "start_time": "2025-10-15T12:44:55.071906Z"
    }
   },
   "outputs": [
    {
     "data": {
      "text/plain": [
       "(5225, 16)"
      ]
     },
     "execution_count": 38,
     "metadata": {},
     "output_type": "execute_result"
    }
   ],
   "source": [
    "ds_test.shape"
   ]
  },
  {
   "cell_type": "code",
   "execution_count": 43,
   "id": "eea144172beb6024",
   "metadata": {
    "ExecuteTime": {
     "end_time": "2025-10-15T12:45:52.148988Z",
     "start_time": "2025-10-15T12:45:52.143897Z"
    }
   },
   "outputs": [],
   "source": [
    "def save_submission(key, model):\n",
    "    ds_res = pd.DataFrame()\n",
    "    ds_res['id'] = ds_test_ids\n",
    "    ds_res['WeightCategory'] = model.predict(data_test)\n",
    "    ds_res['WeightCategory'] = ds_res['WeightCategory'].map(labels_decoder)\n",
    "    ds_res.to_csv(f'submission_{key}.csv', index=False)"
   ]
  },
  {
   "cell_type": "code",
   "execution_count": 40,
   "id": "9b6232f826a2e744",
   "metadata": {
    "ExecuteTime": {
     "end_time": "2025-10-15T12:44:57.210260Z",
     "start_time": "2025-10-15T12:44:57.201866Z"
    }
   },
   "outputs": [
    {
     "data": {
      "text/plain": [
       "(5225, 24)"
      ]
     },
     "execution_count": 40,
     "metadata": {},
     "output_type": "execute_result"
    }
   ],
   "source": [
    "data_test.shape"
   ]
  },
  {
   "cell_type": "code",
   "execution_count": 41,
   "id": "c97273c89b5d64b8",
   "metadata": {
    "ExecuteTime": {
     "end_time": "2025-10-15T12:45:27.849177Z",
     "start_time": "2025-10-15T12:45:01.846375Z"
    }
   },
   "outputs": [
    {
     "name": "stdout",
     "output_type": "stream",
     "text": [
      "Train 0.8641558023499115\n",
      "Test  0.8619246861924686\n"
     ]
    }
   ],
   "source": [
    "model = skl.linear_model.LogisticRegression(max_iter=10000)\n",
    "model.fit(x_train, y_train)\n",
    "print('Train', model.score(x_train, y_train))\n",
    "print('Test ', model.score(x_test, y_test))\n",
    "chime.info()"
   ]
  },
  {
   "cell_type": "code",
   "execution_count": 44,
   "id": "ad166bca2de147ec",
   "metadata": {
    "ExecuteTime": {
     "end_time": "2025-10-15T12:45:54.740973Z",
     "start_time": "2025-10-15T12:45:54.675762Z"
    }
   },
   "outputs": [],
   "source": [
    "save_submission('lr', model)"
   ]
  },
  {
   "cell_type": "code",
   "execution_count": 206,
   "id": "9b8d4d01d59f7f1a",
   "metadata": {
    "ExecuteTime": {
     "end_time": "2025-10-15T12:25:29.082151700Z",
     "start_time": "2025-10-15T11:06:24.435618Z"
    }
   },
   "outputs": [],
   "source": []
  },
  {
   "cell_type": "code",
   "execution_count": null,
   "id": "8e874ad7ee21fa66",
   "metadata": {},
   "outputs": [],
   "source": []
  },
  {
   "cell_type": "code",
   "execution_count": null,
   "id": "dffe7bae54e5d108",
   "metadata": {},
   "outputs": [],
   "source": []
  },
  {
   "cell_type": "code",
   "execution_count": 33,
   "id": "cc4d5cf33be481c1",
   "metadata": {
    "ExecuteTime": {
     "end_time": "2025-10-15T12:27:58.972500Z",
     "start_time": "2025-10-15T12:27:58.964750Z"
    }
   },
   "outputs": [],
   "source": [
    "# history = {}\n",
    "# for penalty, c, solver in itertools.product(\n",
    "#         [None, 'l1', 'l2', 'elasticnet'],\n",
    "#         [1.0],\n",
    "#         ['lbfgs', 'liblinear', 'newton-cg', 'newton-cholesky', 'sag', 'saga']\n",
    "# ):\n",
    "#     key = f'penalty={penalty},c={c},solver={solver}'\n",
    "#     print(\"Training\", key)\n",
    "#     try:\n",
    "#         model = skl.linear_model.LogisticRegression(\n",
    "#             penalty=penalty, C=c, solver=solver,\n",
    "#             max_iter=1000, n_jobs=-1)\n",
    "#         model.fit(data_x, data_y)\n",
    "#         history[key] = {'model': model, 'score': model.score(data_x, data_y)}\n",
    "#     except Exception as e:\n",
    "#         print(\"Not possible\", e)"
   ]
  },
  {
   "cell_type": "code",
   "execution_count": null,
   "id": "9151407a4d237152",
   "metadata": {
    "ExecuteTime": {
     "end_time": "2025-10-15T12:27:59.681903Z",
     "start_time": "2025-10-15T12:27:59.676761Z"
    }
   },
   "outputs": [],
   "source": []
  },
  {
   "cell_type": "code",
   "execution_count": null,
   "id": "2a9fbc44fabaf972",
   "metadata": {
    "ExecuteTime": {
     "end_time": "2025-10-15T12:27:59.970861Z",
     "start_time": "2025-10-15T12:27:59.963582Z"
    }
   },
   "outputs": [],
   "source": []
  },
  {
   "cell_type": "code",
   "execution_count": null,
   "id": "4fe0d33a9ea9e60f",
   "metadata": {
    "ExecuteTime": {
     "end_time": "2025-10-15T12:28:00.181540Z",
     "start_time": "2025-10-15T12:28:00.174310Z"
    }
   },
   "outputs": [],
   "source": []
  },
  {
   "cell_type": "code",
   "execution_count": null,
   "id": "2d248f47171cb030",
   "metadata": {
    "ExecuteTime": {
     "end_time": "2025-10-15T12:28:00.349997Z",
     "start_time": "2025-10-15T12:28:00.344464Z"
    }
   },
   "outputs": [],
   "source": []
  },
  {
   "cell_type": "code",
   "execution_count": null,
   "id": "86773459de3e4314",
   "metadata": {
    "ExecuteTime": {
     "end_time": "2025-10-15T12:28:00.560207Z",
     "start_time": "2025-10-15T12:28:00.552992Z"
    }
   },
   "outputs": [],
   "source": []
  },
  {
   "cell_type": "code",
   "execution_count": null,
   "id": "9f38963b4257620b",
   "metadata": {
    "ExecuteTime": {
     "end_time": "2025-10-15T12:28:02.923862Z",
     "start_time": "2025-10-15T12:28:02.919403Z"
    }
   },
   "outputs": [],
   "source": []
  },
  {
   "cell_type": "code",
   "execution_count": 34,
   "id": "64098aac7f7cf83b",
   "metadata": {
    "ExecuteTime": {
     "end_time": "2025-10-15T12:28:15.218753Z",
     "start_time": "2025-10-15T12:28:15.211426Z"
    }
   },
   "outputs": [],
   "source": [
    "# history = {}\n",
    "# for penalty, c, solver in itertools.product(\n",
    "#         [None, 'l1', 'l2', 'elasticnet'],\n",
    "#         [1.0],\n",
    "#         ['lbfgs', 'liblinear', 'newton-cg', 'newton-cholesky', 'sag', 'saga']\n",
    "# ):\n",
    "#     key = f'penalty={penalty},c={c},solver={solver}'\n",
    "#     print(\"Training\", key)\n",
    "#     try:\n",
    "#         model = skl.linear_model.LogisticRegression(\n",
    "#             penalty=penalty, C=c, solver=solver,\n",
    "#             max_iter=1000, n_jobs=-1)\n",
    "#         model.fit(data_x, data_y)\n",
    "#         history[key] = {'model': model, 'score': model.score(data_x, data_y)}\n",
    "#     except Exception as e:\n",
    "#         print(\"Not possible\", e)"
   ]
  },
  {
   "cell_type": "code",
   "execution_count": 35,
   "id": "d68295fb0752e1ac",
   "metadata": {
    "ExecuteTime": {
     "end_time": "2025-10-15T12:28:18.006197Z",
     "start_time": "2025-10-15T12:28:17.086931Z"
    }
   },
   "outputs": [
    {
     "data": {
      "text/html": [
       "<style>#sk-container-id-1 {\n",
       "  /* Definition of color scheme common for light and dark mode */\n",
       "  --sklearn-color-text: #000;\n",
       "  --sklearn-color-text-muted: #666;\n",
       "  --sklearn-color-line: gray;\n",
       "  /* Definition of color scheme for unfitted estimators */\n",
       "  --sklearn-color-unfitted-level-0: #fff5e6;\n",
       "  --sklearn-color-unfitted-level-1: #f6e4d2;\n",
       "  --sklearn-color-unfitted-level-2: #ffe0b3;\n",
       "  --sklearn-color-unfitted-level-3: chocolate;\n",
       "  /* Definition of color scheme for fitted estimators */\n",
       "  --sklearn-color-fitted-level-0: #f0f8ff;\n",
       "  --sklearn-color-fitted-level-1: #d4ebff;\n",
       "  --sklearn-color-fitted-level-2: #b3dbfd;\n",
       "  --sklearn-color-fitted-level-3: cornflowerblue;\n",
       "\n",
       "  /* Specific color for light theme */\n",
       "  --sklearn-color-text-on-default-background: var(--sg-text-color, var(--theme-code-foreground, var(--jp-content-font-color1, black)));\n",
       "  --sklearn-color-background: var(--sg-background-color, var(--theme-background, var(--jp-layout-color0, white)));\n",
       "  --sklearn-color-border-box: var(--sg-text-color, var(--theme-code-foreground, var(--jp-content-font-color1, black)));\n",
       "  --sklearn-color-icon: #696969;\n",
       "\n",
       "  @media (prefers-color-scheme: dark) {\n",
       "    /* Redefinition of color scheme for dark theme */\n",
       "    --sklearn-color-text-on-default-background: var(--sg-text-color, var(--theme-code-foreground, var(--jp-content-font-color1, white)));\n",
       "    --sklearn-color-background: var(--sg-background-color, var(--theme-background, var(--jp-layout-color0, #111)));\n",
       "    --sklearn-color-border-box: var(--sg-text-color, var(--theme-code-foreground, var(--jp-content-font-color1, white)));\n",
       "    --sklearn-color-icon: #878787;\n",
       "  }\n",
       "}\n",
       "\n",
       "#sk-container-id-1 {\n",
       "  color: var(--sklearn-color-text);\n",
       "}\n",
       "\n",
       "#sk-container-id-1 pre {\n",
       "  padding: 0;\n",
       "}\n",
       "\n",
       "#sk-container-id-1 input.sk-hidden--visually {\n",
       "  border: 0;\n",
       "  clip: rect(1px 1px 1px 1px);\n",
       "  clip: rect(1px, 1px, 1px, 1px);\n",
       "  height: 1px;\n",
       "  margin: -1px;\n",
       "  overflow: hidden;\n",
       "  padding: 0;\n",
       "  position: absolute;\n",
       "  width: 1px;\n",
       "}\n",
       "\n",
       "#sk-container-id-1 div.sk-dashed-wrapped {\n",
       "  border: 1px dashed var(--sklearn-color-line);\n",
       "  margin: 0 0.4em 0.5em 0.4em;\n",
       "  box-sizing: border-box;\n",
       "  padding-bottom: 0.4em;\n",
       "  background-color: var(--sklearn-color-background);\n",
       "}\n",
       "\n",
       "#sk-container-id-1 div.sk-container {\n",
       "  /* jupyter's `normalize.less` sets `[hidden] { display: none; }`\n",
       "     but bootstrap.min.css set `[hidden] { display: none !important; }`\n",
       "     so we also need the `!important` here to be able to override the\n",
       "     default hidden behavior on the sphinx rendered scikit-learn.org.\n",
       "     See: https://github.com/scikit-learn/scikit-learn/issues/21755 */\n",
       "  display: inline-block !important;\n",
       "  position: relative;\n",
       "}\n",
       "\n",
       "#sk-container-id-1 div.sk-text-repr-fallback {\n",
       "  display: none;\n",
       "}\n",
       "\n",
       "div.sk-parallel-item,\n",
       "div.sk-serial,\n",
       "div.sk-item {\n",
       "  /* draw centered vertical line to link estimators */\n",
       "  background-image: linear-gradient(var(--sklearn-color-text-on-default-background), var(--sklearn-color-text-on-default-background));\n",
       "  background-size: 2px 100%;\n",
       "  background-repeat: no-repeat;\n",
       "  background-position: center center;\n",
       "}\n",
       "\n",
       "/* Parallel-specific style estimator block */\n",
       "\n",
       "#sk-container-id-1 div.sk-parallel-item::after {\n",
       "  content: \"\";\n",
       "  width: 100%;\n",
       "  border-bottom: 2px solid var(--sklearn-color-text-on-default-background);\n",
       "  flex-grow: 1;\n",
       "}\n",
       "\n",
       "#sk-container-id-1 div.sk-parallel {\n",
       "  display: flex;\n",
       "  align-items: stretch;\n",
       "  justify-content: center;\n",
       "  background-color: var(--sklearn-color-background);\n",
       "  position: relative;\n",
       "}\n",
       "\n",
       "#sk-container-id-1 div.sk-parallel-item {\n",
       "  display: flex;\n",
       "  flex-direction: column;\n",
       "}\n",
       "\n",
       "#sk-container-id-1 div.sk-parallel-item:first-child::after {\n",
       "  align-self: flex-end;\n",
       "  width: 50%;\n",
       "}\n",
       "\n",
       "#sk-container-id-1 div.sk-parallel-item:last-child::after {\n",
       "  align-self: flex-start;\n",
       "  width: 50%;\n",
       "}\n",
       "\n",
       "#sk-container-id-1 div.sk-parallel-item:only-child::after {\n",
       "  width: 0;\n",
       "}\n",
       "\n",
       "/* Serial-specific style estimator block */\n",
       "\n",
       "#sk-container-id-1 div.sk-serial {\n",
       "  display: flex;\n",
       "  flex-direction: column;\n",
       "  align-items: center;\n",
       "  background-color: var(--sklearn-color-background);\n",
       "  padding-right: 1em;\n",
       "  padding-left: 1em;\n",
       "}\n",
       "\n",
       "\n",
       "/* Toggleable style: style used for estimator/Pipeline/ColumnTransformer box that is\n",
       "clickable and can be expanded/collapsed.\n",
       "- Pipeline and ColumnTransformer use this feature and define the default style\n",
       "- Estimators will overwrite some part of the style using the `sk-estimator` class\n",
       "*/\n",
       "\n",
       "/* Pipeline and ColumnTransformer style (default) */\n",
       "\n",
       "#sk-container-id-1 div.sk-toggleable {\n",
       "  /* Default theme specific background. It is overwritten whether we have a\n",
       "  specific estimator or a Pipeline/ColumnTransformer */\n",
       "  background-color: var(--sklearn-color-background);\n",
       "}\n",
       "\n",
       "/* Toggleable label */\n",
       "#sk-container-id-1 label.sk-toggleable__label {\n",
       "  cursor: pointer;\n",
       "  display: flex;\n",
       "  width: 100%;\n",
       "  margin-bottom: 0;\n",
       "  padding: 0.5em;\n",
       "  box-sizing: border-box;\n",
       "  text-align: center;\n",
       "  align-items: start;\n",
       "  justify-content: space-between;\n",
       "  gap: 0.5em;\n",
       "}\n",
       "\n",
       "#sk-container-id-1 label.sk-toggleable__label .caption {\n",
       "  font-size: 0.6rem;\n",
       "  font-weight: lighter;\n",
       "  color: var(--sklearn-color-text-muted);\n",
       "}\n",
       "\n",
       "#sk-container-id-1 label.sk-toggleable__label-arrow:before {\n",
       "  /* Arrow on the left of the label */\n",
       "  content: \"▸\";\n",
       "  float: left;\n",
       "  margin-right: 0.25em;\n",
       "  color: var(--sklearn-color-icon);\n",
       "}\n",
       "\n",
       "#sk-container-id-1 label.sk-toggleable__label-arrow:hover:before {\n",
       "  color: var(--sklearn-color-text);\n",
       "}\n",
       "\n",
       "/* Toggleable content - dropdown */\n",
       "\n",
       "#sk-container-id-1 div.sk-toggleable__content {\n",
       "  display: none;\n",
       "  text-align: left;\n",
       "  /* unfitted */\n",
       "  background-color: var(--sklearn-color-unfitted-level-0);\n",
       "}\n",
       "\n",
       "#sk-container-id-1 div.sk-toggleable__content.fitted {\n",
       "  /* fitted */\n",
       "  background-color: var(--sklearn-color-fitted-level-0);\n",
       "}\n",
       "\n",
       "#sk-container-id-1 div.sk-toggleable__content pre {\n",
       "  margin: 0.2em;\n",
       "  border-radius: 0.25em;\n",
       "  color: var(--sklearn-color-text);\n",
       "  /* unfitted */\n",
       "  background-color: var(--sklearn-color-unfitted-level-0);\n",
       "}\n",
       "\n",
       "#sk-container-id-1 div.sk-toggleable__content.fitted pre {\n",
       "  /* unfitted */\n",
       "  background-color: var(--sklearn-color-fitted-level-0);\n",
       "}\n",
       "\n",
       "#sk-container-id-1 input.sk-toggleable__control:checked~div.sk-toggleable__content {\n",
       "  /* Expand drop-down */\n",
       "  display: block;\n",
       "  width: 100%;\n",
       "  overflow: visible;\n",
       "}\n",
       "\n",
       "#sk-container-id-1 input.sk-toggleable__control:checked~label.sk-toggleable__label-arrow:before {\n",
       "  content: \"▾\";\n",
       "}\n",
       "\n",
       "/* Pipeline/ColumnTransformer-specific style */\n",
       "\n",
       "#sk-container-id-1 div.sk-label input.sk-toggleable__control:checked~label.sk-toggleable__label {\n",
       "  color: var(--sklearn-color-text);\n",
       "  background-color: var(--sklearn-color-unfitted-level-2);\n",
       "}\n",
       "\n",
       "#sk-container-id-1 div.sk-label.fitted input.sk-toggleable__control:checked~label.sk-toggleable__label {\n",
       "  background-color: var(--sklearn-color-fitted-level-2);\n",
       "}\n",
       "\n",
       "/* Estimator-specific style */\n",
       "\n",
       "/* Colorize estimator box */\n",
       "#sk-container-id-1 div.sk-estimator input.sk-toggleable__control:checked~label.sk-toggleable__label {\n",
       "  /* unfitted */\n",
       "  background-color: var(--sklearn-color-unfitted-level-2);\n",
       "}\n",
       "\n",
       "#sk-container-id-1 div.sk-estimator.fitted input.sk-toggleable__control:checked~label.sk-toggleable__label {\n",
       "  /* fitted */\n",
       "  background-color: var(--sklearn-color-fitted-level-2);\n",
       "}\n",
       "\n",
       "#sk-container-id-1 div.sk-label label.sk-toggleable__label,\n",
       "#sk-container-id-1 div.sk-label label {\n",
       "  /* The background is the default theme color */\n",
       "  color: var(--sklearn-color-text-on-default-background);\n",
       "}\n",
       "\n",
       "/* On hover, darken the color of the background */\n",
       "#sk-container-id-1 div.sk-label:hover label.sk-toggleable__label {\n",
       "  color: var(--sklearn-color-text);\n",
       "  background-color: var(--sklearn-color-unfitted-level-2);\n",
       "}\n",
       "\n",
       "/* Label box, darken color on hover, fitted */\n",
       "#sk-container-id-1 div.sk-label.fitted:hover label.sk-toggleable__label.fitted {\n",
       "  color: var(--sklearn-color-text);\n",
       "  background-color: var(--sklearn-color-fitted-level-2);\n",
       "}\n",
       "\n",
       "/* Estimator label */\n",
       "\n",
       "#sk-container-id-1 div.sk-label label {\n",
       "  font-family: monospace;\n",
       "  font-weight: bold;\n",
       "  display: inline-block;\n",
       "  line-height: 1.2em;\n",
       "}\n",
       "\n",
       "#sk-container-id-1 div.sk-label-container {\n",
       "  text-align: center;\n",
       "}\n",
       "\n",
       "/* Estimator-specific */\n",
       "#sk-container-id-1 div.sk-estimator {\n",
       "  font-family: monospace;\n",
       "  border: 1px dotted var(--sklearn-color-border-box);\n",
       "  border-radius: 0.25em;\n",
       "  box-sizing: border-box;\n",
       "  margin-bottom: 0.5em;\n",
       "  /* unfitted */\n",
       "  background-color: var(--sklearn-color-unfitted-level-0);\n",
       "}\n",
       "\n",
       "#sk-container-id-1 div.sk-estimator.fitted {\n",
       "  /* fitted */\n",
       "  background-color: var(--sklearn-color-fitted-level-0);\n",
       "}\n",
       "\n",
       "/* on hover */\n",
       "#sk-container-id-1 div.sk-estimator:hover {\n",
       "  /* unfitted */\n",
       "  background-color: var(--sklearn-color-unfitted-level-2);\n",
       "}\n",
       "\n",
       "#sk-container-id-1 div.sk-estimator.fitted:hover {\n",
       "  /* fitted */\n",
       "  background-color: var(--sklearn-color-fitted-level-2);\n",
       "}\n",
       "\n",
       "/* Specification for estimator info (e.g. \"i\" and \"?\") */\n",
       "\n",
       "/* Common style for \"i\" and \"?\" */\n",
       "\n",
       ".sk-estimator-doc-link,\n",
       "a:link.sk-estimator-doc-link,\n",
       "a:visited.sk-estimator-doc-link {\n",
       "  float: right;\n",
       "  font-size: smaller;\n",
       "  line-height: 1em;\n",
       "  font-family: monospace;\n",
       "  background-color: var(--sklearn-color-background);\n",
       "  border-radius: 1em;\n",
       "  height: 1em;\n",
       "  width: 1em;\n",
       "  text-decoration: none !important;\n",
       "  margin-left: 0.5em;\n",
       "  text-align: center;\n",
       "  /* unfitted */\n",
       "  border: var(--sklearn-color-unfitted-level-1) 1pt solid;\n",
       "  color: var(--sklearn-color-unfitted-level-1);\n",
       "}\n",
       "\n",
       ".sk-estimator-doc-link.fitted,\n",
       "a:link.sk-estimator-doc-link.fitted,\n",
       "a:visited.sk-estimator-doc-link.fitted {\n",
       "  /* fitted */\n",
       "  border: var(--sklearn-color-fitted-level-1) 1pt solid;\n",
       "  color: var(--sklearn-color-fitted-level-1);\n",
       "}\n",
       "\n",
       "/* On hover */\n",
       "div.sk-estimator:hover .sk-estimator-doc-link:hover,\n",
       ".sk-estimator-doc-link:hover,\n",
       "div.sk-label-container:hover .sk-estimator-doc-link:hover,\n",
       ".sk-estimator-doc-link:hover {\n",
       "  /* unfitted */\n",
       "  background-color: var(--sklearn-color-unfitted-level-3);\n",
       "  color: var(--sklearn-color-background);\n",
       "  text-decoration: none;\n",
       "}\n",
       "\n",
       "div.sk-estimator.fitted:hover .sk-estimator-doc-link.fitted:hover,\n",
       ".sk-estimator-doc-link.fitted:hover,\n",
       "div.sk-label-container:hover .sk-estimator-doc-link.fitted:hover,\n",
       ".sk-estimator-doc-link.fitted:hover {\n",
       "  /* fitted */\n",
       "  background-color: var(--sklearn-color-fitted-level-3);\n",
       "  color: var(--sklearn-color-background);\n",
       "  text-decoration: none;\n",
       "}\n",
       "\n",
       "/* Span, style for the box shown on hovering the info icon */\n",
       ".sk-estimator-doc-link span {\n",
       "  display: none;\n",
       "  z-index: 9999;\n",
       "  position: relative;\n",
       "  font-weight: normal;\n",
       "  right: .2ex;\n",
       "  padding: .5ex;\n",
       "  margin: .5ex;\n",
       "  width: min-content;\n",
       "  min-width: 20ex;\n",
       "  max-width: 50ex;\n",
       "  color: var(--sklearn-color-text);\n",
       "  box-shadow: 2pt 2pt 4pt #999;\n",
       "  /* unfitted */\n",
       "  background: var(--sklearn-color-unfitted-level-0);\n",
       "  border: .5pt solid var(--sklearn-color-unfitted-level-3);\n",
       "}\n",
       "\n",
       ".sk-estimator-doc-link.fitted span {\n",
       "  /* fitted */\n",
       "  background: var(--sklearn-color-fitted-level-0);\n",
       "  border: var(--sklearn-color-fitted-level-3);\n",
       "}\n",
       "\n",
       ".sk-estimator-doc-link:hover span {\n",
       "  display: block;\n",
       "}\n",
       "\n",
       "/* \"?\"-specific style due to the `<a>` HTML tag */\n",
       "\n",
       "#sk-container-id-1 a.estimator_doc_link {\n",
       "  float: right;\n",
       "  font-size: 1rem;\n",
       "  line-height: 1em;\n",
       "  font-family: monospace;\n",
       "  background-color: var(--sklearn-color-background);\n",
       "  border-radius: 1rem;\n",
       "  height: 1rem;\n",
       "  width: 1rem;\n",
       "  text-decoration: none;\n",
       "  /* unfitted */\n",
       "  color: var(--sklearn-color-unfitted-level-1);\n",
       "  border: var(--sklearn-color-unfitted-level-1) 1pt solid;\n",
       "}\n",
       "\n",
       "#sk-container-id-1 a.estimator_doc_link.fitted {\n",
       "  /* fitted */\n",
       "  border: var(--sklearn-color-fitted-level-1) 1pt solid;\n",
       "  color: var(--sklearn-color-fitted-level-1);\n",
       "}\n",
       "\n",
       "/* On hover */\n",
       "#sk-container-id-1 a.estimator_doc_link:hover {\n",
       "  /* unfitted */\n",
       "  background-color: var(--sklearn-color-unfitted-level-3);\n",
       "  color: var(--sklearn-color-background);\n",
       "  text-decoration: none;\n",
       "}\n",
       "\n",
       "#sk-container-id-1 a.estimator_doc_link.fitted:hover {\n",
       "  /* fitted */\n",
       "  background-color: var(--sklearn-color-fitted-level-3);\n",
       "}\n",
       "\n",
       ".estimator-table summary {\n",
       "    padding: .5rem;\n",
       "    font-family: monospace;\n",
       "    cursor: pointer;\n",
       "}\n",
       "\n",
       ".estimator-table details[open] {\n",
       "    padding-left: 0.1rem;\n",
       "    padding-right: 0.1rem;\n",
       "    padding-bottom: 0.3rem;\n",
       "}\n",
       "\n",
       ".estimator-table .parameters-table {\n",
       "    margin-left: auto !important;\n",
       "    margin-right: auto !important;\n",
       "}\n",
       "\n",
       ".estimator-table .parameters-table tr:nth-child(odd) {\n",
       "    background-color: #fff;\n",
       "}\n",
       "\n",
       ".estimator-table .parameters-table tr:nth-child(even) {\n",
       "    background-color: #f6f6f6;\n",
       "}\n",
       "\n",
       ".estimator-table .parameters-table tr:hover {\n",
       "    background-color: #e0e0e0;\n",
       "}\n",
       "\n",
       ".estimator-table table td {\n",
       "    border: 1px solid rgba(106, 105, 104, 0.232);\n",
       "}\n",
       "\n",
       ".user-set td {\n",
       "    color:rgb(255, 94, 0);\n",
       "    text-align: left;\n",
       "}\n",
       "\n",
       ".user-set td.value pre {\n",
       "    color:rgb(255, 94, 0) !important;\n",
       "    background-color: transparent !important;\n",
       "}\n",
       "\n",
       ".default td {\n",
       "    color: black;\n",
       "    text-align: left;\n",
       "}\n",
       "\n",
       ".user-set td i,\n",
       ".default td i {\n",
       "    color: black;\n",
       "}\n",
       "\n",
       ".copy-paste-icon {\n",
       "    background-image: url(data:image/svg+xml;base64,PHN2ZyB4bWxucz0iaHR0cDovL3d3dy53My5vcmcvMjAwMC9zdmciIHZpZXdCb3g9IjAgMCA0NDggNTEyIj48IS0tIUZvbnQgQXdlc29tZSBGcmVlIDYuNy4yIGJ5IEBmb250YXdlc29tZSAtIGh0dHBzOi8vZm9udGF3ZXNvbWUuY29tIExpY2Vuc2UgLSBodHRwczovL2ZvbnRhd2Vzb21lLmNvbS9saWNlbnNlL2ZyZWUgQ29weXJpZ2h0IDIwMjUgRm9udGljb25zLCBJbmMuLS0+PHBhdGggZD0iTTIwOCAwTDMzMi4xIDBjMTIuNyAwIDI0LjkgNS4xIDMzLjkgMTQuMWw2Ny45IDY3LjljOSA5IDE0LjEgMjEuMiAxNC4xIDMzLjlMNDQ4IDMzNmMwIDI2LjUtMjEuNSA0OC00OCA0OGwtMTkyIDBjLTI2LjUgMC00OC0yMS41LTQ4LTQ4bDAtMjg4YzAtMjYuNSAyMS41LTQ4IDQ4LTQ4ek00OCAxMjhsODAgMCAwIDY0LTY0IDAgMCAyNTYgMTkyIDAgMC0zMiA2NCAwIDAgNDhjMCAyNi41LTIxLjUgNDgtNDggNDhMNDggNTEyYy0yNi41IDAtNDgtMjEuNS00OC00OEwwIDE3NmMwLTI2LjUgMjEuNS00OCA0OC00OHoiLz48L3N2Zz4=);\n",
       "    background-repeat: no-repeat;\n",
       "    background-size: 14px 14px;\n",
       "    background-position: 0;\n",
       "    display: inline-block;\n",
       "    width: 14px;\n",
       "    height: 14px;\n",
       "    cursor: pointer;\n",
       "}\n",
       "</style><body><div id=\"sk-container-id-1\" class=\"sk-top-container\"><div class=\"sk-text-repr-fallback\"><pre>DecisionTreeClassifier(max_depth=15)</pre><b>In a Jupyter environment, please rerun this cell to show the HTML representation or trust the notebook. <br />On GitHub, the HTML representation is unable to render, please try loading this page with nbviewer.org.</b></div><div class=\"sk-container\" hidden><div class=\"sk-item\"><div class=\"sk-estimator fitted sk-toggleable\"><input class=\"sk-toggleable__control sk-hidden--visually\" id=\"sk-estimator-id-1\" type=\"checkbox\" checked><label for=\"sk-estimator-id-1\" class=\"sk-toggleable__label fitted sk-toggleable__label-arrow\"><div><div>DecisionTreeClassifier</div></div><div><a class=\"sk-estimator-doc-link fitted\" rel=\"noreferrer\" target=\"_blank\" href=\"https://scikit-learn.org/1.7/modules/generated/sklearn.tree.DecisionTreeClassifier.html\">?<span>Documentation for DecisionTreeClassifier</span></a><span class=\"sk-estimator-doc-link fitted\">i<span>Fitted</span></span></div></label><div class=\"sk-toggleable__content fitted\" data-param-prefix=\"\">\n",
       "        <div class=\"estimator-table\">\n",
       "            <details>\n",
       "                <summary>Parameters</summary>\n",
       "                <table class=\"parameters-table\">\n",
       "                  <tbody>\n",
       "                    \n",
       "        <tr class=\"default\">\n",
       "            <td><i class=\"copy-paste-icon\"\n",
       "                 onclick=\"copyToClipboard('criterion',\n",
       "                          this.parentElement.nextElementSibling)\"\n",
       "            ></i></td>\n",
       "            <td class=\"param\">criterion&nbsp;</td>\n",
       "            <td class=\"value\">&#x27;gini&#x27;</td>\n",
       "        </tr>\n",
       "    \n",
       "\n",
       "        <tr class=\"default\">\n",
       "            <td><i class=\"copy-paste-icon\"\n",
       "                 onclick=\"copyToClipboard('splitter',\n",
       "                          this.parentElement.nextElementSibling)\"\n",
       "            ></i></td>\n",
       "            <td class=\"param\">splitter&nbsp;</td>\n",
       "            <td class=\"value\">&#x27;best&#x27;</td>\n",
       "        </tr>\n",
       "    \n",
       "\n",
       "        <tr class=\"user-set\">\n",
       "            <td><i class=\"copy-paste-icon\"\n",
       "                 onclick=\"copyToClipboard('max_depth',\n",
       "                          this.parentElement.nextElementSibling)\"\n",
       "            ></i></td>\n",
       "            <td class=\"param\">max_depth&nbsp;</td>\n",
       "            <td class=\"value\">15</td>\n",
       "        </tr>\n",
       "    \n",
       "\n",
       "        <tr class=\"default\">\n",
       "            <td><i class=\"copy-paste-icon\"\n",
       "                 onclick=\"copyToClipboard('min_samples_split',\n",
       "                          this.parentElement.nextElementSibling)\"\n",
       "            ></i></td>\n",
       "            <td class=\"param\">min_samples_split&nbsp;</td>\n",
       "            <td class=\"value\">2</td>\n",
       "        </tr>\n",
       "    \n",
       "\n",
       "        <tr class=\"default\">\n",
       "            <td><i class=\"copy-paste-icon\"\n",
       "                 onclick=\"copyToClipboard('min_samples_leaf',\n",
       "                          this.parentElement.nextElementSibling)\"\n",
       "            ></i></td>\n",
       "            <td class=\"param\">min_samples_leaf&nbsp;</td>\n",
       "            <td class=\"value\">1</td>\n",
       "        </tr>\n",
       "    \n",
       "\n",
       "        <tr class=\"default\">\n",
       "            <td><i class=\"copy-paste-icon\"\n",
       "                 onclick=\"copyToClipboard('min_weight_fraction_leaf',\n",
       "                          this.parentElement.nextElementSibling)\"\n",
       "            ></i></td>\n",
       "            <td class=\"param\">min_weight_fraction_leaf&nbsp;</td>\n",
       "            <td class=\"value\">0.0</td>\n",
       "        </tr>\n",
       "    \n",
       "\n",
       "        <tr class=\"default\">\n",
       "            <td><i class=\"copy-paste-icon\"\n",
       "                 onclick=\"copyToClipboard('max_features',\n",
       "                          this.parentElement.nextElementSibling)\"\n",
       "            ></i></td>\n",
       "            <td class=\"param\">max_features&nbsp;</td>\n",
       "            <td class=\"value\">None</td>\n",
       "        </tr>\n",
       "    \n",
       "\n",
       "        <tr class=\"default\">\n",
       "            <td><i class=\"copy-paste-icon\"\n",
       "                 onclick=\"copyToClipboard('random_state',\n",
       "                          this.parentElement.nextElementSibling)\"\n",
       "            ></i></td>\n",
       "            <td class=\"param\">random_state&nbsp;</td>\n",
       "            <td class=\"value\">None</td>\n",
       "        </tr>\n",
       "    \n",
       "\n",
       "        <tr class=\"default\">\n",
       "            <td><i class=\"copy-paste-icon\"\n",
       "                 onclick=\"copyToClipboard('max_leaf_nodes',\n",
       "                          this.parentElement.nextElementSibling)\"\n",
       "            ></i></td>\n",
       "            <td class=\"param\">max_leaf_nodes&nbsp;</td>\n",
       "            <td class=\"value\">None</td>\n",
       "        </tr>\n",
       "    \n",
       "\n",
       "        <tr class=\"default\">\n",
       "            <td><i class=\"copy-paste-icon\"\n",
       "                 onclick=\"copyToClipboard('min_impurity_decrease',\n",
       "                          this.parentElement.nextElementSibling)\"\n",
       "            ></i></td>\n",
       "            <td class=\"param\">min_impurity_decrease&nbsp;</td>\n",
       "            <td class=\"value\">0.0</td>\n",
       "        </tr>\n",
       "    \n",
       "\n",
       "        <tr class=\"default\">\n",
       "            <td><i class=\"copy-paste-icon\"\n",
       "                 onclick=\"copyToClipboard('class_weight',\n",
       "                          this.parentElement.nextElementSibling)\"\n",
       "            ></i></td>\n",
       "            <td class=\"param\">class_weight&nbsp;</td>\n",
       "            <td class=\"value\">None</td>\n",
       "        </tr>\n",
       "    \n",
       "\n",
       "        <tr class=\"default\">\n",
       "            <td><i class=\"copy-paste-icon\"\n",
       "                 onclick=\"copyToClipboard('ccp_alpha',\n",
       "                          this.parentElement.nextElementSibling)\"\n",
       "            ></i></td>\n",
       "            <td class=\"param\">ccp_alpha&nbsp;</td>\n",
       "            <td class=\"value\">0.0</td>\n",
       "        </tr>\n",
       "    \n",
       "\n",
       "        <tr class=\"default\">\n",
       "            <td><i class=\"copy-paste-icon\"\n",
       "                 onclick=\"copyToClipboard('monotonic_cst',\n",
       "                          this.parentElement.nextElementSibling)\"\n",
       "            ></i></td>\n",
       "            <td class=\"param\">monotonic_cst&nbsp;</td>\n",
       "            <td class=\"value\">None</td>\n",
       "        </tr>\n",
       "    \n",
       "                  </tbody>\n",
       "                </table>\n",
       "            </details>\n",
       "        </div>\n",
       "    </div></div></div></div></div><script>function copyToClipboard(text, element) {\n",
       "    // Get the parameter prefix from the closest toggleable content\n",
       "    const toggleableContent = element.closest('.sk-toggleable__content');\n",
       "    const paramPrefix = toggleableContent ? toggleableContent.dataset.paramPrefix : '';\n",
       "    const fullParamName = paramPrefix ? `${paramPrefix}${text}` : text;\n",
       "\n",
       "    const originalStyle = element.style;\n",
       "    const computedStyle = window.getComputedStyle(element);\n",
       "    const originalWidth = computedStyle.width;\n",
       "    const originalHTML = element.innerHTML.replace('Copied!', '');\n",
       "\n",
       "    navigator.clipboard.writeText(fullParamName)\n",
       "        .then(() => {\n",
       "            element.style.width = originalWidth;\n",
       "            element.style.color = 'green';\n",
       "            element.innerHTML = \"Copied!\";\n",
       "\n",
       "            setTimeout(() => {\n",
       "                element.innerHTML = originalHTML;\n",
       "                element.style = originalStyle;\n",
       "            }, 2000);\n",
       "        })\n",
       "        .catch(err => {\n",
       "            console.error('Failed to copy:', err);\n",
       "            element.style.color = 'red';\n",
       "            element.innerHTML = \"Failed!\";\n",
       "            setTimeout(() => {\n",
       "                element.innerHTML = originalHTML;\n",
       "                element.style = originalStyle;\n",
       "            }, 2000);\n",
       "        });\n",
       "    return false;\n",
       "}\n",
       "\n",
       "document.querySelectorAll('.fa-regular.fa-copy').forEach(function(element) {\n",
       "    const toggleableContent = element.closest('.sk-toggleable__content');\n",
       "    const paramPrefix = toggleableContent ? toggleableContent.dataset.paramPrefix : '';\n",
       "    const paramName = element.parentElement.nextElementSibling.textContent.trim();\n",
       "    const fullParamName = paramPrefix ? `${paramPrefix}${paramName}` : paramName;\n",
       "\n",
       "    element.setAttribute('title', fullParamName);\n",
       "});\n",
       "</script></body>"
      ],
      "text/plain": [
       "DecisionTreeClassifier(max_depth=15)"
      ]
     },
     "execution_count": 35,
     "metadata": {},
     "output_type": "execute_result"
    }
   ],
   "source": [
    "model = skl.tree.DecisionTreeClassifier(max_depth=15)\n",
    "model.fit(x_train, y_train)\n",
    "model.score(x_train, y_train)\n",
    "model.score(x_test, y_test)"
   ]
  },
  {
   "cell_type": "code",
   "execution_count": 56,
   "id": "7670fc373408a5a5",
   "metadata": {
    "ExecuteTime": {
     "end_time": "2025-10-15T12:30:17.356283Z",
     "start_time": "2025-10-15T12:30:17.205774Z"
    }
   },
   "outputs": [
    {
     "name": "stdout",
     "output_type": "stream",
     "text": [
      "seed 16462\n",
      "Train 0.9122002253339772\n",
      "Test  0.8738332796910203\n"
     ]
    }
   ],
   "source": [
    "seed = np.random.randint(0, 100000)\n",
    "x_train, x_test, y_train, y_test = skl.model_selection.train_test_split(data_x, data_y, test_size=0.2,\n",
    "                                                                        random_state=seed)\n",
    "print('seed', seed)\n",
    "model = skl.tree.DecisionTreeClassifier(max_depth=10)\n",
    "model.fit(x_train, y_train)\n",
    "print('Train', model.score(x_train, y_train))\n",
    "print('Test ', model.score(x_test, y_test))\n",
    "save_submission('DT', model)"
   ]
  },
  {
   "cell_type": "code",
   "execution_count": null,
   "id": "fdc3884a5259a68",
   "metadata": {
    "ExecuteTime": {
     "end_time": "2025-10-15T12:29:58.486580Z",
     "start_time": "2025-10-15T12:29:58.480152Z"
    }
   },
   "outputs": [],
   "source": []
  },
  {
   "cell_type": "code",
   "execution_count": null,
   "id": "42c42f72fcff5591",
   "metadata": {
    "ExecuteTime": {
     "end_time": "2025-10-15T12:25:29.107155Z",
     "start_time": "2025-10-15T11:13:04.865366Z"
    }
   },
   "outputs": [],
   "source": []
  },
  {
   "cell_type": "code",
   "execution_count": null,
   "id": "ea532036a59a8d2d",
   "metadata": {
    "ExecuteTime": {
     "end_time": "2025-10-15T12:25:29.110155500Z",
     "start_time": "2025-10-15T11:13:05.210585Z"
    }
   },
   "outputs": [],
   "source": []
  },
  {
   "cell_type": "code",
   "execution_count": 222,
   "id": "eb659fedd93a69e4",
   "metadata": {
    "ExecuteTime": {
     "end_time": "2025-10-15T12:25:29.111152800Z",
     "start_time": "2025-10-15T11:14:08.838430Z"
    }
   },
   "outputs": [
    {
     "name": "stdout",
     "output_type": "stream",
     "text": [
      "0.7741831643328505\n",
      "0.7698744769874477\n"
     ]
    }
   ],
   "source": [
    "model = skl.ensemble.AdaBoostClassifier()\n",
    "model.fit(x_train, y_train)\n",
    "print(model.score(x_train, y_train))\n",
    "print(model.score(x_test, y_test))"
   ]
  },
  {
   "cell_type": "code",
   "execution_count": 232,
   "id": "bdfbfb0bdefb7ed",
   "metadata": {
    "ExecuteTime": {
     "end_time": "2025-10-15T12:25:29.116157200Z",
     "start_time": "2025-10-15T11:15:31.237737Z"
    }
   },
   "outputs": [
    {
     "name": "stdout",
     "output_type": "stream",
     "text": [
      "0.7995332367616288\n",
      "0.8023817186997103\n"
     ]
    }
   ],
   "source": [
    "model = skl.ensemble.AdaBoostClassifier(n_estimators=100, learning_rate=0.7)\n",
    "model.fit(x_train, y_train)\n",
    "print(model.score(x_train, y_train))\n",
    "print(model.score(x_test, y_test))"
   ]
  },
  {
   "cell_type": "code",
   "execution_count": 233,
   "id": "9393fab6d1fa54b0",
   "metadata": {
    "ExecuteTime": {
     "end_time": "2025-10-15T12:25:29.117156400Z",
     "start_time": "2025-10-15T11:15:54.108502Z"
    }
   },
   "outputs": [
    {
     "name": "stdout",
     "output_type": "stream",
     "text": [
      "1.0\n",
      "0.8934663662697135\n"
     ]
    }
   ],
   "source": [
    "model = skl.ensemble.RandomForestClassifier(n_estimators=100)\n",
    "model.fit(x_train, y_train)\n",
    "print(model.score(x_train, y_train))\n",
    "print(model.score(x_test, y_test))"
   ]
  },
  {
   "cell_type": "code",
   "execution_count": 45,
   "id": "5ce26d4da257d909",
   "metadata": {
    "ExecuteTime": {
     "end_time": "2025-10-15T12:47:04.918528Z",
     "start_time": "2025-10-15T12:47:02.293190Z"
    }
   },
   "outputs": [
    {
     "name": "stdout",
     "output_type": "stream",
     "text": [
      "Train 0.9336069531627234\n",
      "Test  0.8950756356614097\n"
     ]
    }
   ],
   "source": [
    "model = skl.ensemble.RandomForestClassifier(n_estimators=100, max_depth=10)\n",
    "model.fit(x_train, y_train)\n",
    "print('Train', model.score(x_train, y_train))\n",
    "print('Test ', model.score(x_test, y_test))\n",
    "save_submission('RF_100estim_10depth', model)"
   ]
  },
  {
   "cell_type": "code",
   "execution_count": 56,
   "id": "bec9aebb8099a5da",
   "metadata": {
    "ExecuteTime": {
     "end_time": "2025-10-15T13:05:16.739564Z",
     "start_time": "2025-10-15T13:02:25.230776Z"
    }
   },
   "outputs": [],
   "source": [
    "model = skl.ensemble.RandomForestClassifier(n_jobs=-1, random_state=16462)\n",
    "gs_model = skl.model_selection.GridSearchCV(model, {\n",
    "    'n_estimators': range(50, 150, 10),\n",
    "    'max_depth': range(5, 15),\n",
    "})\n",
    "gs_model.fit(x_train, y_train)\n",
    "print('Params', gs_model.best_params_)\n",
    "print('Train ', gs_model.score(x_train, y_train))\n",
    "print('Test  ', gs_model.score(x_test, y_test))\n",
    "save_submission('GS_RF', gs_model)\n",
    "chime.success()"
   ]
  },
  {
   "cell_type": "code",
   "execution_count": 77,
   "id": "eb818816b95db32f",
   "metadata": {
    "ExecuteTime": {
     "end_time": "2025-10-15T13:49:02.261680Z",
     "start_time": "2025-10-15T13:44:17.327861Z"
    }
   },
   "outputs": [
    {
     "name": "stdout",
     "output_type": "stream",
     "text": [
      "Params {'max_depth': 12, 'n_estimators': 80}\n",
      "Train  0.956623209399646\n",
      "Test   0.8966849050531059\n"
     ]
    }
   ],
   "source": [
    "model = skl.ensemble.RandomForestClassifier(n_jobs=-1, random_state=16462)\n",
    "gs_model = skl.model_selection.GridSearchCV(model, {\n",
    "    'n_estimators': range(60, 100, 1),\n",
    "    'max_depth': range(10, 15),\n",
    "})\n",
    "gs_model.fit(x_train, y_train)\n",
    "print('Params', gs_model.best_params_)\n",
    "print('Train ', gs_model.score(x_train, y_train))\n",
    "print('Test  ', gs_model.score(x_test, y_test))\n",
    "save_submission('GS_RF', gs_model)\n",
    "chime.success()"
   ]
  },
  {
   "cell_type": "code",
   "execution_count": 75,
   "id": "f0c2857f47e4c6e1",
   "metadata": {
    "ExecuteTime": {
     "end_time": "2025-10-15T13:43:22.721276Z",
     "start_time": "2025-10-15T13:20:55.661384Z"
    }
   },
   "outputs": [
    {
     "ename": "KeyboardInterrupt",
     "evalue": "",
     "output_type": "error",
     "traceback": [
      "\u001B[31m---------------------------------------------------------------------------\u001B[39m",
      "\u001B[31mKeyboardInterrupt\u001B[39m                         Traceback (most recent call last)",
      "\u001B[36mCell\u001B[39m\u001B[36m \u001B[39m\u001B[32mIn[75]\u001B[39m\u001B[32m, line 8\u001B[39m\n\u001B[32m      3\u001B[39m pipeline = skl.pipeline.Pipeline([(\u001B[33m'\u001B[39m\u001B[33mfeature_selection\u001B[39m\u001B[33m'\u001B[39m, rfecv), (\u001B[33m'\u001B[39m\u001B[33mclassification\u001B[39m\u001B[33m'\u001B[39m, model)])\n\u001B[32m      4\u001B[39m gs_model = skl.model_selection.GridSearchCV(pipeline, {\n\u001B[32m      5\u001B[39m     \u001B[33m'\u001B[39m\u001B[33mclassification__n_estimators\u001B[39m\u001B[33m'\u001B[39m: \u001B[38;5;28mrange\u001B[39m(\u001B[32m60\u001B[39m, \u001B[32m100\u001B[39m, \u001B[32m2\u001B[39m),\n\u001B[32m      6\u001B[39m     \u001B[33m'\u001B[39m\u001B[33mclassification__max_depth\u001B[39m\u001B[33m'\u001B[39m: \u001B[38;5;28mrange\u001B[39m(\u001B[32m10\u001B[39m, \u001B[32m15\u001B[39m),\n\u001B[32m      7\u001B[39m })\n\u001B[32m----> \u001B[39m\u001B[32m8\u001B[39m gs_model.fit(x_train, y_train)\n\u001B[32m      9\u001B[39m \u001B[38;5;28mprint\u001B[39m(\u001B[33m'\u001B[39m\u001B[33mParams\u001B[39m\u001B[33m'\u001B[39m, gs_model.best_params_)\n\u001B[32m     10\u001B[39m \u001B[38;5;28mprint\u001B[39m(\u001B[33m'\u001B[39m\u001B[33mTrain \u001B[39m\u001B[33m'\u001B[39m, gs_model.score(x_train, y_train))\n",
      "\u001B[36mFile \u001B[39m\u001B[32m~\\.conda\\envs\\pyt\\Lib\\site-packages\\sklearn\\base.py:1365\u001B[39m, in \u001B[36m_fit_context.<locals>.decorator.<locals>.wrapper\u001B[39m\u001B[34m(estimator, *args, **kwargs)\u001B[39m\n\u001B[32m   1358\u001B[39m     estimator._validate_params()\n\u001B[32m   1360\u001B[39m \u001B[38;5;28;01mwith\u001B[39;00m config_context(\n\u001B[32m   1361\u001B[39m     skip_parameter_validation=(\n\u001B[32m   1362\u001B[39m         prefer_skip_nested_validation \u001B[38;5;129;01mor\u001B[39;00m global_skip_validation\n\u001B[32m   1363\u001B[39m     )\n\u001B[32m   1364\u001B[39m ):\n\u001B[32m-> \u001B[39m\u001B[32m1365\u001B[39m     \u001B[38;5;28;01mreturn\u001B[39;00m fit_method(estimator, *args, **kwargs)\n",
      "\u001B[36mFile \u001B[39m\u001B[32m~\\.conda\\envs\\pyt\\Lib\\site-packages\\sklearn\\model_selection\\_search.py:1051\u001B[39m, in \u001B[36mBaseSearchCV.fit\u001B[39m\u001B[34m(self, X, y, **params)\u001B[39m\n\u001B[32m   1045\u001B[39m     results = \u001B[38;5;28mself\u001B[39m._format_results(\n\u001B[32m   1046\u001B[39m         all_candidate_params, n_splits, all_out, all_more_results\n\u001B[32m   1047\u001B[39m     )\n\u001B[32m   1049\u001B[39m     \u001B[38;5;28;01mreturn\u001B[39;00m results\n\u001B[32m-> \u001B[39m\u001B[32m1051\u001B[39m \u001B[38;5;28mself\u001B[39m._run_search(evaluate_candidates)\n\u001B[32m   1053\u001B[39m \u001B[38;5;66;03m# multimetric is determined here because in the case of a callable\u001B[39;00m\n\u001B[32m   1054\u001B[39m \u001B[38;5;66;03m# self.scoring the return type is only known after calling\u001B[39;00m\n\u001B[32m   1055\u001B[39m first_test_score = all_out[\u001B[32m0\u001B[39m][\u001B[33m\"\u001B[39m\u001B[33mtest_scores\u001B[39m\u001B[33m\"\u001B[39m]\n",
      "\u001B[36mFile \u001B[39m\u001B[32m~\\.conda\\envs\\pyt\\Lib\\site-packages\\sklearn\\model_selection\\_search.py:1605\u001B[39m, in \u001B[36mGridSearchCV._run_search\u001B[39m\u001B[34m(self, evaluate_candidates)\u001B[39m\n\u001B[32m   1603\u001B[39m \u001B[38;5;28;01mdef\u001B[39;00m\u001B[38;5;250m \u001B[39m\u001B[34m_run_search\u001B[39m(\u001B[38;5;28mself\u001B[39m, evaluate_candidates):\n\u001B[32m   1604\u001B[39m \u001B[38;5;250m    \u001B[39m\u001B[33;03m\"\"\"Search all candidates in param_grid\"\"\"\u001B[39;00m\n\u001B[32m-> \u001B[39m\u001B[32m1605\u001B[39m     evaluate_candidates(ParameterGrid(\u001B[38;5;28mself\u001B[39m.param_grid))\n",
      "\u001B[36mFile \u001B[39m\u001B[32m~\\.conda\\envs\\pyt\\Lib\\site-packages\\sklearn\\model_selection\\_search.py:997\u001B[39m, in \u001B[36mBaseSearchCV.fit.<locals>.evaluate_candidates\u001B[39m\u001B[34m(candidate_params, cv, more_results)\u001B[39m\n\u001B[32m    989\u001B[39m \u001B[38;5;28;01mif\u001B[39;00m \u001B[38;5;28mself\u001B[39m.verbose > \u001B[32m0\u001B[39m:\n\u001B[32m    990\u001B[39m     \u001B[38;5;28mprint\u001B[39m(\n\u001B[32m    991\u001B[39m         \u001B[33m\"\u001B[39m\u001B[33mFitting \u001B[39m\u001B[38;5;132;01m{0}\u001B[39;00m\u001B[33m folds for each of \u001B[39m\u001B[38;5;132;01m{1}\u001B[39;00m\u001B[33m candidates,\u001B[39m\u001B[33m\"\u001B[39m\n\u001B[32m    992\u001B[39m         \u001B[33m\"\u001B[39m\u001B[33m totalling \u001B[39m\u001B[38;5;132;01m{2}\u001B[39;00m\u001B[33m fits\u001B[39m\u001B[33m\"\u001B[39m.format(\n\u001B[32m    993\u001B[39m             n_splits, n_candidates, n_candidates * n_splits\n\u001B[32m    994\u001B[39m         )\n\u001B[32m    995\u001B[39m     )\n\u001B[32m--> \u001B[39m\u001B[32m997\u001B[39m out = parallel(\n\u001B[32m    998\u001B[39m     delayed(_fit_and_score)(\n\u001B[32m    999\u001B[39m         clone(base_estimator),\n\u001B[32m   1000\u001B[39m         X,\n\u001B[32m   1001\u001B[39m         y,\n\u001B[32m   1002\u001B[39m         train=train,\n\u001B[32m   1003\u001B[39m         test=test,\n\u001B[32m   1004\u001B[39m         parameters=parameters,\n\u001B[32m   1005\u001B[39m         split_progress=(split_idx, n_splits),\n\u001B[32m   1006\u001B[39m         candidate_progress=(cand_idx, n_candidates),\n\u001B[32m   1007\u001B[39m         **fit_and_score_kwargs,\n\u001B[32m   1008\u001B[39m     )\n\u001B[32m   1009\u001B[39m     \u001B[38;5;28;01mfor\u001B[39;00m (cand_idx, parameters), (split_idx, (train, test)) \u001B[38;5;129;01min\u001B[39;00m product(\n\u001B[32m   1010\u001B[39m         \u001B[38;5;28menumerate\u001B[39m(candidate_params),\n\u001B[32m   1011\u001B[39m         \u001B[38;5;28menumerate\u001B[39m(cv.split(X, y, **routed_params.splitter.split)),\n\u001B[32m   1012\u001B[39m     )\n\u001B[32m   1013\u001B[39m )\n\u001B[32m   1015\u001B[39m \u001B[38;5;28;01mif\u001B[39;00m \u001B[38;5;28mlen\u001B[39m(out) < \u001B[32m1\u001B[39m:\n\u001B[32m   1016\u001B[39m     \u001B[38;5;28;01mraise\u001B[39;00m \u001B[38;5;167;01mValueError\u001B[39;00m(\n\u001B[32m   1017\u001B[39m         \u001B[33m\"\u001B[39m\u001B[33mNo fits were performed. \u001B[39m\u001B[33m\"\u001B[39m\n\u001B[32m   1018\u001B[39m         \u001B[33m\"\u001B[39m\u001B[33mWas the CV iterator empty? \u001B[39m\u001B[33m\"\u001B[39m\n\u001B[32m   1019\u001B[39m         \u001B[33m\"\u001B[39m\u001B[33mWere there no candidates?\u001B[39m\u001B[33m\"\u001B[39m\n\u001B[32m   1020\u001B[39m     )\n",
      "\u001B[36mFile \u001B[39m\u001B[32m~\\.conda\\envs\\pyt\\Lib\\site-packages\\sklearn\\utils\\parallel.py:82\u001B[39m, in \u001B[36mParallel.__call__\u001B[39m\u001B[34m(self, iterable)\u001B[39m\n\u001B[32m     73\u001B[39m warning_filters = warnings.filters\n\u001B[32m     74\u001B[39m iterable_with_config_and_warning_filters = (\n\u001B[32m     75\u001B[39m     (\n\u001B[32m     76\u001B[39m         _with_config_and_warning_filters(delayed_func, config, warning_filters),\n\u001B[32m   (...)\u001B[39m\u001B[32m     80\u001B[39m     \u001B[38;5;28;01mfor\u001B[39;00m delayed_func, args, kwargs \u001B[38;5;129;01min\u001B[39;00m iterable\n\u001B[32m     81\u001B[39m )\n\u001B[32m---> \u001B[39m\u001B[32m82\u001B[39m \u001B[38;5;28;01mreturn\u001B[39;00m \u001B[38;5;28msuper\u001B[39m().\u001B[34m__call__\u001B[39m(iterable_with_config_and_warning_filters)\n",
      "\u001B[36mFile \u001B[39m\u001B[32m~\\.conda\\envs\\pyt\\Lib\\site-packages\\joblib\\parallel.py:1986\u001B[39m, in \u001B[36mParallel.__call__\u001B[39m\u001B[34m(self, iterable)\u001B[39m\n\u001B[32m   1984\u001B[39m     output = \u001B[38;5;28mself\u001B[39m._get_sequential_output(iterable)\n\u001B[32m   1985\u001B[39m     \u001B[38;5;28mnext\u001B[39m(output)\n\u001B[32m-> \u001B[39m\u001B[32m1986\u001B[39m     \u001B[38;5;28;01mreturn\u001B[39;00m output \u001B[38;5;28;01mif\u001B[39;00m \u001B[38;5;28mself\u001B[39m.return_generator \u001B[38;5;28;01melse\u001B[39;00m \u001B[38;5;28mlist\u001B[39m(output)\n\u001B[32m   1988\u001B[39m \u001B[38;5;66;03m# Let's create an ID that uniquely identifies the current call. If the\u001B[39;00m\n\u001B[32m   1989\u001B[39m \u001B[38;5;66;03m# call is interrupted early and that the same instance is immediately\u001B[39;00m\n\u001B[32m   1990\u001B[39m \u001B[38;5;66;03m# reused, this id will be used to prevent workers that were\u001B[39;00m\n\u001B[32m   1991\u001B[39m \u001B[38;5;66;03m# concurrently finalizing a task from the previous call to run the\u001B[39;00m\n\u001B[32m   1992\u001B[39m \u001B[38;5;66;03m# callback.\u001B[39;00m\n\u001B[32m   1993\u001B[39m \u001B[38;5;28;01mwith\u001B[39;00m \u001B[38;5;28mself\u001B[39m._lock:\n",
      "\u001B[36mFile \u001B[39m\u001B[32m~\\.conda\\envs\\pyt\\Lib\\site-packages\\joblib\\parallel.py:1914\u001B[39m, in \u001B[36mParallel._get_sequential_output\u001B[39m\u001B[34m(self, iterable)\u001B[39m\n\u001B[32m   1912\u001B[39m \u001B[38;5;28mself\u001B[39m.n_dispatched_batches += \u001B[32m1\u001B[39m\n\u001B[32m   1913\u001B[39m \u001B[38;5;28mself\u001B[39m.n_dispatched_tasks += \u001B[32m1\u001B[39m\n\u001B[32m-> \u001B[39m\u001B[32m1914\u001B[39m res = func(*args, **kwargs)\n\u001B[32m   1915\u001B[39m \u001B[38;5;28mself\u001B[39m.n_completed_tasks += \u001B[32m1\u001B[39m\n\u001B[32m   1916\u001B[39m \u001B[38;5;28mself\u001B[39m.print_progress()\n",
      "\u001B[36mFile \u001B[39m\u001B[32m~\\.conda\\envs\\pyt\\Lib\\site-packages\\sklearn\\utils\\parallel.py:147\u001B[39m, in \u001B[36m_FuncWrapper.__call__\u001B[39m\u001B[34m(self, *args, **kwargs)\u001B[39m\n\u001B[32m    145\u001B[39m \u001B[38;5;28;01mwith\u001B[39;00m config_context(**config), warnings.catch_warnings():\n\u001B[32m    146\u001B[39m     warnings.filters = warning_filters\n\u001B[32m--> \u001B[39m\u001B[32m147\u001B[39m     \u001B[38;5;28;01mreturn\u001B[39;00m \u001B[38;5;28mself\u001B[39m.function(*args, **kwargs)\n",
      "\u001B[36mFile \u001B[39m\u001B[32m~\\.conda\\envs\\pyt\\Lib\\site-packages\\sklearn\\model_selection\\_validation.py:859\u001B[39m, in \u001B[36m_fit_and_score\u001B[39m\u001B[34m(estimator, X, y, scorer, train, test, verbose, parameters, fit_params, score_params, return_train_score, return_parameters, return_n_test_samples, return_times, return_estimator, split_progress, candidate_progress, error_score)\u001B[39m\n\u001B[32m    857\u001B[39m         estimator.fit(X_train, **fit_params)\n\u001B[32m    858\u001B[39m     \u001B[38;5;28;01melse\u001B[39;00m:\n\u001B[32m--> \u001B[39m\u001B[32m859\u001B[39m         estimator.fit(X_train, y_train, **fit_params)\n\u001B[32m    861\u001B[39m \u001B[38;5;28;01mexcept\u001B[39;00m \u001B[38;5;167;01mException\u001B[39;00m:\n\u001B[32m    862\u001B[39m     \u001B[38;5;66;03m# Note fit time as time until error\u001B[39;00m\n\u001B[32m    863\u001B[39m     fit_time = time.time() - start_time\n",
      "\u001B[36mFile \u001B[39m\u001B[32m~\\.conda\\envs\\pyt\\Lib\\site-packages\\sklearn\\base.py:1365\u001B[39m, in \u001B[36m_fit_context.<locals>.decorator.<locals>.wrapper\u001B[39m\u001B[34m(estimator, *args, **kwargs)\u001B[39m\n\u001B[32m   1358\u001B[39m     estimator._validate_params()\n\u001B[32m   1360\u001B[39m \u001B[38;5;28;01mwith\u001B[39;00m config_context(\n\u001B[32m   1361\u001B[39m     skip_parameter_validation=(\n\u001B[32m   1362\u001B[39m         prefer_skip_nested_validation \u001B[38;5;129;01mor\u001B[39;00m global_skip_validation\n\u001B[32m   1363\u001B[39m     )\n\u001B[32m   1364\u001B[39m ):\n\u001B[32m-> \u001B[39m\u001B[32m1365\u001B[39m     \u001B[38;5;28;01mreturn\u001B[39;00m fit_method(estimator, *args, **kwargs)\n",
      "\u001B[36mFile \u001B[39m\u001B[32m~\\.conda\\envs\\pyt\\Lib\\site-packages\\sklearn\\pipeline.py:655\u001B[39m, in \u001B[36mPipeline.fit\u001B[39m\u001B[34m(self, X, y, **params)\u001B[39m\n\u001B[32m    648\u001B[39m     \u001B[38;5;28;01mraise\u001B[39;00m \u001B[38;5;167;01mValueError\u001B[39;00m(\n\u001B[32m    649\u001B[39m         \u001B[33m\"\u001B[39m\u001B[33mThe `transform_input` parameter can only be set if metadata \u001B[39m\u001B[33m\"\u001B[39m\n\u001B[32m    650\u001B[39m         \u001B[33m\"\u001B[39m\u001B[33mrouting is enabled. You can enable metadata routing using \u001B[39m\u001B[33m\"\u001B[39m\n\u001B[32m    651\u001B[39m         \u001B[33m\"\u001B[39m\u001B[33m`sklearn.set_config(enable_metadata_routing=True)`.\u001B[39m\u001B[33m\"\u001B[39m\n\u001B[32m    652\u001B[39m     )\n\u001B[32m    654\u001B[39m routed_params = \u001B[38;5;28mself\u001B[39m._check_method_params(method=\u001B[33m\"\u001B[39m\u001B[33mfit\u001B[39m\u001B[33m\"\u001B[39m, props=params)\n\u001B[32m--> \u001B[39m\u001B[32m655\u001B[39m Xt = \u001B[38;5;28mself\u001B[39m._fit(X, y, routed_params, raw_params=params)\n\u001B[32m    656\u001B[39m \u001B[38;5;28;01mwith\u001B[39;00m _print_elapsed_time(\u001B[33m\"\u001B[39m\u001B[33mPipeline\u001B[39m\u001B[33m\"\u001B[39m, \u001B[38;5;28mself\u001B[39m._log_message(\u001B[38;5;28mlen\u001B[39m(\u001B[38;5;28mself\u001B[39m.steps) - \u001B[32m1\u001B[39m)):\n\u001B[32m    657\u001B[39m     \u001B[38;5;28;01mif\u001B[39;00m \u001B[38;5;28mself\u001B[39m._final_estimator != \u001B[33m\"\u001B[39m\u001B[33mpassthrough\u001B[39m\u001B[33m\"\u001B[39m:\n",
      "\u001B[36mFile \u001B[39m\u001B[32m~\\.conda\\envs\\pyt\\Lib\\site-packages\\sklearn\\pipeline.py:589\u001B[39m, in \u001B[36mPipeline._fit\u001B[39m\u001B[34m(self, X, y, routed_params, raw_params)\u001B[39m\n\u001B[32m    582\u001B[39m \u001B[38;5;66;03m# Fit or load from cache the current transformer\u001B[39;00m\n\u001B[32m    583\u001B[39m step_params = \u001B[38;5;28mself\u001B[39m._get_metadata_for_step(\n\u001B[32m    584\u001B[39m     step_idx=step_idx,\n\u001B[32m    585\u001B[39m     step_params=routed_params[name],\n\u001B[32m    586\u001B[39m     all_params=raw_params,\n\u001B[32m    587\u001B[39m )\n\u001B[32m--> \u001B[39m\u001B[32m589\u001B[39m X, fitted_transformer = fit_transform_one_cached(\n\u001B[32m    590\u001B[39m     cloned_transformer,\n\u001B[32m    591\u001B[39m     X,\n\u001B[32m    592\u001B[39m     y,\n\u001B[32m    593\u001B[39m     weight=\u001B[38;5;28;01mNone\u001B[39;00m,\n\u001B[32m    594\u001B[39m     message_clsname=\u001B[33m\"\u001B[39m\u001B[33mPipeline\u001B[39m\u001B[33m\"\u001B[39m,\n\u001B[32m    595\u001B[39m     message=\u001B[38;5;28mself\u001B[39m._log_message(step_idx),\n\u001B[32m    596\u001B[39m     params=step_params,\n\u001B[32m    597\u001B[39m )\n\u001B[32m    598\u001B[39m \u001B[38;5;66;03m# Replace the transformer of the step with the fitted\u001B[39;00m\n\u001B[32m    599\u001B[39m \u001B[38;5;66;03m# transformer. This is necessary when loading the transformer\u001B[39;00m\n\u001B[32m    600\u001B[39m \u001B[38;5;66;03m# from the cache.\u001B[39;00m\n\u001B[32m    601\u001B[39m \u001B[38;5;28mself\u001B[39m.steps[step_idx] = (name, fitted_transformer)\n",
      "\u001B[36mFile \u001B[39m\u001B[32m~\\.conda\\envs\\pyt\\Lib\\site-packages\\joblib\\memory.py:326\u001B[39m, in \u001B[36mNotMemorizedFunc.__call__\u001B[39m\u001B[34m(self, *args, **kwargs)\u001B[39m\n\u001B[32m    325\u001B[39m \u001B[38;5;28;01mdef\u001B[39;00m\u001B[38;5;250m \u001B[39m\u001B[34m__call__\u001B[39m(\u001B[38;5;28mself\u001B[39m, *args, **kwargs):\n\u001B[32m--> \u001B[39m\u001B[32m326\u001B[39m     \u001B[38;5;28;01mreturn\u001B[39;00m \u001B[38;5;28mself\u001B[39m.func(*args, **kwargs)\n",
      "\u001B[36mFile \u001B[39m\u001B[32m~\\.conda\\envs\\pyt\\Lib\\site-packages\\sklearn\\pipeline.py:1540\u001B[39m, in \u001B[36m_fit_transform_one\u001B[39m\u001B[34m(transformer, X, y, weight, message_clsname, message, params)\u001B[39m\n\u001B[32m   1538\u001B[39m \u001B[38;5;28;01mwith\u001B[39;00m _print_elapsed_time(message_clsname, message):\n\u001B[32m   1539\u001B[39m     \u001B[38;5;28;01mif\u001B[39;00m \u001B[38;5;28mhasattr\u001B[39m(transformer, \u001B[33m\"\u001B[39m\u001B[33mfit_transform\u001B[39m\u001B[33m\"\u001B[39m):\n\u001B[32m-> \u001B[39m\u001B[32m1540\u001B[39m         res = transformer.fit_transform(X, y, **params.get(\u001B[33m\"\u001B[39m\u001B[33mfit_transform\u001B[39m\u001B[33m\"\u001B[39m, {}))\n\u001B[32m   1541\u001B[39m     \u001B[38;5;28;01melse\u001B[39;00m:\n\u001B[32m   1542\u001B[39m         res = transformer.fit(X, y, **params.get(\u001B[33m\"\u001B[39m\u001B[33mfit\u001B[39m\u001B[33m\"\u001B[39m, {})).transform(\n\u001B[32m   1543\u001B[39m             X, **params.get(\u001B[33m\"\u001B[39m\u001B[33mtransform\u001B[39m\u001B[33m\"\u001B[39m, {})\n\u001B[32m   1544\u001B[39m         )\n",
      "\u001B[36mFile \u001B[39m\u001B[32m~\\.conda\\envs\\pyt\\Lib\\site-packages\\sklearn\\utils\\_set_output.py:316\u001B[39m, in \u001B[36m_wrap_method_output.<locals>.wrapped\u001B[39m\u001B[34m(self, X, *args, **kwargs)\u001B[39m\n\u001B[32m    314\u001B[39m \u001B[38;5;129m@wraps\u001B[39m(f)\n\u001B[32m    315\u001B[39m \u001B[38;5;28;01mdef\u001B[39;00m\u001B[38;5;250m \u001B[39m\u001B[34mwrapped\u001B[39m(\u001B[38;5;28mself\u001B[39m, X, *args, **kwargs):\n\u001B[32m--> \u001B[39m\u001B[32m316\u001B[39m     data_to_wrap = f(\u001B[38;5;28mself\u001B[39m, X, *args, **kwargs)\n\u001B[32m    317\u001B[39m     \u001B[38;5;28;01mif\u001B[39;00m \u001B[38;5;28misinstance\u001B[39m(data_to_wrap, \u001B[38;5;28mtuple\u001B[39m):\n\u001B[32m    318\u001B[39m         \u001B[38;5;66;03m# only wrap the first output for cross decomposition\u001B[39;00m\n\u001B[32m    319\u001B[39m         return_tuple = (\n\u001B[32m    320\u001B[39m             _wrap_data_with_container(method, data_to_wrap[\u001B[32m0\u001B[39m], X, \u001B[38;5;28mself\u001B[39m),\n\u001B[32m    321\u001B[39m             *data_to_wrap[\u001B[32m1\u001B[39m:],\n\u001B[32m    322\u001B[39m         )\n",
      "\u001B[36mFile \u001B[39m\u001B[32m~\\.conda\\envs\\pyt\\Lib\\site-packages\\sklearn\\base.py:897\u001B[39m, in \u001B[36mTransformerMixin.fit_transform\u001B[39m\u001B[34m(self, X, y, **fit_params)\u001B[39m\n\u001B[32m    894\u001B[39m     \u001B[38;5;28;01mreturn\u001B[39;00m \u001B[38;5;28mself\u001B[39m.fit(X, **fit_params).transform(X)\n\u001B[32m    895\u001B[39m \u001B[38;5;28;01melse\u001B[39;00m:\n\u001B[32m    896\u001B[39m     \u001B[38;5;66;03m# fit method of arity 2 (supervised transformation)\u001B[39;00m\n\u001B[32m--> \u001B[39m\u001B[32m897\u001B[39m     \u001B[38;5;28;01mreturn\u001B[39;00m \u001B[38;5;28mself\u001B[39m.fit(X, y, **fit_params).transform(X)\n",
      "\u001B[36mFile \u001B[39m\u001B[32m~\\.conda\\envs\\pyt\\Lib\\site-packages\\sklearn\\utils\\validation.py:63\u001B[39m, in \u001B[36m_deprecate_positional_args.<locals>._inner_deprecate_positional_args.<locals>.inner_f\u001B[39m\u001B[34m(*args, **kwargs)\u001B[39m\n\u001B[32m     61\u001B[39m extra_args = \u001B[38;5;28mlen\u001B[39m(args) - \u001B[38;5;28mlen\u001B[39m(all_args)\n\u001B[32m     62\u001B[39m \u001B[38;5;28;01mif\u001B[39;00m extra_args <= \u001B[32m0\u001B[39m:\n\u001B[32m---> \u001B[39m\u001B[32m63\u001B[39m     \u001B[38;5;28;01mreturn\u001B[39;00m f(*args, **kwargs)\n\u001B[32m     65\u001B[39m \u001B[38;5;66;03m# extra_args > 0\u001B[39;00m\n\u001B[32m     66\u001B[39m args_msg = [\n\u001B[32m     67\u001B[39m     \u001B[33m\"\u001B[39m\u001B[38;5;132;01m{}\u001B[39;00m\u001B[33m=\u001B[39m\u001B[38;5;132;01m{}\u001B[39;00m\u001B[33m\"\u001B[39m.format(name, arg)\n\u001B[32m     68\u001B[39m     \u001B[38;5;28;01mfor\u001B[39;00m name, arg \u001B[38;5;129;01min\u001B[39;00m \u001B[38;5;28mzip\u001B[39m(kwonly_args[:extra_args], args[-extra_args:])\n\u001B[32m     69\u001B[39m ]\n",
      "\u001B[36mFile \u001B[39m\u001B[32m~\\.conda\\envs\\pyt\\Lib\\site-packages\\sklearn\\base.py:1365\u001B[39m, in \u001B[36m_fit_context.<locals>.decorator.<locals>.wrapper\u001B[39m\u001B[34m(estimator, *args, **kwargs)\u001B[39m\n\u001B[32m   1358\u001B[39m     estimator._validate_params()\n\u001B[32m   1360\u001B[39m \u001B[38;5;28;01mwith\u001B[39;00m config_context(\n\u001B[32m   1361\u001B[39m     skip_parameter_validation=(\n\u001B[32m   1362\u001B[39m         prefer_skip_nested_validation \u001B[38;5;129;01mor\u001B[39;00m global_skip_validation\n\u001B[32m   1363\u001B[39m     )\n\u001B[32m   1364\u001B[39m ):\n\u001B[32m-> \u001B[39m\u001B[32m1365\u001B[39m     \u001B[38;5;28;01mreturn\u001B[39;00m fit_method(estimator, *args, **kwargs)\n",
      "\u001B[36mFile \u001B[39m\u001B[32m~\\.conda\\envs\\pyt\\Lib\\site-packages\\sklearn\\feature_selection\\_rfe.py:902\u001B[39m, in \u001B[36mRFECV.fit\u001B[39m\u001B[34m(self, X, y, groups, **params)\u001B[39m\n\u001B[32m    899\u001B[39m     parallel = Parallel(n_jobs=\u001B[38;5;28mself\u001B[39m.n_jobs)\n\u001B[32m    900\u001B[39m     func = delayed(_rfe_single_fit)\n\u001B[32m--> \u001B[39m\u001B[32m902\u001B[39m step_results = parallel(\n\u001B[32m    903\u001B[39m     func(clone(rfe), \u001B[38;5;28mself\u001B[39m.estimator, X, y, train, test, scorer, routed_params)\n\u001B[32m    904\u001B[39m     \u001B[38;5;28;01mfor\u001B[39;00m train, test \u001B[38;5;129;01min\u001B[39;00m cv.split(X, y, **routed_params.splitter.split)\n\u001B[32m    905\u001B[39m )\n\u001B[32m    906\u001B[39m scores, supports, rankings, step_n_features = \u001B[38;5;28mzip\u001B[39m(*step_results)\n\u001B[32m    908\u001B[39m step_n_features_rev = np.array(step_n_features[\u001B[32m0\u001B[39m])[::-\u001B[32m1\u001B[39m]\n",
      "\u001B[36mFile \u001B[39m\u001B[32m~\\.conda\\envs\\pyt\\Lib\\site-packages\\sklearn\\feature_selection\\_rfe.py:903\u001B[39m, in \u001B[36m<genexpr>\u001B[39m\u001B[34m(.0)\u001B[39m\n\u001B[32m    899\u001B[39m     parallel = Parallel(n_jobs=\u001B[38;5;28mself\u001B[39m.n_jobs)\n\u001B[32m    900\u001B[39m     func = delayed(_rfe_single_fit)\n\u001B[32m    902\u001B[39m step_results = parallel(\n\u001B[32m--> \u001B[39m\u001B[32m903\u001B[39m     func(clone(rfe), \u001B[38;5;28mself\u001B[39m.estimator, X, y, train, test, scorer, routed_params)\n\u001B[32m    904\u001B[39m     \u001B[38;5;28;01mfor\u001B[39;00m train, test \u001B[38;5;129;01min\u001B[39;00m cv.split(X, y, **routed_params.splitter.split)\n\u001B[32m    905\u001B[39m )\n\u001B[32m    906\u001B[39m scores, supports, rankings, step_n_features = \u001B[38;5;28mzip\u001B[39m(*step_results)\n\u001B[32m    908\u001B[39m step_n_features_rev = np.array(step_n_features[\u001B[32m0\u001B[39m])[::-\u001B[32m1\u001B[39m]\n",
      "\u001B[36mFile \u001B[39m\u001B[32m~\\.conda\\envs\\pyt\\Lib\\site-packages\\sklearn\\feature_selection\\_rfe.py:52\u001B[39m, in \u001B[36m_rfe_single_fit\u001B[39m\u001B[34m(rfe, estimator, X, y, train, test, scorer, routed_params)\u001B[39m\n\u001B[32m     45\u001B[39m fit_params = _check_method_params(\n\u001B[32m     46\u001B[39m     X, params=routed_params.estimator.fit, indices=train\n\u001B[32m     47\u001B[39m )\n\u001B[32m     48\u001B[39m score_params = _check_method_params(\n\u001B[32m     49\u001B[39m     X=X, params=routed_params.scorer.score, indices=test\n\u001B[32m     50\u001B[39m )\n\u001B[32m---> \u001B[39m\u001B[32m52\u001B[39m rfe._fit(\n\u001B[32m     53\u001B[39m     X_train,\n\u001B[32m     54\u001B[39m     y_train,\n\u001B[32m     55\u001B[39m     \u001B[38;5;28;01mlambda\u001B[39;00m estimator, features: _score(\n\u001B[32m     56\u001B[39m         estimator,\n\u001B[32m     57\u001B[39m         X_test[:, features],\n\u001B[32m     58\u001B[39m         y_test,\n\u001B[32m     59\u001B[39m         scorer,\n\u001B[32m     60\u001B[39m         score_params=score_params,\n\u001B[32m     61\u001B[39m     ),\n\u001B[32m     62\u001B[39m     **fit_params,\n\u001B[32m     63\u001B[39m )\n\u001B[32m     65\u001B[39m \u001B[38;5;28;01mreturn\u001B[39;00m rfe.step_scores_, rfe.step_support_, rfe.step_ranking_, rfe.step_n_features_\n",
      "\u001B[36mFile \u001B[39m\u001B[32m~\\.conda\\envs\\pyt\\Lib\\site-packages\\sklearn\\feature_selection\\_rfe.py:334\u001B[39m, in \u001B[36mRFE._fit\u001B[39m\u001B[34m(self, X, y, step_score, **fit_params)\u001B[39m\n\u001B[32m    331\u001B[39m \u001B[38;5;28;01mif\u001B[39;00m \u001B[38;5;28mself\u001B[39m.verbose > \u001B[32m0\u001B[39m:\n\u001B[32m    332\u001B[39m     \u001B[38;5;28mprint\u001B[39m(\u001B[33m\"\u001B[39m\u001B[33mFitting estimator with \u001B[39m\u001B[38;5;132;01m%d\u001B[39;00m\u001B[33m features.\u001B[39m\u001B[33m\"\u001B[39m % np.sum(support_))\n\u001B[32m--> \u001B[39m\u001B[32m334\u001B[39m estimator.fit(X[:, features], y, **fit_params)\n\u001B[32m    336\u001B[39m \u001B[38;5;66;03m# Compute step values on the previous selection iteration because\u001B[39;00m\n\u001B[32m    337\u001B[39m \u001B[38;5;66;03m# 'estimator' must use features that have not been eliminated yet\u001B[39;00m\n\u001B[32m    338\u001B[39m \u001B[38;5;28;01mif\u001B[39;00m step_score:\n",
      "\u001B[36mFile \u001B[39m\u001B[32m~\\.conda\\envs\\pyt\\Lib\\site-packages\\sklearn\\base.py:1365\u001B[39m, in \u001B[36m_fit_context.<locals>.decorator.<locals>.wrapper\u001B[39m\u001B[34m(estimator, *args, **kwargs)\u001B[39m\n\u001B[32m   1358\u001B[39m     estimator._validate_params()\n\u001B[32m   1360\u001B[39m \u001B[38;5;28;01mwith\u001B[39;00m config_context(\n\u001B[32m   1361\u001B[39m     skip_parameter_validation=(\n\u001B[32m   1362\u001B[39m         prefer_skip_nested_validation \u001B[38;5;129;01mor\u001B[39;00m global_skip_validation\n\u001B[32m   1363\u001B[39m     )\n\u001B[32m   1364\u001B[39m ):\n\u001B[32m-> \u001B[39m\u001B[32m1365\u001B[39m     \u001B[38;5;28;01mreturn\u001B[39;00m fit_method(estimator, *args, **kwargs)\n",
      "\u001B[36mFile \u001B[39m\u001B[32m~\\.conda\\envs\\pyt\\Lib\\site-packages\\sklearn\\ensemble\\_forest.py:486\u001B[39m, in \u001B[36mBaseForest.fit\u001B[39m\u001B[34m(self, X, y, sample_weight)\u001B[39m\n\u001B[32m    475\u001B[39m trees = [\n\u001B[32m    476\u001B[39m     \u001B[38;5;28mself\u001B[39m._make_estimator(append=\u001B[38;5;28;01mFalse\u001B[39;00m, random_state=random_state)\n\u001B[32m    477\u001B[39m     \u001B[38;5;28;01mfor\u001B[39;00m i \u001B[38;5;129;01min\u001B[39;00m \u001B[38;5;28mrange\u001B[39m(n_more_estimators)\n\u001B[32m    478\u001B[39m ]\n\u001B[32m    480\u001B[39m \u001B[38;5;66;03m# Parallel loop: we prefer the threading backend as the Cython code\u001B[39;00m\n\u001B[32m    481\u001B[39m \u001B[38;5;66;03m# for fitting the trees is internally releasing the Python GIL\u001B[39;00m\n\u001B[32m    482\u001B[39m \u001B[38;5;66;03m# making threading more efficient than multiprocessing in\u001B[39;00m\n\u001B[32m    483\u001B[39m \u001B[38;5;66;03m# that case. However, for joblib 0.12+ we respect any\u001B[39;00m\n\u001B[32m    484\u001B[39m \u001B[38;5;66;03m# parallel_backend contexts set at a higher level,\u001B[39;00m\n\u001B[32m    485\u001B[39m \u001B[38;5;66;03m# since correctness does not rely on using threads.\u001B[39;00m\n\u001B[32m--> \u001B[39m\u001B[32m486\u001B[39m trees = Parallel(\n\u001B[32m    487\u001B[39m     n_jobs=\u001B[38;5;28mself\u001B[39m.n_jobs,\n\u001B[32m    488\u001B[39m     verbose=\u001B[38;5;28mself\u001B[39m.verbose,\n\u001B[32m    489\u001B[39m     prefer=\u001B[33m\"\u001B[39m\u001B[33mthreads\u001B[39m\u001B[33m\"\u001B[39m,\n\u001B[32m    490\u001B[39m )(\n\u001B[32m    491\u001B[39m     delayed(_parallel_build_trees)(\n\u001B[32m    492\u001B[39m         t,\n\u001B[32m    493\u001B[39m         \u001B[38;5;28mself\u001B[39m.bootstrap,\n\u001B[32m    494\u001B[39m         X,\n\u001B[32m    495\u001B[39m         y,\n\u001B[32m    496\u001B[39m         sample_weight,\n\u001B[32m    497\u001B[39m         i,\n\u001B[32m    498\u001B[39m         \u001B[38;5;28mlen\u001B[39m(trees),\n\u001B[32m    499\u001B[39m         verbose=\u001B[38;5;28mself\u001B[39m.verbose,\n\u001B[32m    500\u001B[39m         class_weight=\u001B[38;5;28mself\u001B[39m.class_weight,\n\u001B[32m    501\u001B[39m         n_samples_bootstrap=n_samples_bootstrap,\n\u001B[32m    502\u001B[39m         missing_values_in_feature_mask=missing_values_in_feature_mask,\n\u001B[32m    503\u001B[39m     )\n\u001B[32m    504\u001B[39m     \u001B[38;5;28;01mfor\u001B[39;00m i, t \u001B[38;5;129;01min\u001B[39;00m \u001B[38;5;28menumerate\u001B[39m(trees)\n\u001B[32m    505\u001B[39m )\n\u001B[32m    507\u001B[39m \u001B[38;5;66;03m# Collect newly grown trees\u001B[39;00m\n\u001B[32m    508\u001B[39m \u001B[38;5;28mself\u001B[39m.estimators_.extend(trees)\n",
      "\u001B[36mFile \u001B[39m\u001B[32m~\\.conda\\envs\\pyt\\Lib\\site-packages\\sklearn\\utils\\parallel.py:82\u001B[39m, in \u001B[36mParallel.__call__\u001B[39m\u001B[34m(self, iterable)\u001B[39m\n\u001B[32m     73\u001B[39m warning_filters = warnings.filters\n\u001B[32m     74\u001B[39m iterable_with_config_and_warning_filters = (\n\u001B[32m     75\u001B[39m     (\n\u001B[32m     76\u001B[39m         _with_config_and_warning_filters(delayed_func, config, warning_filters),\n\u001B[32m   (...)\u001B[39m\u001B[32m     80\u001B[39m     \u001B[38;5;28;01mfor\u001B[39;00m delayed_func, args, kwargs \u001B[38;5;129;01min\u001B[39;00m iterable\n\u001B[32m     81\u001B[39m )\n\u001B[32m---> \u001B[39m\u001B[32m82\u001B[39m \u001B[38;5;28;01mreturn\u001B[39;00m \u001B[38;5;28msuper\u001B[39m().\u001B[34m__call__\u001B[39m(iterable_with_config_and_warning_filters)\n",
      "\u001B[36mFile \u001B[39m\u001B[32m~\\.conda\\envs\\pyt\\Lib\\site-packages\\joblib\\parallel.py:2072\u001B[39m, in \u001B[36mParallel.__call__\u001B[39m\u001B[34m(self, iterable)\u001B[39m\n\u001B[32m   2066\u001B[39m \u001B[38;5;66;03m# The first item from the output is blank, but it makes the interpreter\u001B[39;00m\n\u001B[32m   2067\u001B[39m \u001B[38;5;66;03m# progress until it enters the Try/Except block of the generator and\u001B[39;00m\n\u001B[32m   2068\u001B[39m \u001B[38;5;66;03m# reaches the first `yield` statement. This starts the asynchronous\u001B[39;00m\n\u001B[32m   2069\u001B[39m \u001B[38;5;66;03m# dispatch of the tasks to the workers.\u001B[39;00m\n\u001B[32m   2070\u001B[39m \u001B[38;5;28mnext\u001B[39m(output)\n\u001B[32m-> \u001B[39m\u001B[32m2072\u001B[39m \u001B[38;5;28;01mreturn\u001B[39;00m output \u001B[38;5;28;01mif\u001B[39;00m \u001B[38;5;28mself\u001B[39m.return_generator \u001B[38;5;28;01melse\u001B[39;00m \u001B[38;5;28mlist\u001B[39m(output)\n",
      "\u001B[36mFile \u001B[39m\u001B[32m~\\.conda\\envs\\pyt\\Lib\\site-packages\\joblib\\parallel.py:1682\u001B[39m, in \u001B[36mParallel._get_outputs\u001B[39m\u001B[34m(self, iterator, pre_dispatch)\u001B[39m\n\u001B[32m   1679\u001B[39m     \u001B[38;5;28;01myield\u001B[39;00m\n\u001B[32m   1681\u001B[39m     \u001B[38;5;28;01mwith\u001B[39;00m \u001B[38;5;28mself\u001B[39m._backend.retrieval_context():\n\u001B[32m-> \u001B[39m\u001B[32m1682\u001B[39m         \u001B[38;5;28;01myield from\u001B[39;00m \u001B[38;5;28mself\u001B[39m._retrieve()\n\u001B[32m   1684\u001B[39m \u001B[38;5;28;01mexcept\u001B[39;00m \u001B[38;5;167;01mGeneratorExit\u001B[39;00m:\n\u001B[32m   1685\u001B[39m     \u001B[38;5;66;03m# The generator has been garbage collected before being fully\u001B[39;00m\n\u001B[32m   1686\u001B[39m     \u001B[38;5;66;03m# consumed. This aborts the remaining tasks if possible and warn\u001B[39;00m\n\u001B[32m   1687\u001B[39m     \u001B[38;5;66;03m# the user if necessary.\u001B[39;00m\n\u001B[32m   1688\u001B[39m     \u001B[38;5;28mself\u001B[39m._exception = \u001B[38;5;28;01mTrue\u001B[39;00m\n",
      "\u001B[36mFile \u001B[39m\u001B[32m~\\.conda\\envs\\pyt\\Lib\\site-packages\\joblib\\parallel.py:1800\u001B[39m, in \u001B[36mParallel._retrieve\u001B[39m\u001B[34m(self)\u001B[39m\n\u001B[32m   1789\u001B[39m \u001B[38;5;28;01mif\u001B[39;00m \u001B[38;5;28mself\u001B[39m.return_ordered:\n\u001B[32m   1790\u001B[39m     \u001B[38;5;66;03m# Case ordered: wait for completion (or error) of the next job\u001B[39;00m\n\u001B[32m   1791\u001B[39m     \u001B[38;5;66;03m# that have been dispatched and not retrieved yet. If no job\u001B[39;00m\n\u001B[32m   (...)\u001B[39m\u001B[32m   1795\u001B[39m     \u001B[38;5;66;03m# control only have to be done on the amount of time the next\u001B[39;00m\n\u001B[32m   1796\u001B[39m     \u001B[38;5;66;03m# dispatched job is pending.\u001B[39;00m\n\u001B[32m   1797\u001B[39m     \u001B[38;5;28;01mif\u001B[39;00m (nb_jobs == \u001B[32m0\u001B[39m) \u001B[38;5;129;01mor\u001B[39;00m (\n\u001B[32m   1798\u001B[39m         \u001B[38;5;28mself\u001B[39m._jobs[\u001B[32m0\u001B[39m].get_status(timeout=\u001B[38;5;28mself\u001B[39m.timeout) == TASK_PENDING\n\u001B[32m   1799\u001B[39m     ):\n\u001B[32m-> \u001B[39m\u001B[32m1800\u001B[39m         time.sleep(\u001B[32m0.01\u001B[39m)\n\u001B[32m   1801\u001B[39m         \u001B[38;5;28;01mcontinue\u001B[39;00m\n\u001B[32m   1803\u001B[39m \u001B[38;5;28;01melif\u001B[39;00m nb_jobs == \u001B[32m0\u001B[39m:\n\u001B[32m   1804\u001B[39m     \u001B[38;5;66;03m# Case unordered: jobs are added to the list of jobs to\u001B[39;00m\n\u001B[32m   1805\u001B[39m     \u001B[38;5;66;03m# retrieve `self._jobs` only once completed or in error, which\u001B[39;00m\n\u001B[32m   (...)\u001B[39m\u001B[32m   1811\u001B[39m     \u001B[38;5;66;03m# timeouts before any other dispatched job has completed and\u001B[39;00m\n\u001B[32m   1812\u001B[39m     \u001B[38;5;66;03m# been added to `self._jobs` to be retrieved.\u001B[39;00m\n",
      "\u001B[31mKeyboardInterrupt\u001B[39m: "
     ]
    }
   ],
   "source": [
    "# model = skl.ensemble.RandomForestClassifier(class_weight=\"balanced\", n_jobs=-1, random_state=16462)\n",
    "# rfecv = skl.feature_selection.RFECV(estimator=model, step=1, cv=skl.model_selection.StratifiedKFold(10))\n",
    "# pipeline = skl.pipeline.Pipeline([('feature_selection', rfecv), ('classification', model)])\n",
    "# gs_model = skl.model_selection.GridSearchCV(pipeline, {\n",
    "#     'classification__n_estimators': range(60, 100, 2),\n",
    "#     'classification__max_depth': range(10, 15),\n",
    "# }, n_jobs=-1, verbose=2)\n",
    "# gs_model.fit(x_train, y_train)\n",
    "# print('Params', gs_model.best_params_)\n",
    "# print('Train ', gs_model.score(x_train, y_train))\n",
    "# print('Test  ', gs_model.score(x_test, y_test))\n",
    "# save_submission('GS_FE_RF', gs_model)\n",
    "# chime.success()"
   ]
  },
  {
   "cell_type": "code",
   "execution_count": null,
   "id": "6f12410d11a5047",
   "metadata": {},
   "outputs": [],
   "source": []
  },
  {
   "cell_type": "code",
   "execution_count": 72,
   "id": "f28ca13b4736a5b6",
   "metadata": {
    "ExecuteTime": {
     "end_time": "2025-10-15T13:13:07.376601Z",
     "start_time": "2025-10-15T13:13:07.051405Z"
    }
   },
   "outputs": [
    {
     "data": {
      "image/png": "[encoded data removed]",
      "text/plain": [
       "<Figure size 800x400 with 1 Axes>"
      ]
     },
     "metadata": {},
     "output_type": "display_data"
    }
   ],
   "source": [
    "pd.Series(gs_model.best_estimator_.feature_importances_, index=ds_source_transf.columns).sort_values(\n",
    "    ascending=False).plot(kind='bar', figsize=(8, 4))\n",
    "plt.title(\"Feature Importances from Best Random Forest Model\")\n",
    "plt.show()"
   ]
  },
  {
   "cell_type": "code",
   "execution_count": null,
   "id": "926e5d52af423f7",
   "metadata": {},
   "outputs": [],
   "source": [
    "gs_model.best_params_"
   ]
  },
  {
   "cell_type": "code",
   "execution_count": null,
   "id": "e82398df9577fa6e",
   "metadata": {},
   "outputs": [],
   "source": []
  },
  {
   "cell_type": "code",
   "execution_count": null,
   "id": "b04ddedd11742ced",
   "metadata": {},
   "outputs": [],
   "source": []
  },
  {
   "cell_type": "code",
   "execution_count": null,
   "id": "7ada61d0c18be54f",
   "metadata": {},
   "outputs": [],
   "source": []
  },
  {
   "cell_type": "code",
   "execution_count": null,
   "id": "d288cc64432840b0",
   "metadata": {},
   "outputs": [],
   "source": []
  },
  {
   "cell_type": "code",
   "execution_count": 80,
   "id": "b64cf48c96bd06f0",
   "metadata": {
    "ExecuteTime": {
     "end_time": "2025-10-15T13:56:44.717169Z",
     "start_time": "2025-10-15T13:52:29.980997Z"
    }
   },
   "outputs": [
    {
     "name": "stdout",
     "output_type": "stream",
     "text": [
      "seed 7204\n",
      "Fitting 5 folds for each of 30 candidates, totalling 150 fits\n",
      "Params {'estimator__max_depth': 10, 'learning_rate': 1, 'n_estimators': 250}\n",
      "Train  1.0\n",
      "Test   0.8921789507563566\n"
     ]
    }
   ],
   "source": [
    "seed = np.random.randint(0, 10000)\n",
    "print('seed', seed)\n",
    "dt_model = skl.tree.DecisionTreeClassifier(random_state=seed)\n",
    "ada_model = skl.ensemble.AdaBoostClassifier(estimator=dt_model, random_state=seed)\n",
    "gs_model = skl.model_selection.GridSearchCV(estimator=ada_model, param_grid={\n",
    "    'n_estimators': range(245, 255),\n",
    "    'estimator__max_depth': [9, 10, 11]\n",
    "}, scoring='accuracy', cv=5, n_jobs=14, verbose=2)\n",
    "gs_model.fit(x_train, y_train)\n",
    "print('Params', gs_model.best_params_)\n",
    "print('Train ', gs_model.score(x_train, y_train))\n",
    "print('Test  ', gs_model.score(x_test, y_test))\n",
    "save_submission('GS_ADA', gs_model)\n",
    "chime.success()"
   ]
  },
  {
   "cell_type": "code",
   "execution_count": null,
   "id": "2ab8b60d6ba6d1f7",
   "metadata": {},
   "outputs": [],
   "source": []
  },
  {
   "cell_type": "code",
   "execution_count": null,
   "id": "5c937699ad81a849",
   "metadata": {},
   "outputs": [],
   "source": []
  },
  {
   "cell_type": "code",
   "execution_count": null,
   "id": "4ca0e4abea85ba6e",
   "metadata": {},
   "outputs": [],
   "source": []
  },
  {
   "cell_type": "code",
   "execution_count": null,
   "id": "f1b107c6c979d785",
   "metadata": {},
   "outputs": [],
   "source": []
  },
  {
   "cell_type": "code",
   "execution_count": null,
   "id": "8f6ad1eda500ec63",
   "metadata": {},
   "outputs": [],
   "source": []
  },
  {
   "cell_type": "code",
   "execution_count": null,
   "id": "ae72ebecd5268ebb",
   "metadata": {},
   "outputs": [],
   "source": []
  },
  {
   "cell_type": "code",
   "execution_count": 88,
   "id": "e3d1750dbba59068",
   "metadata": {
    "ExecuteTime": {
     "end_time": "2025-10-15T14:00:14.333277Z",
     "start_time": "2025-10-15T14:00:14.325199Z"
    }
   },
   "outputs": [
    {
     "data": {
      "text/plain": [
       "7"
      ]
     },
     "execution_count": 88,
     "metadata": {},
     "output_type": "execute_result"
    }
   ],
   "source": [
    "len(ds_labels.unique())"
   ]
  },
  {
   "cell_type": "code",
   "execution_count": 94,
   "id": "b38418462e4b38d4",
   "metadata": {
    "ExecuteTime": {
     "end_time": "2025-10-15T14:18:20.346581Z",
     "start_time": "2025-10-15T14:18:11.732132Z"
    }
   },
   "outputs": [
    {
     "name": "stdout",
     "output_type": "stream",
     "text": [
      "Fitting 3 folds for each of 6 candidates, totalling 18 fits\n",
      "Params {'colsample_bytree': 0.75, 'learning_rate': 0.1, 'max_depth': 4, 'n_estimators': 204, 'subsample': 0.65}\n",
      "Train  0.9490584258812168\n",
      "Test   0.8979723205664628\n"
     ]
    }
   ],
   "source": [
    "xgb_model = xgb.XGBClassifier(\n",
    "    objective='multi:softmax',  # or 'multi:softprob'\n",
    "    num_class=len(ds_labels.unique()),\n",
    "    eval_metric='mlogloss',\n",
    "    # use_label_encoder=False,\n",
    "    random_state=seed\n",
    ")\n",
    "param_grid = {\n",
    "    'n_estimators': [204],\n",
    "    'max_depth': [4],\n",
    "    'learning_rate': [0.1],\n",
    "    'subsample': [0.64, 0.65, .66],\n",
    "    'colsample_bytree': [.75, .76]\n",
    "}\n",
    "gs_model = skl.model_selection.GridSearchCV(estimator=xgb_model, param_grid=param_grid, scoring='accuracy',\n",
    "                                            cv=3, n_jobs=14, verbose=3)\n",
    "gs_model.fit(x_train, y_train)\n",
    "print('Params', gs_model.best_params_)\n",
    "print('Train ', gs_model.score(x_train, y_train))\n",
    "print('Test  ', gs_model.score(x_test, y_test))\n",
    "save_submission('GS_XGB', gs_model)\n",
    "chime.success()"
   ]
  },
  {
   "cell_type": "code",
   "execution_count": 96,
   "id": "91780447fe4292fa",
   "metadata": {
    "ExecuteTime": {
     "end_time": "2025-10-15T14:19:19.027715Z",
     "start_time": "2025-10-15T14:19:15.296638Z"
    }
   },
   "outputs": [
    {
     "name": "stdout",
     "output_type": "stream",
     "text": [
      "Fitting 3 folds for each of 1 candidates, totalling 3 fits\n",
      "Params {'colsample_bytree': 0.8, 'learning_rate': 0.1, 'max_depth': 3, 'n_estimators': 200, 'subsample': 0.8}\n",
      "Train  0.9278931273136971\n",
      "Test   0.895397489539749\n"
     ]
    }
   ],
   "source": [
    "xgb_model = xgb.XGBClassifier(\n",
    "    objective='multi:softmax',  # or 'multi:softprob'\n",
    "    num_class=len(ds_labels.unique()),\n",
    "    eval_metric='mlogloss',\n",
    "    # use_label_encoder=False,\n",
    "    random_state=seed\n",
    ")\n",
    "param_grid = {\n",
    "    'n_estimators': [200],\n",
    "    'max_depth': [3],\n",
    "    'learning_rate': [0.1],\n",
    "    'subsample': [.8],\n",
    "    'colsample_bytree': [.8]\n",
    "}\n",
    "gs_model = skl.model_selection.GridSearchCV(estimator=xgb_model, param_grid=param_grid, scoring='accuracy',\n",
    "                                            cv=3, n_jobs=14, verbose=3)\n",
    "gs_model.fit(x_train, y_train)\n",
    "print('Params', gs_model.best_params_)\n",
    "print('Train ', gs_model.score(x_train, y_train))\n",
    "print('Test  ', gs_model.score(x_test, y_test))\n",
    "save_submission('GS_XGB', gs_model)\n",
    "chime.success()"
   ]
  },
  {
   "cell_type": "code",
   "execution_count": null,
   "id": "df2a970cdba1899d",
   "metadata": {},
   "outputs": [],
   "source": []
  },
  {
   "cell_type": "code",
   "execution_count": null,
   "id": "3602e3efb143e646",
   "metadata": {},
   "outputs": [],
   "source": []
  },
  {
   "cell_type": "code",
   "execution_count": null,
   "id": "d42434dffb7aa3b7",
   "metadata": {},
   "outputs": [],
   "source": []
  },
  {
   "cell_type": "code",
   "execution_count": null,
   "id": "2b54e920e21db6b8",
   "metadata": {},
   "outputs": [],
   "source": []
  },
  {
   "cell_type": "code",
   "execution_count": null,
   "id": "c7e7046ad694763c",
   "metadata": {},
   "outputs": [],
   "source": []
  },
  {
   "cell_type": "code",
   "execution_count": null,
   "id": "6b8902c82d4499b",
   "metadata": {},
   "outputs": [],
   "source": []
  },
  {
   "cell_type": "code",
   "execution_count": null,
   "id": "37cf757842ce4da8",
   "metadata": {},
   "outputs": [],
   "source": []
  },
  {
   "cell_type": "code",
   "execution_count": null,
   "id": "d906227f5727b91",
   "metadata": {},
   "outputs": [],
   "source": []
  },
  {
   "cell_type": "code",
   "execution_count": null,
   "id": "2fd6710d9d40768e",
   "metadata": {},
   "outputs": [],
   "source": []
  },
  {
   "cell_type": "code",
   "execution_count": null,
   "id": "dd4aad0d67c2facf",
   "metadata": {},
   "outputs": [],
   "source": []
  },
  {
   "cell_type": "code",
   "execution_count": null,
   "id": "1d6964a9324b1f42",
   "metadata": {},
   "outputs": [],
   "source": []
  },
  {
   "cell_type": "code",
   "execution_count": null,
   "id": "325458c1eecf9d8d",
   "metadata": {},
   "outputs": [],
   "source": []
  },
  {
   "cell_type": "code",
   "execution_count": 134,
   "id": "6c4c58ef5096268",
   "metadata": {
    "ExecuteTime": {
     "end_time": "2025-10-15T14:44:39.159517Z",
     "start_time": "2025-10-15T14:44:23.276694Z"
    }
   },
   "outputs": [
    {
     "name": "stdout",
     "output_type": "stream",
     "text": [
      "seed 797\n",
      "1.1538748510714392\n"
     ]
    }
   ],
   "source": [
    "seed = np.random.randint(0, 10000)\n",
    "print('seed', seed)\n",
    "x_train, x_test, y_train, y_test = skl.model_selection.train_test_split(data_x, data_y, test_size=0.2,\n",
    "                                                                        random_state=seed)\n",
    "dists = []\n",
    "for i in range(data_test.shape[0]):\n",
    "    # dists.append(((data_test[i] - x_train) ** 2).sum(axis=1).argmin())\n",
    "    indices = ((data_test[i] - x_train) ** 2).sum(axis=1).argsort()[:2]\n",
    "    dists.append(indices[0])\n",
    "    dists.append(indices[1])\n",
    "print((((data_test - x_train[dists[::2]]) ** 2).sum(axis=1) ** 0.5).mean())"
   ]
  },
  {
   "cell_type": "code",
   "execution_count": 137,
   "id": "a3d94c26feb29588",
   "metadata": {
    "ExecuteTime": {
     "end_time": "2025-10-15T14:45:49.394350Z",
     "start_time": "2025-10-15T14:45:24.464906Z"
    }
   },
   "outputs": [
    {
     "name": "stdout",
     "output_type": "stream",
     "text": [
      "seed 1745\n",
      "Params {'colsample_bytree': 0.8, 'learning_rate': 0.1, 'max_depth': 3, 'n_estimators': 200, 'subsample': 0.8}\n",
      "Train  0.9197650088524062\n",
      "Test   0.9279047312520116\n"
     ]
    }
   ],
   "source": [
    "seed = 1745\n",
    "print('seed', seed)\n",
    "dt_model = skl.tree.DecisionTreeClassifier(random_state=seed, max_depth=10)\n",
    "ada_model = skl.ensemble.AdaBoostClassifier(estimator=dt_model, random_state=seed, n_estimators=250)\n",
    "ada_model.fit(x_train[dists], y_train[dists])\n",
    "print('Params', gs_model.best_params_)\n",
    "print('Train ', gs_model.score(x_train, y_train))\n",
    "print('Test  ', gs_model.score(x_test, y_test))\n",
    "save_submission('CH_ADA', gs_model)\n",
    "chime.success()"
   ]
  },
  {
   "cell_type": "code",
   "execution_count": 136,
   "id": "291d36ae2010e416",
   "metadata": {
    "ExecuteTime": {
     "end_time": "2025-10-15T14:45:21.023693Z",
     "start_time": "2025-10-15T14:45:19.484043Z"
    }
   },
   "outputs": [
    {
     "name": "stdout",
     "output_type": "stream",
     "text": [
      "Train  0.9125221310156124\n",
      "Test   0.9079497907949791\n"
     ]
    }
   ],
   "source": [
    "xgb_model = xgb.XGBClassifier(\n",
    "    objective='multi:softmax',  # or 'multi:softprob'\n",
    "    num_class=len(ds_labels.unique()),\n",
    "    eval_metric='mlogloss',\n",
    "    # use_label_encoder=False,\n",
    "    random_state=seed,\n",
    "    n_estimators=200,\n",
    "    max_depth=3,\n",
    "    learning_rate=0.1,\n",
    "    subsample=0.8,\n",
    "    colsample_bytree=0.8,\n",
    ")\n",
    "xgb_model.fit(x_train[dists], y_train[dists])\n",
    "print('Train ', xgb_model.score(x_train, y_train))\n",
    "print('Test  ', xgb_model.score(x_test, y_test))\n",
    "save_submission('CH_XGB', xgb_model)\n",
    "chime.success()"
   ]
  },
  {
   "cell_type": "code",
   "execution_count": null,
   "id": "35983120f1f96821",
   "metadata": {},
   "outputs": [],
   "source": []
  }
 ],
 "metadata": {
  "kernelspec": {
   "display_name": "Python 3",
   "language": "python",
   "name": "python3"
  },
  "language_info": {
   "codemirror_mode": {
    "name": "ipython",
    "version": 3
   },
   "file_extension": ".py",
   "mimetype": "text/x-python",
   "name": "python",
   "nbconvert_exporter": "python",
   "pygments_lexer": "ipython3",
   "version": "3.13.7"
  }
 },
 "nbformat": 4,
 "nbformat_minor": 5
}
