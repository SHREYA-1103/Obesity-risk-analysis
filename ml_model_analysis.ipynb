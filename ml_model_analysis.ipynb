{
 "cells": [
  {
   "cell_type": "markdown",
   "id": "14cb7eafd9b1e1f8",
   "metadata": {},
   "source": [
    "# **ML Models comparative analysis on Obesity - CVD risk data**\n",
    "\n",
    "## 1. Briefing\n",
    "\n",
    "|            |          |                     |\n",
    "|------------|----------|---------------------|\n",
    "| Subject    |          | Machine Learning    |\n",
    "| Supervisor |          | Prof. Aswin Kannan  |\n",
    "|            |          |                     |\n",
    "| Team Name  |          | MT2025724_MT2025732 |\n",
    "| Member 1   | Name:    | Shreya Gupta              |\n",
    "|            | Roll No: | MT2025724           |\n",
    "| Member 2   | Name:    | Anirudh Sharma              |\n",
    "|            | Roll No: | MT2025732           |\n",
    "|            |          |                     |\n",
    "\n",
    "TODO: Add some numericals like the number of models compared, number of data processing techniques applied...\n",
    "\n",
    "### Keywords\n",
    "\n",
    "## 2. Summary\n",
    "\n",
    "* 4–8 bullet points summarizing highest-level conclusions (best model(s), tradeoffs, recommended next steps).\n",
    "* Short comparative table of winners by criteria (accuracy, latency, model size, fairness, etc.)\n",
    "\n",
    "## 3. Introduction\n",
    "\n",
    "* Problem statement and motivation\n",
    "* Objectives of the comparative study (what questions you will answer)\n",
    "* Scope (datasets, model families, compute constraints)\n",
    "* Contributions (what unique analyses you provide — e.g., timing, memory profiling, calibration, fairness tests)\n"
   ]
  },
  {
   "cell_type": "markdown",
   "id": "c593c2d7",
   "metadata": {},
   "source": [
    "## System Imports"
   ]
  },
  {
   "cell_type": "code",
   "id": "974843cf72e1373",
   "metadata": {
    "ExecuteTime": {
     "end_time": "2025-10-21T13:01:37.317432Z",
     "start_time": "2025-10-21T13:01:36.369521Z"
    }
   },
   "source": [
    "import chime\n",
    "import random\n",
    "import time\n",
    "import json\n",
    "import functools\n",
    "import itertools\n",
    "import warnings\n",
    "import joblib\n",
    "import inspect\n",
    "\n",
    "import pandas as pd\n",
    "import numpy as np\n",
    "import scipy as sp\n",
    "import sklearn as skl\n",
    "import xgboost as xgb\n",
    "import shap\n",
    "import matplotlib.pyplot as plt\n",
    "import matplotlib as mpl\n",
    "import seaborn as sns\n",
    "from pprint import pprint\n",
    "from tqdm import tqdm\n",
    "\n",
    "import IPython.display as d"
   ],
   "outputs": [],
   "execution_count": 2
  },
  {
   "cell_type": "markdown",
   "id": "3a6f85bc",
   "metadata": {},
   "source": [
    "## Helper Functions"
   ]
  },
  {
   "cell_type": "markdown",
   "id": "271468c40e07103",
   "metadata": {},
   "source": "### Notification System Setup"
  },
  {
   "cell_type": "code",
   "id": "3e8e2b9462267725",
   "metadata": {
    "ExecuteTime": {
     "end_time": "2025-10-21T13:01:37.331243Z",
     "start_time": "2025-10-21T13:01:37.324235Z"
    }
   },
   "source": [
    "# Set notification sound\n",
    "chime.theme(\"material\")\n",
    "chime.info()"
   ],
   "outputs": [],
   "execution_count": 3
  },
  {
   "cell_type": "markdown",
   "id": "1d104f2b6083458e",
   "metadata": {},
   "source": "### PyPlot Setup"
  },
  {
   "cell_type": "code",
   "id": "f10d560ba218bc6c",
   "metadata": {
    "ExecuteTime": {
     "end_time": "2025-10-21T13:01:37.345576Z",
     "start_time": "2025-10-21T13:01:37.338757Z"
    }
   },
   "source": [
    "# Font Setup\n",
    "font_suptitle = {'fontsize': 18, 'fontweight': \"bold\"}\n",
    "font_title = {'fontsize': 14, 'fontweight': \"bold\"}\n",
    "font_label = {'fontsize': 12}\n",
    "font_ticks = {'fontsize': 10}\n",
    "\n",
    "mpl.rcParams['font.family'] = 'monospace'\n",
    "mpl.rcParams['axes.labelsize'] = font_label['fontsize']\n",
    "mpl.rcParams['xtick.labelsize'] = mpl.rcParams['ytick.labelsize'] = font_ticks['fontsize']\n",
    "mpl.rcParams['figure.titlesize'] = font_suptitle['fontsize']\n",
    "\n",
    "max_fig_width = 11\n",
    "sml_fig = (4, 3)\n",
    "wid_fig = (8, 3)\n",
    "\n",
    "\n",
    "# Optional<Function<Arg|Map, Unit>>\n",
    "def compose(function, data_1, data_2: dict):\n",
    "    if data_1 is not None:\n",
    "        if isinstance(data_1, str):\n",
    "            function(data_1, **data_2)\n",
    "        elif isinstance(data_1, dict):\n",
    "            data_2 = data_2.copy()\n",
    "            data_2.update(data_1)\n",
    "            function(**data_2)\n",
    "\n",
    "\n",
    "# Font Embed Helpers\n",
    "def annotate_plot(\n",
    "        ax: plt.Axes,\n",
    "        title: str = None,\n",
    "        x_label: str = None, y_label: str = None,\n",
    "        x_ticks=None, y_ticks=None,\n",
    ") -> None:\n",
    "    compose(ax.set_title, title, font_title)\n",
    "    compose(ax.set_xlabel, x_label, font_label)\n",
    "    compose(ax.set_ylabel, y_label, font_label)\n",
    "    compose(ax.set_xticks, x_ticks, font_ticks)\n",
    "    compose(ax.set_yticks, y_ticks, font_ticks)\n",
    "\n",
    "\n",
    "def conclude_plot(suptitle: str = None, constrained=False):\n",
    "    if constrained:\n",
    "        fig.set_constrained_layout(True)\n",
    "    else:\n",
    "        plt.tight_layout()\n",
    "    plt.savefig(f'report/figures/plot_{suptitle}.png', dpi=300)\n",
    "    compose(plt.suptitle, suptitle, font_suptitle)\n",
    "    if constrained:\n",
    "        fig.set_constrained_layout(True)\n",
    "    else:\n",
    "        plt.tight_layout()\n",
    "    plt.show()\n",
    "\n",
    "\n",
    "def conclude_csv(ds: pd.DataFrame, name=None, index=False, transpose=False):\n",
    "    if name is None:\n",
    "        if isinstance(ds, pd.Series):\n",
    "            name = ds.name\n",
    "        else:\n",
    "            raise NameError()\n",
    "    ds = ds.copy()\n",
    "    if transpose: ds = ds.transpose()\n",
    "    ds = ds.round(2)\n",
    "    ds.to_csv(f'report/tables/data_{name}.csv', index=index, encoding=\"utf-8\")\n",
    "\n",
    "\n",
    "chime.info()"
   ],
   "outputs": [],
   "execution_count": 4
  },
  {
   "cell_type": "markdown",
   "id": "8a17fd074d4a6bd3",
   "metadata": {},
   "source": [
    "### Randomizer Setup"
   ]
  },
  {
   "cell_type": "code",
   "id": "646820f8f075d26a",
   "metadata": {
    "ExecuteTime": {
     "end_time": "2025-10-21T13:01:37.357561Z",
     "start_time": "2025-10-21T13:01:37.354051Z"
    }
   },
   "source": [
    "default_seed = 1114\n",
    "\n",
    "\n",
    "def reset_seed(seed=default_seed):\n",
    "    random.seed(seed)\n",
    "    np.random.seed(seed)\n",
    "\n",
    "\n",
    "chime.info()"
   ],
   "outputs": [],
   "execution_count": 5
  },
  {
   "cell_type": "markdown",
   "id": "50ce54cfc3d21f5f",
   "metadata": {},
   "source": [
    "### Presentor Setup"
   ]
  },
  {
   "cell_type": "code",
   "id": "8af3c3071da6f907",
   "metadata": {
    "ExecuteTime": {
     "end_time": "2025-10-21T13:01:37.369036Z",
     "start_time": "2025-10-21T13:01:37.364720Z"
    }
   },
   "source": [
    "displayMD = lambda x: display(d.Markdown(x))\n",
    "kv = lambda field, value: \"**%s:** `%s`\" % (field.strip(), str(value).strip())\n",
    "header = lambda n, field: \"%s %s\" % (\"#\" * n, field)\n",
    "quote = lambda field: \"\\n\\n> %s\" % field.replace(\"\\n\", \"\\n> \")\n",
    "list_out = lambda title, list: header(4, \"%s\\n\\n* %s\" % (title, \"\\n* \".join(list)))"
   ],
   "outputs": [],
   "execution_count": 6
  },
  {
   "cell_type": "markdown",
   "id": "d79924fdb099da6b",
   "metadata": {},
   "source": [
    "### Other Helpers"
   ]
  },
  {
   "cell_type": "code",
   "id": "f7a681d4ff2f3f93",
   "metadata": {
    "ExecuteTime": {
     "end_time": "2025-10-21T13:01:37.379929Z",
     "start_time": "2025-10-21T13:01:37.375942Z"
    }
   },
   "source": [
    "def flatten(obj):\n",
    "    if hasattr(obj, '__iter__') and not isinstance(obj, str):\n",
    "        if hasattr(obj[0], '__iter__') and not isinstance(obj[0], str):\n",
    "            return list(itertools.chain.from_iterable(obj))\n",
    "        return obj\n",
    "    return [obj]"
   ],
   "outputs": [],
   "execution_count": 7
  },
  {
   "cell_type": "markdown",
   "id": "fa3e1b2473babf34",
   "metadata": {},
   "source": [
    "### Transformation Helpers"
   ]
  },
  {
   "cell_type": "code",
   "id": "15a154306178452a",
   "metadata": {
    "ExecuteTime": {
     "end_time": "2025-10-21T13:01:37.404418Z",
     "start_time": "2025-10-21T13:01:37.392869Z"
    }
   },
   "source": [
    "def pop_drop_column(data, columns=None):\n",
    "    if isinstance(data, pd.DataFrame): data.drop(columns=columns, inplace=True)\n",
    "    return columns, None\n",
    "\n",
    "\n",
    "def pop_log_transform(data, base=np.e):\n",
    "    return base, np.log(data) / np.log(base)\n",
    "\n",
    "\n",
    "def pop_root_transform(data, exp=0.5):\n",
    "    return exp, np.power(data, exp)\n",
    "\n",
    "\n",
    "def pop_box_cox_transform(data):\n",
    "    data, lam = sp.stats.boxcox(data)\n",
    "    return lam, data\n",
    "\n",
    "\n",
    "def pop_one_hot_encode(data, name=None):\n",
    "    if isinstance(data, pd.Series) and name is None: name = data.name\n",
    "    return np.unique(data), pd.get_dummies(data, name)\n",
    "\n",
    "\n",
    "def pop_soft_ohe(data, split_points):\n",
    "    produce = []\n",
    "    produce.append((data < split_points[1]))\n",
    "    for s, e in zip(split_points[0:-2], split_points[2:]):\n",
    "        produce.append(data * (data > s) * (data < e))\n",
    "    produce.append(data * (data > split_points[-2]))\n",
    "    return split_points, produce\n",
    "\n",
    "\n",
    "def pop_binarize(data):\n",
    "    assert len(np.unique_counts(data)) == 2\n",
    "    pri_val, data = data[0], data == data[0]\n",
    "    if isinstance(data, pd.Series): data.name = \"is_%s_%s\" % (data.name, pri_val)\n",
    "    return pri_val, data\n",
    "\n",
    "\n",
    "def pop_standardize(data):\n",
    "    mean, std = np.mean(data, axis=0), np.std(data, axis=0)\n",
    "    return (mean, std), (data - mean) / std\n",
    "\n",
    "\n",
    "def pop_minmax(data):\n",
    "    min, max = np.min(data, axis=0), np.max(data, axis=0)\n",
    "    return (min, max), (data - min) / (max - min)\n",
    "\n",
    "\n",
    "def pop_ordinal_encode(data):\n",
    "    uniques, encoded = np.unique(data, return_inverse=True)\n",
    "    if isinstance(data, pd.Series): encoded = pd.Series(encoded, index=data.index, name=data.name)\n",
    "    return uniques, encoded\n",
    "\n",
    "\n",
    "def compose_pop(*pop_operations):\n",
    "    pop_operations = flatten(pop_operations)\n",
    "\n",
    "    def pop_composed(data):\n",
    "        arguments = []\n",
    "        for pop_operation in pop_operations:\n",
    "            args, data = pop_operation(data)\n",
    "            if data is None: continue\n",
    "            arguments.append([pop_operation.__name__, args])\n",
    "        return arguments, data\n",
    "\n",
    "    return pop_composed\n",
    "\n",
    "\n",
    "def pop_round(data, decimals=0):\n",
    "    return decimals, np.round(data, decimals=decimals)\n",
    "\n",
    "\n",
    "def pop_derived_features(data: pd.DataFrame) -> pd.DataFrame:\n",
    "    data = data.copy()\n",
    "    data[\"BMI\"] = data[\"Weight\"] / (data[\"Height\"] ** 2)\n",
    "    data[\"Water_Intake_per_Meal\"] = data[\"CH2O\"] / (data[\"NCP\"] + 1e-6)\n",
    "    data[\"Activity_to_Tech_Ratio\"] = data[\"FAF\"] / (data[\"TUE\"] + 0.1)\n",
    "    data[\"Healthy_Lifestyle_Score\"] = (data[\"FCVC\"] * 0.3 + data[\"FAF\"] * 0.3\n",
    "                                       + data[\"CH2O\"] * 0.4 - data[\"FAVC\"].map({\"yes\": 1, \"no\": 0}))\n",
    "    data[\"Has_FamilyRisk_and_FAVC\"] = np.where(\n",
    "        (data[\"FHWO\"] == \"yes\") & (data[\"FAVC\"] == \"yes\"), 1, 0)\n",
    "    data[\"Calorie_Monitoring_Interaction\"] = (data[\"SCC\"].map({\"yes\": 1, \"no\": 0})\n",
    "                                              * data[\"FAVC\"].map({\"yes\": 1, \"no\": 0}))\n",
    "    return None, data\n",
    "\n",
    "\n",
    "def prepare_pop(pop_operation, *args):\n",
    "    def pop_prepared(data):\n",
    "        return pop_operation(data, *args)\n",
    "\n",
    "    return pop_prepared\n",
    "\n",
    "\n",
    "def to_ser_op(ds: pd.DataFrame, col, pop_operation, keep_col=False, out_ds=None):\n",
    "    data = ds[col]\n",
    "    if not keep_col: ds.drop(columns=flatten(col), inplace=True)\n",
    "    arg, data = compose_pop(pop_operation)(data)\n",
    "    if out_ds is not None: ds = out_ds\n",
    "    if data is None: return arg, ds\n",
    "    if isinstance(data, list):\n",
    "        for idx, sample in enumerate(data):\n",
    "            ds[\"%s_%d\" % (col, idx)] = sample\n",
    "    elif isinstance(data, pd.DataFrame):\n",
    "        for column in data.columns:\n",
    "            ds[column] = data[column]\n",
    "    else:\n",
    "        ds[col] = data\n",
    "    return arg, ds\n",
    "\n",
    "\n",
    "def select_pipeline_variation(pipeline, index):\n",
    "    pipeline = pipeline.copy()\n",
    "    pipeline[1] = [pipeline[1][index]]\n",
    "    return pipeline\n",
    "\n",
    "\n",
    "def apply_pipeline(ds: pd.DataFrame, pipeline, to_numpy=True):\n",
    "    compulsory, permutable = pipeline[0], pipeline[1]\n",
    "    ds = ds.copy()\n",
    "    arguments = []\n",
    "    for pop_operation, columns in compulsory:\n",
    "        for column in columns:\n",
    "            if (not isinstance(column, str)) or (column in ds.columns):\n",
    "                arg, _ = to_ser_op(ds, column, pop_operation, keep_col=False)\n",
    "                arguments.append(arg)\n",
    "    if len(permutable) == 0:\n",
    "        yield arguments, ds.to_numpy() if to_numpy else ds\n",
    "    for permutation in permutable:\n",
    "        ds_ans = ds.copy()\n",
    "        perm_arguments = arguments.copy()\n",
    "        for pop_operation, columns in permutation:\n",
    "            for column in columns:\n",
    "                if (not isinstance(column, str)) or (column in ds_ans.columns):\n",
    "                    arg, _ = to_ser_op(ds_ans, column, pop_operation, keep_col=False)\n",
    "                    perm_arguments.append(arg)\n",
    "        yield perm_arguments, ds_ans.to_numpy() if to_numpy else ds"
   ],
   "outputs": [],
   "execution_count": 8
  },
  {
   "cell_type": "markdown",
   "id": "ccdd111550365288",
   "metadata": {},
   "source": [
    "### Model Helpers"
   ]
  },
  {
   "cell_type": "code",
   "id": "f05c3cb4ab4b7111",
   "metadata": {
    "ExecuteTime": {
     "end_time": "2025-10-21T14:11:20.742444Z",
     "start_time": "2025-10-21T14:11:20.727912Z"
    }
   },
   "source": [
    "def save_model(model, path):\n",
    "    joblib.dump(model, path)\n",
    "\n",
    "\n",
    "def load_model(path):\n",
    "    return joblib.load(path)\n",
    "\n",
    "\n",
    "def evaluate_model(model, train_x, train_y, test_x, test_y):\n",
    "    model.fit(train_x, train_y)\n",
    "    displayMD(header(4, kv('Train Accuracy', model.score(train_x, train_y))))\n",
    "    displayMD(header(4, kv('Test Accuracy', model.score(test_x, test_y))))\n",
    "    return model\n",
    "\n",
    "\n",
    "def save_submission(key, model, data_test_ids, data_test, data_y_codex):\n",
    "    ds_res = pd.DataFrame()\n",
    "    ds_res['id'] = data_test_ids\n",
    "    ds_res['WeightCategory'] = data_y_codex[model.predict(data_test)]\n",
    "    ds_res.to_csv(f'submissions/{key}.csv', index=False)"
   ],
   "outputs": [],
   "execution_count": 106
  },
  {
   "cell_type": "markdown",
   "id": "e483e1ba5d729fc5",
   "metadata": {},
   "source": [
    "## Data Loading and Description"
   ]
  },
  {
   "cell_type": "code",
   "id": "8a9be4a0c236762f",
   "metadata": {
    "ExecuteTime": {
     "end_time": "2025-10-21T13:01:37.485785Z",
     "start_time": "2025-10-21T13:01:37.422662Z"
    }
   },
   "source": [
    "# Load data from train and test CSVs - train data is to be used for model training an dtesting, test is to be used for generatign the final predictions\n",
    "\n",
    "ds_source = pd.read_csv(\"train.csv\")\n",
    "ds_test = pd.read_csv(\"test.csv\")\n",
    "\n",
    "ds_source.rename(columns={'family_history_with_overweight': 'FHWO'}, inplace=True)\n",
    "ds_test.rename(columns={'family_history_with_overweight': 'FHWO'}, inplace=True)\n",
    "\n",
    "chime.info()"
   ],
   "outputs": [],
   "execution_count": 10
  },
  {
   "cell_type": "code",
   "id": "613d6a54f2aeff16",
   "metadata": {
    "ExecuteTime": {
     "end_time": "2025-10-21T13:01:37.522349Z",
     "start_time": "2025-10-21T13:01:37.495311Z"
    }
   },
   "source": [
    "# Analyse basic data shape - input features and target column\n",
    "\n",
    "n_samples_all, n_columns = ds_source.shape\n",
    "n_features_raw = n_columns - 2  # id and targets\n",
    "\n",
    "target_labels = ds_source['WeightCategory'].unique()\n",
    "n_targets = len(target_labels)\n",
    "\n",
    "displayMD(header(4, kv('Number of total samples', n_samples_all)))\n",
    "displayMD(header(4, kv('Number of total columns', n_columns)))\n",
    "displayMD(header(4, kv('Number of features', n_features_raw)))\n",
    "displayMD(header(4, kv('Number of classes in target feature', n_targets)))\n",
    "conclude_csv(pd.DataFrame([['Total Samples', n_samples_all], ['Total Columns', n_columns], ['Features', n_features_raw],\n",
    "                           ['Targets', n_targets], ], columns=['Stat', 'Meta']), 'dataset_statistics')"
   ],
   "outputs": [
    {
     "data": {
      "text/plain": [
       "<IPython.core.display.Markdown object>"
      ],
      "text/markdown": "#### **Number of total samples:** `15533`"
     },
     "metadata": {},
     "output_type": "display_data",
     "jetTransient": {
      "display_id": null
     }
    },
    {
     "data": {
      "text/plain": [
       "<IPython.core.display.Markdown object>"
      ],
      "text/markdown": "#### **Number of total columns:** `18`"
     },
     "metadata": {},
     "output_type": "display_data",
     "jetTransient": {
      "display_id": null
     }
    },
    {
     "data": {
      "text/plain": [
       "<IPython.core.display.Markdown object>"
      ],
      "text/markdown": "#### **Number of features:** `16`"
     },
     "metadata": {},
     "output_type": "display_data",
     "jetTransient": {
      "display_id": null
     }
    },
    {
     "data": {
      "text/plain": [
       "<IPython.core.display.Markdown object>"
      ],
      "text/markdown": "#### **Number of classes in target feature:** `7`"
     },
     "metadata": {},
     "output_type": "display_data",
     "jetTransient": {
      "display_id": null
     }
    }
   ],
   "execution_count": 11
  },
  {
   "cell_type": "code",
   "id": "1352762a7d50448a",
   "metadata": {
    "ExecuteTime": {
     "end_time": "2025-10-21T13:01:37.593608Z",
     "start_time": "2025-10-21T13:01:37.590587Z"
    }
   },
   "source": [
    "# Dictionary to replace column names with their full forms for better interpretability\n",
    "\n",
    "column_full_names = {\n",
    "    'id': 'Entity Identifier', 'Gender': 'Gender', 'Age': 'Age', 'Height': 'Height', 'Weight': 'Weight',\n",
    "    'FHWO': 'Family History With Overweight', 'FAVC': 'High Caloric Food Consumption Freq.',\n",
    "    'FCVC': 'Vegetables Consumption Freq.', 'NCP': 'Main Meals Count', 'CAEC': 'Consumption of Food Between Meals',\n",
    "    'SMOKE': 'Smoke', 'CH2O': 'Consumption of Water Daily', 'CALC': 'Consumption of alcohol',\n",
    "    'SCC': 'Calories Consumption Monitoring', 'FAF': 'Physical Activity Freq.', 'TUE': 'Time using Technology Devices',\n",
    "    'MTRANS': 'Modes of Transportation Used', 'WeightCategory': 'Weight Category', }"
   ],
   "outputs": [],
   "execution_count": 12
  },
  {
   "cell_type": "code",
   "id": "fb1fe1851fa60b76",
   "metadata": {
    "ExecuteTime": {
     "end_time": "2025-10-21T13:01:37.608504Z",
     "start_time": "2025-10-21T13:01:37.600616Z"
    }
   },
   "source": [
    "info = pd.io.formats.info.DataFrameInfo(\n",
    "    data=ds_source,\n",
    "    memory_usage=None,\n",
    ")\n",
    "ds_info = pd.DataFrame(zip(info.ids, info.ids.map(column_full_names), info.non_null_counts, info.dtypes),\n",
    "                       columns=['Column Name', 'Description', 'Non-Null Count', 'Data Type'])"
   ],
   "outputs": [],
   "execution_count": 13
  },
  {
   "cell_type": "code",
   "id": "5d4e22ef1a74a0ca",
   "metadata": {
    "ExecuteTime": {
     "end_time": "2025-10-21T13:01:37.646297Z",
     "start_time": "2025-10-21T13:01:37.629038Z"
    }
   },
   "source": [
    "displayMD(header(3, kv('Memory Usage', info.memory_usage_string)))\n",
    "conclude_csv(ds_info, \"dataset_info\")\n",
    "display(ds_info)"
   ],
   "outputs": [
    {
     "data": {
      "text/plain": [
       "<IPython.core.display.Markdown object>"
      ],
      "text/markdown": "### **Memory Usage:** `2.1+ MB`"
     },
     "metadata": {},
     "output_type": "display_data",
     "jetTransient": {
      "display_id": null
     }
    },
    {
     "data": {
      "text/plain": [
       "       Column Name                          Description  Non-Null Count  \\\n",
       "0               id                    Entity Identifier           15533   \n",
       "1           Gender                               Gender           15533   \n",
       "2              Age                                  Age           15533   \n",
       "3           Height                               Height           15533   \n",
       "4           Weight                               Weight           15533   \n",
       "5             FHWO       Family History With Overweight           15533   \n",
       "6             FAVC  High Caloric Food Consumption Freq.           15533   \n",
       "7             FCVC         Vegetables Consumption Freq.           15533   \n",
       "8              NCP                     Main Meals Count           15533   \n",
       "9             CAEC    Consumption of Food Between Meals           15533   \n",
       "10           SMOKE                                Smoke           15533   \n",
       "11            CH2O           Consumption of Water Daily           15533   \n",
       "12             SCC      Calories Consumption Monitoring           15533   \n",
       "13             FAF              Physical Activity Freq.           15533   \n",
       "14             TUE        Time using Technology Devices           15533   \n",
       "15            CALC               Consumption of alcohol           15533   \n",
       "16          MTRANS         Modes of Transportation Used           15533   \n",
       "17  WeightCategory                      Weight Category           15533   \n",
       "\n",
       "   Data Type  \n",
       "0      int64  \n",
       "1     object  \n",
       "2    float64  \n",
       "3    float64  \n",
       "4    float64  \n",
       "5     object  \n",
       "6     object  \n",
       "7    float64  \n",
       "8    float64  \n",
       "9     object  \n",
       "10    object  \n",
       "11   float64  \n",
       "12    object  \n",
       "13   float64  \n",
       "14   float64  \n",
       "15    object  \n",
       "16    object  \n",
       "17    object  "
      ],
      "text/html": [
       "<div>\n",
       "<style scoped>\n",
       "    .dataframe tbody tr th:only-of-type {\n",
       "        vertical-align: middle;\n",
       "    }\n",
       "\n",
       "    .dataframe tbody tr th {\n",
       "        vertical-align: top;\n",
       "    }\n",
       "\n",
       "    .dataframe thead th {\n",
       "        text-align: right;\n",
       "    }\n",
       "</style>\n",
       "<table border=\"1\" class=\"dataframe\">\n",
       "  <thead>\n",
       "    <tr style=\"text-align: right;\">\n",
       "      <th></th>\n",
       "      <th>Column Name</th>\n",
       "      <th>Description</th>\n",
       "      <th>Non-Null Count</th>\n",
       "      <th>Data Type</th>\n",
       "    </tr>\n",
       "  </thead>\n",
       "  <tbody>\n",
       "    <tr>\n",
       "      <th>0</th>\n",
       "      <td>id</td>\n",
       "      <td>Entity Identifier</td>\n",
       "      <td>15533</td>\n",
       "      <td>int64</td>\n",
       "    </tr>\n",
       "    <tr>\n",
       "      <th>1</th>\n",
       "      <td>Gender</td>\n",
       "      <td>Gender</td>\n",
       "      <td>15533</td>\n",
       "      <td>object</td>\n",
       "    </tr>\n",
       "    <tr>\n",
       "      <th>2</th>\n",
       "      <td>Age</td>\n",
       "      <td>Age</td>\n",
       "      <td>15533</td>\n",
       "      <td>float64</td>\n",
       "    </tr>\n",
       "    <tr>\n",
       "      <th>3</th>\n",
       "      <td>Height</td>\n",
       "      <td>Height</td>\n",
       "      <td>15533</td>\n",
       "      <td>float64</td>\n",
       "    </tr>\n",
       "    <tr>\n",
       "      <th>4</th>\n",
       "      <td>Weight</td>\n",
       "      <td>Weight</td>\n",
       "      <td>15533</td>\n",
       "      <td>float64</td>\n",
       "    </tr>\n",
       "    <tr>\n",
       "      <th>5</th>\n",
       "      <td>FHWO</td>\n",
       "      <td>Family History With Overweight</td>\n",
       "      <td>15533</td>\n",
       "      <td>object</td>\n",
       "    </tr>\n",
       "    <tr>\n",
       "      <th>6</th>\n",
       "      <td>FAVC</td>\n",
       "      <td>High Caloric Food Consumption Freq.</td>\n",
       "      <td>15533</td>\n",
       "      <td>object</td>\n",
       "    </tr>\n",
       "    <tr>\n",
       "      <th>7</th>\n",
       "      <td>FCVC</td>\n",
       "      <td>Vegetables Consumption Freq.</td>\n",
       "      <td>15533</td>\n",
       "      <td>float64</td>\n",
       "    </tr>\n",
       "    <tr>\n",
       "      <th>8</th>\n",
       "      <td>NCP</td>\n",
       "      <td>Main Meals Count</td>\n",
       "      <td>15533</td>\n",
       "      <td>float64</td>\n",
       "    </tr>\n",
       "    <tr>\n",
       "      <th>9</th>\n",
       "      <td>CAEC</td>\n",
       "      <td>Consumption of Food Between Meals</td>\n",
       "      <td>15533</td>\n",
       "      <td>object</td>\n",
       "    </tr>\n",
       "    <tr>\n",
       "      <th>10</th>\n",
       "      <td>SMOKE</td>\n",
       "      <td>Smoke</td>\n",
       "      <td>15533</td>\n",
       "      <td>object</td>\n",
       "    </tr>\n",
       "    <tr>\n",
       "      <th>11</th>\n",
       "      <td>CH2O</td>\n",
       "      <td>Consumption of Water Daily</td>\n",
       "      <td>15533</td>\n",
       "      <td>float64</td>\n",
       "    </tr>\n",
       "    <tr>\n",
       "      <th>12</th>\n",
       "      <td>SCC</td>\n",
       "      <td>Calories Consumption Monitoring</td>\n",
       "      <td>15533</td>\n",
       "      <td>object</td>\n",
       "    </tr>\n",
       "    <tr>\n",
       "      <th>13</th>\n",
       "      <td>FAF</td>\n",
       "      <td>Physical Activity Freq.</td>\n",
       "      <td>15533</td>\n",
       "      <td>float64</td>\n",
       "    </tr>\n",
       "    <tr>\n",
       "      <th>14</th>\n",
       "      <td>TUE</td>\n",
       "      <td>Time using Technology Devices</td>\n",
       "      <td>15533</td>\n",
       "      <td>float64</td>\n",
       "    </tr>\n",
       "    <tr>\n",
       "      <th>15</th>\n",
       "      <td>CALC</td>\n",
       "      <td>Consumption of alcohol</td>\n",
       "      <td>15533</td>\n",
       "      <td>object</td>\n",
       "    </tr>\n",
       "    <tr>\n",
       "      <th>16</th>\n",
       "      <td>MTRANS</td>\n",
       "      <td>Modes of Transportation Used</td>\n",
       "      <td>15533</td>\n",
       "      <td>object</td>\n",
       "    </tr>\n",
       "    <tr>\n",
       "      <th>17</th>\n",
       "      <td>WeightCategory</td>\n",
       "      <td>Weight Category</td>\n",
       "      <td>15533</td>\n",
       "      <td>object</td>\n",
       "    </tr>\n",
       "  </tbody>\n",
       "</table>\n",
       "</div>"
      ]
     },
     "metadata": {},
     "output_type": "display_data",
     "jetTransient": {
      "display_id": null
     }
    }
   ],
   "execution_count": 14
  },
  {
   "cell_type": "code",
   "id": "fd186d64d7f7b392",
   "metadata": {
    "ExecuteTime": {
     "end_time": "2025-10-21T13:01:37.746316Z",
     "start_time": "2025-10-21T13:01:37.726487Z"
    }
   },
   "source": [
    "# Display column datatype-wise\n",
    "\n",
    "gb_info_by_dtype = ds_info.groupby('Data Type')['Column Name'].apply(list)\n",
    "ds_dtype = pd.DataFrame({\n",
    "    t: items + ['-'] * (gb_info_by_dtype.map(len).max() - len(items))\n",
    "    for t, items in gb_info_by_dtype.items()\n",
    "})\n",
    "conclude_csv(ds_dtype, \"dataset_dtypes\")\n",
    "display(ds_dtype)"
   ],
   "outputs": [
    {
     "data": {
      "text/plain": [
       "  int64 float64          object\n",
       "0    id     Age          Gender\n",
       "1     -  Height            FHWO\n",
       "2     -  Weight            FAVC\n",
       "3     -    FCVC            CAEC\n",
       "4     -     NCP           SMOKE\n",
       "5     -    CH2O             SCC\n",
       "6     -     FAF            CALC\n",
       "7     -     TUE          MTRANS\n",
       "8     -       -  WeightCategory"
      ],
      "text/html": [
       "<div>\n",
       "<style scoped>\n",
       "    .dataframe tbody tr th:only-of-type {\n",
       "        vertical-align: middle;\n",
       "    }\n",
       "\n",
       "    .dataframe tbody tr th {\n",
       "        vertical-align: top;\n",
       "    }\n",
       "\n",
       "    .dataframe thead th {\n",
       "        text-align: right;\n",
       "    }\n",
       "</style>\n",
       "<table border=\"1\" class=\"dataframe\">\n",
       "  <thead>\n",
       "    <tr style=\"text-align: right;\">\n",
       "      <th></th>\n",
       "      <th>int64</th>\n",
       "      <th>float64</th>\n",
       "      <th>object</th>\n",
       "    </tr>\n",
       "  </thead>\n",
       "  <tbody>\n",
       "    <tr>\n",
       "      <th>0</th>\n",
       "      <td>id</td>\n",
       "      <td>Age</td>\n",
       "      <td>Gender</td>\n",
       "    </tr>\n",
       "    <tr>\n",
       "      <th>1</th>\n",
       "      <td>-</td>\n",
       "      <td>Height</td>\n",
       "      <td>FHWO</td>\n",
       "    </tr>\n",
       "    <tr>\n",
       "      <th>2</th>\n",
       "      <td>-</td>\n",
       "      <td>Weight</td>\n",
       "      <td>FAVC</td>\n",
       "    </tr>\n",
       "    <tr>\n",
       "      <th>3</th>\n",
       "      <td>-</td>\n",
       "      <td>FCVC</td>\n",
       "      <td>CAEC</td>\n",
       "    </tr>\n",
       "    <tr>\n",
       "      <th>4</th>\n",
       "      <td>-</td>\n",
       "      <td>NCP</td>\n",
       "      <td>SMOKE</td>\n",
       "    </tr>\n",
       "    <tr>\n",
       "      <th>5</th>\n",
       "      <td>-</td>\n",
       "      <td>CH2O</td>\n",
       "      <td>SCC</td>\n",
       "    </tr>\n",
       "    <tr>\n",
       "      <th>6</th>\n",
       "      <td>-</td>\n",
       "      <td>FAF</td>\n",
       "      <td>CALC</td>\n",
       "    </tr>\n",
       "    <tr>\n",
       "      <th>7</th>\n",
       "      <td>-</td>\n",
       "      <td>TUE</td>\n",
       "      <td>MTRANS</td>\n",
       "    </tr>\n",
       "    <tr>\n",
       "      <th>8</th>\n",
       "      <td>-</td>\n",
       "      <td>-</td>\n",
       "      <td>WeightCategory</td>\n",
       "    </tr>\n",
       "  </tbody>\n",
       "</table>\n",
       "</div>"
      ]
     },
     "metadata": {},
     "output_type": "display_data",
     "jetTransient": {
      "display_id": null
     }
    }
   ],
   "execution_count": 15
  },
  {
   "cell_type": "code",
   "id": "a359057830f0d4e9",
   "metadata": {
    "ExecuteTime": {
     "end_time": "2025-10-21T13:01:38.251087Z",
     "start_time": "2025-10-21T13:01:38.229551Z"
    }
   },
   "source": [
    "# Display first five rows of the data\n",
    "\n",
    "conclude_csv(ds_source.head(5), \"dataset_head\")\n",
    "display(ds_source.head(5))"
   ],
   "outputs": [
    {
     "data": {
      "text/plain": [
       "   id  Gender        Age    Height      Weight FHWO FAVC      FCVC       NCP  \\\n",
       "0   0    Male  24.443011  1.699998   81.669950  yes  yes  2.000000  2.983297   \n",
       "1   1  Female  18.000000  1.560000   57.000000  yes  yes  2.000000  3.000000   \n",
       "2   2  Female  18.000000  1.711460   50.165754  yes  yes  1.880534  1.411685   \n",
       "3   3  Female  20.952737  1.710730  131.274851  yes  yes  3.000000  3.000000   \n",
       "4   4    Male  31.641081  1.914186   93.798055  yes  yes  2.679664  1.971472   \n",
       "\n",
       "         CAEC SMOKE      CH2O SCC       FAF       TUE       CALC  \\\n",
       "0   Sometimes    no  2.763573  no  0.000000  0.976473  Sometimes   \n",
       "1  Frequently    no  2.000000  no  1.000000  1.000000         no   \n",
       "2   Sometimes    no  1.910378  no  0.866045  1.673584         no   \n",
       "3   Sometimes    no  1.674061  no  1.467863  0.780199  Sometimes   \n",
       "4   Sometimes    no  1.979848  no  1.967973  0.931721  Sometimes   \n",
       "\n",
       "                  MTRANS       WeightCategory  \n",
       "0  Public_Transportation  Overweight_Level_II  \n",
       "1             Automobile        Normal_Weight  \n",
       "2  Public_Transportation  Insufficient_Weight  \n",
       "3  Public_Transportation     Obesity_Type_III  \n",
       "4  Public_Transportation  Overweight_Level_II  "
      ],
      "text/html": [
       "<div>\n",
       "<style scoped>\n",
       "    .dataframe tbody tr th:only-of-type {\n",
       "        vertical-align: middle;\n",
       "    }\n",
       "\n",
       "    .dataframe tbody tr th {\n",
       "        vertical-align: top;\n",
       "    }\n",
       "\n",
       "    .dataframe thead th {\n",
       "        text-align: right;\n",
       "    }\n",
       "</style>\n",
       "<table border=\"1\" class=\"dataframe\">\n",
       "  <thead>\n",
       "    <tr style=\"text-align: right;\">\n",
       "      <th></th>\n",
       "      <th>id</th>\n",
       "      <th>Gender</th>\n",
       "      <th>Age</th>\n",
       "      <th>Height</th>\n",
       "      <th>Weight</th>\n",
       "      <th>FHWO</th>\n",
       "      <th>FAVC</th>\n",
       "      <th>FCVC</th>\n",
       "      <th>NCP</th>\n",
       "      <th>CAEC</th>\n",
       "      <th>SMOKE</th>\n",
       "      <th>CH2O</th>\n",
       "      <th>SCC</th>\n",
       "      <th>FAF</th>\n",
       "      <th>TUE</th>\n",
       "      <th>CALC</th>\n",
       "      <th>MTRANS</th>\n",
       "      <th>WeightCategory</th>\n",
       "    </tr>\n",
       "  </thead>\n",
       "  <tbody>\n",
       "    <tr>\n",
       "      <th>0</th>\n",
       "      <td>0</td>\n",
       "      <td>Male</td>\n",
       "      <td>24.443011</td>\n",
       "      <td>1.699998</td>\n",
       "      <td>81.669950</td>\n",
       "      <td>yes</td>\n",
       "      <td>yes</td>\n",
       "      <td>2.000000</td>\n",
       "      <td>2.983297</td>\n",
       "      <td>Sometimes</td>\n",
       "      <td>no</td>\n",
       "      <td>2.763573</td>\n",
       "      <td>no</td>\n",
       "      <td>0.000000</td>\n",
       "      <td>0.976473</td>\n",
       "      <td>Sometimes</td>\n",
       "      <td>Public_Transportation</td>\n",
       "      <td>Overweight_Level_II</td>\n",
       "    </tr>\n",
       "    <tr>\n",
       "      <th>1</th>\n",
       "      <td>1</td>\n",
       "      <td>Female</td>\n",
       "      <td>18.000000</td>\n",
       "      <td>1.560000</td>\n",
       "      <td>57.000000</td>\n",
       "      <td>yes</td>\n",
       "      <td>yes</td>\n",
       "      <td>2.000000</td>\n",
       "      <td>3.000000</td>\n",
       "      <td>Frequently</td>\n",
       "      <td>no</td>\n",
       "      <td>2.000000</td>\n",
       "      <td>no</td>\n",
       "      <td>1.000000</td>\n",
       "      <td>1.000000</td>\n",
       "      <td>no</td>\n",
       "      <td>Automobile</td>\n",
       "      <td>Normal_Weight</td>\n",
       "    </tr>\n",
       "    <tr>\n",
       "      <th>2</th>\n",
       "      <td>2</td>\n",
       "      <td>Female</td>\n",
       "      <td>18.000000</td>\n",
       "      <td>1.711460</td>\n",
       "      <td>50.165754</td>\n",
       "      <td>yes</td>\n",
       "      <td>yes</td>\n",
       "      <td>1.880534</td>\n",
       "      <td>1.411685</td>\n",
       "      <td>Sometimes</td>\n",
       "      <td>no</td>\n",
       "      <td>1.910378</td>\n",
       "      <td>no</td>\n",
       "      <td>0.866045</td>\n",
       "      <td>1.673584</td>\n",
       "      <td>no</td>\n",
       "      <td>Public_Transportation</td>\n",
       "      <td>Insufficient_Weight</td>\n",
       "    </tr>\n",
       "    <tr>\n",
       "      <th>3</th>\n",
       "      <td>3</td>\n",
       "      <td>Female</td>\n",
       "      <td>20.952737</td>\n",
       "      <td>1.710730</td>\n",
       "      <td>131.274851</td>\n",
       "      <td>yes</td>\n",
       "      <td>yes</td>\n",
       "      <td>3.000000</td>\n",
       "      <td>3.000000</td>\n",
       "      <td>Sometimes</td>\n",
       "      <td>no</td>\n",
       "      <td>1.674061</td>\n",
       "      <td>no</td>\n",
       "      <td>1.467863</td>\n",
       "      <td>0.780199</td>\n",
       "      <td>Sometimes</td>\n",
       "      <td>Public_Transportation</td>\n",
       "      <td>Obesity_Type_III</td>\n",
       "    </tr>\n",
       "    <tr>\n",
       "      <th>4</th>\n",
       "      <td>4</td>\n",
       "      <td>Male</td>\n",
       "      <td>31.641081</td>\n",
       "      <td>1.914186</td>\n",
       "      <td>93.798055</td>\n",
       "      <td>yes</td>\n",
       "      <td>yes</td>\n",
       "      <td>2.679664</td>\n",
       "      <td>1.971472</td>\n",
       "      <td>Sometimes</td>\n",
       "      <td>no</td>\n",
       "      <td>1.979848</td>\n",
       "      <td>no</td>\n",
       "      <td>1.967973</td>\n",
       "      <td>0.931721</td>\n",
       "      <td>Sometimes</td>\n",
       "      <td>Public_Transportation</td>\n",
       "      <td>Overweight_Level_II</td>\n",
       "    </tr>\n",
       "  </tbody>\n",
       "</table>\n",
       "</div>"
      ]
     },
     "metadata": {},
     "output_type": "display_data",
     "jetTransient": {
      "display_id": null
     }
    }
   ],
   "execution_count": 16
  },
  {
   "cell_type": "code",
   "id": "e125276b3aa9ff4f",
   "metadata": {
    "ExecuteTime": {
     "end_time": "2025-10-21T13:01:38.862383Z",
     "start_time": "2025-10-21T13:01:38.816308Z"
    }
   },
   "source": [
    "# Display statistical data analysis for both numerical and categorical columns\n",
    "\n",
    "ds_describe = ds_source.describe(include='all')\n",
    "ds_describe.index = ['count', 'unique', 'top', 'freq', 'mean', 'std', 'min', '25', '50', '75', 'max']\n",
    "conclude_csv(ds_describe\n",
    "             .map(lambda y: np.round(y, 2) if isinstance(y, float) else y)\n",
    "             .map(lambda y: (y[:5] + '.') if isinstance(y, str) else y)\n",
    "             .rename(columns={'WeightCategory': 'Targets'})\n",
    "             .fillna(\"_\"), \"dataset_describe\", index=True, transpose=True)\n",
    "display(ds_describe)"
   ],
   "outputs": [
    {
     "data": {
      "text/plain": [
       "                  id Gender           Age        Height        Weight   FHWO  \\\n",
       "count   15533.000000  15533  15533.000000  15533.000000  15533.000000  15533   \n",
       "unique           NaN      2           NaN           NaN           NaN      2   \n",
       "top              NaN   Male           NaN           NaN           NaN    yes   \n",
       "freq             NaN   7783           NaN           NaN           NaN  12696   \n",
       "mean     7766.000000    NaN     23.816308      1.699918     87.785225    NaN   \n",
       "std      4484.135201    NaN      5.663167      0.087670     26.369144    NaN   \n",
       "min         0.000000    NaN     14.000000      1.450000     39.000000    NaN   \n",
       "25       3883.000000    NaN     20.000000      1.630927     66.000000    NaN   \n",
       "50       7766.000000    NaN     22.771612      1.700000     84.000000    NaN   \n",
       "75      11649.000000    NaN     26.000000      1.762921    111.600553    NaN   \n",
       "max     15532.000000    NaN     61.000000      1.975663    165.057269    NaN   \n",
       "\n",
       "         FAVC          FCVC           NCP       CAEC  SMOKE          CH2O  \\\n",
       "count   15533  15533.000000  15533.000000      15533  15533  15533.000000   \n",
       "unique      2           NaN           NaN          4      2           NaN   \n",
       "top       yes           NaN           NaN  Sometimes     no           NaN   \n",
       "freq    14184           NaN           NaN      13126  15356           NaN   \n",
       "mean      NaN      2.442917      2.760425        NaN    NaN      2.027626   \n",
       "std       NaN      0.530895      0.706463        NaN    NaN      0.607733   \n",
       "min       NaN      1.000000      1.000000        NaN    NaN      1.000000   \n",
       "25        NaN      2.000000      3.000000        NaN    NaN      1.796257   \n",
       "50        NaN      2.342220      3.000000        NaN    NaN      2.000000   \n",
       "75        NaN      3.000000      3.000000        NaN    NaN      2.531456   \n",
       "max       NaN      3.000000      4.000000        NaN    NaN      3.000000   \n",
       "\n",
       "          SCC           FAF           TUE       CALC                 MTRANS  \\\n",
       "count   15533  15533.000000  15533.000000      15533                  15533   \n",
       "unique      2           NaN           NaN          3                      5   \n",
       "top        no           NaN           NaN  Sometimes  Public_Transportation   \n",
       "freq    15019           NaN           NaN      11285                  12470   \n",
       "mean      NaN      0.976968      0.613813        NaN                    NaN   \n",
       "std       NaN      0.836841      0.602223        NaN                    NaN   \n",
       "min       NaN      0.000000      0.000000        NaN                    NaN   \n",
       "25        NaN      0.007050      0.000000        NaN                    NaN   \n",
       "50        NaN      1.000000      0.566353        NaN                    NaN   \n",
       "75        NaN      1.582675      1.000000        NaN                    NaN   \n",
       "max       NaN      3.000000      2.000000        NaN                    NaN   \n",
       "\n",
       "          WeightCategory  \n",
       "count              15533  \n",
       "unique                 7  \n",
       "top     Obesity_Type_III  \n",
       "freq                2983  \n",
       "mean                 NaN  \n",
       "std                  NaN  \n",
       "min                  NaN  \n",
       "25                   NaN  \n",
       "50                   NaN  \n",
       "75                   NaN  \n",
       "max                  NaN  "
      ],
      "text/html": [
       "<div>\n",
       "<style scoped>\n",
       "    .dataframe tbody tr th:only-of-type {\n",
       "        vertical-align: middle;\n",
       "    }\n",
       "\n",
       "    .dataframe tbody tr th {\n",
       "        vertical-align: top;\n",
       "    }\n",
       "\n",
       "    .dataframe thead th {\n",
       "        text-align: right;\n",
       "    }\n",
       "</style>\n",
       "<table border=\"1\" class=\"dataframe\">\n",
       "  <thead>\n",
       "    <tr style=\"text-align: right;\">\n",
       "      <th></th>\n",
       "      <th>id</th>\n",
       "      <th>Gender</th>\n",
       "      <th>Age</th>\n",
       "      <th>Height</th>\n",
       "      <th>Weight</th>\n",
       "      <th>FHWO</th>\n",
       "      <th>FAVC</th>\n",
       "      <th>FCVC</th>\n",
       "      <th>NCP</th>\n",
       "      <th>CAEC</th>\n",
       "      <th>SMOKE</th>\n",
       "      <th>CH2O</th>\n",
       "      <th>SCC</th>\n",
       "      <th>FAF</th>\n",
       "      <th>TUE</th>\n",
       "      <th>CALC</th>\n",
       "      <th>MTRANS</th>\n",
       "      <th>WeightCategory</th>\n",
       "    </tr>\n",
       "  </thead>\n",
       "  <tbody>\n",
       "    <tr>\n",
       "      <th>count</th>\n",
       "      <td>15533.000000</td>\n",
       "      <td>15533</td>\n",
       "      <td>15533.000000</td>\n",
       "      <td>15533.000000</td>\n",
       "      <td>15533.000000</td>\n",
       "      <td>15533</td>\n",
       "      <td>15533</td>\n",
       "      <td>15533.000000</td>\n",
       "      <td>15533.000000</td>\n",
       "      <td>15533</td>\n",
       "      <td>15533</td>\n",
       "      <td>15533.000000</td>\n",
       "      <td>15533</td>\n",
       "      <td>15533.000000</td>\n",
       "      <td>15533.000000</td>\n",
       "      <td>15533</td>\n",
       "      <td>15533</td>\n",
       "      <td>15533</td>\n",
       "    </tr>\n",
       "    <tr>\n",
       "      <th>unique</th>\n",
       "      <td>NaN</td>\n",
       "      <td>2</td>\n",
       "      <td>NaN</td>\n",
       "      <td>NaN</td>\n",
       "      <td>NaN</td>\n",
       "      <td>2</td>\n",
       "      <td>2</td>\n",
       "      <td>NaN</td>\n",
       "      <td>NaN</td>\n",
       "      <td>4</td>\n",
       "      <td>2</td>\n",
       "      <td>NaN</td>\n",
       "      <td>2</td>\n",
       "      <td>NaN</td>\n",
       "      <td>NaN</td>\n",
       "      <td>3</td>\n",
       "      <td>5</td>\n",
       "      <td>7</td>\n",
       "    </tr>\n",
       "    <tr>\n",
       "      <th>top</th>\n",
       "      <td>NaN</td>\n",
       "      <td>Male</td>\n",
       "      <td>NaN</td>\n",
       "      <td>NaN</td>\n",
       "      <td>NaN</td>\n",
       "      <td>yes</td>\n",
       "      <td>yes</td>\n",
       "      <td>NaN</td>\n",
       "      <td>NaN</td>\n",
       "      <td>Sometimes</td>\n",
       "      <td>no</td>\n",
       "      <td>NaN</td>\n",
       "      <td>no</td>\n",
       "      <td>NaN</td>\n",
       "      <td>NaN</td>\n",
       "      <td>Sometimes</td>\n",
       "      <td>Public_Transportation</td>\n",
       "      <td>Obesity_Type_III</td>\n",
       "    </tr>\n",
       "    <tr>\n",
       "      <th>freq</th>\n",
       "      <td>NaN</td>\n",
       "      <td>7783</td>\n",
       "      <td>NaN</td>\n",
       "      <td>NaN</td>\n",
       "      <td>NaN</td>\n",
       "      <td>12696</td>\n",
       "      <td>14184</td>\n",
       "      <td>NaN</td>\n",
       "      <td>NaN</td>\n",
       "      <td>13126</td>\n",
       "      <td>15356</td>\n",
       "      <td>NaN</td>\n",
       "      <td>15019</td>\n",
       "      <td>NaN</td>\n",
       "      <td>NaN</td>\n",
       "      <td>11285</td>\n",
       "      <td>12470</td>\n",
       "      <td>2983</td>\n",
       "    </tr>\n",
       "    <tr>\n",
       "      <th>mean</th>\n",
       "      <td>7766.000000</td>\n",
       "      <td>NaN</td>\n",
       "      <td>23.816308</td>\n",
       "      <td>1.699918</td>\n",
       "      <td>87.785225</td>\n",
       "      <td>NaN</td>\n",
       "      <td>NaN</td>\n",
       "      <td>2.442917</td>\n",
       "      <td>2.760425</td>\n",
       "      <td>NaN</td>\n",
       "      <td>NaN</td>\n",
       "      <td>2.027626</td>\n",
       "      <td>NaN</td>\n",
       "      <td>0.976968</td>\n",
       "      <td>0.613813</td>\n",
       "      <td>NaN</td>\n",
       "      <td>NaN</td>\n",
       "      <td>NaN</td>\n",
       "    </tr>\n",
       "    <tr>\n",
       "      <th>std</th>\n",
       "      <td>4484.135201</td>\n",
       "      <td>NaN</td>\n",
       "      <td>5.663167</td>\n",
       "      <td>0.087670</td>\n",
       "      <td>26.369144</td>\n",
       "      <td>NaN</td>\n",
       "      <td>NaN</td>\n",
       "      <td>0.530895</td>\n",
       "      <td>0.706463</td>\n",
       "      <td>NaN</td>\n",
       "      <td>NaN</td>\n",
       "      <td>0.607733</td>\n",
       "      <td>NaN</td>\n",
       "      <td>0.836841</td>\n",
       "      <td>0.602223</td>\n",
       "      <td>NaN</td>\n",
       "      <td>NaN</td>\n",
       "      <td>NaN</td>\n",
       "    </tr>\n",
       "    <tr>\n",
       "      <th>min</th>\n",
       "      <td>0.000000</td>\n",
       "      <td>NaN</td>\n",
       "      <td>14.000000</td>\n",
       "      <td>1.450000</td>\n",
       "      <td>39.000000</td>\n",
       "      <td>NaN</td>\n",
       "      <td>NaN</td>\n",
       "      <td>1.000000</td>\n",
       "      <td>1.000000</td>\n",
       "      <td>NaN</td>\n",
       "      <td>NaN</td>\n",
       "      <td>1.000000</td>\n",
       "      <td>NaN</td>\n",
       "      <td>0.000000</td>\n",
       "      <td>0.000000</td>\n",
       "      <td>NaN</td>\n",
       "      <td>NaN</td>\n",
       "      <td>NaN</td>\n",
       "    </tr>\n",
       "    <tr>\n",
       "      <th>25</th>\n",
       "      <td>3883.000000</td>\n",
       "      <td>NaN</td>\n",
       "      <td>20.000000</td>\n",
       "      <td>1.630927</td>\n",
       "      <td>66.000000</td>\n",
       "      <td>NaN</td>\n",
       "      <td>NaN</td>\n",
       "      <td>2.000000</td>\n",
       "      <td>3.000000</td>\n",
       "      <td>NaN</td>\n",
       "      <td>NaN</td>\n",
       "      <td>1.796257</td>\n",
       "      <td>NaN</td>\n",
       "      <td>0.007050</td>\n",
       "      <td>0.000000</td>\n",
       "      <td>NaN</td>\n",
       "      <td>NaN</td>\n",
       "      <td>NaN</td>\n",
       "    </tr>\n",
       "    <tr>\n",
       "      <th>50</th>\n",
       "      <td>7766.000000</td>\n",
       "      <td>NaN</td>\n",
       "      <td>22.771612</td>\n",
       "      <td>1.700000</td>\n",
       "      <td>84.000000</td>\n",
       "      <td>NaN</td>\n",
       "      <td>NaN</td>\n",
       "      <td>2.342220</td>\n",
       "      <td>3.000000</td>\n",
       "      <td>NaN</td>\n",
       "      <td>NaN</td>\n",
       "      <td>2.000000</td>\n",
       "      <td>NaN</td>\n",
       "      <td>1.000000</td>\n",
       "      <td>0.566353</td>\n",
       "      <td>NaN</td>\n",
       "      <td>NaN</td>\n",
       "      <td>NaN</td>\n",
       "    </tr>\n",
       "    <tr>\n",
       "      <th>75</th>\n",
       "      <td>11649.000000</td>\n",
       "      <td>NaN</td>\n",
       "      <td>26.000000</td>\n",
       "      <td>1.762921</td>\n",
       "      <td>111.600553</td>\n",
       "      <td>NaN</td>\n",
       "      <td>NaN</td>\n",
       "      <td>3.000000</td>\n",
       "      <td>3.000000</td>\n",
       "      <td>NaN</td>\n",
       "      <td>NaN</td>\n",
       "      <td>2.531456</td>\n",
       "      <td>NaN</td>\n",
       "      <td>1.582675</td>\n",
       "      <td>1.000000</td>\n",
       "      <td>NaN</td>\n",
       "      <td>NaN</td>\n",
       "      <td>NaN</td>\n",
       "    </tr>\n",
       "    <tr>\n",
       "      <th>max</th>\n",
       "      <td>15532.000000</td>\n",
       "      <td>NaN</td>\n",
       "      <td>61.000000</td>\n",
       "      <td>1.975663</td>\n",
       "      <td>165.057269</td>\n",
       "      <td>NaN</td>\n",
       "      <td>NaN</td>\n",
       "      <td>3.000000</td>\n",
       "      <td>4.000000</td>\n",
       "      <td>NaN</td>\n",
       "      <td>NaN</td>\n",
       "      <td>3.000000</td>\n",
       "      <td>NaN</td>\n",
       "      <td>3.000000</td>\n",
       "      <td>2.000000</td>\n",
       "      <td>NaN</td>\n",
       "      <td>NaN</td>\n",
       "      <td>NaN</td>\n",
       "    </tr>\n",
       "  </tbody>\n",
       "</table>\n",
       "</div>"
      ]
     },
     "metadata": {},
     "output_type": "display_data",
     "jetTransient": {
      "display_id": null
     }
    }
   ],
   "execution_count": 17
  },
  {
   "cell_type": "code",
   "id": "4d76e1c501e359c",
   "metadata": {
    "ExecuteTime": {
     "end_time": "2025-10-21T13:01:39.405804Z",
     "start_time": "2025-10-21T13:01:39.401399Z"
    }
   },
   "source": [
    "# Separate out the various categories of features\n",
    "\n",
    "redundant_columns = ['id']\n",
    "target_columns = ['WeightCategory']\n",
    "\n",
    "gaussian_features = ['Age', 'Height', 'Weight']\n",
    "partial_features = ['FCVC', 'NCP', 'CH2O', 'FAF', 'TUE']\n",
    "binary_features = ['Gender', 'FHWO', 'FAVC', 'SMOKE', 'SCC']\n",
    "nary_features = ['CAEC', 'CALC', 'MTRANS']\n",
    "\n",
    "numerical_features = gaussian_features + partial_features\n",
    "categorical_features = binary_features + nary_features\n",
    "all_features = numerical_features + categorical_features\n",
    "\n",
    "numerical_derived_features = [\"BMI\", \"Water_Intake_per_Meal\", \"Activity_to_Tech_Ratio\", \"Healthy_Lifestyle_Score\"]\n",
    "binary_derived_features = [\"Has_FamilyRisk_and_FAVC\", \"Calorie_Monitoring_Interaction\"]\n",
    "derived_features = numerical_derived_features + binary_derived_features\n",
    "\n",
    "label_encoder = {label: index for index, label in enumerate(target_labels)}\n",
    "label_decoder = {index: label for index, label in enumerate(target_labels)}"
   ],
   "outputs": [],
   "execution_count": 18
  },
  {
   "cell_type": "markdown",
   "id": "21af09727db2c44e",
   "metadata": {},
   "source": [
    "## Exploratory Data Analysis"
   ]
  },
  {
   "cell_type": "markdown",
   "id": "4089b02a8bb0940",
   "metadata": {},
   "source": [
    "#### Missing Value Detection"
   ]
  },
  {
   "cell_type": "code",
   "id": "f0283e1f8fc6b796",
   "metadata": {
    "ExecuteTime": {
     "end_time": "2025-10-21T13:01:40.012351Z",
     "start_time": "2025-10-21T13:01:39.998591Z"
    }
   },
   "source": [
    "ds_missing = ds_source.isnull().sum().to_frame(name='Missing Count')\n",
    "conclude_csv(ds_missing, \"eda_missing_counts\", index=True)\n",
    "display(ds_missing)"
   ],
   "outputs": [
    {
     "data": {
      "text/plain": [
       "                Missing Count\n",
       "id                          0\n",
       "Gender                      0\n",
       "Age                         0\n",
       "Height                      0\n",
       "Weight                      0\n",
       "FHWO                        0\n",
       "FAVC                        0\n",
       "FCVC                        0\n",
       "NCP                         0\n",
       "CAEC                        0\n",
       "SMOKE                       0\n",
       "CH2O                        0\n",
       "SCC                         0\n",
       "FAF                         0\n",
       "TUE                         0\n",
       "CALC                        0\n",
       "MTRANS                      0\n",
       "WeightCategory              0"
      ],
      "text/html": [
       "<div>\n",
       "<style scoped>\n",
       "    .dataframe tbody tr th:only-of-type {\n",
       "        vertical-align: middle;\n",
       "    }\n",
       "\n",
       "    .dataframe tbody tr th {\n",
       "        vertical-align: top;\n",
       "    }\n",
       "\n",
       "    .dataframe thead th {\n",
       "        text-align: right;\n",
       "    }\n",
       "</style>\n",
       "<table border=\"1\" class=\"dataframe\">\n",
       "  <thead>\n",
       "    <tr style=\"text-align: right;\">\n",
       "      <th></th>\n",
       "      <th>Missing Count</th>\n",
       "    </tr>\n",
       "  </thead>\n",
       "  <tbody>\n",
       "    <tr>\n",
       "      <th>id</th>\n",
       "      <td>0</td>\n",
       "    </tr>\n",
       "    <tr>\n",
       "      <th>Gender</th>\n",
       "      <td>0</td>\n",
       "    </tr>\n",
       "    <tr>\n",
       "      <th>Age</th>\n",
       "      <td>0</td>\n",
       "    </tr>\n",
       "    <tr>\n",
       "      <th>Height</th>\n",
       "      <td>0</td>\n",
       "    </tr>\n",
       "    <tr>\n",
       "      <th>Weight</th>\n",
       "      <td>0</td>\n",
       "    </tr>\n",
       "    <tr>\n",
       "      <th>FHWO</th>\n",
       "      <td>0</td>\n",
       "    </tr>\n",
       "    <tr>\n",
       "      <th>FAVC</th>\n",
       "      <td>0</td>\n",
       "    </tr>\n",
       "    <tr>\n",
       "      <th>FCVC</th>\n",
       "      <td>0</td>\n",
       "    </tr>\n",
       "    <tr>\n",
       "      <th>NCP</th>\n",
       "      <td>0</td>\n",
       "    </tr>\n",
       "    <tr>\n",
       "      <th>CAEC</th>\n",
       "      <td>0</td>\n",
       "    </tr>\n",
       "    <tr>\n",
       "      <th>SMOKE</th>\n",
       "      <td>0</td>\n",
       "    </tr>\n",
       "    <tr>\n",
       "      <th>CH2O</th>\n",
       "      <td>0</td>\n",
       "    </tr>\n",
       "    <tr>\n",
       "      <th>SCC</th>\n",
       "      <td>0</td>\n",
       "    </tr>\n",
       "    <tr>\n",
       "      <th>FAF</th>\n",
       "      <td>0</td>\n",
       "    </tr>\n",
       "    <tr>\n",
       "      <th>TUE</th>\n",
       "      <td>0</td>\n",
       "    </tr>\n",
       "    <tr>\n",
       "      <th>CALC</th>\n",
       "      <td>0</td>\n",
       "    </tr>\n",
       "    <tr>\n",
       "      <th>MTRANS</th>\n",
       "      <td>0</td>\n",
       "    </tr>\n",
       "    <tr>\n",
       "      <th>WeightCategory</th>\n",
       "      <td>0</td>\n",
       "    </tr>\n",
       "  </tbody>\n",
       "</table>\n",
       "</div>"
      ]
     },
     "metadata": {},
     "output_type": "display_data",
     "jetTransient": {
      "display_id": null
     }
    }
   ],
   "execution_count": 19
  },
  {
   "cell_type": "markdown",
   "id": "7386b76e31177042",
   "metadata": {},
   "source": [
    "**Observation**: There is not a single missing value in any of the columns\n",
    "\n",
    "**Inference**: The dataset is pretty good in this department! We do not have to perform any sorts of missing value handling procedures like removal, imputation or flagging."
   ]
  },
  {
   "cell_type": "markdown",
   "id": "d8ced38e8e301cb6",
   "metadata": {},
   "source": [
    "#### Outlier Detection"
   ]
  },
  {
   "cell_type": "code",
   "id": "f60c8798663d0eb1",
   "metadata": {
    "ExecuteTime": {
     "end_time": "2025-10-21T13:01:40.103165Z",
     "start_time": "2025-10-21T13:01:40.071940Z"
    }
   },
   "source": [
    "# Find the number of values below or above the IQR\n",
    "\n",
    "def count_outliers(ds: pd.DataFrame, column: str):\n",
    "    quan25 = ds[column].quantile(0.25)\n",
    "    quan75 = ds[column].quantile(0.75)\n",
    "    iqr = quan75 - quan25\n",
    "    lower_limit = quan25 - 1.5 * iqr\n",
    "    upper_limit = quan75 + 1.5 * iqr\n",
    "    return len(ds[(ds[column] > upper_limit) | (ds[column] < lower_limit)])\n",
    "\n",
    "\n",
    "_ds_num = ds_source[numerical_features]\n",
    "ds_outliers = pd.DataFrame(zip(_ds_num.columns, [count_outliers(_ds_num, col) for col in _ds_num.columns]),\n",
    "                           columns=['', 'Outliers_Count'])\n",
    "conclude_csv(ds_outliers, \"eda_outlier_counts\")\n",
    "display(ds_outliers)"
   ],
   "outputs": [
    {
     "data": {
      "text/plain": [
       "           Outliers_Count\n",
       "0     Age             792\n",
       "1  Height               4\n",
       "2  Weight               0\n",
       "3    FCVC               0\n",
       "4     NCP            4548\n",
       "5    CH2O               0\n",
       "6     FAF               0\n",
       "7     TUE               0"
      ],
      "text/html": [
       "<div>\n",
       "<style scoped>\n",
       "    .dataframe tbody tr th:only-of-type {\n",
       "        vertical-align: middle;\n",
       "    }\n",
       "\n",
       "    .dataframe tbody tr th {\n",
       "        vertical-align: top;\n",
       "    }\n",
       "\n",
       "    .dataframe thead th {\n",
       "        text-align: right;\n",
       "    }\n",
       "</style>\n",
       "<table border=\"1\" class=\"dataframe\">\n",
       "  <thead>\n",
       "    <tr style=\"text-align: right;\">\n",
       "      <th></th>\n",
       "      <th></th>\n",
       "      <th>Outliers_Count</th>\n",
       "    </tr>\n",
       "  </thead>\n",
       "  <tbody>\n",
       "    <tr>\n",
       "      <th>0</th>\n",
       "      <td>Age</td>\n",
       "      <td>792</td>\n",
       "    </tr>\n",
       "    <tr>\n",
       "      <th>1</th>\n",
       "      <td>Height</td>\n",
       "      <td>4</td>\n",
       "    </tr>\n",
       "    <tr>\n",
       "      <th>2</th>\n",
       "      <td>Weight</td>\n",
       "      <td>0</td>\n",
       "    </tr>\n",
       "    <tr>\n",
       "      <th>3</th>\n",
       "      <td>FCVC</td>\n",
       "      <td>0</td>\n",
       "    </tr>\n",
       "    <tr>\n",
       "      <th>4</th>\n",
       "      <td>NCP</td>\n",
       "      <td>4548</td>\n",
       "    </tr>\n",
       "    <tr>\n",
       "      <th>5</th>\n",
       "      <td>CH2O</td>\n",
       "      <td>0</td>\n",
       "    </tr>\n",
       "    <tr>\n",
       "      <th>6</th>\n",
       "      <td>FAF</td>\n",
       "      <td>0</td>\n",
       "    </tr>\n",
       "    <tr>\n",
       "      <th>7</th>\n",
       "      <td>TUE</td>\n",
       "      <td>0</td>\n",
       "    </tr>\n",
       "  </tbody>\n",
       "</table>\n",
       "</div>"
      ]
     },
     "metadata": {},
     "output_type": "display_data",
     "jetTransient": {
      "display_id": null
     }
    }
   ],
   "execution_count": 20
  },
  {
   "cell_type": "markdown",
   "id": "8cd1483f77b07f7c",
   "metadata": {},
   "source": [
    "**Observation**: Age and NCP has a significant number of values outside the IQR\n",
    "\n",
    "**Inference**: A lot of values outside of the IQR might indicate a possible issue in the data distribution since dropping or imputing such huge percentage of values, isn't recommended."
   ]
  },
  {
   "cell_type": "markdown",
   "id": "12660881fc3fac99",
   "metadata": {},
   "source": [
    "#### Feature Distribution"
   ]
  },
  {
   "cell_type": "code",
   "id": "386436acc4c0c6c1",
   "metadata": {
    "ExecuteTime": {
     "end_time": "2025-10-21T13:01:43.037090Z",
     "start_time": "2025-10-21T13:01:40.680999Z"
    }
   },
   "source": [
    "# Feature distribution plots for each of the numerical features\n",
    "\n",
    "fig, axs = plt.subplots(2, 4, figsize=(max_fig_width, 5))\n",
    "for ax, col in zip(flatten(axs), numerical_features):\n",
    "    sns.histplot(ds_source[col], kde=True, bins=12, ax=ax)\n",
    "    annotate_plot(ax, col)\n",
    "conclude_plot(\"Feature Distribution (Numerical)\")"
   ],
   "outputs": [
    {
     "data": {
      "text/plain": [
       "<Figure size 1100x500 with 8 Axes>"
      ],
      "image/png": "[encoded data removed]"
     },
     "metadata": {},
     "output_type": "display_data",
     "jetTransient": {
      "display_id": null
     }
    }
   ],
   "execution_count": 21
  },
  {
   "cell_type": "markdown",
   "id": "ee1eb635efe8235a",
   "metadata": {},
   "source": [
    "**Observation**:\n",
    "* Age is moderately right-skewed, with the bulk of the data clustered between roughly 18 and 30 years old.\n",
    "* Height and Weight follow a somewhat traditional, unimodal distribution but show signs of slight multimodality in the case of Weight.\n",
    "* All features other than Age, Height, and Weight (FCVC, NCP, CH20, FAF, TUE) exhibit clear multimodality, with peaks centered around specific, distinct values.\n",
    "* FAF (Physical Activity) is heavily right-skewed, showing a significant frequency of low or zero activity.\n",
    "\n",
    "**Inference**: The dataset contains a mix of standard continuous-like features (Age, Height, Weight) and several features that appear to be categorical or ordinal measures (FCVC, NCP, CH20, TUE) where responses cluster at specific points."
   ]
  },
  {
   "cell_type": "code",
   "id": "b3787e059df0feae",
   "metadata": {
    "ExecuteTime": {
     "end_time": "2025-10-21T13:01:44.846104Z",
     "start_time": "2025-10-21T13:01:43.188496Z"
    }
   },
   "source": [
    "# Feature distribution plots for each of the categorical features\n",
    "\n",
    "fig, axs = plt.subplots(2, 4, figsize=(max_fig_width, 5))\n",
    "for ax, col in zip(flatten(axs), categorical_features):\n",
    "    sns.countplot(ds_source[col], ax=ax)\n",
    "    annotate_plot(ax, col), ax.set_xscale('log'), ax.set_xlim(10, 20000)\n",
    "    if col == 'MTRANS': ax.set_yticks(range(5), ['Public', 'Automobile', 'Walking', 'Motorbike', 'Bike'], **font_ticks)\n",
    "conclude_plot(\"Feature Distribution (Discrete)\", constrained=True)"
   ],
   "outputs": [
    {
     "data": {
      "text/plain": [
       "<Figure size 1100x500 with 8 Axes>"
      ],
      "image/png": "[encoded data removed]"
     },
     "metadata": {},
     "output_type": "display_data",
     "jetTransient": {
      "display_id": null
     }
    }
   ],
   "execution_count": 22
  },
  {
   "cell_type": "markdown",
   "id": "42714211895b1224",
   "metadata": {},
   "source": [
    "**Observation**:\n",
    "* Gender is very well distributed; the counts for Male and Female are nearly equal.\n",
    "* Family History With Overweight (FHWO) and High Caloric Food Consumption Freq (FAVC) have a moderate skewedness, with 'yes' counts being significantly higher than 'no'.\n",
    "* Smoke (SMOKE) and Calories Consumption Monitoring (SCC) show strong skewedness, with 'no' responses dominating 'yes' responses (SCC is more skewed than SMOKE).\n",
    "* Consumption of Food Between Meals (CAEC), Consumption of alcohol (CALC), and Means of Transportation Used (MTRANS) are highly heterogeneous/multi-category skewed, where counts are spread across multiple categories with one or two dominant levels (e.g., 'Sometimes' for CAEC, 'Public' for MTRANS).\n",
    "\n",
    "**Inference**:\n",
    "* The dataset is primarily composed of individuals with a family history of overweight and who frequently consume high-caloric foods. However, they do not typically smoke or monitor their calorie consumption. Furthermore, the majority rely on public transport or automobiles and consume alcohol only sometimes or not at all."
   ]
  },
  {
   "cell_type": "code",
   "id": "13c667337e747767",
   "metadata": {
    "ExecuteTime": {
     "end_time": "2025-10-21T13:01:45.886757Z",
     "start_time": "2025-10-21T13:01:44.977130Z"
    }
   },
   "source": [
    "# Plots for analysing the feature spread of the numerical columns\n",
    "\n",
    "fig, axs = plt.subplots(1, 8, figsize=(max_fig_width, 5))\n",
    "for ax, column in zip(flatten(axs), numerical_features):\n",
    "    sns.boxplot(y=column, data=ds_source, ax=ax)\n",
    "conclude_plot(\"Feature Spread (Numerical)\")"
   ],
   "outputs": [
    {
     "data": {
      "text/plain": [
       "<Figure size 1100x500 with 8 Axes>"
      ],
      "image/png": "[encoded data removed]"
     },
     "metadata": {},
     "output_type": "display_data",
     "jetTransient": {
      "display_id": null
     }
    }
   ],
   "execution_count": 23
  },
  {
   "cell_type": "markdown",
   "id": "551cb370c15a0a9a",
   "metadata": {},
   "source": [
    "**Observation**:\n",
    "* Age exhibits significant outliers extending up to the early 60s, while the interquartile range (IQR) is very tight, concentrated between roughly 20 and 24.\n",
    "* Height and Weight show symmetrical spread and a clean distribution with minimal or no significant outliers.\n",
    "* NCP (Number of Main Meals) has an extremely small IQR (median and quartiles are near 3) but contains numerous outliers spanning its entire range from 1 to 4.\n",
    "* FCVC, CH20, FAF, and TUE have large interquartile ranges (IRQs) relative to their total range, indicating a wide spread of data across the possible values. TUE (Time Using Technology) is highly skewed, with the median near the bottom of the box.\n",
    "\n",
    "**Inference**:\n",
    "* The dataset's numerical features are generally well-contained but show distinct issues: Age and NCP are primarily characterized by a high number of outliers against a very concentrated central body, while the other features show a generally even, broad spread of values."
   ]
  },
  {
   "cell_type": "code",
   "id": "cd5ee9f2229cf8ab",
   "metadata": {
    "ExecuteTime": {
     "end_time": "2025-10-21T13:01:46.303579Z",
     "start_time": "2025-10-21T13:01:46.026165Z"
    }
   },
   "source": [
    "# Plot for analysing the sensitivity of the numerical features to outliers\n",
    "\n",
    "plt.figure(figsize=sml_fig)\n",
    "_ds_num = ds_source[numerical_features]\n",
    "(_ds_num.mean() - _ds_num.median()).abs().plot(kind='bar', width=0.8)\n",
    "plt.yscale('log'), plt.ylim(0.01, 10)\n",
    "plt.axhline(0.3, color='black', linestyle='--')\n",
    "conclude_plot(\"Outlier Sensitivity (Numerical)\")"
   ],
   "outputs": [
    {
     "data": {
      "text/plain": [
       "<Figure size 400x300 with 1 Axes>"
      ],
      "image/png": "[encoded data removed]"
     },
     "metadata": {},
     "output_type": "display_data",
     "jetTransient": {
      "display_id": null
     }
    }
   ],
   "execution_count": 24
  },
  {
   "cell_type": "markdown",
   "id": "6f1b14d16db121f0",
   "metadata": {},
   "source": [
    "**Observation**:\n",
    "* Weight and Age exhibit the highest outlier sensitivity, significantly exceeding the dashed baseline, indicating extreme values heavily influence their statistics. Height shows near-zero sensitivity, while the remaining features (FCVC, NCP, CH20, FAF, TUE) all fall well below the baseline.\n",
    "\n",
    "**Inference**:\n",
    "* Weight and Age are the two features most vulnerable to distortion by outliers and will require the most attention during the data preprocessing or cleaning phase. Conversely, Height is highly robust, and the other features are relatively stable against extreme values."
   ]
  },
  {
   "cell_type": "markdown",
   "id": "bd7459ab3e2aba8f",
   "metadata": {},
   "source": [
    "## Data Pre-Processing"
   ]
  },
  {
   "cell_type": "markdown",
   "id": "51f22affb4d69c74",
   "metadata": {},
   "source": [
    "### Handling 'Age' Feature"
   ]
  },
  {
   "cell_type": "code",
   "id": "cb82cf2bf383f972",
   "metadata": {
    "ExecuteTime": {
     "end_time": "2025-10-21T13:01:47.434755Z",
     "start_time": "2025-10-21T13:01:46.313842Z"
    }
   },
   "source": [
    "# Analysing the impact of various data transformation techniques on 'Age' feature in the dtaaset\n",
    "\n",
    "fig, axs = plt.subplots(1, 4, figsize=(max_fig_width, 3))\n",
    "_bclam, _bcage = pop_box_cox_transform(ds_source['Age'])\n",
    "for ax, title, data in zip(flatten(axs), *zip(\n",
    "        ['No Transform', ds_source['Age']],\n",
    "        ['Log Transform', pop_log_transform(ds_source['Age'])[1]],\n",
    "        ['Sqrt Transform', pop_root_transform(ds_source['Age'])[1]],\n",
    "        ['Box-Cox %.2f' % _bclam, _bcage],\n",
    ")):\n",
    "    sns.histplot(data, kde=True, bins=8, ax=ax)\n",
    "    annotate_plot(ax, title)\n",
    "conclude_plot(\"Feature Transforms over Age\")"
   ],
   "outputs": [
    {
     "data": {
      "text/plain": [
       "<Figure size 1100x300 with 4 Axes>"
      ],
      "image/png": "[encoded data removed]"
     },
     "metadata": {},
     "output_type": "display_data",
     "jetTransient": {
      "display_id": null
     }
    }
   ],
   "execution_count": 25
  },
  {
   "cell_type": "markdown",
   "id": "f375647e",
   "metadata": {},
   "source": [
    "**Observation** \n",
    "\n",
    "The Age feature is originally multimodal and heavily right-skewed. Both the Log and Sqrt transforms reduce skewness but fail to normalize the distribution effectively. The Box-Cox Transform with $\\lambda = -1.47$ is the most successful at achieving a symmetrical shape.\n",
    "\n",
    "**Inference**\n",
    "\n",
    "The Box-Cox transformation with $\\lambda = -1.47$ is the optimal choice for preprocessing the Age feature, as it best corrects the skewness and shifts the distribution closest to a more normalized form suitable for modeling."
   ]
  },
  {
   "cell_type": "markdown",
   "id": "39496c0af444ec80",
   "metadata": {},
   "source": [
    "### Handling 'NCP' Feature"
   ]
  },
  {
   "cell_type": "code",
   "id": "a64a18487b9ea302",
   "metadata": {
    "ExecuteTime": {
     "end_time": "2025-10-21T13:01:48.607183Z",
     "start_time": "2025-10-21T13:01:47.559830Z"
    }
   },
   "source": [
    "fig, axs = plt.subplots(1, 4, figsize=(max_fig_width, 3))\n",
    "_, _scd_ncp = pop_soft_ohe(ds_source['NCP'], [1, 3, 3.5])\n",
    "for ax, title, data in zip(flatten(axs), *zip(\n",
    "        ['No Transform', ds_source['NCP']],\n",
    "        ['First Split', _scd_ncp[0]],\n",
    "        ['Second Split', _scd_ncp[1]],\n",
    "        ['Third Split', _scd_ncp[2]],\n",
    ")):\n",
    "    sns.histplot(data, kde=True, bins=5, ax=ax)\n",
    "    annotate_plot(ax, title)\n",
    "conclude_plot(\"Soft OHE Transforms over NCP\")"
   ],
   "outputs": [
    {
     "data": {
      "text/plain": [
       "<Figure size 1100x300 with 4 Axes>"
      ],
      "image/png": "[encoded data removed]"
     },
     "metadata": {},
     "output_type": "display_data",
     "jetTransient": {
      "display_id": null
     }
    }
   ],
   "execution_count": 26
  },
  {
   "cell_type": "markdown",
   "id": "0e76b256",
   "metadata": {},
   "source": [
    "**Observation**\n",
    "\n",
    "The original NCP is highly multimodal and dominated by the value 3. The Soft OHE Transforms are largely ineffective at creating a uniform or continuous feature. The \"Third Split\" only highlights the difference between the dominant value and the rest.\n",
    "\n",
    "**Inference**\n",
    "\n",
    "Soft OHE Transforms are not suitable for the highly discrete and clustered nature of NCP. Standard One-Hot Encoding into separate columns for each integer value would be a more appropriate and effective transformation approach."
   ]
  },
  {
   "cell_type": "markdown",
   "id": "f3686d6883605f28",
   "metadata": {},
   "source": [
    "## Data Pipelining"
   ]
  },
  {
   "cell_type": "markdown",
   "id": "1317bbe20d298a0b",
   "metadata": {},
   "source": [
    "#### For Regression Based Models"
   ]
  },
  {
   "cell_type": "code",
   "id": "50b3b21782f9d7a3",
   "metadata": {
    "ExecuteTime": {
     "end_time": "2025-10-21T16:58:33.056820Z",
     "start_time": "2025-10-21T16:58:33.050771Z"
    }
   },
   "source": [
    "regression_pipeline = [\n",
    "    [  # Compulsory ones\n",
    "        (pop_drop_column, ['id', 'WeightCategory']),\n",
    "        (pop_binarize, binary_features),\n",
    "        (pop_one_hot_encode, nary_features),\n",
    "    ],\n",
    "    [  # Permutable ones\n",
    "        [  # No Chill\n",
    "        ],\n",
    "        [  # Simple Life\n",
    "            (pop_box_cox_transform, ['Age']),\n",
    "            (pop_standardize, numerical_features),\n",
    "        ],\n",
    "        [  # Encoded Q-Conts\n",
    "            (pop_box_cox_transform, ['Age']),\n",
    "            (pop_standardize, gaussian_features),\n",
    "            (pop_round, partial_features),\n",
    "            (pop_one_hot_encode, partial_features),\n",
    "        ],\n",
    "        [  # Soft Hot Encode\n",
    "            (pop_box_cox_transform, ['Age']),\n",
    "            (pop_standardize, gaussian_features),\n",
    "            (prepare_pop(pop_soft_ohe, [1, 2, 3]), ['FCVC']),\n",
    "            (prepare_pop(pop_soft_ohe, [1, 3, 4]), ['NCP']),\n",
    "            (prepare_pop(pop_soft_ohe, [1, 2, 3]), ['CH2O']),\n",
    "            (prepare_pop(pop_soft_ohe, [0, 1, 2, 3]), ['FAF']),\n",
    "            (prepare_pop(pop_soft_ohe, [0, 1, 2]), ['TUE']),\n",
    "        ],\n",
    "    ],\n",
    "]\n",
    "regression_pipeline_derived = regression_pipeline.copy()\n",
    "regression_pipeline_derived[0] = [  # Compulsory ones\n",
    "    (pop_drop_column, ['id', 'WeightCategory']),\n",
    "    (pop_derived_features, [all_features]),\n",
    "    (pop_binarize, binary_features),\n",
    "    (pop_one_hot_encode, nary_features),\n",
    "    (pop_standardize, numerical_derived_features),\n",
    "    (pop_binarize, binary_derived_features),\n",
    "]"
   ],
   "outputs": [],
   "execution_count": 219
  },
  {
   "cell_type": "code",
   "id": "a1a4fb2512362602",
   "metadata": {
    "ExecuteTime": {
     "end_time": "2025-10-21T16:58:50.819783Z",
     "start_time": "2025-10-21T16:58:33.343485Z"
    }
   },
   "source": [
    "_ds_targets = pop_ordinal_encode(ds_source['WeightCategory'])[1].to_numpy()\n",
    "_scores = []\n",
    "\n",
    "for pipeline in [regression_pipeline, regression_pipeline_derived]:\n",
    "    for args, ds_sample in apply_pipeline(ds_source, pipeline):\n",
    "        model = skl.linear_model.LogisticRegression(max_iter=1000)\n",
    "        with warnings.catch_warnings():\n",
    "            warnings.filterwarnings(\"ignore\", category=skl.exceptions.ConvergenceWarning)\n",
    "            model.fit(ds_sample, _ds_targets)\n",
    "        _scores.append(model.score(ds_sample, _ds_targets))\n",
    "\n",
    "plt.figure(figsize=wid_fig)\n",
    "plt.bar(range(4), _scores[:4], label='Features used As-Is')\n",
    "plt.bar(range(4, 8), _scores[4:], label='With Derived Features')\n",
    "plt.xticks(range(len(_scores)), ['No Op', 'Standard', 'Rounded', 'Soft Hot'] * 2)\n",
    "plt.ylim(min(0.8, np.min(_scores)), max(0.9, np.max(_scores)))\n",
    "plt.legend()\n",
    "conclude_plot(\"Effect of Different Pipelines\")"
   ],
   "outputs": [
    {
     "data": {
      "text/plain": [
       "<Figure size 800x300 with 1 Axes>"
      ],
      "image/png": "[encoded data removed]"
     },
     "metadata": {},
     "output_type": "display_data",
     "jetTransient": {
      "display_id": null
     }
    }
   ],
   "execution_count": 220
  },
  {
   "cell_type": "markdown",
   "id": "cb1a6e0459594808",
   "metadata": {},
   "source": [
    "#### For Tree Based Models"
   ]
  },
  {
   "cell_type": "code",
   "id": "570c2d57586316e8",
   "metadata": {
    "ExecuteTime": {
     "end_time": "2025-10-21T16:55:15.108361Z",
     "start_time": "2025-10-21T16:55:15.103602Z"
    }
   },
   "source": [
    "tree_pipeline = [\n",
    "    [  # Compulsory ones\n",
    "        (pop_drop_column, ['id', 'WeightCategory']),\n",
    "        (pop_binarize, binary_features),\n",
    "    ],\n",
    "    [  # Permutable ones\n",
    "        [  # Ordinal Encoded\n",
    "            (pop_ordinal_encode, nary_features),\n",
    "        ],\n",
    "        [  # One Hot Encoded\n",
    "            (pop_one_hot_encode, nary_features),\n",
    "        ],\n",
    "    ],\n",
    "]\n",
    "tree_pipeline_derived = tree_pipeline.copy()\n",
    "tree_pipeline_derived[0] = [  # Compulsory ones\n",
    "    (pop_drop_column, ['id', 'WeightCategory']),\n",
    "    (pop_derived_features, [all_features]),\n",
    "    (pop_binarize, binary_features),\n",
    "    (pop_binarize, binary_derived_features),\n",
    "]"
   ],
   "outputs": [],
   "execution_count": 213
  },
  {
   "cell_type": "code",
   "id": "5b6327509290b745",
   "metadata": {
    "ExecuteTime": {
     "end_time": "2025-10-21T16:55:16.162268Z",
     "start_time": "2025-10-21T16:55:15.528231Z"
    }
   },
   "source": [
    "_ds_targets = pop_ordinal_encode(ds_source['WeightCategory'])[1].to_numpy()\n",
    "_scores = []\n",
    "\n",
    "for pipeline in [tree_pipeline, tree_pipeline_derived]:\n",
    "    for args, ds_sample in apply_pipeline(ds_source, pipeline):\n",
    "        model = skl.tree.DecisionTreeClassifier(max_depth=7)\n",
    "        model.fit(ds_sample, _ds_targets)\n",
    "        _scores.append(model.score(ds_sample, _ds_targets))\n",
    "\n",
    "plt.figure(figsize=sml_fig)\n",
    "plt.bar(range(2), _scores[:2], label='Features used As-Is')\n",
    "plt.bar(range(2, 4), _scores[2:], label='With Derived Features')\n",
    "plt.xticks(range(len(_scores)), ['No Op', 'Standard'] * 2)\n",
    "plt.ylim(min(0.75, np.min(_scores)), max(1.0, np.max(_scores)))\n",
    "plt.legend()\n",
    "conclude_plot(\"Effect of Different Pipelines\")"
   ],
   "outputs": [
    {
     "data": {
      "text/plain": [
       "<Figure size 400x300 with 1 Axes>"
      ],
      "image/png": "[encoded data removed]"
     },
     "metadata": {},
     "output_type": "display_data",
     "jetTransient": {
      "display_id": null
     }
    }
   ],
   "execution_count": 214
  },
  {
   "metadata": {},
   "cell_type": "markdown",
   "source": "#### For Distance Based Models",
   "id": "ddbc54471db56e54"
  },
  {
   "metadata": {
    "ExecuteTime": {
     "end_time": "2025-10-21T16:56:54.516435Z",
     "start_time": "2025-10-21T16:56:54.512251Z"
    }
   },
   "cell_type": "code",
   "source": [
    "distance_pipeline = [\n",
    "    [  # Compulsory ones\n",
    "        (pop_drop_column, ['id', 'WeightCategory']),\n",
    "        (pop_binarize, binary_features),\n",
    "        (pop_one_hot_encode, nary_features),\n",
    "    ],\n",
    "    [  # Permutable ones\n",
    "        [  # No Chill\n",
    "        ],\n",
    "        [  # Box Cox\n",
    "            (pop_box_cox_transform, gaussian_features),\n",
    "        ],\n",
    "        [  # Standardize\n",
    "            # TODO: Implement the POP for PCA - Distance based learners are very sensitive to useless features!\n",
    "            (pop_standardize, numerical_features),\n",
    "        ],\n",
    "        [  # All-In\n",
    "            (pop_box_cox_transform, gaussian_features),\n",
    "            (pop_standardize, numerical_features),\n",
    "        ],\n",
    "    ],\n",
    "]\n",
    "distance_pipeline_derived = distance_pipeline.copy()\n",
    "distance_pipeline_derived[0] = [  # Compulsory ones\n",
    "    (pop_drop_column, ['id', 'WeightCategory']),\n",
    "    (pop_derived_features, [all_features]),\n",
    "    (pop_binarize, binary_features),\n",
    "    (pop_one_hot_encode, nary_features),\n",
    "    (pop_binarize, binary_derived_features),\n",
    "]"
   ],
   "id": "ee637f2d47d66084",
   "outputs": [],
   "execution_count": 217
  },
  {
   "metadata": {
    "ExecuteTime": {
     "end_time": "2025-10-21T16:56:57.768562Z",
     "start_time": "2025-10-21T16:56:55.596655Z"
    }
   },
   "cell_type": "code",
   "source": [
    "_ds_targets = pop_ordinal_encode(ds_source['WeightCategory'])[1].to_numpy()\n",
    "_scores = []\n",
    "\n",
    "for pipeline in [distance_pipeline, distance_pipeline_derived]:\n",
    "    for args, ds_sample in apply_pipeline(ds_source, pipeline):\n",
    "        model = skl.neighbors.KNeighborsClassifier(n_neighbors=5)\n",
    "        model.fit(ds_sample, _ds_targets)\n",
    "        _scores.append(model.score(ds_sample, _ds_targets))\n",
    "\n",
    "plt.figure(figsize=wid_fig)\n",
    "plt.bar(range(4), _scores[:4], label='Features used As-Is')\n",
    "plt.bar(range(4, 8), _scores[4:], label='With Derived Features')\n",
    "plt.xticks(range(len(_scores)), ['No Op', 'Box Cox', 'Standard', 'Both'] * 2)\n",
    "plt.ylim(min(0.8, np.min(_scores)), max(0.9, np.max(_scores)))\n",
    "plt.legend()\n",
    "conclude_plot(\"Effect of Different Pipelines\")"
   ],
   "id": "a658f692e85f2d52",
   "outputs": [
    {
     "data": {
      "text/plain": [
       "<Figure size 800x300 with 1 Axes>"
      ],
      "image/png": "[encoded data removed]"
     },
     "metadata": {},
     "output_type": "display_data",
     "jetTransient": {
      "display_id": null
     }
    }
   ],
   "execution_count": 218
  },
  {
   "metadata": {},
   "cell_type": "markdown",
   "source": "#### For Probability Based Models",
   "id": "8d7d7887b8c3bf76"
  },
  {
   "metadata": {
    "ExecuteTime": {
     "end_time": "2025-10-21T17:11:56.179271Z",
     "start_time": "2025-10-21T17:11:56.174986Z"
    }
   },
   "cell_type": "code",
   "source": [
    "probability_pipeline = [\n",
    "    [  # Compulsory ones\n",
    "        (pop_drop_column, ['id', 'WeightCategory']),\n",
    "        (pop_binarize, binary_features),\n",
    "        (pop_ordinal_encode, nary_features),\n",
    "    ],\n",
    "    [  # Permutable ones\n",
    "        [  # OHE\n",
    "            (pop_standardize, numerical_features),\n",
    "        ],\n",
    "        [  # OHE\n",
    "            (pop_minmax, numerical_features),\n",
    "        ],\n",
    "        [  # OHE\n",
    "            (lambda x: (None, x + 0.1), numerical_features),\n",
    "            (pop_box_cox_transform, numerical_features),\n",
    "            (pop_standardize, numerical_features),\n",
    "        ],\n",
    "        [  # OHE\n",
    "            (lambda x: (None, x + 0.1), numerical_features),\n",
    "            (pop_box_cox_transform, numerical_features),\n",
    "            (pop_minmax, numerical_features),\n",
    "        ],\n",
    "    ],\n",
    "]\n",
    "probability_pipeline_derived = probability_pipeline.copy()\n",
    "probability_pipeline_derived[0] = [  # Compulsory ones\n",
    "    (pop_drop_column, ['id', 'WeightCategory']),\n",
    "    (pop_derived_features, [all_features]),\n",
    "    (pop_binarize, binary_features),\n",
    "    (pop_ordinal_encode, nary_features),\n",
    "    (pop_standardize, numerical_derived_features),\n",
    "    (pop_binarize, binary_derived_features),\n",
    "]"
   ],
   "id": "c6c2a9c3459b3753",
   "outputs": [],
   "execution_count": 278
  },
  {
   "metadata": {
    "ExecuteTime": {
     "end_time": "2025-10-21T17:11:59.456746Z",
     "start_time": "2025-10-21T17:11:56.466032Z"
    }
   },
   "cell_type": "code",
   "source": [
    "_ds_targets = pop_ordinal_encode(ds_source['WeightCategory'])[1].to_numpy()\n",
    "_scores = []\n",
    "\n",
    "for pipeline in [probability_pipeline, probability_pipeline]:\n",
    "    for args, ds_sample in apply_pipeline(ds_source, pipeline):\n",
    "        model = skl.naive_bayes.GaussianNB(var_smoothing=0.01)\n",
    "        model.fit(ds_sample, _ds_targets)\n",
    "        _scores.append(model.score(ds_sample, _ds_targets))\n",
    "\n",
    "plt.figure(figsize=wid_fig)\n",
    "plt.bar(range(4), _scores[:4], label='Features used As-Is')\n",
    "plt.bar(range(4, 8), _scores[4:], label='With Derived Features')\n",
    "plt.xticks(range(len(_scores)), ['Standard', 'MinMax', 'BX+Stan', 'BX+MinMax'] * 2)\n",
    "plt.ylim(min(0.8, np.min(_scores)), max(0.9, np.max(_scores)))\n",
    "plt.legend()\n",
    "conclude_plot(\"Effect of Different Pipelines\")"
   ],
   "id": "a9fca814f87c5e9c",
   "outputs": [
    {
     "data": {
      "text/plain": [
       "<Figure size 800x300 with 1 Axes>"
      ],
      "image/png": "[encoded data removed]"
     },
     "metadata": {},
     "output_type": "display_data",
     "jetTransient": {
      "display_id": null
     }
    }
   ],
   "execution_count": 279
  },
  {
   "cell_type": "markdown",
   "id": "c5bc3311d05f4642",
   "metadata": {},
   "source": [
    "## Modelling"
   ]
  },
  {
   "metadata": {},
   "cell_type": "markdown",
   "source": "#### Experiment Setup",
   "id": "45d7dd3528e2d48c"
  },
  {
   "metadata": {
    "ExecuteTime": {
     "end_time": "2025-10-21T17:15:20.620894Z",
     "start_time": "2025-10-21T17:15:20.609686Z"
    }
   },
   "cell_type": "code",
   "source": [
    "def conduct_simple_experiment(name, model, environment):\n",
    "    train_x, test_x, train_y, test_y = environment['data_exp']\n",
    "    data_test_ids, data_test = environment['data_sub']\n",
    "    data_y_codex = environment['data_y_codex']\n",
    "    evaluate_model(model, train_x, train_y, test_x, test_y)\n",
    "    save_submission(name, model, data_test_ids, data_test, data_y_codex)\n",
    "    chime.info()\n",
    "\n",
    "\n",
    "def conduct_grid_search_experiment(name, search_space, model_supplier, environment,\n",
    "                                   skip_control=None, derived_parameters=None, verbose=-1):\n",
    "    train_x, test_x, train_y, test_y = environment['data_exp']\n",
    "    data_test_ids, data_test = environment['data_sub']\n",
    "    data_y_codex = environment['data_y_codex']\n",
    "\n",
    "    start_time = time.perf_counter()\n",
    "\n",
    "    history = []\n",
    "\n",
    "    pbar = [dict(zip(search_space.keys(), values)) for values in itertools.product(*search_space.values())]\n",
    "    if verbose == -1: pbar = tqdm(pbar)\n",
    "\n",
    "    for parameters in pbar:\n",
    "        if skip_control is not None and skip_control(parameters):\n",
    "            continue\n",
    "        if derived_parameters is not None:\n",
    "            derived_parameters(parameters)\n",
    "\n",
    "        key = \",\".join([\"%s=%s\" % (k, v) for k, v in parameters.items()])\n",
    "        if verbose == 0:  print(\"Training Model with configurations\", key)\n",
    "        if verbose == -1: pbar.set_description(\"Processing %s\" % key)\n",
    "\n",
    "        cons_args = inspect.signature(model_supplier).parameters.keys()\n",
    "        if 'verbose' in cons_args and verbose > 0: parameters['verbose'] = verbose\n",
    "        if 'n_jobs' in cons_args: parameters['n_jobs'] = 15\n",
    "        if 'random_state' in cons_args: parameters['random_state'] = default_seed\n",
    "\n",
    "        try:\n",
    "            with warnings.catch_warnings():\n",
    "                warnings.simplefilter(\"ignore\")\n",
    "\n",
    "                model = model_supplier(**parameters)\n",
    "                model.fit(train_x, train_y)\n",
    "                history.append([key, {'model': model, 'train score': model.score(train_x, train_y),\n",
    "                                      'val score': model.score(test_x, test_y)}])\n",
    "        except Exception as e:\n",
    "            if verbose >= 1: print(\"This config is not compatible:\", e)\n",
    "\n",
    "    elapsed_time = time.perf_counter() - start_time\n",
    "    best_score, best_config, best_model = max([[x[1]['val score'], x[0], x[1]['model']] for x in history])\n",
    "\n",
    "    save_submission(name + '_' + best_config, best_model, data_test_ids, data_test, data_y_codex)\n",
    "\n",
    "    displayMD(header(4, kv('Best Val Accuracy', best_score)))\n",
    "    displayMD(header(4, kv('Time Elapsed', f\"{elapsed_time:.4f} seconds\")))\n",
    "\n",
    "    chime.success()\n",
    "    return history, best_score, best_config, best_model, elapsed_time\n",
    "\n",
    "\n",
    "def create_environment(_pipeline):\n",
    "    _arguments, _ds_source_regression = next(apply_pipeline(ds_source, _pipeline))\n",
    "\n",
    "    _data_x, _data_y = _ds_source_regression, ds_source['WeightCategory'].to_numpy()\n",
    "    _data_y_codex, _data_y = pop_ordinal_encode(_data_y)\n",
    "    _train_x, _test_x, _train_y, _test_y = skl.model_selection.train_test_split(\n",
    "        _data_x, _data_y, test_size=0.33, random_state=default_seed)\n",
    "\n",
    "    _, _data_test = next(apply_pipeline(ds_test, _pipeline))\n",
    "    _data_test_ids = ds_test['id'].to_numpy()\n",
    "\n",
    "    return {\n",
    "        'pipeline': _pipeline, 'arguments': _arguments,\n",
    "        'data_exp': (_train_x, _test_x, _train_y, _test_y),\n",
    "        'data_y_codex': _data_y_codex,\n",
    "        'data_sub': (_data_test_ids, _data_test),\n",
    "    }\n",
    "\n",
    "\n",
    "def plot_model_comparsion(name, history):\n",
    "    plt.figure(figsize=sml_fig)\n",
    "    _hist = sorted([[x[1]['val score'], x] for x in history])\n",
    "    for idx, (score, _) in enumerate(_hist[-30:]):\n",
    "        plt.bar(idx, score)\n",
    "    print(_hist[-1][1][0])\n",
    "    plt.xlabel(_hist[-1][1][0])\n",
    "    plt.ylim(min(0.5, _hist[0][0] - 0.1), 1.0)\n",
    "    conclude_plot(f\"Best {name} Config\")"
   ],
   "id": "732e3c15a71c5286",
   "outputs": [],
   "execution_count": 285
  },
  {
   "metadata": {},
   "cell_type": "markdown",
   "source": "### Logistic Regression",
   "id": "6e94bae862e28446"
  },
  {
   "metadata": {},
   "cell_type": "markdown",
   "source": "#### Data Preparation for Regression Based Models",
   "id": "93b93d22e1d4960b"
  },
  {
   "metadata": {
    "ExecuteTime": {
     "end_time": "2025-10-21T17:15:22.042260Z",
     "start_time": "2025-10-21T17:15:21.766510Z"
    }
   },
   "cell_type": "code",
   "outputs": [],
   "execution_count": 286,
   "source": "regression_environment = create_environment(select_pipeline_variation(regression_pipeline_derived, 3))",
   "id": "77a37272525900"
  },
  {
   "cell_type": "markdown",
   "id": "a365400c3eda7569",
   "metadata": {},
   "source": [
    "#### Simple LR Example"
   ]
  },
  {
   "cell_type": "code",
   "id": "caf9bbfab58d423b",
   "metadata": {
    "ExecuteTime": {
     "end_time": "2025-10-21T17:15:27.480038Z",
     "start_time": "2025-10-21T17:15:25.926024Z"
    }
   },
   "source": "conduct_simple_experiment(\"SimpleLRModel\", skl.linear_model.LogisticRegression(max_iter=1000), regression_environment)",
   "outputs": [
    {
     "data": {
      "text/plain": [
       "<IPython.core.display.Markdown object>"
      ],
      "text/markdown": "#### **Train Accuracy:** `0.8802728932449313`"
     },
     "metadata": {},
     "output_type": "display_data",
     "jetTransient": {
      "display_id": null
     }
    },
    {
     "data": {
      "text/plain": [
       "<IPython.core.display.Markdown object>"
      ],
      "text/markdown": "#### **Test Accuracy:** `0.8718298868513461`"
     },
     "metadata": {},
     "output_type": "display_data",
     "jetTransient": {
      "display_id": null
     }
    }
   ],
   "execution_count": 287
  },
  {
   "cell_type": "markdown",
   "id": "473c3abebdf5d5de",
   "metadata": {},
   "source": [
    "#### Grid Searched Logistic Regression"
   ]
  },
  {
   "metadata": {
    "ExecuteTime": {
     "end_time": "2025-10-21T13:30:55.040587Z",
     "start_time": "2025-10-21T13:29:52.527484Z"
    }
   },
   "cell_type": "code",
   "source": [
    "def skip_control(parameters):\n",
    "    return parameters['penalty'] is None and parameters['C'] != 1.0\n",
    "\n",
    "\n",
    "def derived_parameters(parameters):\n",
    "    if parameters['penalty'] == 'elasticnet':\n",
    "        parameters['l1_ratio'] = 0.5\n",
    "\n",
    "\n",
    "history, *_ = conduct_grid_search_experiment(\"GSLR\", search_space={\n",
    "    'penalty': [None, 'l1', 'l2', 'elasticnet'],\n",
    "    'C': [1.0, 0.1],\n",
    "    'solver': ['lbfgs', 'liblinear', 'newton-cg', 'newton-cholesky', 'sag', 'saga'],\n",
    "}, model_supplier=skl.linear_model.LogisticRegression, environment=regression_environment, skip_control=skip_control,\n",
    "                                             derived_parameters=derived_parameters)"
   ],
   "id": "33c8759f7a73c096",
   "outputs": [
    {
     "name": "stderr",
     "output_type": "stream",
     "text": [
      "Processing penalty=None,C=1.0,solver=newton-cg:   2%|▏         | 1/48 [00:06<04:50,  6.18s/it]"
     ]
    },
    {
     "name": "stdout",
     "output_type": "stream",
     "text": [
      "This config is not compatible: penalty=None is not supported for the liblinear solver\n"
     ]
    },
    {
     "name": "stderr",
     "output_type": "stream",
     "text": [
      "Processing penalty=l1,C=1.0,solver=liblinear:  12%|█▎        | 6/48 [00:17<01:36,  2.30s/it]        "
     ]
    },
    {
     "name": "stdout",
     "output_type": "stream",
     "text": [
      "This config is not compatible: Solver lbfgs supports only 'l2' or None penalties, got l1 penalty.\n"
     ]
    },
    {
     "name": "stderr",
     "output_type": "stream",
     "text": [
      "Processing penalty=l1,C=1.0,solver=saga:  29%|██▉       | 14/48 [00:22<00:31,  1.07it/s]           "
     ]
    },
    {
     "name": "stdout",
     "output_type": "stream",
     "text": [
      "This config is not compatible: Solver newton-cg supports only 'l2' or None penalties, got l1 penalty.\n",
      "This config is not compatible: Solver newton-cholesky supports only 'l2' or None penalties, got l1 penalty.\n",
      "This config is not compatible: Solver sag supports only 'l2' or None penalties, got l1 penalty.\n"
     ]
    },
    {
     "name": "stderr",
     "output_type": "stream",
     "text": [
      "Processing penalty=l1,C=0.1,solver=liblinear:  38%|███▊      | 18/48 [00:24<00:24,  1.22it/s]"
     ]
    },
    {
     "name": "stdout",
     "output_type": "stream",
     "text": [
      "This config is not compatible: Solver lbfgs supports only 'l2' or None penalties, got l1 penalty.\n"
     ]
    },
    {
     "name": "stderr",
     "output_type": "stream",
     "text": [
      "Processing penalty=l1,C=0.1,solver=saga:  42%|████▏     | 20/48 [00:26<00:22,  1.24it/s]           "
     ]
    },
    {
     "name": "stdout",
     "output_type": "stream",
     "text": [
      "This config is not compatible: Solver newton-cg supports only 'l2' or None penalties, got l1 penalty.\n",
      "This config is not compatible: Solver newton-cholesky supports only 'l2' or None penalties, got l1 penalty.\n",
      "This config is not compatible: Solver sag supports only 'l2' or None penalties, got l1 penalty.\n"
     ]
    },
    {
     "name": "stderr",
     "output_type": "stream",
     "text": [
      "Processing penalty=elasticnet,C=1.0,solver=saga,l1_ratio=0.5:  75%|███████▌  | 36/48 [00:58<00:23,  1.93s/it]           "
     ]
    },
    {
     "name": "stdout",
     "output_type": "stream",
     "text": [
      "This config is not compatible: Solver lbfgs supports only 'l2' or None penalties, got elasticnet penalty.\n",
      "This config is not compatible: Only 'saga' solver supports elasticnet penalty, got solver=liblinear.\n",
      "This config is not compatible: Solver newton-cg supports only 'l2' or None penalties, got elasticnet penalty.\n",
      "This config is not compatible: Solver newton-cholesky supports only 'l2' or None penalties, got elasticnet penalty.\n",
      "This config is not compatible: Solver sag supports only 'l2' or None penalties, got elasticnet penalty.\n"
     ]
    },
    {
     "name": "stderr",
     "output_type": "stream",
     "text": [
      "Processing penalty=elasticnet,C=0.1,solver=saga,l1_ratio=0.5:  88%|████████▊ | 42/48 [01:00<00:04,  1.30it/s]           "
     ]
    },
    {
     "name": "stdout",
     "output_type": "stream",
     "text": [
      "This config is not compatible: Solver lbfgs supports only 'l2' or None penalties, got elasticnet penalty.\n",
      "This config is not compatible: Only 'saga' solver supports elasticnet penalty, got solver=liblinear.\n",
      "This config is not compatible: Solver newton-cg supports only 'l2' or None penalties, got elasticnet penalty.\n",
      "This config is not compatible: Solver newton-cholesky supports only 'l2' or None penalties, got elasticnet penalty.\n",
      "This config is not compatible: Solver sag supports only 'l2' or None penalties, got elasticnet penalty.\n"
     ]
    },
    {
     "name": "stderr",
     "output_type": "stream",
     "text": [
      "Processing penalty=elasticnet,C=0.1,solver=saga,l1_ratio=0.5: 100%|██████████| 48/48 [01:02<00:00,  1.30s/it]\n"
     ]
    },
    {
     "data": {
      "text/plain": [
       "<IPython.core.display.Markdown object>"
      ],
      "text/markdown": "#### **Best Val Accuracy:** `0.8747561451424113`"
     },
     "metadata": {},
     "output_type": "display_data",
     "jetTransient": {
      "display_id": null
     }
    },
    {
     "data": {
      "text/plain": [
       "<IPython.core.display.Markdown object>"
      ],
      "text/markdown": "#### **Time Elapsed:** `62.3370 seconds`"
     },
     "metadata": {},
     "output_type": "display_data",
     "jetTransient": {
      "display_id": null
     }
    }
   ],
   "execution_count": 80
  },
  {
   "metadata": {
    "ExecuteTime": {
     "end_time": "2025-10-21T13:16:50.261931Z",
     "start_time": "2025-10-21T13:16:50.081702Z"
    }
   },
   "cell_type": "code",
   "source": "plot_model_comparsion(\"LR\", history)",
   "id": "9938fd225efc9970",
   "outputs": [
    {
     "data": {
      "text/plain": [
       "<Figure size 400x300 with 1 Axes>"
      ],
      "image/png": "[encoded data removed]"
     },
     "metadata": {},
     "output_type": "display_data",
     "jetTransient": {
      "display_id": null
     }
    }
   ],
   "execution_count": 56
  },
  {
   "metadata": {},
   "cell_type": "markdown",
   "source": "### Polynomial Regression",
   "id": "c3e2290351b4b76d"
  },
  {
   "metadata": {},
   "cell_type": "markdown",
   "source": "#### Simple PR Example",
   "id": "df594631b57fdaaa"
  },
  {
   "metadata": {
    "ExecuteTime": {
     "end_time": "2025-10-21T17:25:54.465020Z",
     "start_time": "2025-10-21T17:25:44.850289Z"
    }
   },
   "cell_type": "code",
   "source": [
    "def PolynomialRegressor(**kwargs):\n",
    "    return skl.pipeline.Pipeline([\n",
    "        ('poly', skl.preprocessing.PolynomialFeatures(degree=2)),\n",
    "        ('scale', skl.preprocessing.StandardScaler()),\n",
    "        ('model', skl.linear_model.LogisticRegression(**kwargs))\n",
    "    ])\n",
    "\n",
    "\n",
    "conduct_simple_experiment(\"SimplePRModel\", PolynomialRegressor(max_iter=1000), regression_environment)"
   ],
   "id": "356da86670e7f999",
   "outputs": [
    {
     "data": {
      "text/plain": [
       "<IPython.core.display.Markdown object>"
      ],
      "text/markdown": "#### **Train Accuracy:** `0.9420582300374748`"
     },
     "metadata": {},
     "output_type": "display_data",
     "jetTransient": {
      "display_id": null
     }
    },
    {
     "data": {
      "text/plain": [
       "<IPython.core.display.Markdown object>"
      ],
      "text/markdown": "#### **Test Accuracy:** `0.8544674209910261`"
     },
     "metadata": {},
     "output_type": "display_data",
     "jetTransient": {
      "display_id": null
     }
    }
   ],
   "execution_count": 300
  },
  {
   "metadata": {},
   "cell_type": "markdown",
   "source": "#### Grid Searched Polynomial Regression",
   "id": "ee646d107f148907"
  },
  {
   "metadata": {
    "ExecuteTime": {
     "end_time": "2025-10-21T17:40:35.785049Z",
     "start_time": "2025-10-21T17:26:27.634108Z"
    }
   },
   "cell_type": "code",
   "source": [
    "def skip_control(parameters):\n",
    "    return parameters['penalty'] is None and parameters['C'] != 1.0\n",
    "\n",
    "\n",
    "def derived_parameters(parameters):\n",
    "    if parameters['penalty'] == 'elasticnet':\n",
    "        parameters['l1_ratio'] = 0.5\n",
    "\n",
    "\n",
    "history, *_ = conduct_grid_search_experiment(\"GSPR\", search_space={\n",
    "    'penalty': [None, 'l1', 'l2', 'elasticnet'],\n",
    "    'C': [1.0, 0.1],\n",
    "    'solver': ['lbfgs', 'liblinear', 'newton-cg', 'newton-cholesky', 'sag', 'saga'],\n",
    "}, model_supplier=PolynomialRegressor, environment=regression_environment, skip_control=skip_control,\n",
    "                                             derived_parameters=derived_parameters)"
   ],
   "id": "4d689aeaf32ec353",
   "outputs": [
    {
     "name": "stderr",
     "output_type": "stream",
     "text": [
      "Processing penalty=elasticnet,C=0.1,solver=saga,l1_ratio=0.5: 100%|██████████| 48/48 [14:08<00:00, 17.67s/it]           \n"
     ]
    },
    {
     "data": {
      "text/plain": [
       "<IPython.core.display.Markdown object>"
      ],
      "text/markdown": "#### **Best Val Accuracy:** `0.870464299648849`"
     },
     "metadata": {},
     "output_type": "display_data",
     "jetTransient": {
      "display_id": null
     }
    },
    {
     "data": {
      "text/plain": [
       "<IPython.core.display.Markdown object>"
      ],
      "text/markdown": "#### **Time Elapsed:** `848.0453 seconds`"
     },
     "metadata": {},
     "output_type": "display_data",
     "jetTransient": {
      "display_id": null
     }
    }
   ],
   "execution_count": 301
  },
  {
   "metadata": {
    "ExecuteTime": {
     "end_time": "2025-10-21T17:40:41.329216Z",
     "start_time": "2025-10-21T17:40:41.138051Z"
    }
   },
   "cell_type": "code",
   "source": "plot_model_comparsion(\"PR\", history)",
   "id": "d858f30e60f80bf3",
   "outputs": [
    {
     "name": "stdout",
     "output_type": "stream",
     "text": [
      "penalty=l1,C=1.0,solver=liblinear\n"
     ]
    },
    {
     "data": {
      "text/plain": [
       "<Figure size 400x300 with 1 Axes>"
      ],
      "image/png": "[encoded data removed]"
     },
     "metadata": {},
     "output_type": "display_data",
     "jetTransient": {
      "display_id": null
     }
    }
   ],
   "execution_count": 302
  },
  {
   "metadata": {
    "jupyter": {
     "is_executing": true
    },
    "ExecuteTime": {
     "start_time": "2025-10-21T17:42:29.994165Z"
    }
   },
   "cell_type": "code",
   "source": [
    "history, *_ = conduct_grid_search_experiment(\"GSPR\", search_space={\n",
    "    'penalty': ['l1'],\n",
    "    'C': [1.1, 1.0, 0.9],\n",
    "    'solver': ['liblinear'],\n",
    "}, model_supplier=PolynomialRegressor, environment=regression_environment)"
   ],
   "id": "3f8c62964b39df64",
   "outputs": [
    {
     "name": "stderr",
     "output_type": "stream",
     "text": [
      "Processing penalty=l1,C=1.1,solver=liblinear:   0%|          | 0/3 [00:00<?, ?it/s]"
     ]
    }
   ],
   "execution_count": null
  },
  {
   "metadata": {},
   "cell_type": "code",
   "outputs": [],
   "execution_count": null,
   "source": "plot_model_comparsion(\"PR\", history)",
   "id": "b48f2a5c317d39fc"
  },
  {
   "metadata": {},
   "cell_type": "markdown",
   "source": "### Decision Tree",
   "id": "a99a5aa123909c57"
  },
  {
   "metadata": {},
   "cell_type": "markdown",
   "source": "#### Data Preparation for Tree Based Models",
   "id": "c02f06739d8ae754"
  },
  {
   "metadata": {
    "ExecuteTime": {
     "end_time": "2025-10-21T17:16:18.676409Z",
     "start_time": "2025-10-21T17:16:18.575467Z"
    }
   },
   "cell_type": "code",
   "outputs": [],
   "execution_count": 288,
   "source": "tree_environment = create_environment(select_pipeline_variation(tree_pipeline, 0))",
   "id": "719f0494b4bd05bf"
  },
  {
   "cell_type": "markdown",
   "id": "85386143b4e9f0b",
   "metadata": {},
   "source": [
    "#### Simple DT Example"
   ]
  },
  {
   "metadata": {
    "ExecuteTime": {
     "end_time": "2025-10-21T17:16:27.236712Z",
     "start_time": "2025-10-21T17:16:27.147894Z"
    }
   },
   "cell_type": "code",
   "source": "conduct_simple_experiment(\"SimpleDTModel\", skl.tree.DecisionTreeClassifier(max_depth=9), tree_environment)",
   "id": "eacbf1c6da59ac0b",
   "outputs": [
    {
     "data": {
      "text/plain": [
       "<IPython.core.display.Markdown object>"
      ],
      "text/markdown": "#### **Train Accuracy:** `0.9062169693475546`"
     },
     "metadata": {},
     "output_type": "display_data",
     "jetTransient": {
      "display_id": null
     }
    },
    {
     "data": {
      "text/plain": [
       "<IPython.core.display.Markdown object>"
      ],
      "text/markdown": "#### **Test Accuracy:** `0.8657822863831448`"
     },
     "metadata": {},
     "output_type": "display_data",
     "jetTransient": {
      "display_id": null
     }
    }
   ],
   "execution_count": 289
  },
  {
   "cell_type": "markdown",
   "id": "a6e0338e9628c31d",
   "metadata": {},
   "source": [
    "#### Grid Searched Decision Tree"
   ]
  },
  {
   "metadata": {
    "ExecuteTime": {
     "end_time": "2025-10-21T14:12:39.888231Z",
     "start_time": "2025-10-21T14:12:29.005913Z"
    }
   },
   "cell_type": "code",
   "source": [
    "history, *_ = conduct_grid_search_experiment(\"GSDT\", search_space={\n",
    "    'criterion': ['gini', 'entropy'],\n",
    "    'max_depth': range(5, 21),\n",
    "}, model_supplier=skl.tree.DecisionTreeClassifier, environment=tree_environment, verbose=0)"
   ],
   "id": "690b5405dba69fc",
   "outputs": [
    {
     "name": "stderr",
     "output_type": "stream",
     "text": [
      "Processing criterion=entropy,max_depth=20: 100%|██████████| 32/32 [00:02<00:00, 11.19it/s]\n"
     ]
    },
    {
     "data": {
      "text/plain": [
       "<IPython.core.display.Markdown object>"
      ],
      "text/markdown": "#### **Best Val Accuracy:** `0.87065938353492`"
     },
     "metadata": {},
     "output_type": "display_data",
     "jetTransient": {
      "display_id": null
     }
    },
    {
     "data": {
      "text/plain": [
       "<IPython.core.display.Markdown object>"
      ],
      "text/markdown": "#### **Time Elapsed:** `2.8624 seconds`"
     },
     "metadata": {},
     "output_type": "display_data",
     "jetTransient": {
      "display_id": null
     }
    }
   ],
   "execution_count": 112
  },
  {
   "metadata": {
    "ExecuteTime": {
     "end_time": "2025-10-21T14:13:01.919989Z",
     "start_time": "2025-10-21T14:13:01.717904Z"
    }
   },
   "cell_type": "code",
   "source": "plot_model_comparsion(\"DT\", history)",
   "id": "280b5bfe32fb6f5",
   "outputs": [
    {
     "data": {
      "text/plain": [
       "<Figure size 400x300 with 1 Axes>"
      ],
      "image/png": "[encoded data removed]"
     },
     "metadata": {},
     "output_type": "display_data",
     "jetTransient": {
      "display_id": null
     }
    }
   ],
   "execution_count": 113
  },
  {
   "cell_type": "markdown",
   "id": "efe07da6d67cff0f",
   "metadata": {},
   "source": [
    "### AdaBoost"
   ]
  },
  {
   "cell_type": "markdown",
   "id": "f9b692f84c682c3a",
   "metadata": {},
   "source": [
    "#### Simple AB Example"
   ]
  },
  {
   "cell_type": "code",
   "id": "c9a7371a508d12",
   "metadata": {
    "ExecuteTime": {
     "end_time": "2025-10-21T13:19:30.338664Z",
     "start_time": "2025-10-21T13:19:27.867774Z"
    }
   },
   "source": "conduct_simple_experiment(\"SimpleABModel\", skl.ensemble.AdaBoostClassifier(), tree_environment)",
   "outputs": [
    {
     "data": {
      "text/plain": [
       "<IPython.core.display.Markdown object>"
      ],
      "text/markdown": "#### **Train Accuracy:** `0.6522532910540982`"
     },
     "metadata": {},
     "output_type": "display_data",
     "jetTransient": {
      "display_id": null
     }
    },
    {
     "data": {
      "text/plain": [
       "<IPython.core.display.Markdown object>"
      ],
      "text/markdown": "#### **Test Accuracy:** `0.6626999609832228`"
     },
     "metadata": {},
     "output_type": "display_data",
     "jetTransient": {
      "display_id": null
     }
    }
   ],
   "execution_count": 65
  },
  {
   "cell_type": "markdown",
   "id": "ff4c8ebf4c4eb09e",
   "metadata": {},
   "source": [
    "#### Grid Searched AdaBoost"
   ]
  },
  {
   "cell_type": "code",
   "id": "c3cdb08bc8061083",
   "metadata": {
    "ExecuteTime": {
     "end_time": "2025-10-21T13:20:53.054437Z",
     "start_time": "2025-10-21T13:20:20.840482Z"
    }
   },
   "source": [
    "history, *_ = conduct_grid_search_experiment(\"GSDT\", search_space={\n",
    "    'n_estimators': range(10, 101, 10),\n",
    "    'learning_rate': [1.0, 0.1],\n",
    "}, model_supplier=skl.ensemble.AdaBoostClassifier, environment=tree_environment)"
   ],
   "outputs": [
    {
     "name": "stdout",
     "output_type": "stream",
     "text": [
      "Training Model with configurations n_estimators=10,learning_rate=1.0\n",
      "Training Model with configurations n_estimators=10,learning_rate=0.1\n",
      "Training Model with configurations n_estimators=20,learning_rate=1.0\n",
      "Training Model with configurations n_estimators=20,learning_rate=0.1\n",
      "Training Model with configurations n_estimators=30,learning_rate=1.0\n",
      "Training Model with configurations n_estimators=30,learning_rate=0.1\n",
      "Training Model with configurations n_estimators=40,learning_rate=1.0\n",
      "Training Model with configurations n_estimators=40,learning_rate=0.1\n",
      "Training Model with configurations n_estimators=50,learning_rate=1.0\n",
      "Training Model with configurations n_estimators=50,learning_rate=0.1\n",
      "Training Model with configurations n_estimators=60,learning_rate=1.0\n",
      "Training Model with configurations n_estimators=60,learning_rate=0.1\n",
      "Training Model with configurations n_estimators=70,learning_rate=1.0\n",
      "Training Model with configurations n_estimators=70,learning_rate=0.1\n",
      "Training Model with configurations n_estimators=80,learning_rate=1.0\n",
      "Training Model with configurations n_estimators=80,learning_rate=0.1\n",
      "Training Model with configurations n_estimators=90,learning_rate=1.0\n",
      "Training Model with configurations n_estimators=90,learning_rate=0.1\n",
      "Training Model with configurations n_estimators=100,learning_rate=1.0\n",
      "Training Model with configurations n_estimators=100,learning_rate=0.1\n"
     ]
    },
    {
     "data": {
      "text/plain": [
       "<IPython.core.display.Markdown object>"
      ],
      "text/markdown": "#### **Best Val Accuracy:** `0.7247366367538042`"
     },
     "metadata": {},
     "output_type": "display_data",
     "jetTransient": {
      "display_id": null
     }
    },
    {
     "data": {
      "text/plain": [
       "<IPython.core.display.Markdown object>"
      ],
      "text/markdown": "#### **Time Elapsed:** `32.0393 seconds`"
     },
     "metadata": {},
     "output_type": "display_data",
     "jetTransient": {
      "display_id": null
     }
    }
   ],
   "execution_count": 67
  },
  {
   "cell_type": "code",
   "id": "cd6ffd2e62f61b77",
   "metadata": {
    "ExecuteTime": {
     "end_time": "2025-10-21T13:20:57.476755Z",
     "start_time": "2025-10-21T13:20:57.316464Z"
    }
   },
   "source": "plot_model_comparsion(\"AB\", history)",
   "outputs": [
    {
     "data": {
      "text/plain": [
       "<Figure size 400x300 with 1 Axes>"
      ],
      "image/png": "[encoded data removed]"
     },
     "metadata": {},
     "output_type": "display_data",
     "jetTransient": {
      "display_id": null
     }
    }
   ],
   "execution_count": 68
  },
  {
   "cell_type": "markdown",
   "id": "c15e908450e76712",
   "metadata": {},
   "source": [
    "### Random Forest"
   ]
  },
  {
   "cell_type": "markdown",
   "id": "2564b3b7db45ad96",
   "metadata": {},
   "source": [
    "#### Simple RF Example"
   ]
  },
  {
   "cell_type": "code",
   "id": "5df3db479f15e01",
   "metadata": {
    "ExecuteTime": {
     "end_time": "2025-10-21T13:31:30.170735Z",
     "start_time": "2025-10-21T13:31:25.881559Z"
    }
   },
   "source": "conduct_simple_experiment(\"SimpleRFModel\", skl.ensemble.RandomForestClassifier(), tree_environment)",
   "outputs": [
    {
     "data": {
      "text/plain": [
       "<IPython.core.display.Markdown object>"
      ],
      "text/markdown": "#### **Train Accuracy:** `1.0`"
     },
     "metadata": {},
     "output_type": "display_data",
     "jetTransient": {
      "display_id": null
     }
    },
    {
     "data": {
      "text/plain": [
       "<IPython.core.display.Markdown object>"
      ],
      "text/markdown": "#### **Test Accuracy:** `0.8927038626609443`"
     },
     "metadata": {},
     "output_type": "display_data",
     "jetTransient": {
      "display_id": null
     }
    }
   ],
   "execution_count": 84
  },
  {
   "cell_type": "markdown",
   "id": "5feda3974dcc978f",
   "metadata": {},
   "source": [
    "#### Grid Searched Random Forest"
   ]
  },
  {
   "metadata": {
    "ExecuteTime": {
     "end_time": "2025-10-21T13:36:32.560862Z",
     "start_time": "2025-10-21T13:33:38.150928Z"
    }
   },
   "cell_type": "code",
   "outputs": [
    {
     "name": "stdout",
     "output_type": "stream",
     "text": [
      "Training Model with configurations n_estimators=50,max_depth=15\n",
      "Training Model with configurations n_estimators=50,max_depth=16\n",
      "Training Model with configurations n_estimators=50,max_depth=17\n",
      "Training Model with configurations n_estimators=50,max_depth=18\n",
      "Training Model with configurations n_estimators=50,max_depth=19\n",
      "Training Model with configurations n_estimators=50,max_depth=20\n",
      "Training Model with configurations n_estimators=60,max_depth=15\n",
      "Training Model with configurations n_estimators=60,max_depth=16\n",
      "Training Model with configurations n_estimators=60,max_depth=17\n",
      "Training Model with configurations n_estimators=60,max_depth=18\n",
      "Training Model with configurations n_estimators=60,max_depth=19\n",
      "Training Model with configurations n_estimators=60,max_depth=20\n",
      "Training Model with configurations n_estimators=70,max_depth=15\n",
      "Training Model with configurations n_estimators=70,max_depth=16\n",
      "Training Model with configurations n_estimators=70,max_depth=17\n",
      "Training Model with configurations n_estimators=70,max_depth=18\n",
      "Training Model with configurations n_estimators=70,max_depth=19\n",
      "Training Model with configurations n_estimators=70,max_depth=20\n",
      "Training Model with configurations n_estimators=80,max_depth=15\n",
      "Training Model with configurations n_estimators=80,max_depth=16\n",
      "Training Model with configurations n_estimators=80,max_depth=17\n",
      "Training Model with configurations n_estimators=80,max_depth=18\n",
      "Training Model with configurations n_estimators=80,max_depth=19\n",
      "Training Model with configurations n_estimators=80,max_depth=20\n",
      "Training Model with configurations n_estimators=90,max_depth=15\n",
      "Training Model with configurations n_estimators=90,max_depth=16\n",
      "Training Model with configurations n_estimators=90,max_depth=17\n",
      "Training Model with configurations n_estimators=90,max_depth=18\n",
      "Training Model with configurations n_estimators=90,max_depth=19\n",
      "Training Model with configurations n_estimators=90,max_depth=20\n",
      "Training Model with configurations n_estimators=100,max_depth=15\n",
      "Training Model with configurations n_estimators=100,max_depth=16\n",
      "Training Model with configurations n_estimators=100,max_depth=17\n",
      "Training Model with configurations n_estimators=100,max_depth=18\n",
      "Training Model with configurations n_estimators=100,max_depth=19\n",
      "Training Model with configurations n_estimators=100,max_depth=20\n",
      "Training Model with configurations n_estimators=110,max_depth=15\n",
      "Training Model with configurations n_estimators=110,max_depth=16\n",
      "Training Model with configurations n_estimators=110,max_depth=17\n",
      "Training Model with configurations n_estimators=110,max_depth=18\n",
      "Training Model with configurations n_estimators=110,max_depth=19\n",
      "Training Model with configurations n_estimators=110,max_depth=20\n",
      "Training Model with configurations n_estimators=120,max_depth=15\n",
      "Training Model with configurations n_estimators=120,max_depth=16\n",
      "Training Model with configurations n_estimators=120,max_depth=17\n",
      "Training Model with configurations n_estimators=120,max_depth=18\n",
      "Training Model with configurations n_estimators=120,max_depth=19\n",
      "Training Model with configurations n_estimators=120,max_depth=20\n",
      "Training Model with configurations n_estimators=130,max_depth=15\n",
      "Training Model with configurations n_estimators=130,max_depth=16\n",
      "Training Model with configurations n_estimators=130,max_depth=17\n",
      "Training Model with configurations n_estimators=130,max_depth=18\n",
      "Training Model with configurations n_estimators=130,max_depth=19\n",
      "Training Model with configurations n_estimators=130,max_depth=20\n",
      "Training Model with configurations n_estimators=140,max_depth=15\n",
      "Training Model with configurations n_estimators=140,max_depth=16\n",
      "Training Model with configurations n_estimators=140,max_depth=17\n",
      "Training Model with configurations n_estimators=140,max_depth=18\n",
      "Training Model with configurations n_estimators=140,max_depth=19\n",
      "Training Model with configurations n_estimators=140,max_depth=20\n",
      "Training Model with configurations n_estimators=150,max_depth=15\n",
      "Training Model with configurations n_estimators=150,max_depth=16\n",
      "Training Model with configurations n_estimators=150,max_depth=17\n",
      "Training Model with configurations n_estimators=150,max_depth=18\n",
      "Training Model with configurations n_estimators=150,max_depth=19\n",
      "Training Model with configurations n_estimators=150,max_depth=20\n",
      "Training Model with configurations n_estimators=160,max_depth=15\n",
      "Training Model with configurations n_estimators=160,max_depth=16\n",
      "Training Model with configurations n_estimators=160,max_depth=17\n",
      "Training Model with configurations n_estimators=160,max_depth=18\n",
      "Training Model with configurations n_estimators=160,max_depth=19\n",
      "Training Model with configurations n_estimators=160,max_depth=20\n",
      "Training Model with configurations n_estimators=170,max_depth=15\n",
      "Training Model with configurations n_estimators=170,max_depth=16\n",
      "Training Model with configurations n_estimators=170,max_depth=17\n",
      "Training Model with configurations n_estimators=170,max_depth=18\n",
      "Training Model with configurations n_estimators=170,max_depth=19\n",
      "Training Model with configurations n_estimators=170,max_depth=20\n",
      "Training Model with configurations n_estimators=180,max_depth=15\n",
      "Training Model with configurations n_estimators=180,max_depth=16\n",
      "Training Model with configurations n_estimators=180,max_depth=17\n",
      "Training Model with configurations n_estimators=180,max_depth=18\n",
      "Training Model with configurations n_estimators=180,max_depth=19\n",
      "Training Model with configurations n_estimators=180,max_depth=20\n",
      "Training Model with configurations n_estimators=190,max_depth=15\n",
      "Training Model with configurations n_estimators=190,max_depth=16\n",
      "Training Model with configurations n_estimators=190,max_depth=17\n",
      "Training Model with configurations n_estimators=190,max_depth=18\n",
      "Training Model with configurations n_estimators=190,max_depth=19\n",
      "Training Model with configurations n_estimators=190,max_depth=20\n",
      "Training Model with configurations n_estimators=200,max_depth=15\n",
      "Training Model with configurations n_estimators=200,max_depth=16\n",
      "Training Model with configurations n_estimators=200,max_depth=17\n",
      "Training Model with configurations n_estimators=200,max_depth=18\n",
      "Training Model with configurations n_estimators=200,max_depth=19\n",
      "Training Model with configurations n_estimators=200,max_depth=20\n"
     ]
    },
    {
     "data": {
      "text/plain": [
       "<IPython.core.display.Markdown object>"
      ],
      "text/markdown": "#### **Best Val Accuracy:** `0.8969957081545065`"
     },
     "metadata": {},
     "output_type": "display_data",
     "jetTransient": {
      "display_id": null
     }
    },
    {
     "data": {
      "text/plain": [
       "<IPython.core.display.Markdown object>"
      ],
      "text/markdown": "#### **Time Elapsed:** `173.9760 seconds`"
     },
     "metadata": {},
     "output_type": "display_data",
     "jetTransient": {
      "display_id": null
     }
    }
   ],
   "execution_count": 92,
   "source": [
    "history, *_ = conduct_grid_search_experiment(\"GSRF\", search_space={\n",
    "    'n_estimators': range(50, 201, 10),\n",
    "    'max_depth': range(15, 21),\n",
    "}, model_supplier=skl.ensemble.RandomForestClassifier, environment=tree_environment, verbose=0)"
   ],
   "id": "18c7e5558ae7cb43"
  },
  {
   "metadata": {
    "ExecuteTime": {
     "end_time": "2025-10-21T13:38:24.331926Z",
     "start_time": "2025-10-21T13:38:24.006941Z"
    }
   },
   "cell_type": "code",
   "outputs": [
    {
     "data": {
      "text/plain": [
       "<Figure size 400x300 with 1 Axes>"
      ],
      "image/png": "[encoded data removed]"
     },
     "metadata": {},
     "output_type": "display_data",
     "jetTransient": {
      "display_id": null
     }
    }
   ],
   "execution_count": 93,
   "source": "plot_model_comparsion(\"AB\", history)",
   "id": "8cdd2814084b9026"
  },
  {
   "metadata": {},
   "cell_type": "markdown",
   "source": "### XGBoost",
   "id": "ef9c6cd7f4d90596"
  },
  {
   "metadata": {},
   "cell_type": "markdown",
   "source": "#### Simple XGB Example",
   "id": "c718965aa835ade5"
  },
  {
   "metadata": {
    "ExecuteTime": {
     "end_time": "2025-10-21T14:13:15.179098Z",
     "start_time": "2025-10-21T14:13:12.937761Z"
    }
   },
   "cell_type": "code",
   "source": [
    "conduct_simple_experiment(\"SimpleXGBModel\",\n",
    "                          xgb.XGBClassifier(objective='multi:softmax', num_class=n_targets, eval_metric='mlogloss'),\n",
    "                          tree_environment)"
   ],
   "id": "caeec8533fa7c5ad",
   "outputs": [
    {
     "data": {
      "text/plain": [
       "<IPython.core.display.Markdown object>"
      ],
      "text/markdown": "#### **Train Accuracy:** `0.9956759873162294`"
     },
     "metadata": {},
     "output_type": "display_data",
     "jetTransient": {
      "display_id": null
     }
    },
    {
     "data": {
      "text/plain": [
       "<IPython.core.display.Markdown object>"
      ],
      "text/markdown": "#### **Test Accuracy:** `0.9003121342177136`"
     },
     "metadata": {},
     "output_type": "display_data",
     "jetTransient": {
      "display_id": null
     }
    }
   ],
   "execution_count": 114
  },
  {
   "metadata": {},
   "cell_type": "markdown",
   "source": "#### Grid Searched XGBoost",
   "id": "92bbdb9fab677575"
  },
  {
   "metadata": {
    "ExecuteTime": {
     "end_time": "2025-10-21T14:24:38.652084Z",
     "start_time": "2025-10-21T14:20:59.839928Z"
    }
   },
   "cell_type": "code",
   "source": [
    "def derived_parameters(parameters):\n",
    "    parameters['objective'] = 'multi:softmax'\n",
    "    parameters['num_class'] = n_targets\n",
    "    parameters['eval_metric'] = 'mlogloss'\n",
    "\n",
    "\n",
    "history, *_ = conduct_grid_search_experiment(\n",
    "    \"GSXGB\", search_space={\n",
    "        'n_estimators': range(150, 251, 25),\n",
    "        'max_depth': range(3, 10),\n",
    "        'learning_rate': [0.1],\n",
    "        'subsample': [0.64, 0.65, .66],\n",
    "        'colsample_bytree': [.75, .76],\n",
    "    }, model_supplier=xgb.XGBClassifier,\n",
    "    environment=tree_environment, derived_parameters=derived_parameters, verbose=0)"
   ],
   "id": "3823ff2554f0cc6c",
   "outputs": [
    {
     "name": "stderr",
     "output_type": "stream",
     "text": [
      "Processing n_estimators=250,max_depth=9,learning_rate=0.1,subsample=0.66,colsample_bytree=0.76,objective=multi:softmax,num_class=7,eval_metric=mlogloss: 100%|██████████| 210/210 [03:38<00:00,  1.04s/it]\n"
     ]
    },
    {
     "data": {
      "text/plain": [
       "<IPython.core.display.Markdown object>"
      ],
      "text/markdown": "#### **Best Val Accuracy:** `0.9071400702301989`"
     },
     "metadata": {},
     "output_type": "display_data",
     "jetTransient": {
      "display_id": null
     }
    },
    {
     "data": {
      "text/plain": [
       "<IPython.core.display.Markdown object>"
      ],
      "text/markdown": "#### **Time Elapsed:** `218.7499 seconds`"
     },
     "metadata": {},
     "output_type": "display_data",
     "jetTransient": {
      "display_id": null
     }
    }
   ],
   "execution_count": 118
  },
  {
   "metadata": {
    "ExecuteTime": {
     "end_time": "2025-10-21T14:25:21.340407Z",
     "start_time": "2025-10-21T14:25:20.951093Z"
    }
   },
   "cell_type": "code",
   "source": "plot_model_comparsion(\"XGB\", history)",
   "id": "355715b53a625ac5",
   "outputs": [
    {
     "name": "stdout",
     "output_type": "stream",
     "text": [
      "n_estimators=200,max_depth=4,learning_rate=0.1,subsample=0.65,colsample_bytree=0.76,objective=multi:softmax,num_class=7,eval_metric=mlogloss\n"
     ]
    },
    {
     "data": {
      "text/plain": [
       "<Figure size 400x300 with 1 Axes>"
      ],
      "image/png": "[encoded data removed]"
     },
     "metadata": {},
     "output_type": "display_data",
     "jetTransient": {
      "display_id": null
     }
    }
   ],
   "execution_count": 121
  },
  {
   "metadata": {},
   "cell_type": "markdown",
   "source": "### K-Nearest Neighbours",
   "id": "28ecd5ecf44048ce"
  },
  {
   "metadata": {},
   "cell_type": "markdown",
   "source": "#### Data Preparation for Distance Based Models",
   "id": "7603d111bc216aca"
  },
  {
   "metadata": {
    "ExecuteTime": {
     "end_time": "2025-10-21T17:17:48.505444Z",
     "start_time": "2025-10-21T17:17:48.354068Z"
    }
   },
   "cell_type": "code",
   "source": "distance_environment = create_environment(select_pipeline_variation(distance_pipeline_derived, 0))",
   "id": "1116d4ca62435293",
   "outputs": [],
   "execution_count": 290
  },
  {
   "metadata": {},
   "cell_type": "markdown",
   "source": "#### Simple KNN Example",
   "id": "97c8c97ec189796c"
  },
  {
   "metadata": {
    "ExecuteTime": {
     "end_time": "2025-10-21T17:17:55.281853Z",
     "start_time": "2025-10-21T17:17:55.017685Z"
    }
   },
   "cell_type": "code",
   "source": "conduct_simple_experiment(\"SimpleKNNModel\", skl.neighbors.KNeighborsClassifier(), distance_environment)",
   "id": "4b80715ca29a0b52",
   "outputs": [
    {
     "data": {
      "text/plain": [
       "<IPython.core.display.Markdown object>"
      ],
      "text/markdown": "#### **Train Accuracy:** `0.8798885365619294`"
     },
     "metadata": {},
     "output_type": "display_data",
     "jetTransient": {
      "display_id": null
     }
    },
    {
     "data": {
      "text/plain": [
       "<IPython.core.display.Markdown object>"
      ],
      "text/markdown": "#### **Test Accuracy:** `0.8361295357003512`"
     },
     "metadata": {},
     "output_type": "display_data",
     "jetTransient": {
      "display_id": null
     }
    }
   ],
   "execution_count": 291
  },
  {
   "metadata": {},
   "cell_type": "markdown",
   "source": "#### Grid Searched K-Nearest Neighbours",
   "id": "d424522cbe1b6ef9"
  },
  {
   "metadata": {
    "ExecuteTime": {
     "end_time": "2025-10-21T16:15:39.542051Z",
     "start_time": "2025-10-21T16:10:50.876963Z"
    }
   },
   "cell_type": "code",
   "source": [
    "history, *_ = conduct_grid_search_experiment(\n",
    "    \"GSKNN\", search_space={\n",
    "        'n_neighbors': range(5, 15),\n",
    "        'weights': ['uniform', 'distance'],\n",
    "        'algorithm': ['ball_tree', 'kd_tree', 'brute'],\n",
    "        'leaf_size': range(20, 61, 10),\n",
    "    }, model_supplier=skl.neighbors.KNeighborsClassifier,\n",
    "    environment=distance_environment)"
   ],
   "id": "15da995630f5bbe5",
   "outputs": [
    {
     "name": "stderr",
     "output_type": "stream",
     "text": [
      "Processing n_neighbors=14,weights=distance,algorithm=brute,leaf_size=60: 100%|██████████| 300/300 [04:48<00:00,  1.04it/s]    \n"
     ]
    },
    {
     "data": {
      "text/plain": [
       "<IPython.core.display.Markdown object>"
      ],
      "text/markdown": "#### **Best Val Accuracy:** `0.7668747561451424`"
     },
     "metadata": {},
     "output_type": "display_data",
     "jetTransient": {
      "display_id": null
     }
    },
    {
     "data": {
      "text/plain": [
       "<IPython.core.display.Markdown object>"
      ],
      "text/markdown": "#### **Time Elapsed:** `288.2782 seconds`"
     },
     "metadata": {},
     "output_type": "display_data",
     "jetTransient": {
      "display_id": null
     }
    }
   ],
   "execution_count": 165
  },
  {
   "metadata": {
    "ExecuteTime": {
     "end_time": "2025-10-21T16:15:43.117084Z",
     "start_time": "2025-10-21T16:15:42.923124Z"
    }
   },
   "cell_type": "code",
   "source": "plot_model_comparsion(\"KNN\", history)",
   "id": "b4acc96e88e22460",
   "outputs": [
    {
     "name": "stdout",
     "output_type": "stream",
     "text": [
      "n_neighbors=11,weights=distance,algorithm=kd_tree,leaf_size=60\n"
     ]
    },
    {
     "data": {
      "text/plain": [
       "<Figure size 400x300 with 1 Axes>"
      ],
      "image/png": "[encoded data removed]"
     },
     "metadata": {},
     "output_type": "display_data",
     "jetTransient": {
      "display_id": null
     }
    }
   ],
   "execution_count": 166
  },
  {
   "metadata": {
    "ExecuteTime": {
     "end_time": "2025-10-21T16:16:23.604546Z",
     "start_time": "2025-10-21T16:16:22.805103Z"
    }
   },
   "cell_type": "code",
   "source": "plot_model_comparsion(\"KNN\", history)",
   "id": "7c808939a3c661d4",
   "outputs": [
    {
     "name": "stdout",
     "output_type": "stream",
     "text": [
      "n_neighbors=7,weights=distance,algorithm=brute,leaf_size=35\n"
     ]
    },
    {
     "data": {
      "text/plain": [
       "<Figure size 400x300 with 1 Axes>"
      ],
      "image/png": "[encoded data removed]"
     },
     "metadata": {},
     "output_type": "display_data",
     "jetTransient": {
      "display_id": null
     }
    }
   ],
   "execution_count": 169
  },
  {
   "metadata": {},
   "cell_type": "markdown",
   "source": "### Naive Bayes",
   "id": "d84526f41091edb6"
  },
  {
   "metadata": {},
   "cell_type": "markdown",
   "source": "#### Data Preparation for Probability Based Models",
   "id": "35ac91d841b0f69"
  },
  {
   "metadata": {
    "ExecuteTime": {
     "end_time": "2025-10-21T17:19:15.393831Z",
     "start_time": "2025-10-21T17:19:14.303558Z"
    }
   },
   "cell_type": "code",
   "source": "probability_environment = create_environment(select_pipeline_variation(probability_pipeline, 2))",
   "id": "2d437b1fe6d11e7",
   "outputs": [],
   "execution_count": 293
  },
  {
   "metadata": {},
   "cell_type": "markdown",
   "source": "#### Simple NB Example",
   "id": "900dd47b2b81c1b9"
  },
  {
   "metadata": {
    "ExecuteTime": {
     "end_time": "2025-10-21T17:19:20.905216Z",
     "start_time": "2025-10-21T17:19:20.822429Z"
    }
   },
   "cell_type": "code",
   "source": "conduct_simple_experiment(\"SimpleGNBModel\", skl.naive_bayes.GaussianNB(), probability_environment)",
   "id": "c939d568d0c7",
   "outputs": [
    {
     "data": {
      "text/plain": [
       "<IPython.core.display.Markdown object>"
      ],
      "text/markdown": "#### **Train Accuracy:** `0.6784856346689728`"
     },
     "metadata": {},
     "output_type": "display_data",
     "jetTransient": {
      "display_id": null
     }
    },
    {
     "data": {
      "text/plain": [
       "<IPython.core.display.Markdown object>"
      ],
      "text/markdown": "#### **Test Accuracy:** `0.685134607881389`"
     },
     "metadata": {},
     "output_type": "display_data",
     "jetTransient": {
      "display_id": null
     }
    }
   ],
   "execution_count": 294
  },
  {
   "metadata": {
    "ExecuteTime": {
     "end_time": "2025-10-21T17:19:28.914847Z",
     "start_time": "2025-10-21T17:19:28.030454Z"
    }
   },
   "cell_type": "code",
   "source": [
    "history, *_ = conduct_grid_search_experiment(\n",
    "    \"GSGNB\", search_space={\n",
    "        'var_smoothing': np.logspace(-12, 12, num=25),\n",
    "    }, model_supplier=skl.naive_bayes.GaussianNB,\n",
    "    environment=probability_environment, verbose=0)"
   ],
   "id": "86244d68365e6772",
   "outputs": [
    {
     "name": "stdout",
     "output_type": "stream",
     "text": [
      "Training Model with configurations var_smoothing=1e-12\n",
      "Training Model with configurations var_smoothing=1e-11\n",
      "Training Model with configurations var_smoothing=1e-10\n",
      "Training Model with configurations var_smoothing=1e-09\n",
      "Training Model with configurations var_smoothing=1e-08\n",
      "Training Model with configurations var_smoothing=1e-07\n",
      "Training Model with configurations var_smoothing=1e-06\n",
      "Training Model with configurations var_smoothing=1e-05\n",
      "Training Model with configurations var_smoothing=0.0001\n",
      "Training Model with configurations var_smoothing=0.001\n",
      "Training Model with configurations var_smoothing=0.01\n",
      "Training Model with configurations var_smoothing=0.1\n",
      "Training Model with configurations var_smoothing=1.0\n",
      "Training Model with configurations var_smoothing=10.0\n",
      "Training Model with configurations var_smoothing=100.0\n",
      "Training Model with configurations var_smoothing=1000.0\n",
      "Training Model with configurations var_smoothing=10000.0\n",
      "Training Model with configurations var_smoothing=100000.0\n",
      "Training Model with configurations var_smoothing=1000000.0\n",
      "Training Model with configurations var_smoothing=10000000.0\n",
      "Training Model with configurations var_smoothing=100000000.0\n",
      "Training Model with configurations var_smoothing=1000000000.0\n",
      "Training Model with configurations var_smoothing=10000000000.0\n",
      "Training Model with configurations var_smoothing=100000000000.0\n",
      "Training Model with configurations var_smoothing=1000000000000.0\n"
     ]
    },
    {
     "data": {
      "text/plain": [
       "<IPython.core.display.Markdown object>"
      ],
      "text/markdown": "#### **Best Val Accuracy:** `0.7095200936402654`"
     },
     "metadata": {},
     "output_type": "display_data",
     "jetTransient": {
      "display_id": null
     }
    },
    {
     "data": {
      "text/plain": [
       "<IPython.core.display.Markdown object>"
      ],
      "text/markdown": "#### **Time Elapsed:** `0.8522 seconds`"
     },
     "metadata": {},
     "output_type": "display_data",
     "jetTransient": {
      "display_id": null
     }
    }
   ],
   "execution_count": 295
  },
  {
   "metadata": {
    "ExecuteTime": {
     "end_time": "2025-10-21T17:19:31.121875Z",
     "start_time": "2025-10-21T17:19:30.943416Z"
    }
   },
   "cell_type": "code",
   "source": "plot_model_comparsion(\"GNB\", history)",
   "id": "f1e9488b07740271",
   "outputs": [
    {
     "name": "stdout",
     "output_type": "stream",
     "text": [
      "var_smoothing=0.1\n"
     ]
    },
    {
     "data": {
      "text/plain": [
       "<Figure size 400x300 with 1 Axes>"
      ],
      "image/png": "[encoded data removed]"
     },
     "metadata": {},
     "output_type": "display_data",
     "jetTransient": {
      "display_id": null
     }
    }
   ],
   "execution_count": 296
  },
  {
   "cell_type": "code",
   "execution_count": null,
   "id": "9c29d7ca9bae6678",
   "metadata": {},
   "outputs": [],
   "source": []
  },
  {
   "cell_type": "code",
   "execution_count": null,
   "id": "128a40030f33a53b",
   "metadata": {},
   "outputs": [],
   "source": []
  },
  {
   "metadata": {},
   "cell_type": "code",
   "outputs": [],
   "execution_count": null,
   "source": "",
   "id": "b9de95b676d2d6b9"
  },
  {
   "metadata": {},
   "cell_type": "code",
   "outputs": [],
   "execution_count": null,
   "source": "",
   "id": "45362b092e573397"
  },
  {
   "metadata": {},
   "cell_type": "code",
   "outputs": [],
   "execution_count": null,
   "source": "",
   "id": "ec26f425589c89a0"
  },
  {
   "metadata": {},
   "cell_type": "code",
   "outputs": [],
   "execution_count": null,
   "source": "",
   "id": "aea0d8609be57494"
  },
  {
   "cell_type": "code",
   "execution_count": null,
   "id": "3a24e1c8eff79e58",
   "metadata": {},
   "outputs": [],
   "source": []
  },
  {
   "cell_type": "code",
   "execution_count": null,
   "id": "87820e21cbf32aca",
   "metadata": {},
   "outputs": [],
   "source": []
  },
  {
   "cell_type": "code",
   "execution_count": null,
   "id": "bdb90aed9158604e",
   "metadata": {},
   "outputs": [],
   "source": [
    "# TODO: Implement this pop\n",
    "ds_source['MTRANS'] = ds_source['MTRANS'].map(lambda x: x if x in ('Public_Transportation', 'Automobile') else 'Others')\n",
    "ds_test['MTRANS'] = ds_test['MTRANS'].map(lambda x: x if x in ('Public_Transportation', 'Automobile') else 'Others')"
   ]
  },
  {
   "cell_type": "code",
   "execution_count": null,
   "id": "4a29f5adcb8fae49",
   "metadata": {},
   "outputs": [],
   "source": [
    "# TODO: Correlation Matrix"
   ]
  },
  {
   "cell_type": "code",
   "execution_count": null,
   "id": "4875857c106f0d3a",
   "metadata": {},
   "outputs": [],
   "source": []
  },
  {
   "cell_type": "code",
   "execution_count": null,
   "id": "5a62d00233ef604",
   "metadata": {},
   "outputs": [],
   "source": []
  },
  {
   "cell_type": "code",
   "execution_count": null,
   "id": "a3b621a852a52d95",
   "metadata": {},
   "outputs": [],
   "source": []
  },
  {
   "cell_type": "code",
   "execution_count": null,
   "id": "8c6a20a335e86bc0",
   "metadata": {},
   "outputs": [],
   "source": []
  },
  {
   "cell_type": "code",
   "execution_count": null,
   "id": "3e3a2fe560bae801",
   "metadata": {},
   "outputs": [],
   "source": []
  },
  {
   "cell_type": "code",
   "execution_count": null,
   "id": "1d25a5382055f8bf",
   "metadata": {},
   "outputs": [],
   "source": []
  },
  {
   "cell_type": "code",
   "execution_count": null,
   "id": "8d3ecc1c00d5510a",
   "metadata": {},
   "outputs": [],
   "source": []
  },
  {
   "metadata": {
    "ExecuteTime": {
     "end_time": "2025-10-21T12:44:34.581282Z",
     "start_time": "2025-10-21T12:44:34.579214Z"
    }
   },
   "cell_type": "code",
   "source": "",
   "id": "e75c75505e2b22",
   "outputs": [],
   "execution_count": null
  },
  {
   "metadata": {
    "ExecuteTime": {
     "end_time": "2025-10-21T12:44:35.212611Z",
     "start_time": "2025-10-21T12:44:35.209413Z"
    }
   },
   "cell_type": "code",
   "source": "",
   "id": "31011454d20b7d89",
   "outputs": [],
   "execution_count": null
  },
  {
   "metadata": {
    "ExecuteTime": {
     "end_time": "2025-10-21T12:44:33.099268Z",
     "start_time": "2025-10-21T12:44:33.096756Z"
    }
   },
   "cell_type": "code",
   "source": "",
   "id": "28f9b16ba061b9fe",
   "outputs": [],
   "execution_count": null
  },
  {
   "metadata": {
    "ExecuteTime": {
     "end_time": "2025-10-21T12:44:33.367417Z",
     "start_time": "2025-10-21T12:44:33.365545Z"
    }
   },
   "cell_type": "code",
   "source": "",
   "id": "a7e407ad74ef127f",
   "outputs": [],
   "execution_count": null
  },
  {
   "metadata": {},
   "cell_type": "code",
   "outputs": [],
   "execution_count": null,
   "source": "",
   "id": "1e6ab12ed4f835d2"
  },
  {
   "metadata": {},
   "cell_type": "code",
   "outputs": [],
   "execution_count": null,
   "source": "",
   "id": "240d0eb76997531c"
  },
  {
   "metadata": {},
   "cell_type": "code",
   "outputs": [],
   "execution_count": null,
   "source": "",
   "id": "e6ac5e1a70a207e8"
  },
  {
   "metadata": {},
   "cell_type": "code",
   "outputs": [],
   "execution_count": null,
   "source": "",
   "id": "c52654095b4afbe4"
  },
  {
   "metadata": {},
   "cell_type": "code",
   "outputs": [],
   "execution_count": null,
   "source": "",
   "id": "27c1b0af0b18df66"
  },
  {
   "metadata": {},
   "cell_type": "code",
   "outputs": [],
   "execution_count": null,
   "source": "",
   "id": "ce3ff2ef1a95238a"
  },
  {
   "metadata": {},
   "cell_type": "code",
   "outputs": [],
   "execution_count": null,
   "source": "",
   "id": "8c3b850ae4898a0f"
  },
  {
   "metadata": {},
   "cell_type": "code",
   "outputs": [],
   "execution_count": null,
   "source": "",
   "id": "26732dbe14e833d3"
  },
  {
   "metadata": {},
   "cell_type": "code",
   "outputs": [],
   "execution_count": null,
   "source": "",
   "id": "12d9a3803029b99e"
  },
  {
   "metadata": {},
   "cell_type": "code",
   "outputs": [],
   "execution_count": null,
   "source": "",
   "id": "baa0ee71f73b7db9"
  },
  {
   "cell_type": "code",
   "execution_count": null,
   "id": "619be4ec60349795",
   "metadata": {},
   "outputs": [],
   "source": []
  },
  {
   "cell_type": "markdown",
   "id": "c3ace32d628aa538",
   "metadata": {},
   "source": [
    "TVT S"
   ]
  },
  {
   "cell_type": "code",
   "execution_count": 72,
   "id": "f28ca13b4736a5b6",
   "metadata": {
    "ExecuteTime": {
     "end_time": "2025-10-15T13:13:07.376601Z",
     "start_time": "2025-10-15T13:13:07.051405Z"
    }
   },
   "outputs": [
    {
     "data": {
      "image/png": "[encoded data removed]",
      "text/plain": [
       "<Figure size 800x400 with 1 Axes>"
      ]
     },
     "metadata": {},
     "output_type": "display_data"
    }
   ],
   "source": [
    "# gs_model.best_estimator_ -> RandomForest\n",
    "pd.Series(gs_model.best_estimator_.feature_importances_, index=ds_source_transf.columns).sort_values(\n",
    "    ascending=False).plot(kind='bar', figsize=(8, 4))\n",
    "plt.title(\"Feature Importances from Best Random Forest Model\")\n",
    "plt.show()"
   ]
  },
  {
   "cell_type": "code",
   "execution_count": null,
   "id": "df2a970cdba1899d",
   "metadata": {},
   "outputs": [],
   "source": []
  },
  {
   "cell_type": "code",
   "execution_count": null,
   "id": "3602e3efb143e646",
   "metadata": {},
   "outputs": [],
   "source": []
  },
  {
   "cell_type": "code",
   "execution_count": null,
   "id": "d42434dffb7aa3b7",
   "metadata": {},
   "outputs": [],
   "source": []
  },
  {
   "cell_type": "code",
   "execution_count": null,
   "id": "2b54e920e21db6b8",
   "metadata": {},
   "outputs": [],
   "source": []
  },
  {
   "cell_type": "code",
   "execution_count": null,
   "id": "325458c1eecf9d8d",
   "metadata": {},
   "outputs": [],
   "source": []
  }
 ],
 "metadata": {
  "kernelspec": {
   "display_name": "Python 3",
   "language": "python",
   "name": "python3"
  },
  "language_info": {
   "codemirror_mode": {
    "name": "ipython",
    "version": 3
   },
   "file_extension": ".py",
   "mimetype": "text/x-python",
   "name": "python",
   "nbconvert_exporter": "python",
   "pygments_lexer": "ipython3",
   "version": "3.13.7"
  }
 },
 "nbformat": 4,
 "nbformat_minor": 5
}
